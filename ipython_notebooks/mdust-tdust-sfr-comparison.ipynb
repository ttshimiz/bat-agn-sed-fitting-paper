{
 "cells": [
  {
   "cell_type": "code",
   "execution_count": 46,
   "metadata": {
    "collapsed": false
   },
   "outputs": [],
   "source": [
    "# Standard module imports\n",
    "import numpy as np\n",
    "import scipy.stats as stats\n",
    "import pandas as pd\n",
    "import sys\n",
    "%matplotlib inline\n",
    "\n",
    "# Useful directories\n",
    "gh_dir = '/Users/ttshimiz/Github/'\n",
    "sed_fit_dir = gh_dir + 'bat-agn-sed-fitting/'\n",
    "casey_dir = sed_fit_dir + 'analysis/casey_bayes_results/'\n",
    "data_dir = gh_dir + 'bat-data/'\n",
    "\n",
    "sys.path.append(gh_dir+'asurv/')\n",
    "\n",
    "import asurv"
   ]
  },
  {
   "cell_type": "code",
   "execution_count": 47,
   "metadata": {
    "collapsed": false
   },
   "outputs": [],
   "source": [
    "# Setup the figures\n",
    "execfile('../code/figure-setup.py')"
   ]
  },
  {
   "cell_type": "markdown",
   "metadata": {},
   "source": [
    "##Get all of the data for the BAT AGN"
   ]
  },
  {
   "cell_type": "code",
   "execution_count": 61,
   "metadata": {
    "collapsed": true
   },
   "outputs": [],
   "source": [
    "# Upload the fitting results for the C12 model\n",
    "bat_casey = pd.read_csv('/Users/ttshimiz/Github/bat-agn-sed-fitting/'+\n",
    "                        'analysis/casey_bayes_results/beta_fixed_2_wturn_gaussianPrior/'+\n",
    "                        'final_fit_results_beta_fixed_2_wturn_gaussianPrior_v3.csv', index_col=0)\n",
    "bat_casey_undetected = pd.read_csv(casey_dir+'beta_fixed_2_wturn_gaussianPrior/'+\n",
    "                                   'final_fit_results_beta_fixed_2_wturn_gaussianPrior_undetected.csv', index_col=0)\n",
    "# Remove 'bad' sources\n",
    "bad_sources = np.array(['PICTORA', '3C111.0', '3C120',\n",
    "                        '2MASXJ23272195+1524375', 'PKS2331-240',\n",
    "                        'HB890241+622', 'Mrk3'])\n",
    "bat_casey = bat_casey.drop(bad_sources)\n",
    "bat_casey_undetected.loc['UGC06728', 'lir_bb'] += 2.0\n",
    "bat_casey_undetected.loc['UGC06728', 'mdust'] += 2.0\n",
    "\n",
    "# Upload the info for the BAT AGN (i.e. AGN type, luminosity distance, redshift, etc)\n",
    "bat_info = pd.read_csv(data_dir+'bat_info.csv', index_col=0)\n",
    "#bat_info.loc['UGC06728', 'Dist_[Mpc]'] = 292.0\n",
    "\n",
    "# We need to calculate stellar masses for the BAT AGN using the method in Zibetti et al 2009 since this method was used\n",
    "# for both the KINGFISH and HRS galaxies. I use the AGN subtracted SDSS photometry from Koss et al 2011 and the g-i color\n",
    "# relation for the stellar masses.\n",
    "bat_koss = pd.read_csv(data_dir+'bat_koss11.csv', index_col=0)\n",
    "bat_koss.loc[bat_koss['griz_cont']=='Y', 'SDSS_i_Koss'] = np.nan\n",
    "bi = 1.8e-10\n",
    "bat_koss['SDSS_i_flux'] = 3631.*(2*bi*np.sinh(-np.log(10)*bat_koss['SDSS_i_Koss']/2.5 - np.log(bi)))\n",
    "bat_koss['SDSS_Li'] = 4*np.pi*(bat_info['Dist_[Mpc]']*10**6*3.09e18)**2*(3.0e10/0.7480e-4)*bat_koss['SDSS_i_flux']*10**(-23)\n",
    "bat_casey['Mstar'] = (-0.963 + 1.032*(bat_koss['SDSS_g_Koss'] - bat_koss['SDSS_i_Koss']) +\n",
    "                     np.log10(bat_koss['SDSS_Li']/3.846e33))\n",
    "bat_casey_undetected['Mstar'] = (-0.963 + 1.032*(bat_koss['SDSS_g_Koss'] - bat_koss['SDSS_i_Koss']) +\n",
    "                                np.log10(bat_koss['SDSS_Li']/3.846e33))"
   ]
  },
  {
   "cell_type": "markdown",
   "metadata": {},
   "source": [
    "##Get all of the data for the HRS sample"
   ]
  },
  {
   "cell_type": "code",
   "execution_count": 49,
   "metadata": {
    "collapsed": false
   },
   "outputs": [],
   "source": [
    "# Upload the HRS fits\n",
    "hrs_casey = pd.read_csv(casey_dir+'hrs_beta_fixed_2_wturn_gaussianPrior/final_fit_results_beta_fixed_2_wturn_gaussianPrior_hrs.csv', index_col=0)\n",
    "hrs_casey_undetected = pd.read_csv(casey_dir+'hrs_beta_fixed_2_wturn_gaussianPrior/final_fit_results_beta_fixed_2_wturn_gaussianPrior_undetected_hrs.csv', index_col=0)\n",
    "\n",
    "# Upload the HRS info\n",
    "hrs_info = pd.read_table(gh_dir+'hrs-data/hrs_photometry.txt', delimiter='\\t', index_col=0, na_values=-99.99)\n",
    "\n",
    "# HRS gas-rich galaxies\n",
    "hrs_gas_rich = np.array([np.loadtxt(gh_dir+'hrs-data/hrs_gas_rich_numbers.txt')], dtype = int)[0]\n",
    "\n",
    "hrs_casey['Mstar'] = hrs_info['logMstart']\n",
    "hrs_casey_undetected['Mstar'] = hrs_info['logMstart']"
   ]
  },
  {
   "cell_type": "markdown",
   "metadata": {},
   "source": [
    "##Get all of the data for the KINGFISH galaxies"
   ]
  },
  {
   "cell_type": "code",
   "execution_count": 50,
   "metadata": {
    "collapsed": true
   },
   "outputs": [],
   "source": [
    "# Upload the KINGFISH fits\n",
    "kf_casey = pd.read_csv(casey_dir+'kingfish_beta_fixed_2_wturn_gaussianPrior/final_fit_results_kingfish_casey.csv',\n",
    "                       index_col=0)\n",
    "kf_casey_undetected = pd.read_csv(casey_dir+'kingfish_beta_fixed_2_wturn_gaussianPrior/final_fit_results_beta_fixed_2_wturn_gaussianPrior_undetected_kingfish.csv', index_col=0)\n",
    "\n",
    "# Upload the KINGFISH info\n",
    "kf_info = pd.read_table('/Users/ttshimiz/Dropbox/Research/Thesis/Other_surveys/KINGFISH/kingfish_data.txt',\n",
    "                        index_col=0, delimiter='\\t')\n",
    "\n",
    "# Identify the dwarf galaxies as any galaxy with stellar mass < 10^8 Msun\n",
    "kf_dwarfs = kf_info['Mstar'] < 8.0\n",
    "\n",
    "kf_casey['Mstar'] = kf_info['Mstar']\n",
    "kf_casey_undetected['Mstar'] = kf_info['Mstar']"
   ]
  },
  {
   "cell_type": "code",
   "execution_count": 62,
   "metadata": {
    "collapsed": true
   },
   "outputs": [],
   "source": [
    "# Calculate SFR for all three samples\n",
    "bat_casey['SFR'] = bat_casey['lir_bb'] + np.log10(4./3.) + np.log10(3.846e33) - np.log10(2.57e43)\n",
    "bat_casey_undetected['SFR'] = bat_casey_undetected['lir_bb'] + np.log10(4./3.) + np.log10(3.846e33) - np.log10(2.57e43)\n",
    "hrs_casey['SFR'] = hrs_casey['lir_total'] + np.log10(3.846e33) - np.log10(2.57e43)\n",
    "hrs_casey_undetected['SFR'] = hrs_casey_undetected['lir_total'] + np.log10(3.846e33) - np.log10(2.57e43)\n",
    "kf_casey['SFR'] = kf_casey['lir_total'] + np.log10(3.846e33) - np.log10(2.57e43) \n",
    "kf_casey_undetected['SFR'] = kf_casey_undetected['lir_total'] + np.log10(3.846e33) - np.log10(2.57e43)"
   ]
  },
  {
   "cell_type": "markdown",
   "metadata": {},
   "source": [
    "## Dust Mass, Dust Temperature, and SFR Comparison"
   ]
  },
  {
   "cell_type": "code",
   "execution_count": 7,
   "metadata": {
    "collapsed": false
   },
   "outputs": [
    {
     "data": {
      "image/png": "[encoded data removed]",
      "text/plain": [
       "<matplotlib.figure.Figure at 0x110a068d0>"
      ]
     },
     "metadata": {},
     "output_type": "display_data"
    }
   ],
   "source": [
    "fig = plt.figure(figsize=(1.2*textwidth, 1./2.*1.5*textwidth))\n",
    "ax1 = fig.add_subplot(231)\n",
    "sn.distplot(bat_casey['mdust'].dropna(), label='BAT AGN', color='b', ax=ax1)\n",
    "sn.distplot(hrs_casey['mdust'].dropna(), label='HRS', color='g', ax=ax1)\n",
    "sn.distplot(kf_casey['mdust'][~kf_dwarfs].dropna(), label='KINGFISH', color='r', ax=ax1)\n",
    "plt.xlabel(r'$\\log\\,M_{\\rm dust}$ [M$_{\\odot}$]')\n",
    "sn.despine()\n",
    "\n",
    "ax2 = fig.add_subplot(232)\n",
    "sn.distplot(bat_casey['tdust'].dropna(), label='BAT AGN', color='b', ax=ax2)\n",
    "sn.distplot(hrs_casey['tdust'].dropna(), label='HRS', color='g', ax=ax2)\n",
    "sn.distplot(kf_casey['tdust'][~kf_dwarfs].dropna(), label='KINGFISH', color='r', ax=ax2)\n",
    "plt.xlabel(r'$T_{\\rm dust}$ [K]')\n",
    "plt.legend(loc='upper right', fontsize=6)\n",
    "sn.despine()\n",
    "\n",
    "ax3 = fig.add_subplot(233)\n",
    "sn.distplot(bat_casey['SFR'].dropna(), label='BAT AGN', color='b', ax=ax3)\n",
    "sn.distplot(hrs_casey['SFR'].dropna(), label='HRS', color='g', ax=ax3)\n",
    "sn.distplot(kf_casey['SFR'][~kf_dwarfs].dropna(), label='KINGFISH', color='r', ax=ax3)\n",
    "plt.xlabel(r'$\\log$ SFR [M$_{\\odot}$ yr$^{-1}$]')\n",
    "sn.despine()\n",
    "\n",
    "ax4 = fig.add_subplot(234)\n",
    "sn.distplot((bat_casey['mdust'] - bat_casey['Mstar']).dropna(), label='BAT AGN', color='b', ax=ax4)\n",
    "sn.distplot((hrs_casey['mdust'] - hrs_casey['Mstar']).dropna(), label='HRS', color='g', ax=ax4)\n",
    "sn.distplot((kf_casey['mdust'][~kf_dwarfs] - kf_casey['Mstar'][~kf_dwarfs]).dropna(), label='KINGFISH', color='r', ax=ax4)\n",
    "plt.xlabel(r'$\\log\\,(M_{\\rm dust}/M_{\\rm star})$')\n",
    "sn.despine()\n",
    "\n",
    "\n",
    "ax5 = fig.add_subplot(235)\n",
    "sn.distplot((bat_casey['tdust']/bat_casey['Mstar']).dropna(), label='BAT AGN', color='b', ax=ax5)\n",
    "sn.distplot((hrs_casey['tdust']/hrs_casey['Mstar']).dropna(), label='HRS', color='g', ax=ax5)\n",
    "sn.distplot((kf_casey['tdust'][~kf_dwarfs]/kf_casey['Mstar'][~kf_dwarfs]).dropna(), label='KINGFISH', color='r', ax=ax5)\n",
    "plt.xlabel(r'$T_{\\rm dust}/\\log\\,M_{\\rm star}$')\n",
    "sn.despine()\n",
    "\n",
    "ax6 = fig.add_subplot(236)\n",
    "sn.distplot((bat_casey['SFR'] - bat_casey['Mstar']).dropna(), label='BAT AGN', color='b', ax=ax6)\n",
    "sn.distplot((hrs_casey['SFR'] - hrs_casey['Mstar']).dropna(), label='HRS', color='g', ax=ax6)\n",
    "sn.distplot((kf_casey['SFR'][~kf_dwarfs] - kf_casey['Mstar'][~kf_dwarfs]).dropna(), label='KINGFISH', color='r', ax=ax6)\n",
    "plt.xlabel(r'sSFR [yr$^{-1}$]')\n",
    "sn.despine()\n",
    "\n",
    "fig.subplots_adjust(wspace=0.3, hspace=0.4)\n",
    "\n",
    "#fig.savefig('../figures/mdust_tdust_sfr_comparison.pdf', bbox_inches='tight')"
   ]
  },
  {
   "cell_type": "markdown",
   "metadata": {
    "collapsed": true
   },
   "source": [
    "##Analysis of the distributions for each sample\n",
    "\n",
    "Calculation of the median and spread for each sample in Mdust, Tdust, and SFR. Also normalize the values with stellar mass. Use survival tests to determine whether they come from same parent distribution. For now use only the detected objects. This shouldn't be too bad since the BAT AGN only have 35 that aren't detected, HRS has 27, and KINGFISH has 2."
   ]
  },
  {
   "cell_type": "code",
   "execution_count": 8,
   "metadata": {
    "collapsed": false
   },
   "outputs": [
    {
     "name": "stdout",
     "output_type": "stream",
     "text": [
      "Mean log(Dust Masses):\n",
      "BAT AGN:  7.40285685905 +/- 0.565433279745\n",
      "HRS:  6.83896323882 +/- 0.553285325195\n",
      "KINGFISH:  7.17136697542 +/- 0.626154205624\n"
     ]
    },
    {
     "name": "stderr",
     "output_type": "stream",
     "text": [
      "/Users/ttshimiz/anaconda/lib/python2.7/site-packages/pandas/core/frame.py:1997: UserWarning: Boolean Series key will be reindexed to match DataFrame index.\n",
      "  \"DataFrame index.\", UserWarning)\n"
     ]
    }
   ],
   "source": [
    "bat_agn_mdust_med = np.mean(bat_casey['mdust'])\n",
    "hrs_mdust_med = np.mean(hrs_casey['mdust'])\n",
    "kf_mdust_med = np.mean(kf_casey[~kf_dwarfs]['mdust'])\n",
    "\n",
    "bat_agn_mdust_std = np.std(bat_casey['mdust'])\n",
    "hrs_mdust_std = np.std(hrs_casey['mdust'])\n",
    "kf_mdust_std = np.std(kf_casey[~kf_dwarfs]['mdust'])\n",
    "\n",
    "print 'Mean log(Dust Masses):'\n",
    "print 'BAT AGN: ', bat_agn_mdust_med, '+/-', bat_agn_mdust_std\n",
    "print 'HRS: ', hrs_mdust_med, '+/-', hrs_mdust_std\n",
    "print 'KINGFISH: ', kf_mdust_med, '+/-', kf_mdust_std"
   ]
  },
  {
   "cell_type": "code",
   "execution_count": 9,
   "metadata": {
    "collapsed": false
   },
   "outputs": [
    {
     "name": "stdout",
     "output_type": "stream",
     "text": [
      "Mean Dust Temperatures:\n",
      "BAT AGN:  23.4619137604 +/- 0.265984093875\n",
      "HRS:  21.4728018107 +/- 0.178662897431\n",
      "KINGFISH:  21.7219940791 +/- 0.455115806399\n"
     ]
    }
   ],
   "source": [
    "bat_agn_tdust_med = np.mean(bat_casey['tdust'])\n",
    "hrs_tdust_med = np.mean(hrs_casey['tdust'])\n",
    "kf_tdust_med = np.mean(kf_casey[~kf_dwarfs]['tdust'])\n",
    "\n",
    "bat_agn_tdust_std = np.std(bat_casey['tdust'])\n",
    "hrs_tdust_std = np.std(hrs_casey['tdust'])\n",
    "kf_tdust_std = np.std(kf_casey[~kf_dwarfs]['tdust'])\n",
    "\n",
    "print 'Mean Dust Temperatures:'\n",
    "print 'BAT AGN: ', bat_agn_tdust_med, '+/-', bat_agn_tdust_std/np.sqrt(len(bat_casey['tdust']))\n",
    "print 'HRS: ', hrs_tdust_med, '+/-', hrs_tdust_std/np.sqrt(len(hrs_casey['tdust']))\n",
    "print 'KINGFISH: ', kf_tdust_med, '+/-', kf_tdust_std/np.sqrt(len(kf_casey['tdust']))"
   ]
  },
  {
   "cell_type": "code",
   "execution_count": 10,
   "metadata": {
    "collapsed": false
   },
   "outputs": [
    {
     "name": "stdout",
     "output_type": "stream",
     "text": [
      "Mean log(SFR):\n",
      "BAT AGN:  0.276550617918 +/- 0.535737004166\n",
      "HRS:  -0.486032265018 +/- 0.535407202543\n",
      "KINGFISH:  -0.0864578479325 +/- 0.650853365412\n"
     ]
    }
   ],
   "source": [
    "bat_agn_sfr_med = np.mean(bat_casey['SFR'])\n",
    "hrs_sfr_med = np.mean(hrs_casey['SFR'])\n",
    "kf_sfr_med = np.mean(kf_casey[~kf_dwarfs]['SFR'])\n",
    "\n",
    "bat_agn_sfr_std = np.std(bat_casey['SFR'])\n",
    "hrs_sfr_std = np.std(hrs_casey['SFR'])\n",
    "kf_sfr_std = np.std(kf_casey[~kf_dwarfs]['SFR'])\n",
    "\n",
    "print 'Mean log(SFR):'\n",
    "print 'BAT AGN: ', bat_agn_sfr_med, '+/-', bat_agn_sfr_std\n",
    "print 'HRS: ', hrs_sfr_med, '+/-', hrs_sfr_std\n",
    "print 'KINGFISH: ', kf_sfr_med, '+/-', kf_sfr_std"
   ]
  },
  {
   "cell_type": "code",
   "execution_count": 11,
   "metadata": {
    "collapsed": false
   },
   "outputs": [
    {
     "name": "stdout",
     "output_type": "stream",
     "text": [
      "Mean log(Dust Mass/ Stellar Mass):\n",
      "BAT AGN:  -3.15286626315 +/- 0.504340527324\n",
      "HRS:  -2.88249830488 +/- 0.654794538559\n",
      "KINGFISH:  -2.52182451395 +/- 0.609172053994\n"
     ]
    }
   ],
   "source": [
    "bat_agn_mdust_mstar_med = np.mean(bat_casey['mdust'] - bat_casey['Mstar'])\n",
    "hrs_mdust_mstar_med = np.mean(hrs_casey['mdust'] - hrs_casey['Mstar'])\n",
    "kf_mdust_mstar_med = np.mean(kf_casey[~kf_dwarfs]['mdust'] - kf_casey[~kf_dwarfs]['Mstar'])\n",
    "\n",
    "bat_agn_mdust_mstar_std = np.std(bat_casey['mdust'] - bat_casey['Mstar'])\n",
    "hrs_mdust_mstar_std = np.std(hrs_casey['mdust'] - hrs_casey['Mstar'])\n",
    "kf_mdust_mstar_std = np.std(kf_casey[~kf_dwarfs]['mdust'] - kf_casey[~kf_dwarfs]['Mstar'])\n",
    "\n",
    "print 'Mean log(Dust Mass/ Stellar Mass):'\n",
    "print 'BAT AGN: ', bat_agn_mdust_mstar_med, '+/-', bat_agn_mdust_mstar_std\n",
    "print 'HRS: ', hrs_mdust_mstar_med, '+/-', hrs_mdust_mstar_std\n",
    "print 'KINGFISH: ', kf_mdust_mstar_med, '+/-', kf_mdust_mstar_std"
   ]
  },
  {
   "cell_type": "code",
   "execution_count": 12,
   "metadata": {
    "collapsed": false
   },
   "outputs": [
    {
     "name": "stdout",
     "output_type": "stream",
     "text": [
      "Mean Dust Temperature/log(Stellar Mass):\n",
      "BAT AGN:  2.20901846769 +/- 0.0275227576316\n",
      "HRS:  2.21439341459 +/- 0.0182260295326\n",
      "KINGFISH:  2.24848867474 +/- 0.0488317026557\n"
     ]
    }
   ],
   "source": [
    "bat_agn_tdust_mstar_med = np.mean(bat_casey['tdust']/bat_casey['Mstar'])\n",
    "hrs_tdust_mstar_med = np.mean(hrs_casey['tdust']/hrs_casey['Mstar'])\n",
    "kf_tdust_mstar_med = np.mean(kf_casey[~kf_dwarfs]['tdust']/kf_casey[~kf_dwarfs]['Mstar'])\n",
    "\n",
    "bat_agn_tdust_mstar_std = np.std(bat_casey['tdust']/bat_casey['Mstar'])\n",
    "hrs_tdust_mstar_std = np.std(hrs_casey['tdust']/hrs_casey['Mstar'])\n",
    "kf_tdust_mstar_std = np.std(kf_casey[~kf_dwarfs]['tdust']/kf_casey[~kf_dwarfs]['Mstar'])\n",
    "\n",
    "print 'Mean Dust Temperature/log(Stellar Mass):'\n",
    "print 'BAT AGN: ', bat_agn_tdust_mstar_med, '+/-', bat_agn_tdust_mstar_std/np.sqrt(len(bat_casey['tdust']))\n",
    "print 'HRS: ', hrs_tdust_mstar_med, '+/-', hrs_tdust_mstar_std/np.sqrt(len(hrs_casey['tdust']))\n",
    "print 'KINGFISH: ', kf_tdust_mstar_med, '+/-', kf_tdust_mstar_std/np.sqrt(len(kf_casey['tdust']))"
   ]
  },
  {
   "cell_type": "code",
   "execution_count": 13,
   "metadata": {
    "collapsed": false
   },
   "outputs": [
    {
     "name": "stdout",
     "output_type": "stream",
     "text": [
      "Mean log(Dust Mass/ Stellar Mass):\n",
      "BAT AGN:  -10.3012250039 +/- 0.595312150249\n",
      "HRS:  -10.2077445566 +/- 0.5419628716\n",
      "KINGFISH:  -9.77964933729 +/- 0.58217430278\n"
     ]
    }
   ],
   "source": [
    "bat_agn_sfr_mstar_med = np.mean(bat_casey['SFR'] - bat_casey['Mstar'])\n",
    "hrs_sfr_mstar_med = np.mean(hrs_casey['SFR'] - hrs_casey['Mstar'])\n",
    "kf_sfr_mstar_med = np.mean(kf_casey[~kf_dwarfs]['SFR'] - kf_casey[~kf_dwarfs]['Mstar'])\n",
    "\n",
    "bat_agn_sfr_mstar_std = np.std(bat_casey['SFR'] - bat_casey['Mstar'])\n",
    "hrs_sfr_mstar_std = np.std(hrs_casey['SFR'] - hrs_casey['Mstar'])\n",
    "kf_sfr_mstar_std = np.std(kf_casey[~kf_dwarfs]['SFR'] - kf_casey[~kf_dwarfs]['Mstar'])\n",
    "\n",
    "print 'Mean log(Dust Mass/ Stellar Mass):'\n",
    "print 'BAT AGN: ', bat_agn_sfr_mstar_med, '+/-', bat_agn_sfr_mstar_std\n",
    "print 'HRS: ', hrs_sfr_mstar_med, '+/-', hrs_sfr_mstar_std\n",
    "print 'KINGFISH: ', kf_sfr_mstar_med, '+/-', kf_sfr_mstar_std"
   ]
  },
  {
   "cell_type": "markdown",
   "metadata": {},
   "source": [
    "##Analysis with Undetected Sources"
   ]
  },
  {
   "cell_type": "code",
   "execution_count": 63,
   "metadata": {
    "collapsed": false
   },
   "outputs": [
    {
     "name": "stdout",
     "output_type": "stream",
     "text": [
      "Mean log(Dust Mass) with upper limits:\n",
      "BAT:  7.21987899873 +/- 0.0441466659524\n",
      "HRS:  6.7014978902 +/- 0.0435300054697\n",
      "KINGFISH:  6.83818832847 +/- 0.144675447478\n"
     ]
    }
   ],
   "source": [
    "bat_mdust_km = asurv.KaplanMeierDist(np.hstack([bat_casey['mdust'].values, bat_casey_undetected['mdust'].values]),\n",
    "                                     cens=np.hstack([np.ones(len(bat_casey)), np.zeros(len(bat_casey_undetected))]))\n",
    "hrs_mdust_km = asurv.KaplanMeierDist(np.hstack([hrs_casey['mdust'].values, hrs_casey_undetected['mdust'].values]),\n",
    "                                     cens=np.hstack([np.ones(len(hrs_casey)), np.zeros(len(hrs_casey_undetected))]))\n",
    "kf_mdust_km = asurv.KaplanMeierDist(np.hstack([kf_casey['mdust'].values, kf_casey_undetected['mdust'].values]),\n",
    "                                     cens=np.hstack([np.ones(len(kf_casey)), np.zeros(len(kf_casey_undetected))]))\n",
    "bat_mdust_km_mean = bat_mdust_km.km_mean()\n",
    "hrs_mdust_km_mean = hrs_mdust_km.km_mean()\n",
    "kf_mdust_km_mean = kf_mdust_km.km_mean()\n",
    "\n",
    "print 'Mean log(Dust Mass) with upper limits:'\n",
    "print 'BAT: ', bat_mdust_km_mean[0], '+/-', bat_mdust_km_mean[1]\n",
    "print 'HRS: ', hrs_mdust_km_mean[0], '+/-', hrs_mdust_km_mean[1]\n",
    "print 'KINGFISH: ', kf_mdust_km_mean[0], '+/-', kf_mdust_km_mean[1]"
   ]
  },
  {
   "cell_type": "code",
   "execution_count": 64,
   "metadata": {
    "collapsed": false
   },
   "outputs": [
    {
     "name": "stdout",
     "output_type": "stream",
     "text": [
      "Mean log(SFR) with upper limits:\n",
      "BAT:  -0.155327541408 +/- 0.0762116931419\n",
      "HRS:  -0.582194471009 +/- 0.0371437703698\n",
      "KINGFISH:  -0.389768475104 +/- 0.140298768653\n"
     ]
    }
   ],
   "source": [
    "bat_sfr_km = asurv.KaplanMeierDist(np.hstack([bat_casey['SFR'].values, bat_casey_undetected['SFR'].values]),\n",
    "                                     cens=np.hstack([np.ones(len(bat_casey)), np.zeros(len(bat_casey_undetected))]))\n",
    "hrs_sfr_km = asurv.KaplanMeierDist(np.hstack([hrs_casey['SFR'].values, hrs_casey_undetected['SFR'].values]),\n",
    "                                     cens=np.hstack([np.ones(len(hrs_casey)), np.zeros(len(hrs_casey_undetected))]))\n",
    "kf_sfr_km = asurv.KaplanMeierDist(np.hstack([kf_casey['SFR'].values, kf_casey_undetected['SFR'].values]),\n",
    "                                     cens=np.hstack([np.ones(len(kf_casey)), np.zeros(len(kf_casey_undetected))]))\n",
    "bat_sfr_km_mean = bat_sfr_km.km_mean()\n",
    "hrs_sfr_km_mean = hrs_sfr_km.km_mean()\n",
    "kf_sfr_km_mean = kf_sfr_km.km_mean()\n",
    "\n",
    "print 'Mean log(SFR) with upper limits:'\n",
    "print 'BAT: ', bat_sfr_km_mean[0], '+/-', bat_sfr_km_mean[1]\n",
    "print 'HRS: ', hrs_sfr_km_mean[0], '+/-', hrs_sfr_km_mean[1]\n",
    "print 'KINGFISH: ', kf_sfr_km_mean[0], '+/-', kf_sfr_km_mean[1]"
   ]
  },
  {
   "cell_type": "code",
   "execution_count": 65,
   "metadata": {
    "collapsed": false
   },
   "outputs": [
    {
     "name": "stdout",
     "output_type": "stream",
     "text": [
      "Mean log(Dust Mass/Stellar Mass) with upper limits:\n",
      "BAT:  -3.21865680357 +/- 0.0513980322648\n",
      "HRS:  -3.13780551856 +/- 0.0650492066388\n",
      "KINGFISH:  -2.6126865617 +/- 0.103715467062\n"
     ]
    }
   ],
   "source": [
    "reload(asurv)\n",
    "bat_mdust_mstar_km = asurv.KaplanMeierDist(np.hstack([(bat_casey['mdust']-bat_casey['Mstar']).values,\n",
    "                                                      (bat_casey_undetected['mdust']-bat_casey_undetected['Mstar']).values]),\n",
    "                                           cens=np.hstack([np.ones(len(bat_casey)), np.zeros(len(bat_casey_undetected))]))\n",
    "hrs_mdust_mstar_km = asurv.KaplanMeierDist(np.hstack([(hrs_casey['mdust']-hrs_casey['Mstar']).values,\n",
    "                                                      (hrs_casey_undetected['mdust']-hrs_casey_undetected['Mstar']).values]),\n",
    "                                           cens=np.hstack([np.ones(len(hrs_casey)), np.zeros(len(hrs_casey_undetected))]))\n",
    "kf_mdust_mstar_km = asurv.KaplanMeierDist(np.hstack([(kf_casey['mdust']-kf_casey['Mstar']).values,\n",
    "                                                      (kf_casey_undetected['mdust']-kf_casey_undetected['Mstar']).values]),\n",
    "                                           cens=np.hstack([np.ones(len(kf_casey)), np.zeros(len(kf_casey_undetected))]))\n",
    "bat_mdust_mstar_km_mean = bat_mdust_mstar_km.km_mean()\n",
    "hrs_mdust_mstar_km_mean = hrs_mdust_mstar_km.km_mean()\n",
    "kf_mdust_mstar_km_mean = kf_mdust_mstar_km.km_mean()\n",
    "\n",
    "print 'Mean log(Dust Mass/Stellar Mass) with upper limits:'\n",
    "print 'BAT: ', bat_mdust_mstar_km_mean[0], '+/-', bat_mdust_mstar_km_mean[1]\n",
    "print 'HRS: ', hrs_mdust_mstar_km_mean[0], '+/-', hrs_mdust_mstar_km_mean[1]\n",
    "print 'KINGFISH: ', kf_mdust_mstar_km_mean[0], '+/-', kf_mdust_mstar_km_mean[1]"
   ]
  },
  {
   "cell_type": "code",
   "execution_count": 66,
   "metadata": {
    "collapsed": false
   },
   "outputs": [
    {
     "name": "stdout",
     "output_type": "stream",
     "text": [
      "Mean sSFR with upper limits:\n",
      "BAT:  -10.4467962715 +/- 0.0788312936413\n",
      "HRS:  -10.4042139542 +/- 0.051017365201\n",
      "KINGFISH:  -9.85034938223 +/- 0.096500836673\n"
     ]
    }
   ],
   "source": [
    "bat_sfr_mstar_km = asurv.KaplanMeierDist(np.hstack([(bat_casey['SFR']-bat_casey['Mstar']).values,\n",
    "                                                      (bat_casey_undetected['SFR']-bat_casey_undetected['Mstar']).values]),\n",
    "                                           cens=np.hstack([np.ones(len(bat_casey)), np.zeros(len(bat_casey_undetected))]))\n",
    "hrs_sfr_mstar_km = asurv.KaplanMeierDist(np.hstack([(hrs_casey['SFR']-hrs_casey['Mstar']).values,\n",
    "                                                      (hrs_casey_undetected['SFR']-hrs_casey_undetected['Mstar']).values]),\n",
    "                                           cens=np.hstack([np.ones(len(hrs_casey)), np.zeros(len(hrs_casey_undetected))]))\n",
    "kf_sfr_mstar_km = asurv.KaplanMeierDist(np.hstack([(kf_casey['SFR']-kf_casey['Mstar']).values,\n",
    "                                                      (kf_casey_undetected['SFR']-kf_casey_undetected['Mstar']).values]),\n",
    "                                           cens=np.hstack([np.ones(len(kf_casey)), np.zeros(len(kf_casey_undetected))]))\n",
    "bat_sfr_mstar_km_mean = bat_sfr_mstar_km.km_mean()\n",
    "hrs_sfr_mstar_km_mean = hrs_sfr_mstar_km.km_mean()\n",
    "kf_sfr_mstar_km_mean = kf_sfr_mstar_km.km_mean()\n",
    "\n",
    "print 'Mean sSFR with upper limits:'\n",
    "print 'BAT: ', bat_sfr_mstar_km_mean[0], '+/-', bat_sfr_mstar_km_mean[1]\n",
    "print 'HRS: ', hrs_sfr_mstar_km_mean[0], '+/-', hrs_sfr_mstar_km_mean[1]\n",
    "print 'KINGFISH: ', kf_sfr_mstar_km_mean[0], '+/-', kf_sfr_mstar_km_mean[1]"
   ]
  },
  {
   "cell_type": "markdown",
   "metadata": {},
   "source": [
    "##Two-sample tests"
   ]
  },
  {
   "cell_type": "code",
   "execution_count": 67,
   "metadata": {
    "collapsed": false
   },
   "outputs": [
    {
     "name": "stdout",
     "output_type": "stream",
     "text": [
      "BAT AGN vs. HRS Mdust/Mstar:  9.72625856267e-06\n",
      "BAT AGN vs. KINGFISH Mdust/Mstar:  7.74166900809e-12\n"
     ]
    }
   ],
   "source": [
    "mdust_mstar_2samp_bat_hrs = asurv.two_sample_tests(bat_mdust_mstar_km.data, bat_mdust_mstar_km.cens,\n",
    "                                                   hrs_mdust_mstar_km.data, hrs_mdust_mstar_km.cens)\n",
    "mdust_mstar_2samp_bat_kf = asurv.two_sample_tests(bat_mdust_mstar_km.data, bat_mdust_mstar_km.cens,\n",
    "                                                  kf_mdust_mstar_km.data, kf_mdust_mstar_km.cens)\n",
    "\n",
    "print 'BAT AGN vs. HRS Mdust/Mstar: ', mdust_mstar_2samp_bat_hrs['Peto-Prentice']['p-value']\n",
    "print 'BAT AGN vs. KINGFISH Mdust/Mstar: ', mdust_mstar_2samp_bat_kf['Peto-Prentice']['p-value']"
   ]
  },
  {
   "cell_type": "code",
   "execution_count": 68,
   "metadata": {
    "collapsed": false
   },
   "outputs": [
    {
     "name": "stdout",
     "output_type": "stream",
     "text": [
      "BAT AGN vs. HRS Tdust/Mstar:  0.988453956112\n",
      "BAT AGN vs. KINGFISH Tdust/Mstar:  0.665964655461\n"
     ]
    }
   ],
   "source": [
    "bat_tdust_mstar = (bat_casey['tdust']/bat_casey['Mstar']).dropna()\n",
    "hrs_tdust_mstar = (hrs_casey['tdust']/hrs_casey['Mstar']).dropna()\n",
    "kf_tdust_mstar = (kf_casey[~kf_dwarfs]['tdust']/kf_casey[~kf_dwarfs]['Mstar']).dropna()\n",
    "\n",
    "tdust_mstar_2samp_bat_hrs = asurv.two_sample_tests(bat_tdust_mstar, np.ones(len(bat_tdust_mstar)),\n",
    "                                                   hrs_tdust_mstar, np.ones(len(hrs_tdust_mstar)))\n",
    "tdust_mstar_2samp_bat_kf = asurv.two_sample_tests(bat_tdust_mstar, np.ones(len(bat_tdust_mstar)),\n",
    "                                                  kf_tdust_mstar, np.ones(len(kf_tdust_mstar)))\n",
    "\n",
    "print 'BAT AGN vs. HRS Tdust/Mstar: ', tdust_mstar_2samp_bat_hrs['Peto-Prentice']['p-value']\n",
    "print 'BAT AGN vs. KINGFISH Tdust/Mstar: ', tdust_mstar_2samp_bat_kf['Peto-Prentice']['p-value']"
   ]
  },
  {
   "cell_type": "code",
   "execution_count": 69,
   "metadata": {
    "collapsed": false
   },
   "outputs": [
    {
     "name": "stdout",
     "output_type": "stream",
     "text": [
      "BAT AGN vs. HRS SFR/Mstar:  0.198579464981\n",
      "BAT AGN vs. KINGFISH SFR/Mstar:  2.57658889314e-08\n"
     ]
    }
   ],
   "source": [
    "sfr_mstar_2samp_bat_hrs = asurv.two_sample_tests(bat_sfr_mstar_km.data, bat_sfr_mstar_km.cens,\n",
    "                                                   hrs_sfr_mstar_km.data, hrs_sfr_mstar_km.cens)\n",
    "sfr_mstar_2samp_bat_kf = asurv.two_sample_tests(bat_sfr_mstar_km.data, bat_sfr_mstar_km.cens,\n",
    "                                                  kf_sfr_mstar_km.data, kf_sfr_mstar_km.cens)\n",
    "\n",
    "print 'BAT AGN vs. HRS SFR/Mstar: ', sfr_mstar_2samp_bat_hrs['Peto-Prentice']['p-value']\n",
    "print 'BAT AGN vs. KINGFISH SFR/Mstar: ', sfr_mstar_2samp_bat_kf['Peto-Prentice']['p-value']"
   ]
  },
  {
   "cell_type": "code",
   "execution_count": 41,
   "metadata": {
    "collapsed": false
   },
   "outputs": [],
   "source": [
    "hrs_ssfr_gas_rich_km = asurv.KaplanMeierDist((hrs_casey.loc[hrs_gas_rich]['SFR']-hrs_casey.loc[hrs_gas_rich]['Mstar']).values,\n",
    "                                             cens=np.ones(len(hrs_casey.loc[hrs_gas_rich])))"
   ]
  },
  {
   "cell_type": "code",
   "execution_count": 70,
   "metadata": {
    "collapsed": false
   },
   "outputs": [
    {
     "name": "stdout",
     "output_type": "stream",
     "text": [
      "BAT AGN vs. HRS Gas Rich SFR/Mstar:  1.63757867281e-09\n",
      "KF vs. HRS Gas Rich SFR/Mstar:  0.00423672764333\n"
     ]
    }
   ],
   "source": [
    "sfr_mstar_2samp_bat_hrs = asurv.two_sample_tests(bat_sfr_mstar_km.data, bat_sfr_mstar_km.cens,\n",
    "                                                 hrs_ssfr_gas_rich_km.data, hrs_ssfr_gas_rich_km.cens)\n",
    "sfr_mstar_2samp_hrs_kf = asurv.two_sample_tests(kf_sfr_mstar_km.data, kf_sfr_mstar_km.cens,\n",
    "                                                 hrs_ssfr_gas_rich_km.data, hrs_ssfr_gas_rich_km.cens)\n",
    "print 'BAT AGN vs. HRS Gas Rich SFR/Mstar: ', sfr_mstar_2samp_bat_hrs['Peto-Prentice']['p-value']\n",
    "print 'KF vs. HRS Gas Rich SFR/Mstar: ', sfr_mstar_2samp_hrs_kf['Peto-Prentice']['p-value']"
   ]
  },
  {
   "cell_type": "code",
   "execution_count": null,
   "metadata": {
    "collapsed": true
   },
   "outputs": [],
   "source": []
  }
 ],
 "metadata": {
  "kernelspec": {
   "display_name": "Python 2",
   "language": "python",
   "name": "python2"
  },
  "language_info": {
   "codemirror_mode": {
    "name": "ipython",
    "version": 2
   },
   "file_extension": ".py",
   "mimetype": "text/x-python",
   "name": "python",
   "nbconvert_exporter": "python",
   "pygments_lexer": "ipython2",
   "version": "2.7.11"
  }
 },
 "nbformat": 4,
 "nbformat_minor": 0
}
