{
 "cells": [
  {
   "cell_type": "code",
   "execution_count": 65,
   "metadata": {
    "collapsed": false
   },
   "outputs": [],
   "source": [
    "# Standard module imports\n",
    "import numpy as np\n",
    "import scipy.stats as stats\n",
    "import pandas as pd\n",
    "import sys\n",
    "%matplotlib inline\n",
    "\n",
    "# Useful directories\n",
    "gh_dir = '/Users/ttshimiz/Github/'\n",
    "sed_fit_dir = gh_dir + 'bat-agn-sed-fitting/'\n",
    "casey_dir = sed_fit_dir + 'analysis/casey_bayes_results/'\n",
    "data_dir = gh_dir + 'bat-data/'\n",
    "\n",
    "sys.path.append(gh_dir+'asurv/')\n",
    "\n",
    "import asurv"
   ]
  },
  {
   "cell_type": "code",
   "execution_count": 87,
   "metadata": {
    "collapsed": false
   },
   "outputs": [],
   "source": [
    "# Setup the figures\n",
    "execfile('../code/figure-setup.py')"
   ]
  },
  {
   "cell_type": "markdown",
   "metadata": {},
   "source": [
    "##Get all of the data for the BAT AGN"
   ]
  },
  {
   "cell_type": "code",
   "execution_count": 35,
   "metadata": {
    "collapsed": true
   },
   "outputs": [],
   "source": [
    "# Upload the fitting results for the C12 model\n",
    "bat_casey = pd.read_csv('/Users/ttshimiz/Github/bat-agn-sed-fitting/'+\n",
    "                        'analysis/casey_bayes_results/beta_fixed_2_wturn_gaussianPrior/'+\n",
    "                        'final_fit_results_beta_fixed_2_wturn_gaussianPrior_v3.csv', index_col=0)\n",
    "bat_casey_undetected = pd.read_csv(casey_dir+'beta_fixed_2_wturn_gaussianPrior/'+\n",
    "                                   'final_fit_results_beta_fixed_2_wturn_gaussianPrior_undetected.csv', index_col=0)\n",
    "# Remove 'bad' sources\n",
    "bad_sources = np.array(['PICTORA', '3C111.0', '3C120',\n",
    "                        '2MASXJ23272195+1524375', 'PKS2331-240',\n",
    "                        'HB890241+622', 'Mrk3'])\n",
    "bat_casey = bat_casey.drop(bad_sources)\n",
    "\n",
    "# Upload the info for the BAT AGN (i.e. AGN type, luminosity distance, redshift, etc)\n",
    "bat_info = pd.read_csv(data_dir+'bat_info.csv', index_col=0)\n",
    "\n",
    "# We need to calculate stellar masses for the BAT AGN using the method in Zibetti et al 2009 since this method was used\n",
    "# for both the KINGFISH and HRS galaxies. I use the AGN subtracted SDSS photometry from Koss et al 2011 and the g-i color\n",
    "# relation for the stellar masses.\n",
    "bat_koss = pd.read_csv(data_dir+'bat_koss11.csv', index_col=0)\n",
    "bat_koss.loc[bat_koss['griz_cont']=='Y', 'SDSS_i_Koss'] = np.nan\n",
    "bi = 1.8e-10\n",
    "bat_koss['SDSS_i_flux'] = 3631.*(2*bi*np.sinh(-np.log(10)*bat_koss['SDSS_i_Koss']/2.5 - np.log(bi)))\n",
    "bat_koss['SDSS_Li'] = 4*np.pi*(bat_info['Dist_[Mpc]']*10**6*3.09e18)**2*(3.0e10/0.7480e-4)*bat_koss['SDSS_i_flux']*10**(-23)\n",
    "bat_casey['Mstar'] = (-0.963 + 1.032*(bat_koss['SDSS_g_Koss'] - bat_koss['SDSS_i_Koss']) +\n",
    "                     np.log10(bat_koss['SDSS_Li']/3.846e33))\n",
    "bat_casey_undetected['Mstar'] = (-0.963 + 1.032*(bat_koss['SDSS_g_Koss'] - bat_koss['SDSS_i_Koss']) +\n",
    "                                np.log10(bat_koss['SDSS_Li']/3.846e33))"
   ]
  },
  {
   "cell_type": "markdown",
   "metadata": {},
   "source": [
    "##Get all of the data for the HRS sample"
   ]
  },
  {
   "cell_type": "code",
   "execution_count": 7,
   "metadata": {
    "collapsed": false
   },
   "outputs": [],
   "source": [
    "# Upload the HRS fits\n",
    "hrs_casey = pd.read_csv(casey_dir+'hrs_beta_fixed_2_wturn_gaussianPrior/final_fit_results_beta_fixed_2_wturn_gaussianPrior_hrs.csv', index_col=0)\n",
    "\n",
    "# Upload the HRS info\n",
    "hrs_info = pd.read_table(gh_dir+'hrs-data/hrs_photometry.txt', delimiter='\\t', index_col=0, na_values=-99.99)\n",
    "\n",
    "hrs_casey['Mstar'] = hrs_info['logMstart']"
   ]
  },
  {
   "cell_type": "markdown",
   "metadata": {},
   "source": [
    "##Get all of the data for the KINGFISH galaxies"
   ]
  },
  {
   "cell_type": "code",
   "execution_count": 39,
   "metadata": {
    "collapsed": true
   },
   "outputs": [],
   "source": [
    "# Upload the KINGFISH fits\n",
    "kf_casey = pd.read_csv(casey_dir+'kingfish_beta_fixed_2_wturn_gaussianPrior/final_fit_results_kingfish_casey.csv',\n",
    "                       index_col=0)\n",
    "\n",
    "# Upload the KINGFISH info\n",
    "kf_info = pd.read_table('/Users/ttshimiz/Dropbox/Research/Thesis/Other_surveys/KINGFISH/kingfish_data.txt',\n",
    "                        index_col=0, delimiter='\\t')\n",
    "\n",
    "# Identify the dwarf galaxies as any galaxy with stellar mass < 10^8 Msun\n",
    "kf_dwarfs = kf_info['Mstar'] < 8.0\n",
    "\n",
    "kf_casey['Mstar'] = kf_info['Mstar']"
   ]
  },
  {
   "cell_type": "code",
   "execution_count": 40,
   "metadata": {
    "collapsed": true
   },
   "outputs": [],
   "source": [
    "# Calculate SFR for all three samples\n",
    "bat_casey['SFR'] = bat_casey['lir_bb'] + np.log10(4./3.) + np.log10(3.846e33) - np.log10(2.57e43)\n",
    "hrs_casey['SFR'] = hrs_casey['lir_total'] + np.log10(3.846e33) - np.log10(2.57e43)\n",
    "kf_casey['SFR'] = kf_casey['lir_total'] + np.log10(3.846e33) - np.log10(2.57e43) "
   ]
  },
  {
   "cell_type": "markdown",
   "metadata": {},
   "source": [
    "## Dust Mass, Dust Temperature, and SFR Comparison"
   ]
  },
  {
   "cell_type": "code",
   "execution_count": 88,
   "metadata": {
    "collapsed": false
   },
   "outputs": [
    {
     "data": {
      "image/png": "[encoded data removed]",
      "text/plain": [
       "<matplotlib.figure.Figure at 0x116809a50>"
      ]
     },
     "metadata": {},
     "output_type": "display_data"
    }
   ],
   "source": [
    "fig = plt.figure(figsize=(1.2*textwidth, 1./2.*1.5*textwidth))\n",
    "ax1 = fig.add_subplot(231)\n",
    "sn.distplot(bat_casey['mdust'].dropna(), label='BAT AGN', color='b', ax=ax1)\n",
    "sn.distplot(hrs_casey['mdust'].dropna(), label='HRS', color='g', ax=ax1)\n",
    "sn.distplot(kf_casey['mdust'][~kf_dwarfs].dropna(), label='KINGFISH', color='r', ax=ax1)\n",
    "plt.xlabel(r'$\\log\\,M_{\\rm dust}$ [M$_{\\odot}$]')\n",
    "sn.despine()\n",
    "\n",
    "ax2 = fig.add_subplot(232)\n",
    "sn.distplot(bat_casey['tdust'].dropna(), label='BAT AGN', color='b', ax=ax2)\n",
    "sn.distplot(hrs_casey['tdust'].dropna(), label='HRS', color='g', ax=ax2)\n",
    "sn.distplot(kf_casey['tdust'][~kf_dwarfs].dropna(), label='KINGFISH', color='r', ax=ax2)\n",
    "plt.xlabel(r'$T_{\\rm dust}$ [K]')\n",
    "plt.legend(loc='upper right', fontsize=6)\n",
    "sn.despine()\n",
    "\n",
    "ax3 = fig.add_subplot(233)\n",
    "sn.distplot(bat_casey['SFR'].dropna(), label='BAT AGN', color='b', ax=ax3)\n",
    "sn.distplot(hrs_casey['SFR'].dropna(), label='HRS', color='g', ax=ax3)\n",
    "sn.distplot(kf_casey['SFR'][~kf_dwarfs].dropna(), label='KINGFISH', color='r', ax=ax3)\n",
    "plt.xlabel(r'$\\log$ SFR [M$_{\\odot}$ yr$^{-1}$]')\n",
    "sn.despine()\n",
    "\n",
    "ax4 = fig.add_subplot(234)\n",
    "sn.distplot((bat_casey['mdust'] - bat_casey['Mstar']).dropna(), label='BAT AGN', color='b', ax=ax4)\n",
    "sn.distplot((hrs_casey['mdust'] - hrs_casey['Mstar']).dropna(), label='HRS', color='g', ax=ax4)\n",
    "sn.distplot((kf_casey['mdust'][~kf_dwarfs] - kf_casey['Mstar'][~kf_dwarfs]).dropna(), label='KINGFISH', color='r', ax=ax4)\n",
    "plt.xlabel(r'$\\log\\,(M_{\\rm dust}/M_{\\rm star})$')\n",
    "sn.despine()\n",
    "\n",
    "\n",
    "ax5 = fig.add_subplot(235)\n",
    "sn.distplot((bat_casey['tdust']/bat_casey['Mstar']).dropna(), label='BAT AGN', color='b', ax=ax5)\n",
    "sn.distplot((hrs_casey['tdust']/hrs_casey['Mstar']).dropna(), label='HRS', color='g', ax=ax5)\n",
    "sn.distplot((kf_casey['tdust'][~kf_dwarfs]/kf_casey['Mstar'][~kf_dwarfs]).dropna(), label='KINGFISH', color='r', ax=ax5)\n",
    "plt.xlabel(r'$T_{\\rm dust}/\\log\\,M_{\\rm star}$')\n",
    "sn.despine()\n",
    "\n",
    "ax6 = fig.add_subplot(236)\n",
    "sn.distplot((bat_casey['SFR'] - bat_casey['Mstar']).dropna(), label='BAT AGN', color='b', ax=ax6)\n",
    "sn.distplot((hrs_casey['SFR'] - hrs_casey['Mstar']).dropna(), label='HRS', color='g', ax=ax6)\n",
    "sn.distplot((kf_casey['SFR'][~kf_dwarfs] - kf_casey['Mstar'][~kf_dwarfs]).dropna(), label='KINGFISH', color='r', ax=ax6)\n",
    "plt.xlabel(r'sSFR [yr$^{-1}$]')\n",
    "sn.despine()\n",
    "\n",
    "fig.subplots_adjust(wspace=0.3, hspace=0.4)\n",
    "\n",
    "fig.savefig('../figures/mdust_tdust_sfr_comparison.pdf', bbox_inches='tight')"
   ]
  },
  {
   "cell_type": "markdown",
   "metadata": {
    "collapsed": true
   },
   "source": [
    "##Analysis of the distributions for each sample\n",
    "\n",
    "Calculation of the median and spread for each sample in Mdust, Tdust, and SFR. Also normalize the values with stellar mass. Use survival tests to determine whether they come from same parent distribution. For now use only the detected objects. This shouldn't be too bad since the BAT AGN only have 35 that aren't detected, HRS has 27, and KINGFISH has 2."
   ]
  },
  {
   "cell_type": "code",
   "execution_count": 78,
   "metadata": {
    "collapsed": false
   },
   "outputs": [
    {
     "name": "stdout",
     "output_type": "stream",
     "text": [
      "Mean log(Dust Masses):\n",
      "BAT AGN:  7.40285685905 +/- 0.565433279745\n",
      "HRS:  6.84815591298 +/- 0.549624131068\n",
      "KINGFISH:  7.17136697542 +/- 0.626154205624\n"
     ]
    }
   ],
   "source": [
    "bat_agn_mdust_med = np.mean(bat_casey['mdust'])\n",
    "hrs_mdust_med = np.mean(hrs_casey['mdust'])\n",
    "kf_mdust_med = np.mean(kf_casey[~kf_dwarfs]['mdust'])\n",
    "\n",
    "bat_agn_mdust_std = np.std(bat_casey['mdust'])\n",
    "hrs_mdust_std = np.std(hrs_casey['mdust'])\n",
    "kf_mdust_std = np.std(kf_casey[~kf_dwarfs]['mdust'])\n",
    "\n",
    "print 'Mean log(Dust Masses):'\n",
    "print 'BAT AGN: ', bat_agn_mdust_med, '+/-', bat_agn_mdust_std\n",
    "print 'HRS: ', hrs_mdust_med, '+/-', hrs_mdust_std\n",
    "print 'KINGFISH: ', kf_mdust_med, '+/-', kf_mdust_std"
   ]
  },
  {
   "cell_type": "code",
   "execution_count": 74,
   "metadata": {
    "collapsed": false
   },
   "outputs": [
    {
     "name": "stdout",
     "output_type": "stream",
     "text": [
      "Mean Dust Temperatures:\n",
      "BAT AGN:  23.4619137604 +/- 4.37865080255\n",
      "HRS:  21.5016751022 +/- 2.8114787671\n",
      "KINGFISH:  21.7219940791 +/- 3.28188675249\n"
     ]
    }
   ],
   "source": [
    "bat_agn_tdust_med = np.mean(bat_casey['tdust'])\n",
    "hrs_tdust_med = np.mean(hrs_casey['tdust'])\n",
    "kf_tdust_med = np.mean(kf_casey[~kf_dwarfs]['tdust'])\n",
    "\n",
    "bat_agn_tdust_std = np.std(bat_casey['tdust'])\n",
    "hrs_tdust_std = np.std(hrs_casey['tdust'])\n",
    "kf_tdust_std = np.std(kf_casey[~kf_dwarfs]['tdust'])\n",
    "\n",
    "print 'Mean Dust Temperatures:'\n",
    "print 'BAT AGN: ', bat_agn_tdust_med, '+/-', bat_agn_tdust_std\n",
    "print 'HRS: ', hrs_tdust_med, '+/-', hrs_tdust_std\n",
    "print 'KINGFISH: ', kf_tdust_med, '+/-', kf_tdust_std"
   ]
  },
  {
   "cell_type": "code",
   "execution_count": 79,
   "metadata": {
    "collapsed": false
   },
   "outputs": [
    {
     "name": "stdout",
     "output_type": "stream",
     "text": [
      "Mean log(SFR):\n",
      "BAT AGN:  0.276550617918 +/- 0.535737004166\n",
      "HRS:  -0.474776474298 +/- 0.531291829381\n",
      "KINGFISH:  -0.0864578479325 +/- 0.650853365412\n"
     ]
    }
   ],
   "source": [
    "bat_agn_sfr_med = np.mean(bat_casey['SFR'])\n",
    "hrs_sfr_med = np.mean(hrs_casey['SFR'])\n",
    "kf_sfr_med = np.mean(kf_casey[~kf_dwarfs]['SFR'])\n",
    "\n",
    "bat_agn_sfr_std = np.std(bat_casey['SFR'])\n",
    "hrs_sfr_std = np.std(hrs_casey['SFR'])\n",
    "kf_sfr_std = np.std(kf_casey[~kf_dwarfs]['SFR'])\n",
    "\n",
    "print 'Mean log(SFR):'\n",
    "print 'BAT AGN: ', bat_agn_sfr_med, '+/-', bat_agn_sfr_std\n",
    "print 'HRS: ', hrs_sfr_med, '+/-', hrs_sfr_std\n",
    "print 'KINGFISH: ', kf_sfr_med, '+/-', kf_sfr_std"
   ]
  },
  {
   "cell_type": "code",
   "execution_count": 82,
   "metadata": {
    "collapsed": false
   },
   "outputs": [
    {
     "name": "stdout",
     "output_type": "stream",
     "text": [
      "Mean log(Dust Mass/ Stellar Mass):\n",
      "BAT AGN:  -3.15286626315 +/- 0.504340527324\n",
      "HRS:  -2.87311037635 +/- 0.649102755536\n",
      "KINGFISH:  -2.52182451395 +/- 0.609172053994\n"
     ]
    }
   ],
   "source": [
    "bat_agn_mdust_mstar_med = np.mean(bat_casey['mdust'] - bat_casey['Mstar'])\n",
    "hrs_mdust_mstar_med = np.mean(hrs_casey['mdust'] - hrs_casey['Mstar'])\n",
    "kf_mdust_mstar_med = np.mean(kf_casey[~kf_dwarfs]['mdust'] - kf_casey[~kf_dwarfs]['Mstar'])\n",
    "\n",
    "bat_agn_mdust_mstar_std = np.std(bat_casey['mdust'] - bat_casey['Mstar'])\n",
    "hrs_mdust_mstar_std = np.std(hrs_casey['mdust'] - hrs_casey['Mstar'])\n",
    "kf_mdust_mstar_std = np.std(kf_casey[~kf_dwarfs]['mdust'] - kf_casey[~kf_dwarfs]['Mstar'])\n",
    "\n",
    "print 'Mean log(Dust Mass/ Stellar Mass):'\n",
    "print 'BAT AGN: ', bat_agn_mdust_mstar_med, '+/-', bat_agn_mdust_mstar_std\n",
    "print 'HRS: ', hrs_mdust_mstar_med, '+/-', hrs_mdust_mstar_std\n",
    "print 'KINGFISH: ', kf_mdust_mstar_med, '+/-', kf_mdust_mstar_std"
   ]
  },
  {
   "cell_type": "code",
   "execution_count": 84,
   "metadata": {
    "collapsed": false
   },
   "outputs": [
    {
     "name": "stdout",
     "output_type": "stream",
     "text": [
      "Mean log(Dust Mass/ Stellar Mass):\n",
      "BAT AGN:  2.20901846769 +/- 0.453081772809\n",
      "HRS:  2.2157992596 +/- 0.288128041739\n",
      "KINGFISH:  2.24848867474 +/- 0.352130415587\n"
     ]
    }
   ],
   "source": [
    "bat_agn_tdust_mstar_med = np.mean(bat_casey['tdust']/bat_casey['Mstar'])\n",
    "hrs_tdust_mstar_med = np.mean(hrs_casey['tdust']/hrs_casey['Mstar'])\n",
    "kf_tdust_mstar_med = np.mean(kf_casey[~kf_dwarfs]['tdust']/kf_casey[~kf_dwarfs]['Mstar'])\n",
    "\n",
    "bat_agn_tdust_mstar_std = np.std(bat_casey['tdust']/bat_casey['Mstar'])\n",
    "hrs_tdust_mstar_std = np.std(hrs_casey['tdust']/hrs_casey['Mstar'])\n",
    "kf_tdust_mstar_std = np.std(kf_casey[~kf_dwarfs]['tdust']/kf_casey[~kf_dwarfs]['Mstar'])\n",
    "\n",
    "print 'Mean log(Dust Mass/ Stellar Mass):'\n",
    "print 'BAT AGN: ', bat_agn_tdust_mstar_med, '+/-', bat_agn_tdust_mstar_std\n",
    "print 'HRS: ', hrs_tdust_mstar_med, '+/-', hrs_tdust_mstar_std\n",
    "print 'KINGFISH: ', kf_tdust_mstar_med, '+/-', kf_tdust_mstar_std"
   ]
  },
  {
   "cell_type": "code",
   "execution_count": 86,
   "metadata": {
    "collapsed": false
   },
   "outputs": [
    {
     "name": "stdout",
     "output_type": "stream",
     "text": [
      " Mean log(Dust Mass/ Stellar Mass):\n",
      "BAT AGN:  -10.3012250039 +/- 0.595312150249\n",
      "HRS:  -10.1977819142 +/- 0.53649654563\n",
      "KINGFISH:  -9.77964933729 +/- 0.58217430278\n"
     ]
    }
   ],
   "source": [
    "bat_agn_sfr_mstar_med = np.mean(bat_casey['SFR'] - bat_casey['Mstar'])\n",
    "hrs_sfr_mstar_med = np.mean(hrs_casey['SFR'] - hrs_casey['Mstar'])\n",
    "kf_sfr_mstar_med = np.mean(kf_casey[~kf_dwarfs]['SFR'] - kf_casey[~kf_dwarfs]['Mstar'])\n",
    "\n",
    "bat_agn_sfr_mstar_std = np.std(bat_casey['SFR'] - bat_casey['Mstar'])\n",
    "hrs_sfr_mstar_std = np.std(hrs_casey['SFR'] - hrs_casey['Mstar'])\n",
    "kf_sfr_mstar_std = np.std(kf_casey[~kf_dwarfs]['SFR'] - kf_casey[~kf_dwarfs]['Mstar'])\n",
    "\n",
    "print 'Mean log(Dust Mass/ Stellar Mass):'\n",
    "print 'BAT AGN: ', bat_agn_sfr_mstar_med, '+/-', bat_agn_sfr_mstar_std\n",
    "print 'HRS: ', hrs_sfr_mstar_med, '+/-', hrs_sfr_mstar_std\n",
    "print 'KINGFISH: ', kf_sfr_mstar_med, '+/-', kf_sfr_mstar_std"
   ]
  }
 ],
 "metadata": {
  "kernelspec": {
   "display_name": "Python 2",
   "language": "python",
   "name": "python2"
  },
  "language_info": {
   "codemirror_mode": {
    "name": "ipython",
    "version": 2
   },
   "file_extension": ".py",
   "mimetype": "text/x-python",
   "name": "python",
   "nbconvert_exporter": "python",
   "pygments_lexer": "ipython2",
   "version": "2.7.11"
  }
 },
 "nbformat": 4,
 "nbformat_minor": 0
}
