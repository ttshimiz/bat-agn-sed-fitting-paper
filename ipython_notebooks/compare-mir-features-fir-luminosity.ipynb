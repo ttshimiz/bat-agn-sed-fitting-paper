{
 "cells": [
  {
   "cell_type": "markdown",
   "metadata": {},
   "source": [
    "#Comparison of MIR Spectral Features with SED Luminosities"
   ]
  },
  {
   "cell_type": "markdown",
   "metadata": {},
   "source": [
    "This notebook explores the relationship between the MIR spectral features measured from the Spitzer/IRS low-resolution spectra and the luminosities measured from the broadband SED's. Essentially if we've reasonably decomposed the SEDs into an AGN and star-forming component then we expect a nice correlation between the PAH features as well as NeII emission line and the FIR luminosity."
   ]
  },
  {
   "cell_type": "code",
   "execution_count": 1,
   "metadata": {
    "collapsed": false
   },
   "outputs": [],
   "source": [
    "# Standard module imports\n",
    "import numpy as np\n",
    "import scipy.stats as stats\n",
    "import pandas as pd\n",
    "import sys\n",
    "import pickle\n",
    "%matplotlib inline\n",
    "\n",
    "# Useful directories\n",
    "gh_dir = '/Users/ttshimiz/Github/'\n",
    "sed_fit_dir = gh_dir + 'bat-agn-sed-fitting/'\n",
    "casey_dir = sed_fit_dir + 'analysis/casey_bayes_results/'\n",
    "data_dir = gh_dir + 'bat-data/'\n",
    "\n",
    "sys.path.append(gh_dir+'linmix/')\n",
    "import linmix"
   ]
  },
  {
   "cell_type": "code",
   "execution_count": 2,
   "metadata": {
    "collapsed": false
   },
   "outputs": [
    {
     "name": "stderr",
     "output_type": "stream",
     "text": [
      ":0: FutureWarning: IPython widgets are experimental and may change in the future.\n"
     ]
    }
   ],
   "source": [
    "# Setup the figures\n",
    "execfile('../code/figure-setup.py')"
   ]
  },
  {
   "cell_type": "code",
   "execution_count": 3,
   "metadata": {
    "collapsed": false
   },
   "outputs": [],
   "source": [
    "# Upload the fitting results for the C12 model\n",
    "bat_c12 = pd.read_csv('../data/bat-agn-c12-params.csv', index_col=0)\n",
    "\n",
    "# Remove 'bad' sources\n",
    "radio_loud_sources = np.array(['PICTORA', '3C111.0', '3C120',\n",
    "                              '2MASXJ23272195+1524375', 'PKS2331-240',\n",
    "                              'HB890241+622', 'Mrk3'])\n",
    "bat_c12 = bat_c12.drop(radio_loud_sources)\n",
    "#bat_c12.loc['UGC06728', 'lir_sf'] += 2.0\n",
    "#bat_c12.loc['UGC06728', 'mdust'] += 2.0\n",
    "\n",
    "# Upload the info for the BAT AGN (i.e. AGN type, luminosity distance, redshift, etc)\n",
    "bat_info = pd.read_csv(data_dir+'bat_info.csv', index_col=0)\n",
    "#bat_info.loc['UGC06728', 'Dist_[Mpc]'] = 292.0\n",
    "\n",
    "bat_flux = pd.read_csv(data_dir+'bat_bat_flux.csv', index_col=0)\n",
    "bat_flux['bat_flux_err_low'] = bat_flux['BAT_flux'] - bat_flux['BAT_flux_90_low']\n",
    "bat_flux['bat_flux_err_high'] = bat_flux['BAT_flux_90_high'] - bat_flux['BAT_flux']\n",
    "bat_flux['lbat'] = np.log10(4*np.pi*(bat_info['Dist_[Mpc]']*10**6*3.09e18)**2*bat_flux['BAT_flux']*10**(-12))\n",
    "bat_flux['bat_err'] = np.max(np.vstack([bat_flux['bat_flux_err_low'], bat_flux['bat_flux_err_high']]), axis=0)\n",
    "bat_flux['lbat_err'] = 0.434*4*np.pi*(bat_info['Dist_[Mpc]']*10**6*3.09e18)**2*bat_flux['bat_err']*10**(-12)/(10**bat_flux['lbat'])\n",
    "bat_flux['lbat_flag'] = pd.Series(index=bat_flux.index)\n",
    "bat_flux.loc[bat_flux['BAT_flux_90_high'] == 0, 'lbat_flag'] = 0\n",
    "bat_flux.loc[bat_flux['BAT_flux_90_low'] != 0, 'lbat_flag'] = 1\n",
    "bat_flux.loc[bat_flux['lbat_flag'] == 0, 'lbat_err'] = 0"
   ]
  },
  {
   "cell_type": "code",
   "execution_count": 4,
   "metadata": {
    "collapsed": true
   },
   "outputs": [],
   "source": [
    "# Upload the results from fitting the IRS spectra\n",
    "f = open(gh_dir+'bat-agn-spitzer-irs-analysis/strengths_11-20-2015.pkl', 'rb')\n",
    "strengths = pickle.load(f)\n",
    "f.close()"
   ]
  },
  {
   "cell_type": "code",
   "execution_count": 5,
   "metadata": {
    "collapsed": false
   },
   "outputs": [],
   "source": [
    "# Extract the luminosities and equivalent widths for all of the features into Pandas DataFrames\n",
    "df_lum = pd.DataFrame(columns=['PAH 11.3', 'PAH 11.3 err', 'PAH 7.7', 'PAH 7.7 err', 'PAH 6.2','PAH 6.2 err', 'NeII', 'NeII err', 'NeIII', \n",
    "                               'NeIII err', 'NeV', 'NeV err', 'OIV', 'OIV err'], index=strengths.keys(), dtype=np.float)\n",
    "df_eqw = pd.DataFrame(columns=['PAH 11.3', 'PAH 11.3 err', 'PAH 7.7', 'PAH 7.7 err', 'PAH 6.2','PAH 6.2 err', 'NeII', 'NeII err', 'NeIII', \n",
    "                               'NeIII err', 'NeV', 'NeV err', 'OIV', 'OIV err'], index=strengths.keys(), dtype=np.float)\n",
    "\n",
    "for n in df_eqw.index:\n",
    "    df_eqw.loc[n, 'PAH 11.3'] = strengths[n]['PAH 11.3 Features']['PAH 11.3 Complex']['eqw'][0]\n",
    "    df_eqw.loc[n, 'PAH 7.7'] = strengths[n]['PAH 7.7 Features']['PAH 7.7 Complex']['eqw'][0]\n",
    "    df_eqw.loc[n, 'PAH 6.2'] = strengths[n]['PAH 6.2 Features']['PAH 6.22']['eqw'][0]\n",
    "    df_eqw.loc[n, 'NeII'] = strengths[n]['NeII Features']['[NeII]']['eqw'][0]\n",
    "    df_eqw.loc[n, 'NeIII'] = strengths[n]['NeIII Features']['[NeIII]']['eqw'][0]\n",
    "    df_eqw.loc[n, 'NeV'] = strengths[n]['NeV Features']['[NeV]']['eqw'][0]\n",
    "    df_eqw.loc[n, 'OIV'] = strengths[n]['OIV Features']['[OIV]']['eqw'][0]\n",
    "    df_eqw.loc[n, 'PAH 11.3 err'] = strengths[n]['PAH 11.3 Features']['PAH 11.3 Complex']['eqw'][1]\n",
    "    df_eqw.loc[n, 'PAH 7.7 err'] = strengths[n]['PAH 7.7 Features']['PAH 7.7 Complex']['eqw'][1]\n",
    "    df_eqw.loc[n, 'PAH 6.2 err'] = strengths[n]['PAH 6.2 Features']['PAH 6.22']['eqw'][1]\n",
    "    df_eqw.loc[n, 'NeII err'] = strengths[n]['NeII Features']['[NeII]']['eqw'][1]\n",
    "    df_eqw.loc[n, 'NeIII err'] = strengths[n]['NeIII Features']['[NeIII]']['eqw'][1]                                                                      \n",
    "    df_eqw.loc[n, 'NeV err'] = strengths[n]['NeV Features']['[NeV]']['eqw'][1]\n",
    "    df_eqw.loc[n, 'OIV err'] = strengths[n]['OIV Features']['[OIV]']['eqw'][1]\n",
    "    \n",
    "    df_lum.loc[n, 'PAH 11.3'] = strengths[n]['PAH 11.3 Features']['PAH 11.3 Complex']['luminosity'][0]\n",
    "    df_lum.loc[n, 'PAH 7.7'] = strengths[n]['PAH 7.7 Features']['PAH 7.7 Complex']['luminosity'][0]\n",
    "    df_lum.loc[n, 'PAH 6.2'] = strengths[n]['PAH 6.2 Features']['PAH 6.22']['luminosity'][0]\n",
    "    df_lum.loc[n, 'NeII'] = strengths[n]['NeII Features']['[NeII]']['luminosity'][0]\n",
    "    df_lum.loc[n, 'NeIII'] = strengths[n]['NeIII Features']['[NeIII]']['luminosity'][0]                                                                   \n",
    "    df_lum.loc[n, 'NeV'] = strengths[n]['NeV Features']['[NeV]']['luminosity'][0]\n",
    "    df_lum.loc[n, 'OIV'] = strengths[n]['OIV Features']['[OIV]']['luminosity'][0]\n",
    "    \n",
    "    df_lum.loc[n, 'PAH 11.3 err'] = strengths[n]['PAH 11.3 Features']['PAH 11.3 Complex']['luminosity'][1]\n",
    "    df_lum.loc[n, 'PAH 7.7 err'] = strengths[n]['PAH 7.7 Features']['PAH 7.7 Complex']['luminosity'][1]\n",
    "    df_lum.loc[n, 'PAH 6.2 err'] = strengths[n]['PAH 6.2 Features']['PAH 6.22']['luminosity'][1]\n",
    "    df_lum.loc[n, 'NeII err'] = strengths[n]['NeII Features']['[NeII]']['luminosity'][1]\n",
    "    df_lum.loc[n, 'NeIII err'] = strengths[n]['NeIII Features']['[NeIII]']['luminosity'][1]                                                               \n",
    "    df_lum.loc[n, 'NeV err'] = strengths[n]['NeV Features']['[NeV]']['luminosity'][1]                                                                         \n",
    "    df_lum.loc[n, 'OIV err'] = strengths[n]['OIV Features']['[OIV]']['luminosity'][1]"
   ]
  },
  {
   "cell_type": "code",
   "execution_count": 6,
   "metadata": {
    "collapsed": false
   },
   "outputs": [],
   "source": [
    "# Upload KINGFISH data\n",
    "kf_casey = pd.read_csv(casey_dir+'kingfish_beta_fixed_2_wturn_gaussianPrior/final_fit_results_kingfish_casey.csv', index_col=0)\n",
    "kf_info = pd.read_table('/Users/ttshimiz/Dropbox/Research/Thesis/Other_surveys/KINGFISH/kingfish_data.txt', index_col=0, delimiter='\\t')\n",
    "\n",
    "# Identify the dwarf galaxies as any galaxy with stellar mass < 10^8 Msun\n",
    "# Also identify the AGN in the sample\n",
    "kf_dwarfs = kf_info['Mstar'] < 8.0\n",
    "kf_agn = (kf_info['Nuc. Type'] == 'AGN') | (kf_info['Nuc. Type'] == 'SF/AGN')\n",
    "kf_casey['Mstar'] = kf_info['Mstar']\n",
    "\n",
    "# PAHFIT results from Smith et al 2007\n",
    "kf_pahfit = pd.read_csv('/Users/ttshimiz/Dropbox/Research/Thesis/Other_surveys/KINGFISH/kingfish_pahfit_intensities.csv', index_col=0)\n",
    "kf_pahfit_aperture = pd.read_table('/Users/ttshimiz/Dropbox/Research/Thesis/Other_surveys/KINGFISH/kingfish_spitzer_extraction_apertures.txt', index_col=0, delimiter='\\t')\n",
    "kf_pahfit.index = [''.join(x.split()) for x in kf_pahfit.index]\n",
    "kf_pahfit_aperture.index = [''.join(x.split()) for x in kf_pahfit_aperture.index]\n",
    "kf_pahfit.loc['NGC1316', 'PAH 7.7'] = 0.0\n",
    "\n",
    "# Need to pull out the major and minor axis sizes for the Spitzer/IRS extraction aperture\n",
    "kf_pahfit_aperture['Major Axis'] = pd.Series(index=kf_pahfit_aperture.index)\n",
    "kf_pahfit_aperture['Minor Axis'] = pd.Series(index=kf_pahfit_aperture.index)\n",
    "\n",
    "for n in kf_pahfit_aperture.index:\n",
    "    s = kf_pahfit_aperture.loc[n, 'Aperture Size']\n",
    "    kf_pahfit_aperture.loc[n, 'Major Axis'] = np.float(s.split()[0])\n",
    "    kf_pahfit_aperture.loc[n, 'Minor Axis'] = np.float(s.split()[-1])\n",
    "    \n",
    "# Calculate the line luminosities for the KINGFISH galaxies\n",
    "kf_pahfit['NeII lum'] = (4*np.pi*(kf_info['Dist [Mpc]']*10**6*3.09e16)**2*kf_pahfit['NeII']*10**7*np.pi*\n",
    "                         kf_pahfit_aperture['Major Axis']*kf_pahfit_aperture['Minor Axis']/4.25e10)\n",
    "kf_pahfit['PAH 11.3 lum'] = (4*np.pi*(kf_info['Dist [Mpc]']*10**6*3.09e16)**2*kf_pahfit['PAH 11.3']*10**7*np.pi*\n",
    "                             kf_pahfit_aperture['Major Axis']*kf_pahfit_aperture['Minor Axis']/4.25e10)\n",
    "kf_pahfit['PAH 11.3 lum err'] = (4*np.pi*(kf_info['Dist [Mpc]']*10**6*3.09e16)**2*kf_pahfit['PAH 11.3 err']*10**7*np.pi*\n",
    "                                 kf_pahfit_aperture['Major Axis']*kf_pahfit_aperture['Minor Axis']/4.25e10)\n",
    "kf_pahfit['PAH 7.7 lum'] = (4*np.pi*(kf_info['Dist [Mpc]']*10**6*3.09e16)**2*kf_pahfit['PAH 7.7']*10**7*\n",
    "                            np.pi*kf_pahfit_aperture['Major Axis']*kf_pahfit_aperture['Minor Axis']/4.25e10)\n",
    "kf_pahfit['PAH 7.7 lum err'] = (4*np.pi*(kf_info['Dist [Mpc]']*10**6*3.09e16)**2*kf_pahfit['PAH 7.7 err']*10**7*\n",
    "                                np.pi*kf_pahfit_aperture['Major Axis']*kf_pahfit_aperture['Minor Axis']/4.25e10)\n",
    "kf_pahfit['lsf']= kf_casey['lir_total']\n",
    "kf_pahfit['lsf_err_up'] = np.sqrt((kf_casey['lir_total_84'] - kf_casey['lir_total'])**2 + 0.2**2)\n",
    "kf_pahfit['lsf_err_down'] = np.sqrt((kf_casey['lir_total'] - kf_casey['lir_total_16'])**2 + 0.2**2)\n",
    "\n",
    "kf_pahfit['Mstar'] = kf_casey['Mstar']\n",
    "kf_pahfit = kf_pahfit[kf_pahfit['Mstar'] > 8.0]"
   ]
  },
  {
   "cell_type": "markdown",
   "metadata": {},
   "source": [
    "##Comparison between PAH 11.3 luminosity and Star-Forming luminosity"
   ]
  },
  {
   "cell_type": "markdown",
   "metadata": {},
   "source": [
    "First I want to compare the relationship between the 11.3 micron PAH complex luminosity and the star-forming luminosity as determined using the correction factor on the greybody luminosity."
   ]
  },
  {
   "cell_type": "code",
   "execution_count": 8,
   "metadata": {
    "collapsed": false
   },
   "outputs": [],
   "source": [
    "df_lum['lsf'] = bat_c12['lir_sf']\n",
    "df_lum['lsf_err_upper'] = np.sqrt(bat_c12['lir_sf_err_high']**2 + 0.2**2)\n",
    "df_lum['lsf_err_lower'] = np.sqrt(bat_c12['lir_sf_err_low']**2 + 0.2**2)\n",
    "df_lum['lsf_flag'] = bat_c12['lir_sf_flag']\n",
    "#df_lum.loc['UGC06728','PAH 11.3'] = df_lum.loc['UGC06728','PAH 11.3'] + 2.0\n",
    "#df_lum.loc['UGC06728','PAH 7.7'] = df_lum.loc['UGC06728','PAH 7.7'] + 2.0"
   ]
  },
  {
   "cell_type": "code",
   "execution_count": 11,
   "metadata": {
    "collapsed": false
   },
   "outputs": [
    {
     "data": {
      "image/png": "[encoded data removed]",
      "text/plain": [
       "<matplotlib.figure.Figure at 0x1111781d0>"
      ]
     },
     "metadata": {},
     "output_type": "display_data"
    }
   ],
   "source": [
    "fig = plt.figure(figsize=(1.2*textwidth,1.2*3./8.*textwidth))\n",
    "ax1 = fig.add_subplot(121)\n",
    "pah11_3_detected = (df_lum['PAH 11.3'] >= 0) & (df_lum['PAH 11.3'] > 3*df_lum['PAH 11.3 err'])\n",
    "lsf_detected = df_lum['lsf_flag'] == 0\n",
    "both_detected_pah11_3 = pah11_3_detected & lsf_detected\n",
    "pah11_3_only = (pah11_3_detected) & (~lsf_detected)\n",
    "lsf_only_pah11_3 = (~pah11_3_detected) & (lsf_detected)\n",
    "neither_pah11_3 = (~pah11_3_detected) & (~lsf_detected)\n",
    "ms = 4\n",
    "ax1.errorbar(df_lum['lsf'][both_detected_pah11_3], np.log10(df_lum['PAH 11.3'][both_detected_pah11_3]/3.846e33),\n",
    "            xerr=np.vstack([df_lum['lsf_err_upper'][both_detected_pah11_3], df_lum['lsf_err_lower'][both_detected_pah11_3]]),\n",
    "            yerr=0.434*df_lum['PAH 11.3 err'][both_detected_pah11_3]/df_lum['PAH 11.3'][both_detected_pah11_3], fmt='o',\n",
    "            ls='None', color='b', label='BAT AGN', ms=ms, lw=1.0)\n",
    "#ax1.plot(df_lum['lsf'][pah11_3_only], np.log10(df_lum['PAH 11.3'][pah11_3_only]/3.846e33),\n",
    "#        marker='<', ms=ms, label='_nolabel', mfc='None', mec='b', ls='None', mew=1.0)\n",
    "ax1.plot(df_lum['lsf'][lsf_only_pah11_3], np.log10(3*df_lum['PAH 11.3 err'][lsf_only_pah11_3]/3.846e33),\n",
    "        marker='v', ls='None', ms=ms, mfc='None', mec='b', mew=1.0, label='_nolabel')\n",
    "#ax1.plot(df_lum['lsf'][neither_pah11_3], np.log10(3*df_lum['PAH 11.3 err'][neither_pah11_3]/3.846e33),\n",
    "#        marker='o', ls='None', ms=ms, mfc='None', mec='b', mew=1.0, label='_nolabel')\n",
    "ax1.errorbar(kf_pahfit['lsf'], np.log10(kf_pahfit['PAH 11.3 lum']/3.846e33),\n",
    "             xerr=np.vstack([kf_pahfit['lsf_err_up'], kf_pahfit['lsf_err_down']]),\n",
    "             yerr=0.434*kf_pahfit['PAH 11.3 lum err']/kf_pahfit['PAH 11.3 lum'],\n",
    "             color='r', fmt='s', ls='None', ms=ms, label='KINGFISH', lw=1.0)\n",
    "ax1.set_xlabel('$\\log\\,L_{SF}$ [$L_{\\odot}$]')\n",
    "ax1.set_ylabel(r'$\\log\\,L_{\\rm PAH\\,11.3}$ [$L_{\\odot}$]')\n",
    "\n",
    "# Use the LPAH - LSF relation from Zakamska et al 2015 (based on work by Shi et al 2007)\n",
    "# logLPAH_11.3 =  -0.7842 + 0.8759*log(LSF) both luminosities in solar luminosities\n",
    "lsf = np.arange(7.5, 12.5, 0.001)\n",
    "#lpah_zakam = -0.7842 + 0.8759*lsf\n",
    "lpah11_3_bat_fit = 1.218*lsf - 4.6068\n",
    "lpah11_3_kf_fit = 1.0185*lsf - 2.315\n",
    "lpah11_3_shipley = ((lsf - np.log10(2.57e43) + np.log10(3.846e33)+44.14))/1.06 - np.log10(3.846e33)\n",
    "#ax1.plot(lsf, lpah11_3_shipley, 'k-', label='Shipley+16')\n",
    "#ax1.plot(xfit_11_3_bat, yfit_11_3_bat_median, 'b-')\n",
    "#ax1.plot(xfit_11_3_bat, yfit_11_3_kf_median, 'r-')\n",
    "#ax1.fill_between(xfit_11_3_bat, yfit_11_3_bat_lower95, yfit_11_3_bat_upper95, color='b', alpha=0.3)\n",
    "#ax1.fill_between(xfit_11_3_bat, yfit_11_3_kf_lower95, yfit_11_3_kf_upper95, color='r', alpha=0.3)\n",
    "\n",
    "ax1.set_ylim(5.5, 9.5)\n",
    "ax1.set_xlim(7.5, 12.0)\n",
    "\n",
    "# Use the LPAH - SFR relation from Diamond-Stanic et al 2012: SFR = 9.6e-9*LPAH_11.3\n",
    "# Use the LIR - SFR relation from Murphy et al 2011: SFR = LSF/2.57e43\n",
    "# LPAH_11.3 = LSF/2.57e43/9.2e-9 with LSF in ergs/s and LPAH_11.3 in Lsun\n",
    "lpah_dms = np.log10(10**lsf*3.846e33/2.57e43/9.6e-9)\n",
    "#ax1.plot(lsf, lpah_dms, 'r-', label='Diamond-Stanic+12')\n",
    "ax1.legend(loc='upper left', fontsize=6)\n",
    "ax1.set_xlim(8.0, 12.0)\n",
    "\n",
    "pah7_7_detected = (df_lum['PAH 7.7'] > 0) & (df_lum['PAH 7.7'] > 3*df_lum['PAH 7.7 err'])\n",
    "both_detected_pah7_7 = pah7_7_detected & lsf_detected\n",
    "pah7_7_only = pah7_7_detected & ~lsf_detected\n",
    "lsf_only_pah7_7 = ~pah7_7_detected & lsf_detected\n",
    "neither_pah7_7 = ~pah7_7_detected & ~lsf_detected\n",
    "\n",
    "ax2 = fig.add_subplot(122)\n",
    "ax2.errorbar(df_lum['lsf'][both_detected_pah7_7], np.log10(df_lum['PAH 7.7'][both_detected_pah7_7]/3.846e33),\n",
    "            xerr=np.vstack([df_lum['lsf_err_upper'][both_detected_pah7_7], df_lum['lsf_err_lower'][both_detected_pah7_7]]),\n",
    "            yerr=0.434*df_lum['PAH 7.7 err'][both_detected_pah7_7]/df_lum['PAH 7.7'][both_detected_pah7_7], fmt='o',\n",
    "            ls='None', color='b', label='BAT AGN', ms=ms, lw=1.0)\n",
    "#ax2.plot(df_lum['lsf'][pah7_7_only], np.log10(df_lum['PAH 7.7'][pah7_7_only]/3.846e33),\n",
    "#        marker='<', ms=ms, label='_nolabel', mfc='None', mec='b', ls='None', mew=1.0)\n",
    "ax2.plot(df_lum['lsf'][lsf_only_pah7_7], np.log10(3*df_lum['PAH 7.7 err'][lsf_only_pah7_7]/3.846e33),\n",
    "        marker='v', ls='None', ms=ms, mfc='None', mec='b', mew=1.0, label='_nolabel')\n",
    "#ax2.plot(df_lum['lsf'][neither_pah7_7], np.log10(3*df_lum['PAH 7.7 err'][neither_pah7_7]/3.846e33),\n",
    "#        marker='o', ls='None', ms=ms, mfc='None', mec='b', mew=1.0, label='_nolabel')\n",
    "ax2.errorbar(kf_pahfit['lsf'], np.log10(kf_pahfit['PAH 7.7 lum']/3.846e33),\n",
    "             xerr=np.vstack([kf_pahfit['lsf_err_up'], kf_pahfit['lsf_err_down']]),\n",
    "             yerr=0.434*kf_pahfit['PAH 7.7 lum err']/kf_pahfit['PAH 7.7 lum'],\n",
    "             color='r', fmt='s', ls='None', ms=ms, label='KINGFISH', lw=1.0)\n",
    "ax2.set_xlabel('$\\log\\,L_{SF}$ [$L_{\\odot}$]')\n",
    "ax2.set_ylabel(r'$\\log\\,L_{\\rm PAH\\,7.7}$ [$L_{\\odot}$]')\n",
    "ax2.set_xlim(8.0, 12.0)\n",
    "ax2.set_ylim(6, 10)\n",
    "lsf = np.arange(7.5, 12.5, 0.001)\n",
    "lpah7_bat = 1.15*lsf - 3.28\n",
    "lpah7_kf = 1.108*lsf - 2.6387\n",
    "lpah7 = np.log10(10**lsf*3.846e33/2.57e43/1.67e-9)\n",
    "lpah7_v2 = 0.8195*lsf + 0.2372\n",
    "lpah7_7_shipley = ((lsf - np.log10(2.57e43) + np.log10(3.846e33)+42.38)) - np.log10(3.846e33)\n",
    "#ax2.plot(lsf, lpah7, 'r-', label='Roussel+01')\n",
    "#ax2.plot(lsf, lpah7_7_shipley, 'k-', label='Shipley+16')\n",
    "#ax2.plot(xfit_7_7_bat, yfit_7_7_bat_median, 'b-')\n",
    "#ax2.plot(xfit_7_7_bat, yfit_7_7_kf_median, 'r-')\n",
    "#ax2.fill_between(xfit_7_7_bat, yfit_7_7_bat_lower95, yfit_7_7_bat_upper95, color='b', alpha=0.3)\n",
    "#ax2.fill_between(xfit_7_7_bat, yfit_7_7_kf_lower95, yfit_7_7_kf_upper95, color='r', alpha=0.3)\n",
    "ax2.legend(loc='upper left', fontsize=6)\n",
    "sn.despine()\n",
    "\n",
    "fig.subplots_adjust(wspace=0.3)\n",
    "#fig.savefig(figsave_dir+'lsf-vs-lpah.pdf', bbox_inches='tight')"
   ]
  },
  {
   "cell_type": "code",
   "execution_count": 12,
   "metadata": {
    "collapsed": false
   },
   "outputs": [
    {
     "name": "stdout",
     "output_type": "stream",
     "text": [
      "beta = 1.2500520958 +/- 0.0950087540616\n",
      "alpha = -4.96191915855 +/- 0.973268821166\n",
      "sigsqr = 0.0758064248781 +/- 0.0255901839713\n",
      "corr = 0.921542611963 +/- 0.0302589740688\n"
     ]
    }
   ],
   "source": [
    "x_pah11_3 = df_lum['lsf'][both_detected_pah11_3 | lsf_only_pah11_3]\n",
    "y_pah11_3 = np.log10(df_lum['PAH 11.3'][both_detected_pah11_3 | lsf_only_pah11_3]/3.846e33)\n",
    "y_pah11_3[lsf_only_pah11_3] = np.log10(3*df_lum['PAH 11.3 err'][lsf_only_pah11_3]/3.846e33)\n",
    "xerr_pah11_3 = df_lum['lsf_err_upper'][both_detected_pah11_3 | lsf_only_pah11_3]\n",
    "yerr_pah11_3 = 0.434*df_lum['PAH 11.3 err'][both_detected_pah11_3 | lsf_only_pah11_3]/df_lum['PAH 11.3'][both_detected_pah11_3 | lsf_only_pah11_3]\n",
    "cens_pah11_3 = pd.Series(index=x_pah11_3.index)\n",
    "cens_pah11_3[both_detected_pah11_3] = 1\n",
    "cens_pah11_3[lsf_only_pah11_3] = 0\n",
    "\n",
    "x_pah11_3 = x_pah11_3.drop(['CenA', 'M106'])\n",
    "y_pah11_3 = y_pah11_3.drop(['CenA', 'M106'])\n",
    "cens_pah11_3 = cens_pah11_3.drop(['CenA', 'M106'])\n",
    "xerr_pah11_3 = xerr_pah11_3.drop(['CenA', 'M106'])\n",
    "yerr_pah11_3 = yerr_pah11_3.drop(['CenA', 'M106'])\n",
    "\n",
    "lm = linmix.LinMix(x=x_pah11_3.values, y=y_pah11_3.values, xsig=xerr_pah11_3.values, ysig=yerr_pah11_3.values,\n",
    "                   delta=cens_pah11_3.values)\n",
    "lm.run_mcmc(silent=True)\n",
    "\n",
    "beta = np.median(lm.chain['beta'])\n",
    "beta_err = np.std(lm.chain['beta'])\n",
    "alpha = np.median(lm.chain['alpha'])\n",
    "alpha_err = np.std(lm.chain['alpha'])\n",
    "sigsqr = np.median(lm.chain['sigsqr'])\n",
    "sigsqr_err = np.std(lm.chain['sigsqr'])\n",
    "corr = np.median(lm.chain['corr'])\n",
    "corr_err = np.std(lm.chain['corr'])\n",
    "\n",
    "print 'beta =', beta, '+/-', beta_err\n",
    "print 'alpha =', alpha, '+/-', alpha_err\n",
    "print 'sigsqr =', sigsqr, '+/-', sigsqr_err\n",
    "print 'corr =', corr, '+/-', corr_err\n",
    "\n",
    "xfit_11_3_bat = np.arange(8.0, 12.0, 0.001)\n",
    "yfit_11_3_bat = np.zeros((len(lm.chain['beta']), len(xfit_11_3_bat)))\n",
    "\n",
    "for i in range(len(lm.chain['beta'])):\n",
    "    beta_i = lm.chain['beta'][i]\n",
    "    alpha_i = lm.chain['alpha'][i]\n",
    "    yfit_11_3_bat[i, :] = alpha_i + beta_i*xfit_11_3_bat\n",
    "\n",
    "\n",
    "yfit_11_3_bat_median = np.median(yfit_11_3_bat, axis=0)\n",
    "yfit_11_3_bat_upper95 = np.percentile(yfit_11_3_bat, axis=0, q=97.5)\n",
    "yfit_11_3_bat_lower95 = np.percentile(yfit_11_3_bat, axis=0, q=2.5)"
   ]
  },
  {
   "cell_type": "code",
   "execution_count": 13,
   "metadata": {
    "collapsed": false
   },
   "outputs": [
    {
     "name": "stdout",
     "output_type": "stream",
     "text": [
      "beta = 1.02093688236 +/- 0.147352300688\n",
      "alpha = -2.3391712737 +/- 1.45155881277\n",
      "sigsqr = 0.159759195596 +/- 0.050009700978\n",
      "corr = 0.819208288518 +/- 0.0749043362055\n"
     ]
    }
   ],
   "source": [
    "xkf_pah11_3 = kf_pahfit['lsf']\n",
    "ykf_pah11_3 = np.log10(kf_pahfit['PAH 11.3 lum']/3.846e33)\n",
    "xkf_err_pah11_3 = kf_pahfit['lsf_err_up']\n",
    "ykf_err_pah11_3 = 0.434*kf_pahfit['PAH 11.3 lum err']/kf_pahfit['PAH 11.3 lum']\n",
    "\n",
    "lm = linmix.LinMix(x=xkf_pah11_3.values, y=ykf_pah11_3.values, xsig=xkf_err_pah11_3.values, ysig=ykf_err_pah11_3.values)\n",
    "lm.run_mcmc(silent=True)\n",
    "\n",
    "beta = np.median(lm.chain['beta'])\n",
    "beta_err = np.std(lm.chain['beta'])\n",
    "alpha = np.median(lm.chain['alpha'])\n",
    "alpha_err = np.std(lm.chain['alpha'])\n",
    "sigsqr = np.median(lm.chain['sigsqr'])\n",
    "sigsqr_err = np.std(lm.chain['sigsqr'])\n",
    "corr = np.median(lm.chain['corr'])\n",
    "corr_err = np.std(lm.chain['corr'])\n",
    "\n",
    "print 'beta =', beta, '+/-', beta_err\n",
    "print 'alpha =', alpha, '+/-', alpha_err\n",
    "print 'sigsqr =', sigsqr, '+/-', sigsqr_err\n",
    "print 'corr =', corr, '+/-', corr_err\n",
    "\n",
    "xfit_11_3_kf = np.arange(8.0, 12.0, 0.001)\n",
    "yfit_11_3_kf = np.zeros((len(lm.chain['beta']), len(xfit_11_3_kf)))\n",
    "\n",
    "for i in range(len(lm.chain['beta'])):\n",
    "    beta_i = lm.chain['beta'][i]\n",
    "    alpha_i = lm.chain['alpha'][i]\n",
    "    yfit_11_3_kf[i, :] = alpha_i + beta_i*xfit_11_3_kf\n",
    "\n",
    "\n",
    "yfit_11_3_kf_median = np.median(yfit_11_3_kf, axis=0)\n",
    "yfit_11_3_kf_upper95 = np.percentile(yfit_11_3_kf, axis=0, q=97.5)\n",
    "yfit_11_3_kf_lower95 = np.percentile(yfit_11_3_kf, axis=0, q=2.5)"
   ]
  },
  {
   "cell_type": "code",
   "execution_count": 17,
   "metadata": {
    "collapsed": false
   },
   "outputs": [
    {
     "name": "stdout",
     "output_type": "stream",
     "text": [
      "beta = 1.36465393875 +/- 0.127574977565\n",
      "alpha = -5.59105142098 +/- 1.3163163007\n",
      "sigsqr = 0.0741974882344 +/- 0.0314118622239\n",
      "corr = 0.933943410702 +/- 0.0319736052913\n"
     ]
    }
   ],
   "source": [
    "x_pah7_7 = df_lum['lsf'][both_detected_pah7_7 | lsf_only_pah7_7]\n",
    "y_pah7_7 = np.log10(df_lum['PAH 7.7'][both_detected_pah7_7| lsf_only_pah7_7]/3.846e33)\n",
    "y_pah7_7[lsf_only_pah7_7] = np.log10(3*df_lum['PAH 7.7 err'][lsf_only_pah7_7]/3.846e33)\n",
    "xerr_pah7_7 = df_lum['lsf_err_upper'][both_detected_pah7_7 | lsf_only_pah7_7]\n",
    "yerr_pah7_7 = 0.434*df_lum['PAH 7.7 err'][both_detected_pah7_7 | lsf_only_pah7_7]/df_lum['PAH 7.7'][both_detected_pah7_7 | lsf_only_pah7_7]\n",
    "cens_pah7_7 = pd.Series(index=x_pah7_7.index)\n",
    "cens_pah7_7[both_detected_pah7_7] = 1\n",
    "cens_pah7_7[lsf_only_pah7_7] = 0\n",
    "\n",
    "remove_srcs = ['CenA', 'M106']\n",
    "x_pah7_7 = x_pah7_7.drop(remove_srcs)\n",
    "y_pah7_7 = y_pah7_7.drop(remove_srcs)\n",
    "cens_pah7_7 = cens_pah7_7.drop(remove_srcs)\n",
    "xerr_pah7_7 = xerr_pah7_7.drop(remove_srcs)\n",
    "yerr_pah7_7 = yerr_pah7_7.drop(remove_srcs)\n",
    "\n",
    "lm = linmix.LinMix(x=x_pah7_7.values, y=y_pah7_7.values, xsig=xerr_pah7_7.values, ysig=yerr_pah7_7.values, delta=cens_pah7_7.values)\n",
    "lm.run_mcmc(silent=True)\n",
    "\n",
    "beta = np.median(lm.chain['beta'])\n",
    "beta_err = np.std(lm.chain['beta'])\n",
    "alpha = np.median(lm.chain['alpha'])\n",
    "alpha_err = np.std(lm.chain['alpha'])\n",
    "sigsqr = np.median(lm.chain['sigsqr'])\n",
    "sigsqr_err = np.std(lm.chain['sigsqr'])\n",
    "corr = np.median(lm.chain['corr'])\n",
    "corr_err = np.std(lm.chain['corr'])\n",
    "\n",
    "print 'beta =', beta, '+/-', beta_err\n",
    "print 'alpha =', alpha, '+/-', alpha_err\n",
    "print 'sigsqr =', sigsqr, '+/-', sigsqr_err\n",
    "print 'corr =', corr, '+/-', corr_err\n",
    "\n",
    "xfit_7_7_bat = np.arange(8.0, 12.0, 0.001)\n",
    "yfit_7_7_bat = np.zeros((len(lm.chain['beta']), len(xfit_7_7_bat)))\n",
    "\n",
    "for i in range(len(lm.chain['beta'])):\n",
    "    beta_i = lm.chain['beta'][i]\n",
    "    alpha_i = lm.chain['alpha'][i]\n",
    "    yfit_7_7_bat[i, :] = alpha_i + beta_i*xfit_7_7_bat\n",
    "\n",
    "\n",
    "yfit_7_7_bat_median = np.median(yfit_7_7_bat, axis=0)\n",
    "yfit_7_7_bat_upper95 = np.percentile(yfit_7_7_bat, axis=0, q=97.5)\n",
    "yfit_7_7_bat_lower95 = np.percentile(yfit_7_7_bat, axis=0, q=2.5)"
   ]
  },
  {
   "cell_type": "code",
   "execution_count": 18,
   "metadata": {
    "collapsed": false,
    "scrolled": true
   },
   "outputs": [
    {
     "name": "stdout",
     "output_type": "stream",
     "text": [
      "beta = 1.10626521387 +/- 0.160200380125\n",
      "alpha = -2.61131348125 +/- 1.58038529024\n",
      "sigsqr = 0.199747831937 +/- 0.0676593653064\n",
      "corr = 0.817036814527 +/- 0.076589372635\n"
     ]
    }
   ],
   "source": [
    "xkf_pah7_7 = kf_pahfit['lsf']\n",
    "ykf_pah7_7 = np.log10(kf_pahfit['PAH 7.7 lum']/3.846e33)\n",
    "xkf_err_pah7_7 = kf_pahfit['lsf_err_up']\n",
    "ykf_err_pah7_7 = 0.434*kf_pahfit['PAH 7.7 lum err']/kf_pahfit['PAH 7.7 lum']\n",
    "\n",
    "xkf_pah7_7 = xkf_pah7_7.drop(['NGC1316', 'NGC2841'])\n",
    "ykf_pah7_7 = ykf_pah7_7.drop(['NGC1316', 'NGC2841'])\n",
    "xkf_err_pah7_7 = xkf_err_pah7_7.drop(['NGC1316', 'NGC2841'])\n",
    "ykf_err_pah7_7 = ykf_err_pah7_7.drop(['NGC1316', 'NGC2841'])\n",
    "\n",
    "lm = linmix.LinMix(x=xkf_pah7_7.values, y=ykf_pah7_7.values, xsig=xkf_err_pah7_7.values, ysig=ykf_err_pah7_7.values)\n",
    "lm.run_mcmc(silent=True)\n",
    "\n",
    "beta = np.median(lm.chain['beta'])\n",
    "beta_err = np.std(lm.chain['beta'])\n",
    "alpha = np.median(lm.chain['alpha'])\n",
    "alpha_err = np.std(lm.chain['alpha'])\n",
    "sigsqr = np.median(lm.chain['sigsqr'])\n",
    "sigsqr_err = np.std(lm.chain['sigsqr'])\n",
    "corr = np.median(lm.chain['corr'])\n",
    "corr_err = np.std(lm.chain['corr'])\n",
    "\n",
    "print 'beta =', beta, '+/-', beta_err\n",
    "print 'alpha =', alpha, '+/-', alpha_err\n",
    "print 'sigsqr =', sigsqr, '+/-', sigsqr_err\n",
    "print 'corr =', corr, '+/-', corr_err\n",
    "\n",
    "xfit_7_7_kf = np.arange(8.0, 12.0, 0.001)\n",
    "yfit_7_7_kf = np.zeros((len(lm.chain['beta']), len(xfit_7_7_kf)))\n",
    "\n",
    "for i in range(len(lm.chain['beta'])):\n",
    "    beta_i = lm.chain['beta'][i]\n",
    "    alpha_i = lm.chain['alpha'][i]\n",
    "    yfit_7_7_kf[i, :] = alpha_i + beta_i*xfit_7_7_kf\n",
    "\n",
    "\n",
    "yfit_7_7_kf_median = np.median(yfit_7_7_kf, axis=0)\n",
    "yfit_7_7_kf_upper95 = np.percentile(yfit_7_7_kf, axis=0, q=97.5)\n",
    "yfit_7_7_kf_lower95 = np.percentile(yfit_7_7_kf, axis=0, q=2.5)"
   ]
  },
  {
   "cell_type": "code",
   "execution_count": 21,
   "metadata": {
    "collapsed": false
   },
   "outputs": [
    {
     "data": {
      "text/plain": [
       "104"
      ]
     },
     "execution_count": 21,
     "metadata": {},
     "output_type": "execute_result"
    }
   ],
   "source": [
    "len(x_pah7_7)"
   ]
  }
 ],
 "metadata": {
  "kernelspec": {
   "display_name": "Python 2",
   "language": "python",
   "name": "python2"
  },
  "language_info": {
   "codemirror_mode": {
    "name": "ipython",
    "version": 2
   },
   "file_extension": ".py",
   "mimetype": "text/x-python",
   "name": "python",
   "nbconvert_exporter": "python",
   "pygments_lexer": "ipython2",
   "version": "2.7.11"
  }
 },
 "nbformat": 4,
 "nbformat_minor": 0
}
