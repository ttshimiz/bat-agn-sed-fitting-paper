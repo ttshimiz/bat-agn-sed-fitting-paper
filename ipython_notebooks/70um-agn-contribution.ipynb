{
 "cells": [
  {
   "cell_type": "code",
   "execution_count": 1,
   "metadata": {
    "collapsed": false
   },
   "outputs": [
    {
     "name": "stderr",
     "output_type": "stream",
     "text": [
      "/Users/ttshimiz/anaconda/lib/python2.7/site-packages/matplotlib/font_manager.py:273: UserWarning: Matplotlib is building the font cache using fc-list. This may take a moment.\n",
      "  warnings.warn('Matplotlib is building the font cache using fc-list. This may take a moment.')\n"
     ]
    }
   ],
   "source": [
    "# Standard module imports\n",
    "import numpy as np\n",
    "import scipy.stats as stats\n",
    "import pandas as pd\n",
    "import sys\n",
    "%matplotlib inline\n",
    "\n",
    "# Useful directories\n",
    "gh_dir = '/Users/ttshimiz/Github/'\n",
    "sed_fit_dir = gh_dir + 'bat-agn-sed-fitting/'\n",
    "casey_dir = sed_fit_dir + 'analysis/casey_bayes_results/'\n",
    "data_dir = gh_dir + 'bat-data/'"
   ]
  },
  {
   "cell_type": "code",
   "execution_count": 8,
   "metadata": {
    "collapsed": false
   },
   "outputs": [],
   "source": [
    "# Setup the figures\n",
    "execfile('../code/figure-setup.py')"
   ]
  },
  {
   "cell_type": "code",
   "execution_count": 37,
   "metadata": {
    "collapsed": false
   },
   "outputs": [],
   "source": [
    "# Upload the results of the 70 micron AGN contribution\n",
    "agn_frac_pacs = pd.read_csv(casey_dir+'beta_fixed_2_wturn_gaussianPrior/PACS_AGN_contribution.csv', index_col=0)\n",
    "\n",
    "# Upload the fitting results for the C12 model\n",
    "bat_c12 = pd.read_csv('../data/bat-agn-c12-params.csv', index_col=0)\n",
    "\n",
    "# Remove 'bad' sources\n",
    "radio_loud_sources = np.array(['PICTORA', '3C111.0', '3C120',\n",
    "                              '2MASXJ23272195+1524375', 'PKS2331-240',\n",
    "                              'HB890241+622', 'Mrk3'])\n",
    "bat_c12 = bat_c12.drop(radio_loud_sources)\n",
    "agn_frac_pacs = agn_frac_pacs.drop(radio_loud_sources[:-1])\n",
    "\n",
    "bat_c12.loc['UGC06728', 'lir_sf'] += 2.0\n",
    "bat_c12.loc['UGC06728', 'mdust'] += 2.0\n",
    "\n",
    "# Upload the info for the BAT AGN (i.e. AGN type, luminosity distance, redshift, etc)\n",
    "bat_info = pd.read_csv(data_dir+'bat_info.csv', index_col=0)\n",
    "bat_info.loc['UGC06728', 'Dist_[Mpc]'] = 292.0\n",
    "\n",
    "bat_flux = pd.read_csv(data_dir+'bat_bat_flux.csv', index_col=0)\n",
    "bat_flux['bat_flux_err_low'] = bat_flux['BAT_flux'] - bat_flux['BAT_flux_90_low']\n",
    "bat_flux['bat_flux_err_high'] = bat_flux['BAT_flux_90_high'] - bat_flux['BAT_flux']\n",
    "bat_flux['lbat'] = np.log10(4*np.pi*(bat_info['Dist_[Mpc]']*10**6*3.09e18)**2*bat_flux['BAT_flux']*10**(-12))\n",
    "bat_flux['bat_err'] = np.max(np.vstack([bat_flux['bat_flux_err_low'], bat_flux['bat_flux_err_high']]), axis=0)\n",
    "bat_flux['lbat_err'] = 0.434*4*np.pi*(bat_info['Dist_[Mpc]']*10**6*3.09e18)**2*bat_flux['bat_err']*10**(-12)/(10**bat_flux['lbat'])\n",
    "bat_flux['lbat_flag'] = pd.Series(index=bat_flux.index)\n",
    "bat_flux.loc[bat_flux['BAT_flux_90_high'] == 0, 'lbat_flag'] = 0\n",
    "bat_flux.loc[bat_flux['BAT_flux_90_low'] != 0, 'lbat_flag'] = 1\n",
    "bat_flux.loc[bat_flux['lbat_flag'] == 0, 'lbat_err'] = 0\n",
    "\n",
    "agn_frac_pacs['lbat'] = bat_flux['lbat']\n",
    "agn_frac_pacs['lsf'] = bat_c12['lir_sf']\n",
    "agn_frac_pacs['lagn'] = bat_c12['lir_agn']"
   ]
  },
  {
   "cell_type": "code",
   "execution_count": 57,
   "metadata": {
    "collapsed": false
   },
   "outputs": [
    {
     "data": {
      "image/png": "[encoded data removed]",
      "text/plain": [
       "<matplotlib.figure.Figure at 0x11a1f0850>"
      ]
     },
     "metadata": {},
     "output_type": "display_data"
    }
   ],
   "source": [
    "fig = plt.figure(figsize=(1.1*textwidth, 1.1*3./8.*textwidth))\n",
    "\n",
    "ax1 = fig.add_subplot(121)\n",
    "sn.distplot(agn_frac_pacs[r'agn_frac_70'], kde=False)\n",
    "ax1.set_xlim(0,1)\n",
    "ax1.set_xlabel(r'$f_{\\rm AGN,70}$')\n",
    "ax1.set_ylabel('Fraction of Sample')\n",
    "ax1.yaxis.set_ticklabels(['0', '0.07', '0.15', '0.22', '0.30', '0.37'])\n",
    "\n",
    "ax2 = fig.add_subplot(122)\n",
    "ax2.plot(agn_frac_pacs['lbat'], agn_frac_pacs[r'agn_frac_70'], color='grey', ms=4, alpha=0.4, ls='None', marker='o')\n",
    "sn.regplot(agn_frac_pacs['lbat'], agn_frac_pacs[r'agn_frac_70'], x_bins=np.arange(41.5, 44.5, 0.5), fit_reg=False)\n",
    "ax2.set_xlabel(r'$L_{\\rm 14-195\\,keV}$')\n",
    "ax2.set_ylabel(r'$f_{\\rm AGN,70}$')\n",
    "sn.despine()\n",
    "fig.subplots_adjust(wspace=0.3)\n",
    "\n",
    "fig.savefig(figsave_dir+'pacs_AGN_contribution.pdf', bbox_inches='tight')"
   ]
  },
  {
   "cell_type": "code",
   "execution_count": 53,
   "metadata": {
    "collapsed": false
   },
   "outputs": [
    {
     "data": {
      "text/plain": [
       "array([ 0.        ,  0.07380074,  0.14760148,  0.22140221,  0.29520295,\n",
       "        0.36900369])"
      ]
     },
     "execution_count": 53,
     "metadata": {},
     "output_type": "execute_result"
    }
   ],
   "source": [
    "np.arange(0, 120, 20)/np.float(len(agn_frac_pacs))"
   ]
  }
 ],
 "metadata": {
  "kernelspec": {
   "display_name": "Python 2",
   "language": "python",
   "name": "python2"
  },
  "language_info": {
   "codemirror_mode": {
    "name": "ipython",
    "version": 2
   },
   "file_extension": ".py",
   "mimetype": "text/x-python",
   "name": "python",
   "nbconvert_exporter": "python",
   "pygments_lexer": "ipython2",
   "version": "2.7.11"
  }
 },
 "nbformat": 4,
 "nbformat_minor": 0
}
