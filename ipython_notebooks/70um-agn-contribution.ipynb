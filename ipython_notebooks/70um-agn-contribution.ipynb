{
 "cells": [
  {
   "cell_type": "code",
   "execution_count": 1,
   "metadata": {
    "collapsed": false
   },
   "outputs": [],
   "source": [
    "# Standard module imports\n",
    "import numpy as np\n",
    "import scipy.stats as stats\n",
    "import pandas as pd\n",
    "import sys\n",
    "%matplotlib inline\n",
    "\n",
    "# Useful directories\n",
    "gh_dir = '/Users/ttshimiz/Github/'\n",
    "sed_fit_dir = gh_dir + 'bat-agn-sed-fitting/'\n",
    "casey_dir = sed_fit_dir + 'analysis/casey_bayes_results/'\n",
    "data_dir = gh_dir + 'bat-data/'"
   ]
  },
  {
   "cell_type": "code",
   "execution_count": 2,
   "metadata": {
    "collapsed": false
   },
   "outputs": [
    {
     "name": "stderr",
     "output_type": "stream",
     "text": [
      ":0: FutureWarning: IPython widgets are experimental and may change in the future.\n"
     ]
    }
   ],
   "source": [
    "# Setup the figures\n",
    "execfile('../code/figure-setup.py')"
   ]
  },
  {
   "cell_type": "code",
   "execution_count": 16,
   "metadata": {
    "collapsed": false
   },
   "outputs": [],
   "source": [
    "# Upload the results of the 70 micron AGN contribution\n",
    "agn_frac_pacs = pd.read_csv(casey_dir+'beta_fixed_2_wturn_gaussianPrior/PACS_AGN_contribution.csv', index_col=0)\n",
    "agn_frac_pacs[agn_frac_pacs['agn_frac_70'] < 0] = 0\n",
    "# Upload the fitting results for the C12 model\n",
    "bat_c12 = pd.read_csv('../data/bat-agn-c12-params.csv', index_col=0)\n",
    "\n",
    "# Remove 'bad' sources\n",
    "radio_loud_sources = np.array(['PICTORA', '3C111.0', '3C120',\n",
    "                              '2MASXJ23272195+1524375', 'PKS2331-240',\n",
    "                              'HB890241+622', 'Mrk3'])\n",
    "bat_c12 = bat_c12.drop(radio_loud_sources)\n",
    "agn_frac_pacs = agn_frac_pacs.drop(radio_loud_sources[:-1])\n",
    "\n",
    "#bat_c12.loc['UGC06728', 'lir_sf'] += 2.0\n",
    "#bat_c12.loc['UGC06728', 'mdust'] += 2.0\n",
    "\n",
    "# Upload the info for the BAT AGN (i.e. AGN type, luminosity distance, redshift, etc)\n",
    "bat_info = pd.read_csv(data_dir+'bat_info.csv', index_col=0)\n",
    "\n",
    "bat_flux = pd.read_csv(data_dir+'bat_bat_flux.csv', index_col=0)\n",
    "bat_flux['bat_flux_err_low'] = bat_flux['BAT_flux'] - bat_flux['BAT_flux_90_low']\n",
    "bat_flux['bat_flux_err_high'] = bat_flux['BAT_flux_90_high'] - bat_flux['BAT_flux']\n",
    "bat_flux['lbat'] = np.log10(4*np.pi*(bat_info['Dist_[Mpc]']*10**6*3.09e18)**2*bat_flux['BAT_flux']*10**(-12))\n",
    "bat_flux['bat_err'] = np.max(np.vstack([bat_flux['bat_flux_err_low'], bat_flux['bat_flux_err_high']]), axis=0)\n",
    "bat_flux['lbat_err'] = 0.434*4*np.pi*(bat_info['Dist_[Mpc]']*10**6*3.09e18)**2*bat_flux['bat_err']*10**(-12)/(10**bat_flux['lbat'])\n",
    "bat_flux['lbat_flag'] = pd.Series(index=bat_flux.index)\n",
    "bat_flux.loc[bat_flux['BAT_flux_90_high'] == 0, 'lbat_flag'] = 0\n",
    "bat_flux.loc[bat_flux['BAT_flux_90_low'] != 0, 'lbat_flag'] = 1\n",
    "bat_flux.loc[bat_flux['lbat_flag'] == 0, 'lbat_err'] = 0\n",
    "\n",
    "agn_frac_pacs['lbat'] = bat_flux['lbat']\n",
    "agn_frac_pacs['lsf'] = bat_c12['lir_sf']\n",
    "agn_frac_pacs['lagn'] = bat_c12['lir_agn']"
   ]
  },
  {
   "cell_type": "code",
   "execution_count": 21,
   "metadata": {
    "collapsed": false
   },
   "outputs": [
    {
     "data": {
      "image/png": "[encoded data removed]",
      "text/plain": [
       "<matplotlib.figure.Figure at 0x1130a2950>"
      ]
     },
     "metadata": {},
     "output_type": "display_data"
    }
   ],
   "source": [
    "fig = plt.figure(figsize=(1.1*textwidth, 1.1*3./8.*textwidth))\n",
    "\n",
    "ax1 = fig.add_subplot(121)\n",
    "sn.distplot(agn_frac_pacs[r'agn_frac_70'], kde=False)\n",
    "#ax1.set_xlim(0,1)\n",
    "ax1.set_xlabel(r'$f_{\\rm AGN,70}$')\n",
    "ax1.set_ylabel('Fraction of Sample')\n",
    "ax1.yaxis.set_ticklabels(['0', '0.07', '0.15', '0.22', '0.30', '0.37'])\n",
    "\n",
    "ax2 = fig.add_subplot(122)\n",
    "ax2.plot(agn_frac_pacs['lbat'], agn_frac_pacs[r'agn_frac_70'], color='grey', ms=4, alpha=0.4, ls='None', marker='o')\n",
    "sn.regplot(agn_frac_pacs['lbat'], agn_frac_pacs[r'agn_frac_70'], x_bins=np.arange(41.5, 44.5, 0.5), fit_reg=False)\n",
    "ax2.set_xlabel(r'$L_{\\rm 14-195\\,keV}$')\n",
    "ax2.set_ylabel(r'$f_{\\rm AGN,70}$')\n",
    "sn.despine()\n",
    "fig.subplots_adjust(wspace=0.3)\n",
    "\n",
    "fig.savefig(figsave_dir+'pacs_AGN_contribution.pdf', bbox_inches='tight')"
   ]
  },
  {
   "cell_type": "code",
   "execution_count": 24,
   "metadata": {
    "collapsed": false
   },
   "outputs": [
    {
     "data": {
      "text/plain": [
       "65"
      ]
     },
     "execution_count": 24,
     "metadata": {},
     "output_type": "execute_result"
    }
   ],
   "source": [
    "sum(agn_frac_pacs['agn_frac_70'] > 0.5)"
   ]
  },
  {
   "cell_type": "code",
   "execution_count": 25,
   "metadata": {
    "collapsed": false
   },
   "outputs": [
    {
     "data": {
      "text/plain": [
       "132"
      ]
     },
     "execution_count": 25,
     "metadata": {},
     "output_type": "execute_result"
    }
   ],
   "source": [
    "sum(agn_frac_pacs['agn_frac_70'] < 0.2)"
   ]
  },
  {
   "cell_type": "code",
   "execution_count": 20,
   "metadata": {
    "collapsed": false
   },
   "outputs": [
    {
     "data": {
      "text/plain": [
       "array([ 0.07380074,  0.14760148,  0.22140221,  0.29520295,  0.36900369])"
      ]
     },
     "execution_count": 20,
     "metadata": {},
     "output_type": "execute_result"
    }
   ],
   "source": [
    "np.array([20., 40., 60., 80., 100.])/len(agn_frac_pacs)"
   ]
  },
  {
   "cell_type": "code",
   "execution_count": 26,
   "metadata": {
    "collapsed": false
   },
   "outputs": [
    {
     "data": {
      "text/plain": [
       "<matplotlib.axes._subplots.AxesSubplot at 0x110152050>"
      ]
     },
     "execution_count": 26,
     "metadata": {},
     "output_type": "execute_result"
    },
    {
     "data": {
      "image/png": "[encoded data removed]",
      "text/plain": [
       "<matplotlib.figure.Figure at 0x1101520d0>"
      ]
     },
     "metadata": {},
     "output_type": "display_data"
    }
   ],
   "source": [
    "sn.kdeplot(agn_frac_pacs['agn_frac_70_84'] - agn_frac_pacs['agn_frac_70'])"
   ]
  },
  {
   "cell_type": "code",
   "execution_count": 27,
   "metadata": {
    "collapsed": false
   },
   "outputs": [
    {
     "data": {
      "text/plain": [
       "0.1762529190998"
      ]
     },
     "execution_count": 27,
     "metadata": {},
     "output_type": "execute_result"
    }
   ],
   "source": [
    "(agn_frac_pacs['agn_frac_70_84'] - agn_frac_pacs['agn_frac_70']).median()"
   ]
  },
  {
   "cell_type": "code",
   "execution_count": 28,
   "metadata": {
    "collapsed": false
   },
   "outputs": [
    {
     "data": {
      "text/plain": [
       "0.13770861357533"
      ]
     },
     "execution_count": 28,
     "metadata": {},
     "output_type": "execute_result"
    }
   ],
   "source": [
    "(agn_frac_pacs['agn_frac_70'] - agn_frac_pacs['agn_frac_70_16']).median()"
   ]
  },
  {
   "cell_type": "code",
   "execution_count": 29,
   "metadata": {
    "collapsed": false
   },
   "outputs": [
    {
     "data": {
      "text/plain": [
       "Name\n",
       "MCG-05-23-016            -0.000006\n",
       "ESO103-035               -0.000005\n",
       "Mrk841                   -0.000003\n",
       "MCG-03-34-064            -0.000003\n",
       "Mrk477                   -0.000003\n",
       "MCG-06-30-015            -0.000003\n",
       "NGC3516                  -0.000003\n",
       "VIIZw073                 -0.000002\n",
       "Mrk509                   -0.000002\n",
       "IRAS05218-1212           -0.000002\n",
       "NGC6552                  -0.000002\n",
       "LEDA38038                -0.000002\n",
       "Fairall9                 -0.000002\n",
       "IRAS03219+4031           -0.000002\n",
       "NGC3281                  -0.000002\n",
       "Mrk1210                  -0.000002\n",
       "WKK1263                  -0.000002\n",
       "NGC235A                  -0.000002\n",
       "2MASXJ03305218+0538253   -0.000002\n",
       "2MASXJ19373299-0613046   -0.000002\n",
       "NGC1125                  -0.000002\n",
       "NGC4102                  -0.000002\n",
       "IC1816                   -0.000002\n",
       "ESO362-18                -0.000002\n",
       "IISZ010                  -0.000002\n",
       "UGC07064                 -0.000002\n",
       "IC2637                   -0.000001\n",
       "CGCG319-007              -0.000001\n",
       "ESO509-IG066NED01        -0.000001\n",
       "NGC513                   -0.000001\n",
       "                            ...   \n",
       "LCRSB034324.7-394349      0.002508\n",
       "MCG+01-57-016             0.002538\n",
       "CGCG300-062               0.002621\n",
       "MCG+12-10-067             0.002627\n",
       "ESO198-024                0.003047\n",
       "2MASXJ09043699+5536025    0.003461\n",
       "2MASXJ05020903+0331499    0.003568\n",
       "CGCG341-006               0.003665\n",
       "MCG-02-12-050             0.003712\n",
       "NGC1194                   0.004029\n",
       "Mrk10                     0.004257\n",
       "IRAS05589+2828            0.004454\n",
       "UGC12237                  0.005136\n",
       "NGC2885                   0.005250\n",
       "NGC424                    0.005577\n",
       "ESO490-IG026              0.005783\n",
       "2MASXJ21090996-0940147    0.005923\n",
       "MCG-01-40-001             0.006172\n",
       "KUG1208+386               0.006546\n",
       "UGC05881                  0.008033\n",
       "CGCG102-048               0.008438\n",
       "NGC1052                   0.008654\n",
       "NGC4507                   0.009194\n",
       "NGC5610                   0.009787\n",
       "CGCG535-012               0.011644\n",
       "MCG-02-08-014             0.012492\n",
       "Fairall51                 0.013083\n",
       "NGC3431                   0.013651\n",
       "ESO297-018                0.013673\n",
       "MCG+02-57-002             0.042974\n",
       "Name: agn_frac_160, dtype: float64"
      ]
     },
     "execution_count": 29,
     "metadata": {},
     "output_type": "execute_result"
    }
   ],
   "source": [
    "agn_frac_pacs['agn_frac_160'].sort_values()"
   ]
  }
 ],
 "metadata": {
  "kernelspec": {
   "display_name": "Python 2",
   "language": "python",
   "name": "python2"
  },
  "language_info": {
   "codemirror_mode": {
    "name": "ipython",
    "version": 2
   },
   "file_extension": ".py",
   "mimetype": "text/x-python",
   "name": "python",
   "nbconvert_exporter": "python",
   "pygments_lexer": "ipython2",
   "version": "2.7.11"
  }
 },
 "nbformat": 4,
 "nbformat_minor": 0
}
