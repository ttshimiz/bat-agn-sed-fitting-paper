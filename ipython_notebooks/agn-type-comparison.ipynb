{
 "cells": [
  {
   "cell_type": "code",
   "execution_count": 1,
   "metadata": {
    "collapsed": false
   },
   "outputs": [
    {
     "name": "stderr",
     "output_type": "stream",
     "text": [
      "/Users/ttshimiz/anaconda/lib/python2.7/site-packages/matplotlib/font_manager.py:273: UserWarning: Matplotlib is building the font cache using fc-list. This may take a moment.\n",
      "  warnings.warn('Matplotlib is building the font cache using fc-list. This may take a moment.')\n"
     ]
    }
   ],
   "source": [
    "# Standard module imports\n",
    "import numpy as np\n",
    "import scipy.stats as stats\n",
    "import pandas as pd\n",
    "import sys\n",
    "import pickle\n",
    "%matplotlib inline\n",
    "\n",
    "# Useful directories\n",
    "gh_dir = '/Users/ttshimiz/Github/'\n",
    "sed_fit_dir = gh_dir + 'bat-agn-sed-fitting/'\n",
    "casey_dir = sed_fit_dir + 'analysis/casey_bayes_results/'\n",
    "data_dir = gh_dir + 'bat-data/'\n",
    "\n",
    "sys.path.append(gh_dir+'asurv/')\n",
    "\n",
    "import asurv"
   ]
  },
  {
   "cell_type": "code",
   "execution_count": 2,
   "metadata": {
    "collapsed": false
   },
   "outputs": [
    {
     "name": "stderr",
     "output_type": "stream",
     "text": [
      ":0: FutureWarning: IPython widgets are experimental and may change in the future.\n"
     ]
    }
   ],
   "source": [
    "# Setup the figures\n",
    "execfile('../code/figure-setup.py')"
   ]
  },
  {
   "cell_type": "markdown",
   "metadata": {},
   "source": [
    "##Get all of the data for the BAT AGN"
   ]
  },
  {
   "cell_type": "code",
   "execution_count": 384,
   "metadata": {
    "collapsed": false
   },
   "outputs": [],
   "source": [
    "# Upload the fitting results for the C12 model\n",
    "bat_c12 = pd.read_csv('../data/bat-agn-c12-params.csv', index_col=0)\n",
    "\n",
    "# Remove 'bad' sources\n",
    "radio_loud_sources = np.array(['PICTORA', '3C111.0', '3C120',\n",
    "                              '2MASXJ23272195+1524375', 'PKS2331-240',\n",
    "                              'HB890241+622', 'Mrk3'])\n",
    "bat_c12 = bat_c12.drop(radio_loud_sources)\n",
    "bat_c12.loc['UGC06728', 'lir_sf'] += 2.0\n",
    "bat_c12.loc['UGC06728', 'mdust'] += 2.0\n",
    "\n",
    "\n",
    "bat_decompir = pd.read_csv('/Users/ttshimiz/Github/bat-agn-sed-fitting/analysis/decompir_results/sb+arp220/final_fit_results_decompir_sb_and_arp220_mle.csv', index_col=0)\n",
    "bat_decompir_uncertain = pd.read_csv('/Users/ttshimiz/Github/bat-agn-sed-fitting/analysis/decompir_results/sb+arp220/final_fit_results_decompir_sb_and_arp220_uncertainties.csv', index_col=0)\n",
    "bat_decompir = bat_decompir.join(bat_decompir_uncertain)\n",
    "bat_decompir_undetected = pd.read_csv(sed_fit_dir+'analysis/decompir_results/sb+arp220/final_fit_results_decompir_sb_and_arp220_undetected.csv', index_col=0)\n",
    "bat_decompir.drop(radio_loud_sources)\n",
    "\n",
    "bat_c12['agn_frac_decompir'] = bat_decompir['agn_frac']\n",
    "\n",
    "# Upload the info for the BAT AGN (i.e. AGN type, luminosity distance, redshift, etc)\n",
    "bat_info = pd.read_csv(data_dir+'bat_info.csv', index_col=0)\n",
    "bat_info.loc['UGC06728', 'Dist_[Mpc]'] = 292.0\n",
    "\n",
    "# We need to calculate stellar masses for the BAT AGN using the method in Zibetti et al 2009 since this method was used\n",
    "# for both the KINGFISH and HRS galaxies. I use the AGN subtracted SDSS photometry from Koss et al 2011 and the g-i color\n",
    "# relation for the stellar masses.\n",
    "bat_koss = pd.read_csv(data_dir+'bat_koss11.csv', index_col=0)\n",
    "bat_koss.loc[bat_koss['griz_cont']=='Y', 'SDSS_i_Koss'] = np.nan\n",
    "bi = 1.8e-10\n",
    "bat_koss['SDSS_i_flux'] = 3631.*(2*bi*np.sinh(-np.log(10)*bat_koss['SDSS_i_Koss']/2.5 - np.log(bi)))\n",
    "bat_koss['SDSS_Li'] = 4*np.pi*(bat_info['Dist_[Mpc]']*10**6*3.09e18)**2*(3.0e10/0.7480e-4)*bat_koss['SDSS_i_flux']*10**(-23)\n",
    "bat_c12['Mstar'] = (-0.963 + 1.032*(bat_koss['SDSS_g_Koss'] - bat_koss['SDSS_i_Koss']) +\n",
    "                     np.log10(bat_koss['SDSS_Li']/3.846e33))\n",
    "\n",
    "\n",
    "# Calculate the SFR\n",
    "bat_c12['sfr'] = bat_c12['lir_sf'] + np.log10(3.846e33) - np.log10(2.57e43)\n",
    "\n",
    "# Upload the 14-195 keV flux and calculate the luminosity\n",
    "bat_flux = pd.read_csv(data_dir+'bat_bat_flux.csv', index_col=0)\n",
    "bat_flux['LBAT'] = 4*np.pi*(bat_info['Dist_[Mpc]']*10**6*3.09e18)**2*bat_flux['BAT_flux']*10**(-12)\n",
    "\n",
    "bat_c12['LBAT'] = bat_flux['LBAT']"
   ]
  },
  {
   "cell_type": "markdown",
   "metadata": {},
   "source": [
    "Group the Type 1s and 2s together. We'll put anything with a classification of Type 1.5 or lower as a Sy 1. And everything above as a Sy 2."
   ]
  },
  {
   "cell_type": "code",
   "execution_count": 382,
   "metadata": {
    "collapsed": false
   },
   "outputs": [],
   "source": [
    "broad_type = pd.Series(index=bat_info.index, name='Sy_Type')\n",
    "\n",
    "for n in bat_info.index.values:\n",
    "\n",
    "    type_split = bat_info.loc[n, 'Seyfert_Type'].split()\n",
    "\n",
    "    if ((type_split[0] == 'Sy')):\n",
    "        if ((type_split[1] == '1') | (type_split[1] == '1.2') | (type_split[1] == '1.4') | (type_split[1] == '1.5')):\n",
    "\n",
    "            broad_type.loc[n] = 'Sy 1'\n",
    "            \n",
    "        elif ((type_split[1] == '2') | (type_split[1] == '1.8') | (type_split[1] == '1.9')):\n",
    "            \n",
    "            broad_type.loc[n] = 'Sy 2'\n",
    "    else:\n",
    "\n",
    "        if (type_split[0] == 'LINER'):\n",
    "            \n",
    "            broad_type.loc[n] = 'LINER'\n",
    "\n",
    "        elif (type_split[0] == 'AGN'):\n",
    "            \n",
    "            broad_type.loc[n] = 'AGN'"
   ]
  },
  {
   "cell_type": "code",
   "execution_count": 386,
   "metadata": {
    "collapsed": false
   },
   "outputs": [],
   "source": [
    "bat_c12['Sy_Type'] = broad_type\n",
    "bat_sy1 = bat_c12[bat_c12['Sy_Type'] == 'Sy 1']\n",
    "bat_sy2 = bat_c12[bat_c12['Sy_Type'] == 'Sy 2']"
   ]
  },
  {
   "cell_type": "markdown",
   "metadata": {},
   "source": [
    "## Dust Mass, Dust Temperature, and SFR Comparison"
   ]
  },
  {
   "cell_type": "code",
   "execution_count": 369,
   "metadata": {
    "collapsed": false
   },
   "outputs": [
    {
     "data": {
      "image/png": "[encoded data removed]",
      "text/plain": [
       "<matplotlib.figure.Figure at 0x11d802650>"
      ]
     },
     "metadata": {},
     "output_type": "display_data"
    }
   ],
   "source": [
    "fig = plt.figure(figsize=(1.2*textwidth, 1/2.*1.5*textwidth))\n",
    "ax1 = fig.add_subplot(231)\n",
    "sn.distplot(bat_sy1[bat_sy1['mdust_flag'] == 0]['mdust'].dropna(), label='Type 1', color='b', ax=ax1)\n",
    "sn.distplot(bat_sy2[bat_sy2['mdust_flag'] == 0]['mdust'].dropna(), label='Type 2', color='r', ax=ax1)\n",
    "plt.xlabel(r'$\\log\\,M_{\\rm dust}$ [M$_{\\odot}$]')\n",
    "plt.legend(loc='upper left', fontsize=6)\n",
    "sn.despine()\n",
    "\n",
    "ax2 = fig.add_subplot(232)\n",
    "sn.distplot(bat_sy1['tdust'].dropna(), label='Type 1', color='b', ax=ax2)\n",
    "sn.distplot(bat_sy2['tdust'].dropna(), label='Type 2', color='r', ax=ax2)\n",
    "plt.xlabel(r'$T_{\\rm dust}$ [K]')\n",
    "\n",
    "ax3 = fig.add_subplot(233)\n",
    "sn.distplot(bat_sy1[bat_sy1['lir_sf_flag'] == 0]['sfr'].dropna(), label='Type 1', color='b', ax=ax3)\n",
    "sn.distplot(bat_sy2[bat_sy2['lir_sf_flag'] == 0]['sfr'].dropna(), label='Type 2', color='r', ax=ax3)\n",
    "plt.xlabel(r'$\\log$ SFR [M$_{\\odot}$ yr$^{-1}$]')\n",
    "sn.despine()\n",
    "\n",
    "ax4 = fig.add_subplot(234)\n",
    "sn.distplot(bat_sy1['alpha'].dropna(), label='Type 1', color='b', ax=ax4)\n",
    "sn.distplot(bat_sy2['alpha'].dropna(), label='Type 2', color='r', ax=ax4)\n",
    "plt.xlabel(r'$\\alpha$')\n",
    "ax4.xaxis.set_ticks([0.0, 1.0, 2.0, 3.0, 4.0])\n",
    "ax4.xaxis.set_ticklabels(['0.0', '1.0', '2.0', '3.0', '4.0'])\n",
    "sn.despine()\n",
    "\n",
    "ax5 = fig.add_subplot(235)\n",
    "sn.distplot(bat_sy1['wturn'].dropna(), label='Type 1', color='b', ax=ax5)\n",
    "sn.distplot(bat_sy2['wturn'].dropna(), label='Type 2', color='r', ax=ax5)\n",
    "plt.xlabel(r'$\\lambda_{\\rm c}$ [$\\mu$m]')\n",
    "\n",
    "\n",
    "ax6 = fig.add_subplot(236)\n",
    "sn.distplot(bat_sy1[bat_sy1['lir_agn_flag'] == 0]['lir_agn'].dropna(), label='Type 1', color='b', ax=ax6)\n",
    "sn.distplot(bat_sy2[bat_sy2['lir_agn_flag'] == 0]['lir_agn'].dropna(), label='Type 2', color='r', ax=ax6)\n",
    "plt.xlabel(r'$\\log\\,L_{\\rm AGN,IR}$ [L$_{\\odot}$]')\n",
    "ax6.xaxis.set_ticks([7.0, 8.0, 9.0, 10.0, 11.0, 12.0])\n",
    "ax6.xaxis.set_ticklabels(['7.0', '8.0', '9.0', '10.0', '11.0', '12.0'])\n",
    "sn.despine()\n",
    "fig.subplots_adjust(wspace=0.3, hspace=0.4)\n",
    "\n",
    "#fig.savefig('../figures/agn_type_comparison.pdf', bbox_inches='tight')"
   ]
  },
  {
   "cell_type": "markdown",
   "metadata": {},
   "source": [
    "##Analysis with Undetected Sources"
   ]
  },
  {
   "cell_type": "code",
   "execution_count": 298,
   "metadata": {
    "collapsed": false
   },
   "outputs": [
    {
     "name": "stdout",
     "output_type": "stream",
     "text": [
      "Mean log(Dust Mass) with upper limits:\n",
      "Type 1:  7.29005464897 +/- 0.0575369523611\n",
      "Type 2:  7.37797467176 +/- 0.0430867113757\n"
     ]
    }
   ],
   "source": [
    "bat_mdust_type1_km = asurv.KaplanMeierDist(bat_sy1['mdust'][bat_sy1['mdust'] > 6.].values, bat_sy1['mdust_flag'][bat_sy1['mdust'] > 6.].values+1)\n",
    "\n",
    "bat_mdust_type2_km = asurv.KaplanMeierDist(bat_sy2['mdust'][bat_sy2['mdust'] > 6.].values, bat_sy2['mdust_flag'][bat_sy2['mdust'] > 6.].values+1)\n",
    "\n",
    "bat_mdust_type1_km_mean = bat_mdust_type1_km.km_mean()\n",
    "bat_mdust_type2_km_mean = bat_mdust_type2_km.km_mean()\n",
    "\n",
    "print 'Mean log(Dust Mass) with upper limits:'\n",
    "print 'Type 1: ', bat_mdust_type1_km_mean[0], '+/-', bat_mdust_type1_km_mean[1]\n",
    "print 'Type 2: ', bat_mdust_type2_km_mean[0], '+/-', bat_mdust_type2_km_mean[1]"
   ]
  },
  {
   "cell_type": "code",
   "execution_count": 230,
   "metadata": {
    "collapsed": false
   },
   "outputs": [
    {
     "name": "stdout",
     "output_type": "stream",
     "text": [
      "Mean Dust Temperature with upper limits:\n",
      "Type 1:  23.2111035457 +/- 0.407153254308\n",
      "Type 2:  23.5497664787 +/- 0.359356652203\n"
     ]
    }
   ],
   "source": [
    "bat_tdust_type1_km = asurv.KaplanMeierDist(bat_sy1['tdust'].dropna().values, cens=bat_sy1['tdust_flag'].dropna().values+1)\n",
    "\n",
    "bat_tdust_type2_km = asurv.KaplanMeierDist(bat_sy2['tdust'].dropna().values, cens=bat_sy2['tdust_flag'].dropna().values+1)\n",
    "\n",
    "bat_tdust_type1_km_mean = bat_tdust_type1_km.km_mean()\n",
    "bat_tdust_type2_km_mean = bat_tdust_type2_km.km_mean()\n",
    "\n",
    "print 'Mean Dust Temperature with upper limits:'\n",
    "print 'Type 1: ', bat_tdust_type1_km_mean[0], '+/-', bat_tdust_type1_km_mean[1]\n",
    "print 'Type 2: ', bat_tdust_type2_km_mean[0], '+/-', bat_tdust_type2_km_mean[1]"
   ]
  },
  {
   "cell_type": "code",
   "execution_count": 300,
   "metadata": {
    "collapsed": false
   },
   "outputs": [
    {
     "name": "stdout",
     "output_type": "stream",
     "text": [
      "Mean log(SFR) with upper limits:\n",
      "Type 1:  0.108646235903 +/- 0.052223234585\n",
      "Type 2:  0.226787613181 +/- 0.0430493927228\n"
     ]
    }
   ],
   "source": [
    "sy1_sfr_cens = bat_sy1['lir_sf_flag'][bat_sy1['sfr'] > -1.].values+1\n",
    "sy1_sfr_cens[sy1_sfr_cens == 2] = 1\n",
    "sy2_sfr_cens = bat_sy2['lir_sf_flag'][bat_sy2['sfr'] > -1.].values+1\n",
    "sy2_sfr_cens[sy2_sfr_cens == 2] = 1\n",
    "\n",
    "bat_sfr_type1_km = asurv.KaplanMeierDist(bat_sy1['sfr'][bat_sy1['sfr'] > -1.].values, sy1_sfr_cens)\n",
    "bat_sfr_type2_km = asurv.KaplanMeierDist(bat_sy2['sfr'][bat_sy2['sfr'] > -1.].values, sy2_sfr_cens)\n",
    "\n",
    "bat_sfr_type1_km_mean = bat_sfr_type1_km.km_mean()\n",
    "bat_sfr_type2_km_mean = bat_sfr_type2_km.km_mean()\n",
    "\n",
    "print 'Mean log(SFR) with upper limits:'\n",
    "print 'Type 1: ', bat_sfr_type1_km_mean[0], '+/-', bat_sfr_type1_km_mean[1]\n",
    "print 'Type 2: ', bat_sfr_type2_km_mean[0], '+/-', bat_sfr_type2_km_mean[1]"
   ]
  },
  {
   "cell_type": "code",
   "execution_count": 256,
   "metadata": {
    "collapsed": false
   },
   "outputs": [
    {
     "name": "stdout",
     "output_type": "stream",
     "text": [
      "Mean Powerlaw Slope with upper limits:\n",
      "Type 1:  1.46272070942 +/- 0.036150389416\n",
      "Type 2:  1.7259028214 +/- 0.043633859175\n"
     ]
    }
   ],
   "source": [
    "bat_alpha_type1_km = asurv.KaplanMeierDist(bat_sy1['alpha'].dropna().values, cens=bat_sy1['alpha_flag'].dropna().values+1)\n",
    "\n",
    "bat_alpha_type2_km = asurv.KaplanMeierDist(bat_sy2['alpha'].dropna().values, cens=bat_sy2['alpha_flag'].dropna().values+1)\n",
    "\n",
    "bat_alpha_type1_km_mean = bat_alpha_type1_km.km_mean()\n",
    "bat_alpha_type2_km_mean = bat_alpha_type2_km.km_mean()\n",
    "\n",
    "print 'Mean Powerlaw Slope with upper limits:'\n",
    "print 'Type 1: ', bat_alpha_type1_km_mean[0], '+/-', bat_alpha_type1_km_mean[1]\n",
    "print 'Type 2: ', bat_alpha_type2_km_mean[0], '+/-', bat_alpha_type2_km_mean[1]"
   ]
  },
  {
   "cell_type": "code",
   "execution_count": 257,
   "metadata": {
    "collapsed": false
   },
   "outputs": [
    {
     "name": "stdout",
     "output_type": "stream",
     "text": [
      "Mean Turnover Wavelength with upper limits:\n",
      "Type 1:  48.7416218439 +/- 0.750857277409\n",
      "Type 2:  49.382859506 +/- 0.743958078702\n"
     ]
    }
   ],
   "source": [
    "bat_wturn_type1_km = asurv.KaplanMeierDist(bat_sy1['wturn'].dropna().values, cens=bat_sy1['wturn_flag'].dropna().values+1)\n",
    "\n",
    "bat_wturn_type2_km = asurv.KaplanMeierDist(bat_sy2['wturn'].dropna().values, cens=bat_sy2['wturn_flag'].dropna().values+1)\n",
    "\n",
    "bat_wturn_type1_km_mean = bat_wturn_type1_km.km_mean()\n",
    "bat_wturn_type2_km_mean = bat_wturn_type2_km.km_mean()\n",
    "\n",
    "print 'Mean Turnover Wavelength with upper limits:'\n",
    "print 'Type 1: ', bat_wturn_type1_km_mean[0], '+/-', bat_wturn_type1_km_mean[1]\n",
    "print 'Type 2: ', bat_wturn_type2_km_mean[0], '+/-', bat_wturn_type2_km_mean[1]"
   ]
  },
  {
   "cell_type": "code",
   "execution_count": 260,
   "metadata": {
    "collapsed": false
   },
   "outputs": [
    {
     "name": "stdout",
     "output_type": "stream",
     "text": [
      "Mean log(LAGNIR) with upper limits:\n",
      "Type 1:  10.0002897863 +/- 0.0568139516916\n",
      "Type 2:  9.708583055 +/- 0.0672669911676\n"
     ]
    }
   ],
   "source": [
    "sy1_lir_agn_cens = bat_sy1['lir_agn_flag'].values+1\n",
    "sy1_lir_agn_cens[sy1_lir_agn_cens == 2] = 1\n",
    "sy2_lir_agn_cens = bat_sy2['lir_agn_flag'].values+1\n",
    "sy2_lir_agn_cens[sy2_lir_agn_cens == 2] = 1\n",
    "\n",
    "bat_lir_agn_type1_km = asurv.KaplanMeierDist(bat_sy1['lir_agn'].values, sy1_lir_agn_cens)\n",
    "bat_lir_agn_type2_km = asurv.KaplanMeierDist(bat_sy2['lir_agn'].values, sy2_lir_agn_cens)\n",
    "\n",
    "bat_lir_agn_type1_km_mean = bat_lir_agn_type1_km.km_mean()\n",
    "bat_lir_agn_type2_km_mean = bat_lir_agn_type2_km.km_mean()\n",
    "\n",
    "print 'Mean log(LAGNIR) with upper limits:'\n",
    "print 'Type 1: ', bat_lir_agn_type1_km_mean[0], '+/-', bat_lir_agn_type1_km_mean[1]\n",
    "print 'Type 2: ', bat_lir_agn_type2_km_mean[0], '+/-', bat_lir_agn_type2_km_mean[1]"
   ]
  },
  {
   "cell_type": "markdown",
   "metadata": {},
   "source": [
    "##Two-sample tests"
   ]
  },
  {
   "cell_type": "code",
   "execution_count": 299,
   "metadata": {
    "collapsed": false
   },
   "outputs": [
    {
     "name": "stdout",
     "output_type": "stream",
     "text": [
      "Type 1 vs. Type 2 Mdust:  0.257810576514\n"
     ]
    }
   ],
   "source": [
    "mdust_2samp_seyferts = asurv.two_sample_tests(bat_mdust_type1_km.data, bat_mdust_type1_km.cens,\n",
    "                                              bat_mdust_type2_km.data, bat_mdust_type2_km.cens)\n",
    "\n",
    "print 'Type 1 vs. Type 2 Mdust: ', mdust_2samp_seyferts['Peto-Prentice']['p-value']"
   ]
  },
  {
   "cell_type": "code",
   "execution_count": 242,
   "metadata": {
    "collapsed": false
   },
   "outputs": [
    {
     "name": "stdout",
     "output_type": "stream",
     "text": [
      "Type 1 vs. Type 2 Tdust:  0.733361554486\n"
     ]
    }
   ],
   "source": [
    "tdust_2samp_seyferts = asurv.two_sample_tests(bat_tdust_type1_km.data, bat_tdust_type1_km.cens,\n",
    "                                              bat_tdust_type2_km.data, bat_tdust_type2_km.cens)\n",
    "\n",
    "print 'Type 1 vs. Type 2 Tdust: ', tdust_2samp_seyferts['Peto-Prentice']['p-value']"
   ]
  },
  {
   "cell_type": "code",
   "execution_count": 301,
   "metadata": {
    "collapsed": false
   },
   "outputs": [
    {
     "name": "stdout",
     "output_type": "stream",
     "text": [
      "Type 1 vs. Type 2 SFR:  0.0940463090662\n"
     ]
    }
   ],
   "source": [
    "sfr_2samp_seyferts = asurv.two_sample_tests(bat_sfr_type1_km.data, bat_sfr_type1_km.cens,\n",
    "                                            bat_sfr_type2_km.data, bat_sfr_type2_km.cens)\n",
    "\n",
    "print 'Type 1 vs. Type 2 SFR: ', sfr_2samp_seyferts['Peto-Prentice']['p-value']"
   ]
  },
  {
   "cell_type": "code",
   "execution_count": 261,
   "metadata": {
    "collapsed": false
   },
   "outputs": [
    {
     "name": "stdout",
     "output_type": "stream",
     "text": [
      "Type 1 vs. Type 2 alpha:  2.6282967515e-05\n"
     ]
    }
   ],
   "source": [
    "alpha_2samp_seyferts = asurv.two_sample_tests(bat_alpha_type1_km.data, bat_alpha_type1_km.cens,\n",
    "                                              bat_alpha_type2_km.data, bat_alpha_type2_km.cens)\n",
    "\n",
    "print 'Type 1 vs. Type 2 alpha: ', alpha_2samp_seyferts['Peto-Prentice']['p-value']"
   ]
  },
  {
   "cell_type": "code",
   "execution_count": 262,
   "metadata": {
    "collapsed": false
   },
   "outputs": [
    {
     "name": "stdout",
     "output_type": "stream",
     "text": [
      "Type 1 vs. Type 2 Wturn:  0.733512706101\n"
     ]
    }
   ],
   "source": [
    "wturn_2samp_seyferts = asurv.two_sample_tests(bat_wturn_type1_km.data, bat_wturn_type1_km.cens,\n",
    "                                              bat_wturn_type2_km.data, bat_wturn_type2_km.cens)\n",
    "\n",
    "print 'Type 1 vs. Type 2 Wturn: ', wturn_2samp_seyferts['Peto-Prentice']['p-value']"
   ]
  },
  {
   "cell_type": "code",
   "execution_count": 263,
   "metadata": {
    "collapsed": false
   },
   "outputs": [
    {
     "name": "stdout",
     "output_type": "stream",
     "text": [
      "Type 1 vs. Type 2 LAGNIR:  0.00333270676974\n"
     ]
    }
   ],
   "source": [
    "lir_agn_2samp_seyferts = asurv.two_sample_tests(bat_lir_agn_type1_km.data, bat_lir_agn_type1_km.cens,\n",
    "                                              bat_lir_agn_type2_km.data, bat_lir_agn_type2_km.cens)\n",
    "\n",
    "print 'Type 1 vs. Type 2 LAGNIR: ', lir_agn_2samp_seyferts['Peto-Prentice']['p-value']"
   ]
  },
  {
   "cell_type": "markdown",
   "metadata": {
    "collapsed": true
   },
   "source": [
    "##AGN Fraction Comparison"
   ]
  },
  {
   "cell_type": "code",
   "execution_count": 274,
   "metadata": {
    "collapsed": false
   },
   "outputs": [
    {
     "data": {
      "image/png": "[encoded data removed]",
      "text/plain": [
       "<matplotlib.figure.Figure at 0x116846450>"
      ]
     },
     "metadata": {},
     "output_type": "display_data"
    }
   ],
   "source": [
    "fig = plt.figure(figsize=(columnwidth, columnwidth))\n",
    "ax1 = fig.add_subplot(111)\n",
    "sn.distplot(bat_sy1['agn_frac'], label='Type 1', color='b', ax=ax1, kde=False, bins=np.arange(0,1.1, 0.1))\n",
    "sn.distplot(bat_sy2['agn_frac'], label='Type 2', color='r', ax=ax1, kde=False, bins=np.arange(0,1.1, 0.1))\n",
    "plt.xlabel(r'$f_{\\rm AGN}$')\n",
    "plt.ylabel(r'Number')\n",
    "plt.legend(loc='upper right', fontsize=6)\n",
    "sn.despine()\n",
    "\n",
    "fig.savefig(figsave_dir+'fagn_ir_seyferts.pdf', bbox_inches='tight')"
   ]
  },
  {
   "cell_type": "code",
   "execution_count": 283,
   "metadata": {
    "collapsed": false
   },
   "outputs": [
    {
     "name": "stdout",
     "output_type": "stream",
     "text": [
      "Mean AGN Fraction Type 1:  0.560255599016\n",
      "Mean AGN Fraction Type 2:  0.42482320212\n"
     ]
    },
    {
     "data": {
      "text/plain": [
       "Ks_2sampResult(statistic=0.26996876394466762, pvalue=2.7649157281339231e-05)"
      ]
     },
     "execution_count": 283,
     "metadata": {},
     "output_type": "execute_result"
    }
   ],
   "source": [
    "print 'Mean AGN Fraction Type 1: ', np.mean(bat_sy1['agn_frac'])\n",
    "print 'Mean AGN Fraction Type 2: ', np.mean(bat_sy2['agn_frac'])\n",
    "stats.ks_2samp(bat_sy1['agn_frac'], bat_sy2['agn_frac'])"
   ]
  },
  {
   "cell_type": "code",
   "execution_count": 297,
   "metadata": {
    "collapsed": false
   },
   "outputs": [
    {
     "data": {
      "image/png": "[encoded data removed]",
      "text/plain": [
       "<matplotlib.figure.Figure at 0x117ecb350>"
      ]
     },
     "metadata": {},
     "output_type": "display_data"
    }
   ],
   "source": [
    "fig = plt.figure(figsize=(columnwidth, columnwidth))\n",
    "ax1 = fig.add_subplot(111)\n",
    "sn.distplot(bat_sy1['sfr'], label='Type 1 with UL', color='b', ax=ax1)\n",
    "sn.distplot(bat_sy2['sfr'], label='Type 2 with UL', color='r', ax=ax1)\n",
    "plt.xlabel(r'$\\log$ SFR [M$_{\\odot}$ yr$^{-1}$]')\n",
    "plt.legend(loc='upper left', fontsize=6)\n",
    "sn.despine()\n",
    "\n",
    "fig.savefig(figsave_dir+'sfr_comp_with_ul_seyferts.pdf', bbox_inches='tight')"
   ]
  },
  {
   "cell_type": "code",
   "execution_count": 387,
   "metadata": {
    "collapsed": false
   },
   "outputs": [
    {
     "data": {
      "text/html": [
       "<div>\n",
       "<table border=\"1\" class=\"dataframe\">\n",
       "  <thead>\n",
       "    <tr style=\"text-align: right;\">\n",
       "      <th></th>\n",
       "      <th>agn_frac</th>\n",
       "      <th>agn_frac_flag</th>\n",
       "      <th>agn_frac_decompir</th>\n",
       "    </tr>\n",
       "    <tr>\n",
       "      <th>Name</th>\n",
       "      <th></th>\n",
       "      <th></th>\n",
       "      <th></th>\n",
       "    </tr>\n",
       "  </thead>\n",
       "  <tbody>\n",
       "    <tr>\n",
       "      <th>2MASXJ03305218+0538253</th>\n",
       "      <td>0.853714</td>\n",
       "      <td>0</td>\n",
       "      <td>9.225185e-01</td>\n",
       "    </tr>\n",
       "    <tr>\n",
       "      <th>2MASXJ15462424+6929102</th>\n",
       "      <td>0.594847</td>\n",
       "      <td>0</td>\n",
       "      <td>5.047603e-01</td>\n",
       "    </tr>\n",
       "    <tr>\n",
       "      <th>ESO103-035</th>\n",
       "      <td>0.809202</td>\n",
       "      <td>0</td>\n",
       "      <td>9.346197e-01</td>\n",
       "    </tr>\n",
       "    <tr>\n",
       "      <th>ESO509-IG066NED01</th>\n",
       "      <td>0.343743</td>\n",
       "      <td>0</td>\n",
       "      <td>9.387782e-02</td>\n",
       "    </tr>\n",
       "    <tr>\n",
       "      <th>IC1657</th>\n",
       "      <td>0.565041</td>\n",
       "      <td>0</td>\n",
       "      <td>9.074652e-02</td>\n",
       "    </tr>\n",
       "    <tr>\n",
       "      <th>IC1816</th>\n",
       "      <td>0.184999</td>\n",
       "      <td>0</td>\n",
       "      <td>2.271211e-01</td>\n",
       "    </tr>\n",
       "    <tr>\n",
       "      <th>IC2461</th>\n",
       "      <td>0.250716</td>\n",
       "      <td>0</td>\n",
       "      <td>2.535026e-02</td>\n",
       "    </tr>\n",
       "    <tr>\n",
       "      <th>IC4518A</th>\n",
       "      <td>0.412072</td>\n",
       "      <td>0</td>\n",
       "      <td>2.114212e-01</td>\n",
       "    </tr>\n",
       "    <tr>\n",
       "      <th>IC5063</th>\n",
       "      <td>0.839313</td>\n",
       "      <td>0</td>\n",
       "      <td>8.049366e-01</td>\n",
       "    </tr>\n",
       "    <tr>\n",
       "      <th>IRAS03219+4031</th>\n",
       "      <td>0.218367</td>\n",
       "      <td>0</td>\n",
       "      <td>1.415928e-01</td>\n",
       "    </tr>\n",
       "    <tr>\n",
       "      <th>MCG-01-24-012</th>\n",
       "      <td>0.661776</td>\n",
       "      <td>0</td>\n",
       "      <td>4.614510e-01</td>\n",
       "    </tr>\n",
       "    <tr>\n",
       "      <th>MCG-01-40-001</th>\n",
       "      <td>0.551677</td>\n",
       "      <td>0</td>\n",
       "      <td>7.801774e-02</td>\n",
       "    </tr>\n",
       "    <tr>\n",
       "      <th>MCG-03-34-064</th>\n",
       "      <td>0.501912</td>\n",
       "      <td>0</td>\n",
       "      <td>6.399265e-01</td>\n",
       "    </tr>\n",
       "    <tr>\n",
       "      <th>MCG-05-23-016</th>\n",
       "      <td>0.774442</td>\n",
       "      <td>0</td>\n",
       "      <td>9.551734e-01</td>\n",
       "    </tr>\n",
       "    <tr>\n",
       "      <th>Mrk1210</th>\n",
       "      <td>0.836001</td>\n",
       "      <td>0</td>\n",
       "      <td>8.274288e-01</td>\n",
       "    </tr>\n",
       "    <tr>\n",
       "      <th>Mrk18</th>\n",
       "      <td>0.520338</td>\n",
       "      <td>0</td>\n",
       "      <td>1.387586e-01</td>\n",
       "    </tr>\n",
       "    <tr>\n",
       "      <th>Mrk477</th>\n",
       "      <td>0.524571</td>\n",
       "      <td>0</td>\n",
       "      <td>5.885905e-01</td>\n",
       "    </tr>\n",
       "    <tr>\n",
       "      <th>NGC1106</th>\n",
       "      <td>0.543842</td>\n",
       "      <td>0</td>\n",
       "      <td>4.652234e-01</td>\n",
       "    </tr>\n",
       "    <tr>\n",
       "      <th>NGC1125</th>\n",
       "      <td>0.381505</td>\n",
       "      <td>0</td>\n",
       "      <td>6.978901e-02</td>\n",
       "    </tr>\n",
       "    <tr>\n",
       "      <th>NGC235A</th>\n",
       "      <td>0.192686</td>\n",
       "      <td>0</td>\n",
       "      <td>7.027888e-02</td>\n",
       "    </tr>\n",
       "    <tr>\n",
       "      <th>NGC4102</th>\n",
       "      <td>0.378857</td>\n",
       "      <td>-1</td>\n",
       "      <td>8.234698e-12</td>\n",
       "    </tr>\n",
       "    <tr>\n",
       "      <th>NGC5610</th>\n",
       "      <td>0.327668</td>\n",
       "      <td>0</td>\n",
       "      <td>5.795642e-02</td>\n",
       "    </tr>\n",
       "    <tr>\n",
       "      <th>NGC6240</th>\n",
       "      <td>0.671448</td>\n",
       "      <td>-1</td>\n",
       "      <td>1.241416e-01</td>\n",
       "    </tr>\n",
       "    <tr>\n",
       "      <th>NGC6552</th>\n",
       "      <td>0.447807</td>\n",
       "      <td>0</td>\n",
       "      <td>2.158234e-01</td>\n",
       "    </tr>\n",
       "    <tr>\n",
       "      <th>NGC7479</th>\n",
       "      <td>0.462750</td>\n",
       "      <td>0</td>\n",
       "      <td>2.296008e-01</td>\n",
       "    </tr>\n",
       "    <tr>\n",
       "      <th>UGC05881</th>\n",
       "      <td>0.339338</td>\n",
       "      <td>0</td>\n",
       "      <td>1.051592e-01</td>\n",
       "    </tr>\n",
       "    <tr>\n",
       "      <th>UGC11185NED02</th>\n",
       "      <td>0.393644</td>\n",
       "      <td>0</td>\n",
       "      <td>2.145150e-01</td>\n",
       "    </tr>\n",
       "    <tr>\n",
       "      <th>UGC12237</th>\n",
       "      <td>0.541059</td>\n",
       "      <td>0</td>\n",
       "      <td>1.428447e-01</td>\n",
       "    </tr>\n",
       "    <tr>\n",
       "      <th>VIIZw073</th>\n",
       "      <td>0.273487</td>\n",
       "      <td>0</td>\n",
       "      <td>2.597267e-01</td>\n",
       "    </tr>\n",
       "  </tbody>\n",
       "</table>\n",
       "</div>"
      ],
      "text/plain": [
       "                        agn_frac  agn_frac_flag  agn_frac_decompir\n",
       "Name                                                              \n",
       "2MASXJ03305218+0538253  0.853714              0       9.225185e-01\n",
       "2MASXJ15462424+6929102  0.594847              0       5.047603e-01\n",
       "ESO103-035              0.809202              0       9.346197e-01\n",
       "ESO509-IG066NED01       0.343743              0       9.387782e-02\n",
       "IC1657                  0.565041              0       9.074652e-02\n",
       "IC1816                  0.184999              0       2.271211e-01\n",
       "IC2461                  0.250716              0       2.535026e-02\n",
       "IC4518A                 0.412072              0       2.114212e-01\n",
       "IC5063                  0.839313              0       8.049366e-01\n",
       "IRAS03219+4031          0.218367              0       1.415928e-01\n",
       "MCG-01-24-012           0.661776              0       4.614510e-01\n",
       "MCG-01-40-001           0.551677              0       7.801774e-02\n",
       "MCG-03-34-064           0.501912              0       6.399265e-01\n",
       "MCG-05-23-016           0.774442              0       9.551734e-01\n",
       "Mrk1210                 0.836001              0       8.274288e-01\n",
       "Mrk18                   0.520338              0       1.387586e-01\n",
       "Mrk477                  0.524571              0       5.885905e-01\n",
       "NGC1106                 0.543842              0       4.652234e-01\n",
       "NGC1125                 0.381505              0       6.978901e-02\n",
       "NGC235A                 0.192686              0       7.027888e-02\n",
       "NGC4102                 0.378857             -1       8.234698e-12\n",
       "NGC5610                 0.327668              0       5.795642e-02\n",
       "NGC6240                 0.671448             -1       1.241416e-01\n",
       "NGC6552                 0.447807              0       2.158234e-01\n",
       "NGC7479                 0.462750              0       2.296008e-01\n",
       "UGC05881                0.339338              0       1.051592e-01\n",
       "UGC11185NED02           0.393644              0       2.145150e-01\n",
       "UGC12237                0.541059              0       1.428447e-01\n",
       "VIIZw073                0.273487              0       2.597267e-01"
      ]
     },
     "execution_count": 387,
     "metadata": {},
     "output_type": "execute_result"
    }
   ],
   "source": [
    "bat_sy2[bat_sy2['alpha'] > 2.2][['agn_frac', 'agn_frac_flag', 'agn_frac_decompir']]"
   ]
  },
  {
   "cell_type": "code",
   "execution_count": 399,
   "metadata": {
    "collapsed": false
   },
   "outputs": [
    {
     "data": {
      "text/plain": [
       "[<matplotlib.lines.Line2D at 0x123d46e90>]"
      ]
     },
     "execution_count": 399,
     "metadata": {},
     "output_type": "execute_result"
    },
    {
     "data": {
      "image/png": "[encoded data removed]",
      "text/plain": [
       "<matplotlib.figure.Figure at 0x123c02990>"
      ]
     },
     "metadata": {},
     "output_type": "display_data"
    }
   ],
   "source": [
    "plt.plot(np.log10(bat_c12[bat_c12['agn_frac_flag'] >= 0]['LBAT']), bat_c12[bat_c12['agn_frac_flag'] >= 0]['agn_frac'], 'ko')\n",
    "plt.plot(bat_c12[bat_c12['agn_frac_flag'] >= 0]['lir_sf'] +np.log10(3.846e33), bat_c12[bat_c12['agn_frac_flag'] >= 0]['agn_frac'], 'ro')"
   ]
  }
 ],
 "metadata": {
  "kernelspec": {
   "display_name": "Python 2",
   "language": "python",
   "name": "python2"
  },
  "language_info": {
   "codemirror_mode": {
    "name": "ipython",
    "version": 2
   },
   "file_extension": ".py",
   "mimetype": "text/x-python",
   "name": "python",
   "nbconvert_exporter": "python",
   "pygments_lexer": "ipython2",
   "version": "2.7.11"
  }
 },
 "nbformat": 4,
 "nbformat_minor": 0
}
