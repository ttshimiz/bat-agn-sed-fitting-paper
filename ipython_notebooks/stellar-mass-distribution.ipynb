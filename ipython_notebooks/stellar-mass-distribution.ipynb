{
 "cells": [
  {
   "cell_type": "code",
   "execution_count": 5,
   "metadata": {
    "collapsed": false
   },
   "outputs": [],
   "source": [
    "# Standard module imports\n",
    "import numpy as np\n",
    "import scipy.stats as stats\n",
    "import pandas as pd\n",
    "\n",
    "%matplotlib inline\n",
    "\n",
    "# Useful directories\n",
    "gh_dir = '/Users/ttshimiz/Github/'\n",
    "sed_fit_dir = gh_dir + 'bat-agn-sed-fitting/'\n",
    "casey_dir = sed_fit_dir + 'analysis/casey_bayes_results/'\n",
    "data_dir = gh_dir + 'bat-data/'"
   ]
  },
  {
   "cell_type": "code",
   "execution_count": 3,
   "metadata": {
    "collapsed": false
   },
   "outputs": [
    {
     "name": "stderr",
     "output_type": "stream",
     "text": [
      "/Users/ttshimiz/anaconda/lib/python2.7/site-packages/matplotlib/font_manager.py:273: UserWarning: Matplotlib is building the font cache using fc-list. This may take a moment.\n",
      "  warnings.warn('Matplotlib is building the font cache using fc-list. This may take a moment.')\n",
      ":0: FutureWarning: IPython widgets are experimental and may change in the future.\n"
     ]
    }
   ],
   "source": [
    "# Setup the figures\n",
    "execfile('../code/figure-setup.py')"
   ]
  },
  {
   "cell_type": "code",
   "execution_count": 6,
   "metadata": {
    "collapsed": false
   },
   "outputs": [],
   "source": [
    "# Upload the fits for the BAT AGN\n",
    "bat_casey = pd.read_csv(casey_dir+'beta_fixed_2_wturn_gaussianPrior/final_fit_results_beta_fixed_2_wturn_gaussianPrior.csv', index_col=0)\n",
    "bat_casey_undetected = pd.read_csv(casey_dir+'beta_fixed_2_wturn_gaussianPrior/final_fit_results_beta_fixed_2_wturn_gaussianPrior_undetected.csv', index_col=0)\n",
    "\n",
    "# Get rid of the galaxies that are radio-loud and/or have bad fits\n",
    "bad_sources = np.array(['PICTORA', '3C111.0', '3C120',\n",
    "                        '2MASXJ23272195+1524375', 'PKS2331-240',\n",
    "                        'HB890241+622', 'Mrk3'])\n",
    "bat_casey = bat_casey.drop(bad_sources)\n",
    "\n",
    "# Upload the info for the BAT AGN (i.e. AGN type, luminosity distance, redshift, etc)\n",
    "bat_info = pd.read_csv(data_dir+'bat_info.csv', index_col=0)\n",
    "\n",
    "# Upload the 14-195 keV flux and calculate the luminosity\n",
    "bat_flux = pd.read_csv(data_dir+'bat_bat_flux.csv', index_col=0)\n",
    "bat_flux['LBAT'] = 4*np.pi*(bat_info['Dist_[Mpc]']*10**6*3.09e18)**2*bat_flux['BAT_flux']*10**(-12)"
   ]
  },
  {
   "cell_type": "code",
   "execution_count": 7,
   "metadata": {
    "collapsed": true
   },
   "outputs": [],
   "source": [
    "# Upload the HRS fits\n",
    "hrs_casey = pd.read_csv(casey_dir+'hrs_beta_fixed_2_wturn_gaussianPrior/final_fit_results_beta_fixed_2_wturn_gaussianPrior_hrs.csv', index_col=0)\n",
    "\n",
    "# Upload the HRS info\n",
    "hrs_info = pd.read_table(gh_dir+'hrs-data/hrs_photometry.txt', delimiter='\\t', index_col=0, na_values=-99.99)"
   ]
  },
  {
   "cell_type": "code",
   "execution_count": 8,
   "metadata": {
    "collapsed": true
   },
   "outputs": [],
   "source": [
    "# Upload the KINGFISH fits\n",
    "kf_casey = pd.read_csv(casey_dir+'kingfish_beta_fixed_2_wturn_gaussianPrior/final_fit_results_kingfish_casey.csv', index_col=0)\n",
    "\n",
    "# Upload teh KINGFISH info\n",
    "kf_info = pd.read_table('/Users/ttshimiz/Dropbox/Research/Thesis/Other_surveys/KINGFISH/kingfish_data.txt', index_col=0, delimiter='\\t')\n",
    "\n",
    "# Identify the dwarf galaxies as any galaxy with stellar mass < 10^8 Msun\n",
    "kf_dwarfs = kf_info['Mstar'] < 8.5\n",
    "kf_agn = (kf_info['Nuc. Type'] == 'AGN') | (kf_info['Nuc. Type'] == 'SF/AGN')\n",
    "kf_casey['Mstar'] = kf_info['Mstar']"
   ]
  },
  {
   "cell_type": "code",
   "execution_count": 9,
   "metadata": {
    "collapsed": false
   },
   "outputs": [
    {
     "name": "stdout",
     "output_type": "stream",
     "text": [
      "Number of BAT AGN with reliable stellar mass estimates = 115\n"
     ]
    }
   ],
   "source": [
    "# We need to calculate stellar masses for the BAT AGN using the method in Zibetti et al 2009 since this method was used\n",
    "# for both the KINGFISH and HRS galaxies. I use the AGN subtracted SDSS photometry from Koss et al 2011 and the g-i color\n",
    "# relation for the stellar masses.\n",
    "bat_koss = pd.read_csv(data_dir+'bat_koss11.csv', index_col=0)\n",
    "bat_koss.loc[bat_koss['griz_cont']=='Y', 'SDSS_i_Koss'] = np.nan\n",
    "bi = 1.8e-10\n",
    "bat_koss['SDSS_i_flux'] = 3631.*(2*bi*np.sinh(-np.log(10)*bat_koss['SDSS_i_Koss']/2.5 - np.log(bi)))\n",
    "bat_koss['SDSS_Li'] = 4*np.pi*(bat_info['Dist_[Mpc]']*10**6*3.09e18)**2*(3.0e10/0.7480e-4)*bat_koss['SDSS_i_flux']*10**(-23)\n",
    "bat_casey['Mstar'] = -0.963 + 1.032*(bat_koss['SDSS_g_Koss'] - bat_koss['SDSS_i_Koss']) + np.log10(bat_koss['SDSS_Li']/3.846e33)\n",
    "bat_casey_undetected['Mstar'] = -0.963 + 1.032*(bat_koss['SDSS_g_Koss'] - bat_koss['SDSS_i_Koss']) + np.log10(bat_koss['SDSS_Li']/3.846e33)\n",
    "print 'Number of BAT AGN with reliable stellar mass estimates = '+ str(len(bat_casey['Mstar'].dropna()))"
   ]
  },
  {
   "cell_type": "code",
   "execution_count": 10,
   "metadata": {
    "collapsed": false
   },
   "outputs": [
    {
     "data": {
      "image/png": "[encoded data removed]",
      "text/plain": [
       "<matplotlib.figure.Figure at 0x114e076d0>"
      ]
     },
     "metadata": {},
     "output_type": "display_data"
    }
   ],
   "source": [
    "fig = plt.figure(figsize=(columnwidth, 3./4.*columnwidth))\n",
    "sn.distplot(bat_casey['Mstar'].dropna(), label='BAT AGN')\n",
    "sn.distplot(hrs_info['logMstart'].dropna(), label='HRS')\n",
    "sn.distplot(kf_info['Mstar'][~kf_dwarfs].dropna(), label='KINGFISH')\n",
    "plt.xlabel(r'$\\log\\,M_{\\rm star}$ [M$_{\\odot}$]')\n",
    "plt.legend(loc='upper left')\n",
    "sn.despine()\n",
    "plt.savefig(figsave_dir+'stellar_mass_comp.pdf', bbox_inches='tight')"
   ]
  },
  {
   "cell_type": "code",
   "execution_count": null,
   "metadata": {
    "collapsed": true
   },
   "outputs": [],
   "source": []
  }
 ],
 "metadata": {
  "kernelspec": {
   "display_name": "Python 2",
   "language": "python",
   "name": "python2"
  },
  "language_info": {
   "codemirror_mode": {
    "name": "ipython",
    "version": 2
   },
   "file_extension": ".py",
   "mimetype": "text/x-python",
   "name": "python",
   "nbconvert_exporter": "python",
   "pygments_lexer": "ipython2",
   "version": "2.7.11"
  }
 },
 "nbformat": 4,
 "nbformat_minor": 0
}
