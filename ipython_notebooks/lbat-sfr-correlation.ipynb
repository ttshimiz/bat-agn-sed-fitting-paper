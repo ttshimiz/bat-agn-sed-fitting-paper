{
 "cells": [
  {
   "cell_type": "code",
   "execution_count": 1,
   "metadata": {
    "collapsed": false
   },
   "outputs": [],
   "source": [
    "# Standard module imports\n",
    "import numpy as np\n",
    "import scipy.stats as stats\n",
    "import pandas as pd\n",
    "import sys\n",
    "%matplotlib inline\n",
    "\n",
    "# Useful directories\n",
    "gh_dir = '/Users/ttshimiz/Github/'\n",
    "sed_fit_dir = gh_dir + 'bat-agn-sed-fitting/'\n",
    "casey_dir = sed_fit_dir + 'analysis/casey_bayes_results/'\n",
    "data_dir = gh_dir + 'bat-data/'\n",
    "\n",
    "sys.path.append(gh_dir+'asurv/')\n",
    "sys.path.append(gh_dir+'linmix/')\n",
    "import asurv\n",
    "import linmix"
   ]
  },
  {
   "cell_type": "code",
   "execution_count": 2,
   "metadata": {
    "collapsed": false
   },
   "outputs": [],
   "source": [
    "# Setup the figures\n",
    "style='paper'\n",
    "execfile('/Users/ttshimiz/Dropbox/Research/figure_setup.py')"
   ]
  },
  {
   "cell_type": "code",
   "execution_count": 13,
   "metadata": {
    "collapsed": false
   },
   "outputs": [],
   "source": [
    "# Upload the fitting results for the C12 model\n",
    "bat_c12 = pd.read_csv('../data/bat-agn-c12-params.csv', index_col=0)\n",
    "\n",
    "# Remove 'bad' sources\n",
    "radio_loud_sources = np.array(['PICTORA', '3C111.0', '3C120',\n",
    "                              '2MASXJ23272195+1524375', 'PKS2331-240',\n",
    "                              'HB890241+622', 'Mrk3'])\n",
    "bat_c12 = bat_c12.drop(radio_loud_sources)\n",
    "#bat_c12.loc['UGC06728', 'lir_sf'] -= 2.0\n",
    "#bat_c12.loc['UGC06728', 'mdust'] -= 2.0\n",
    "#bat_c12.loc['2MASXiJ1802473-145454', 'lir_sf'] -= 2.046\n",
    "#bat_c12.loc['2MASXiJ1802473-145454', 'mdust'] -= 2.046\n",
    "\n",
    "# Add in quadrature an uncertainty of 0.15 for f_AGN and 0.2 dex for the luminosities\n",
    "bat_c12['agn_frac_err_high'] = np.sqrt(bat_c12['agn_frac_err_high']**2 + 0.15**2)\n",
    "bat_c12['agn_frac_err_low'] = np.sqrt(bat_c12['agn_frac_err_low']**2 + 0.15**2)\n",
    "bat_c12['lir_sf_err_high'] = np.sqrt(bat_c12['lir_sf_err_high']**2 + 0.2**2)\n",
    "bat_c12['lir_sf_err_low'] = np.sqrt(bat_c12['lir_sf_err_low']**2 + 0.2**2)\n",
    "bat_c12['lir_agn_err_high'] = np.sqrt(bat_c12['lir_agn_err_high']**2 + 0.2**2)\n",
    "bat_c12['lir_agn_err_low'] = np.sqrt(bat_c12['lir_agn_err_low']**2 + 0.2**2)\n",
    "\n",
    "# Upload the info for the BAT AGN (i.e. AGN type, luminosity distance, redshift, etc)\n",
    "bat_info = pd.read_csv(data_dir+'bat_info.csv', index_col=0)\n",
    "bat_c12['Redshift'] = bat_info['Redshift']\n",
    "\n",
    "# We need to calculate stellar masses for the BAT AGN using the method in Zibetti et al 2009 since this method was used\n",
    "# for both the KINGFISH and HRS galaxies. I use the AGN subtracted SDSS photometry from Koss et al 2011 and the g-i color\n",
    "# relation for the stellar masses.\n",
    "bat_koss = pd.read_csv(data_dir+'bat_koss11.csv', index_col=0)\n",
    "bat_koss.loc[bat_koss['griz_cont']=='Y', 'SDSS_i_Koss'] = np.nan\n",
    "bi = 1.8e-10\n",
    "bat_koss['SDSS_i_flux'] = 3631.*(2*bi*np.sinh(-np.log(10)*bat_koss['SDSS_i_Koss']/2.5 - np.log(bi)))\n",
    "bat_koss['SDSS_Li'] = 4*np.pi*(bat_info['Dist_[Mpc]']*10**6*3.09e18)**2*(3.0e10/0.7480e-4)*bat_koss['SDSS_i_flux']*10**(-23)\n",
    "bat_c12['Mstar'] = (-0.963 + 1.032*(bat_koss['SDSS_g_Koss'] - bat_koss['SDSS_i_Koss']) +\n",
    "                     np.log10(bat_koss['SDSS_Li']/3.846e33))\n",
    "\n",
    "\n",
    "# Calculate the SFR\n",
    "bat_c12['sfr'] = bat_c12['lir_sf'] + np.log10(3.846e33) - np.log10(2.57e43)\n",
    "bat_c12['sfr_68_up'] = bat_c12['lir_sf_err_high']\n",
    "bat_c12['sfr_68_down'] = bat_c12['lir_sf_err_low']\n",
    "bat_c12['sfr_err'] = np.max(np.vstack([bat_c12['sfr_68_up'], bat_c12['sfr_68_down']]), axis=0)\n",
    "\n",
    "# Upload the 14-195 keV flux and calculate the luminosity\n",
    "bat_flux = pd.read_csv(data_dir+'bat_bat_flux.csv', index_col=0)\n",
    "bat_flux['bat_flux_err_low'] = bat_flux['BAT_flux'] - bat_flux['BAT_flux_90_low']\n",
    "bat_flux['bat_flux_err_high'] = bat_flux['BAT_flux_90_high'] - bat_flux['BAT_flux']\n",
    "bat_flux['lbat'] = np.log10(4*np.pi*(bat_info['Dist_[Mpc]']*10**6*3.09e18)**2*bat_flux['BAT_flux']*10**(-12))\n",
    "bat_flux['bat_err'] = np.max(np.vstack([bat_flux['bat_flux_err_low'], bat_flux['bat_flux_err_high']]), axis=0)\n",
    "bat_flux['lbat_err'] = 0.434*4*np.pi*(bat_info['Dist_[Mpc]']*10**6*3.09e18)**2*bat_flux['bat_err']*10**(-12)/(10**bat_flux['lbat'])\n",
    "bat_flux['lbat_flag'] = pd.Series(index=bat_flux.index)\n",
    "bat_flux.loc[bat_flux['BAT_flux_90_high'] == 0, 'lbat_flag'] = 0\n",
    "bat_flux.loc[bat_flux['BAT_flux_90_low'] != 0, 'lbat_flag'] = 1\n",
    "bat_flux.loc[bat_flux['lbat_flag'] == 0, 'lbat_err'] = 0\n",
    "\n",
    "bat_c12['lbat'] = bat_flux['lbat']\n",
    "bat_c12['lbat_err'] = bat_flux['lbat_err']\n",
    "bat_c12['lbat_flag'] = bat_flux['lbat_flag']\n",
    "bat_c12['lbol'] = 1.1157*bat_c12['lbat'] - 4.2280\n",
    "bat_c12['lbol_err'] = 1.1157*bat_c12['lbat_err']"
   ]
  },
  {
   "cell_type": "code",
   "execution_count": 4,
   "metadata": {
    "collapsed": true
   },
   "outputs": [],
   "source": [
    "broad_type = pd.Series(index=bat_info.index, name='Sy_Type')\n",
    "\n",
    "for n in bat_info.index.values:\n",
    "\n",
    "    type_split = bat_info.loc[n, 'Seyfert_Type'].split()\n",
    "\n",
    "    if ((type_split[0] == 'Sy')):\n",
    "        if ((type_split[1] == '1') | (type_split[1] == '1.2') | (type_split[1] == '1.4') | (type_split[1] == '1.5')):\n",
    "\n",
    "            broad_type.loc[n] = 'Sy 1'\n",
    "            \n",
    "        elif ((type_split[1] == '2') | (type_split[1] == '1.8') | (type_split[1] == '1.9')):\n",
    "            \n",
    "            broad_type.loc[n] = 'Sy 2'\n",
    "    else:\n",
    "\n",
    "        if (type_split[0] == 'LINER'):\n",
    "            \n",
    "            broad_type.loc[n] = 'LINER'\n",
    "\n",
    "        elif (type_split[0] == 'AGN'):\n",
    "            \n",
    "            broad_type.loc[n] = 'AGN'"
   ]
  },
  {
   "cell_type": "code",
   "execution_count": 5,
   "metadata": {
    "collapsed": true
   },
   "outputs": [],
   "source": [
    "bat_c12['Sy_Type'] = broad_type\n",
    "bat_sy1 = bat_c12[bat_c12['Sy_Type'] == 'Sy 1']\n",
    "bat_sy2 = bat_c12[bat_c12['Sy_Type'] == 'Sy 2']"
   ]
  },
  {
   "cell_type": "code",
   "execution_count": 62,
   "metadata": {
    "collapsed": false
   },
   "outputs": [
    {
     "name": "stdout",
     "output_type": "stream",
     "text": [
      "Total Sample:\n",
      "Slope =  0.184608260526  +/-  0.0673013025891\n",
      "Intercept =  -7.84434006284  +/-  2.92071264123\n",
      "Sigsqr =  0.36948351989  +/-  0.0384718571449\n",
      "R^2 =  0.170873577533  +/-  0.0636125614771\n"
     ]
    }
   ],
   "source": [
    "x = bat_c12['lbat'].values\n",
    "y = bat_c12['sfr'].values\n",
    "xerr = bat_c12['lbat_err'].values\n",
    "yerr = bat_c12['sfr_err'].values\n",
    "yerr[np.isnan(yerr)] = np.mean(yerr[np.isfinite(yerr)])\n",
    "delta = bat_c12['lir_sf_flag'].values\n",
    "delta[delta == 1] = 0\n",
    "delta = delta + 1\n",
    "\n",
    "lm = linmix.LinMix(x=x, y=y, xsig=xerr, ysig=yerr, delta=delta)\n",
    "lm.run_mcmc(silent=True)\n",
    "print 'Total Sample:'\n",
    "print 'Slope = ', np.median(lm.chain['beta']), ' +/- ', np.std(lm.chain['beta'])\n",
    "print 'Intercept = ', np.median(lm.chain['alpha']), ' +/- ', np.std(lm.chain['alpha'])\n",
    "print 'Sigsqr = ', np.median(lm.chain['sigsqr']), ' +/- ', np.std(lm.chain['sigsqr'])\n",
    "print 'R^2 = ', np.median(lm.chain['corr']), ' +/- ', np.std(lm.chain['corr'])"
   ]
  },
  {
   "cell_type": "code",
   "execution_count": 15,
   "metadata": {
    "collapsed": false
   },
   "outputs": [
    {
     "name": "stdout",
     "output_type": "stream",
     "text": [
      "Total Sample:\n",
      "Slope =  0.337029666753  +/-  0.126916024725\n",
      "Intercept =  -14.6841890981  +/-  5.52772399661\n",
      "Sigsqr =  0.494782486621  +/-  0.0828754381525\n",
      "R^2 =  0.247523293961  +/-  0.09466909991\n"
     ]
    },
    {
     "name": "stderr",
     "output_type": "stream",
     "text": [
      "/Users/ttshimiz/anaconda/lib/python2.7/site-packages/IPython/kernel/__main__.py:5: VisibleDeprecationWarning: boolean index did not match indexed array along dimension 0; dimension is 306 but corresponding boolean dimension is 135\n"
     ]
    }
   ],
   "source": [
    "x_sy1 = bat_sy1['lbat'].values\n",
    "y_sy1 = bat_sy1['sfr'].values\n",
    "xerr_sy1 = bat_sy1['lbat_err'].values\n",
    "yerr_sy1 = bat_sy1['sfr_err'].values\n",
    "yerr_sy1[np.isnan(yerr_sy1)] = np.mean(yerr[np.isfinite(yerr_sy1)])\n",
    "delta_sy1 = bat_sy1['lir_sf_flag'].values\n",
    "delta_sy1[delta_sy1 == 1] = 0\n",
    "delta_sy1 = delta_sy1 + 1\n",
    "\n",
    "lm_sy1 = linmix.LinMix(x=x_sy1, y=y_sy1, xsig=xerr_sy1, ysig=yerr_sy1, delta=delta_sy1)\n",
    "lm_sy1.run_mcmc(silent=True)\n",
    "print 'Total Sample:'\n",
    "print 'Slope = ', np.median(lm_sy1.chain['beta']), ' +/- ', np.std(lm_sy1.chain['beta'])\n",
    "print 'Intercept = ', np.median(lm_sy1.chain['alpha']), ' +/- ', np.std(lm_sy1.chain['alpha'])\n",
    "print 'Sigsqr = ', np.median(lm_sy1.chain['sigsqr']), ' +/- ', np.std(lm_sy1.chain['sigsqr'])\n",
    "print 'R^2 = ', np.median(lm_sy1.chain['corr']), ' +/- ', np.std(lm_sy1.chain['corr'])"
   ]
  },
  {
   "cell_type": "code",
   "execution_count": 14,
   "metadata": {
    "collapsed": false
   },
   "outputs": [
    {
     "name": "stdout",
     "output_type": "stream",
     "text": [
      "Total Sample:\n",
      "Slope =  0.189758865999  +/-  0.0775596481298\n",
      "Intercept =  -7.93903889521  +/-  3.35625049004\n",
      "Sigsqr =  0.257971836099  +/-  0.0373800853067\n",
      "R^2 =  0.209238305698  +/-  0.0857530547896\n"
     ]
    },
    {
     "name": "stderr",
     "output_type": "stream",
     "text": [
      "/Users/ttshimiz/anaconda/lib/python2.7/site-packages/IPython/kernel/__main__.py:5: VisibleDeprecationWarning: boolean index did not match indexed array along dimension 0; dimension is 306 but corresponding boolean dimension is 166\n"
     ]
    }
   ],
   "source": [
    "x_sy2 = bat_sy2['lbat'].values\n",
    "y_sy2 = bat_sy2['sfr'].values\n",
    "xerr_sy2 = bat_sy2['lbat_err'].values\n",
    "yerr_sy2 = bat_sy2['sfr_err'].values\n",
    "yerr_sy2[np.isnan(yerr_sy2)] = np.mean(yerr[np.isfinite(yerr_sy2)])\n",
    "delta_sy2 = bat_sy2['lir_sf_flag'].values\n",
    "delta_sy2[delta_sy2 == 1] = 0\n",
    "delta_sy2 = delta_sy2 + 1\n",
    "\n",
    "lm_sy2 = linmix.LinMix(x=x_sy2, y=y_sy2, xsig=xerr_sy2, ysig=yerr_sy2, delta=delta_sy2)\n",
    "lm_sy2.run_mcmc(silent=True)\n",
    "print 'Total Sample:'\n",
    "print 'Slope = ', np.median(lm_sy2.chain['beta']), ' +/- ', np.std(lm_sy2.chain['beta'])\n",
    "print 'Intercept = ', np.median(lm_sy2.chain['alpha']), ' +/- ', np.std(lm_sy2.chain['alpha'])\n",
    "print 'Sigsqr = ', np.median(lm_sy2.chain['sigsqr']), ' +/- ', np.std(lm_sy2.chain['sigsqr'])\n",
    "print 'R^2 = ', np.median(lm_sy2.chain['corr']), ' +/- ', np.std(lm_sy2.chain['corr'])"
   ]
  },
  {
   "cell_type": "code",
   "execution_count": 64,
   "metadata": {
    "collapsed": false
   },
   "outputs": [],
   "source": [
    "xfit = np.arange(41.0, 49.0, 0.001)\n",
    "yfit_all = np.zeros((len(lm.chain['beta']), len(xfit)))\n",
    "#yfit_sy1 = np.zeros((len(lm_sy1.chain['beta']), len(xfit)))\n",
    "#yfit_sy2 = np.zeros((len(lm_sy2.chain['beta']), len(xfit)))\n",
    "\n",
    "for i in range(len(lm.chain['beta'])):\n",
    "    beta_i = lm.chain['beta'][i]\n",
    "    alpha_i = lm.chain['alpha'][i]\n",
    "    yfit_all[i, :] = alpha_i + beta_i*xfit\n",
    "\n",
    "    #beta_sy1_i = lm_sy1.chain['beta'][i]\n",
    "    #alpha_sy1_i = lm_sy1.chain['alpha'][i]\n",
    "    #yfit_sy1[i, :] = alpha_sy1_i + beta_sy1_i*xfit\n",
    "    \n",
    "    #beta_sy2_i = lm_sy2.chain['beta'][i]\n",
    "    #alpha_sy2_i = lm_sy2.chain['alpha'][i]\n",
    "    #yfit_sy2[i, :] = alpha_sy2_i + beta_sy2_i*xfit\n",
    "\n",
    "\n",
    "yfit_median = np.median(yfit_all, axis=0)\n",
    "yfit_upper95 = np.percentile(yfit_all, axis=0, q=97.5)\n",
    "yfit_lower95 = np.percentile(yfit_all, axis=0, q=2.5)\n",
    "\n",
    "#yfit_sy1_median = np.median(yfit_sy1, axis=0)\n",
    "#yfit_sy1_upper95 = np.percentile(yfit_sy1, axis=0, q=97.5)\n",
    "#yfit_sy1_lower95 = np.percentile(yfit_sy1, axis=0, q=2.5)\n",
    "\n",
    "#yfit_sy2_median = np.median(yfit_sy2, axis=0)\n",
    "#yfit_sy2_upper95 = np.percentile(yfit_sy2, axis=0, q=97.5)\n",
    "#yfit_sy2_lower95 = np.percentile(yfit_sy2, axis=0, q=2.5)"
   ]
  },
  {
   "cell_type": "code",
   "execution_count": 8,
   "metadata": {
    "collapsed": false,
    "scrolled": true
   },
   "outputs": [
    {
     "ename": "NameError",
     "evalue": "name 'yfit_sy1_median' is not defined",
     "output_type": "error",
     "traceback": [
      "\u001b[0;31m---------------------------------------------------------------------------\u001b[0m",
      "\u001b[0;31mNameError\u001b[0m                                 Traceback (most recent call last)",
      "\u001b[0;32m<ipython-input-8-90de4b4fb840>\u001b[0m in \u001b[0;36m<module>\u001b[0;34m()\u001b[0m\n\u001b[1;32m     18\u001b[0m \u001b[0mplt\u001b[0m\u001b[0;34m.\u001b[0m\u001b[0mplot\u001b[0m\u001b[0;34m(\u001b[0m\u001b[0mxfit\u001b[0m\u001b[0;34m,\u001b[0m \u001b[0myfit_median\u001b[0m\u001b[0;34m,\u001b[0m \u001b[0;34m'k-'\u001b[0m\u001b[0;34m,\u001b[0m \u001b[0mlw\u001b[0m\u001b[0;34m=\u001b[0m\u001b[0;36m1.5\u001b[0m\u001b[0;34m,\u001b[0m \u001b[0mlabel\u001b[0m\u001b[0;34m=\u001b[0m\u001b[0;34m'Linear Fit: All'\u001b[0m\u001b[0;34m)\u001b[0m\u001b[0;34m\u001b[0m\u001b[0m\n\u001b[1;32m     19\u001b[0m \u001b[0mplt\u001b[0m\u001b[0;34m.\u001b[0m\u001b[0mfill_between\u001b[0m\u001b[0;34m(\u001b[0m\u001b[0mxfit\u001b[0m\u001b[0;34m,\u001b[0m \u001b[0myfit_lower95\u001b[0m\u001b[0;34m,\u001b[0m \u001b[0myfit_upper95\u001b[0m\u001b[0;34m,\u001b[0m \u001b[0mcolor\u001b[0m\u001b[0;34m=\u001b[0m\u001b[0;34m'k'\u001b[0m\u001b[0;34m,\u001b[0m \u001b[0malpha\u001b[0m\u001b[0;34m=\u001b[0m\u001b[0;36m0.3\u001b[0m\u001b[0;34m,\u001b[0m \u001b[0mlabel\u001b[0m\u001b[0;34m=\u001b[0m\u001b[0;34m'_nolabel'\u001b[0m\u001b[0;34m)\u001b[0m\u001b[0;34m\u001b[0m\u001b[0m\n\u001b[0;32m---> 20\u001b[0;31m \u001b[0mplt\u001b[0m\u001b[0;34m.\u001b[0m\u001b[0mplot\u001b[0m\u001b[0;34m(\u001b[0m\u001b[0mxfit\u001b[0m\u001b[0;34m,\u001b[0m \u001b[0myfit_sy1_median\u001b[0m\u001b[0;34m,\u001b[0m \u001b[0;34m'b-'\u001b[0m\u001b[0;34m,\u001b[0m \u001b[0mlw\u001b[0m\u001b[0;34m=\u001b[0m\u001b[0;36m1.5\u001b[0m\u001b[0;34m,\u001b[0m \u001b[0mlabel\u001b[0m\u001b[0;34m=\u001b[0m\u001b[0;34m'Linear Fit: Type 1'\u001b[0m\u001b[0;34m)\u001b[0m\u001b[0;34m\u001b[0m\u001b[0m\n\u001b[0m\u001b[1;32m     21\u001b[0m \u001b[0mplt\u001b[0m\u001b[0;34m.\u001b[0m\u001b[0mfill_between\u001b[0m\u001b[0;34m(\u001b[0m\u001b[0mxfit\u001b[0m\u001b[0;34m,\u001b[0m \u001b[0myfit_sy1_lower95\u001b[0m\u001b[0;34m,\u001b[0m \u001b[0myfit_sy1_upper95\u001b[0m\u001b[0;34m,\u001b[0m \u001b[0mcolor\u001b[0m\u001b[0;34m=\u001b[0m\u001b[0;34m'b'\u001b[0m\u001b[0;34m,\u001b[0m \u001b[0malpha\u001b[0m\u001b[0;34m=\u001b[0m\u001b[0;36m0.3\u001b[0m\u001b[0;34m,\u001b[0m \u001b[0mlabel\u001b[0m\u001b[0;34m=\u001b[0m\u001b[0;34m'_nolabel'\u001b[0m\u001b[0;34m)\u001b[0m\u001b[0;34m\u001b[0m\u001b[0m\n\u001b[1;32m     22\u001b[0m \u001b[0mplt\u001b[0m\u001b[0;34m.\u001b[0m\u001b[0mplot\u001b[0m\u001b[0;34m(\u001b[0m\u001b[0mxfit\u001b[0m\u001b[0;34m,\u001b[0m \u001b[0myfit_sy2_median\u001b[0m\u001b[0;34m,\u001b[0m \u001b[0;34m'r-'\u001b[0m\u001b[0;34m,\u001b[0m \u001b[0mlw\u001b[0m\u001b[0;34m=\u001b[0m\u001b[0;36m1.5\u001b[0m\u001b[0;34m,\u001b[0m \u001b[0mlabel\u001b[0m\u001b[0;34m=\u001b[0m\u001b[0;34m'Linear Fit: Type 2'\u001b[0m\u001b[0;34m)\u001b[0m\u001b[0;34m\u001b[0m\u001b[0m\n",
      "\u001b[0;31mNameError\u001b[0m: name 'yfit_sy1_median' is not defined"
     ]
    },
    {
     "data": {
      "image/png": "[encoded data removed]",
      "text/plain": [
       "<matplotlib.figure.Figure at 0x117cbca10>"
      ]
     },
     "metadata": {},
     "output_type": "display_data"
    }
   ],
   "source": [
    "fig = plt.figure(figsize=(textwidth, 3./4.*textwidth))\n",
    "#fig = plt.figure(figsize=(6, 4.5))\n",
    "ax = fig.add_subplot(111)\n",
    "#plt.errorbar(x_sy1[delta_sy1==1], y_sy1[delta_sy1==1], xerr=xerr_sy1[delta_sy1==1], yerr=bat_sy1.loc[delta_sy1==1, ['sfr_68_up', 'sfr_68_down']].values.transpose(),\n",
    "#             fmt='o', color='b', ls='None', alpha=0.6, label='Type 1')\n",
    "#plt.errorbar(x_sy2[delta_sy2==1], y_sy2[delta_sy2==1], xerr=xerr_sy2[delta_sy2==1], yerr=bat_sy2.loc[delta_sy2==1, ['sfr_68_up', 'sfr_68_down']].values.transpose(),\n",
    "#             fmt='o', color='r', ls='None', alpha=0.6, label='Type 2')\n",
    "#plt.plot(x_sy1[delta_sy1==0], y_sy1[delta_sy1==0], marker='v', markeredgecolor='b', markerfacecolor='None',\n",
    "#         markeredgewidth=1.5, ls='None', alpha=0.6, ms=8)\n",
    "#plt.plot(x_sy2[delta_sy2==0], y_sy2[delta_sy2==0], marker='v', markeredgecolor='r', markerfacecolor='None',\n",
    "#         markeredgewidth=1.5, ls='None', alpha=0.6, ms=8)\n",
    "\n",
    "ax.errorbar(x[delta==1], y[delta==1], xerr=xerr[delta==1],\n",
    "            yerr=bat_c12.loc[delta==1, ['sfr_68_down', 'sfr_68_up']].values.transpose(),\n",
    "            fmt='o', color='grey', ls='None', ecolor='grey', elinewidth=0.8, ms=6, alpha=0.7, label='Individual Sources')\n",
    "ax.quiver(x[delta==0], y[delta==0], np.zeros(sum(delta==0)), -np.ones(sum(delta==0)),\n",
    "          scale_units='height', scale=15., units='width', width=0.004, color='r', pivot='tail', label='_nolabel')\n",
    "plt.plot(xfit, yfit_median, 'k-', lw=1.5, label='Linear Fit: All')\n",
    "plt.fill_between(xfit, yfit_lower95, yfit_upper95, color='k', alpha=0.3, label='_nolabel')\n",
    "plt.plot(xfit, yfit_sy1_median, 'b-', lw=1.5, label='Linear Fit: Type 1')\n",
    "plt.fill_between(xfit, yfit_sy1_lower95, yfit_sy1_upper95, color='b', alpha=0.3, label='_nolabel')\n",
    "plt.plot(xfit, yfit_sy2_median, 'r-', lw=1.5, label='Linear Fit: Type 2')\n",
    "plt.fill_between(xfit, yfit_sy2_lower95, yfit_sy2_upper95, color='r', alpha=0.3, label='_nolabel')\n",
    "\n",
    "#hickox_model = np.loadtxt('../data/hickox14_lir_v_lagn.csv', delimiter=',')\n",
    "#hickox_sfr = hickox_model[:,1]-np.log10(2.57e43)\n",
    "#hickox_agn = (hickox_model[:,0] + 4.2280)/1.1157\n",
    "#plt.plot(hickox_agn, hickox_sfr, 'k--', lw=1.5, label='Hickox+14 Model')\n",
    "\n",
    "#lbol = np.arange(41.5, 46.0, 0.01)\n",
    "#lsf_rosario = np.log10(10**(43.57) + 10**(43.57)*(10**lbol/10**(44.27))**0.78)\n",
    "#lsf_netzer = 41+0.8*(lbol-41)\n",
    "#lbat_model = (lbol+4.2280)/1.1157\n",
    "#c = 0.140904716825\n",
    "#plt.plot(lbat_model, lsf_rosario-np.log10(2.57e43)+c, 'g-', lw=1.5, label='Rosario+12')\n",
    "#plt.plot(lbat_model, lsf_netzer-np.log10(2.57e43)+c, 'g--', lw=1.5, label='Netzer+09')\n",
    "plt.xlim(41.0, 45.0)\n",
    "plt.ylim(-2.5, 2)\n",
    "plt.xlabel(r'$\\log\\,L_{\\mathdefault{14-195\\,keV}}$ [ergs s$^{-1}$]')\n",
    "plt.ylabel(r'$\\log$ SFR [M$_{\\odot}$ yr$^{-1}$]')\n",
    "plt.legend(loc='upper left', fontsize=10)\n",
    "#ax.axhline(0.22)\n",
    "sn.despine()\n",
    "ax.tick_params(axis='both', which='major', labelsize=10)\n",
    "#fig.savefig(figsave_dir+'sfr_lbat_correlation_nosy.pdf', bbox_inches='tight')\n",
    "#fig.savefig('/Users/ttshimiz/Dropbox/Research/Thesis/Dissertation/Chapter3/sfr_lbat_correlation_nosy.pdf', bbox_inches='tight')"
   ]
  },
  {
   "cell_type": "code",
   "execution_count": 17,
   "metadata": {
    "collapsed": false
   },
   "outputs": [
    {
     "name": "stdout",
     "output_type": "stream",
     "text": [
      "Warning: Minimum data point has been changed to uncensored. Mean will be biased.\n",
      "Warning: Minimum data point has been changed to uncensored. Mean will be biased.\n",
      "Warning: Minimum data point has been changed to uncensored. Mean will be biased.\n",
      "Warning: Minimum data point has been changed to uncensored. Mean will be biased.\n",
      "Warning: Minimum data point has been changed to uncensored. Mean will be biased.\n"
     ]
    }
   ],
   "source": [
    "bin_edges = np.array([42.0, 42.5, 43.0, 43.5, 44.0])\n",
    "n_bins = len(bin_edges) + 1\n",
    "\n",
    "avg_sfr = pd.Series(index=np.arange(n_bins))\n",
    "avg_sfr_mn_err = pd.Series(index=np.arange(n_bins))\n",
    "avg_sfr_err_up = pd.Series(index=np.arange(n_bins))\n",
    "avg_sfr_err_down = pd.Series(index=np.arange(n_bins))\n",
    "avg_lx = pd.Series(index=np.arange(n_bins))\n",
    "avg_lx_err_up = pd.Series(index=np.arange(n_bins))\n",
    "avg_lx_err_down = pd.Series(index=np.arange(n_bins))\n",
    "\n",
    "for i in range(n_bins):\n",
    "    \n",
    "    if i == 0:\n",
    "        ind = bat_c12['lbat'] <= bin_edges[i]\n",
    "    elif i == (n_bins - 1):\n",
    "        ind = bat_c12['lbat'] > bin_edges[-1]\n",
    "    else:\n",
    "        ind = (bat_c12['lbat'] > bin_edges[i-1]) & (bat_c12['lbat'] <= bin_edges[i])\n",
    "        \n",
    "    data = bat_c12.loc[ind, 'sfr'].values\n",
    "    flag = bat_c12.loc[ind, 'lir_sf_flag'].values\n",
    "    cens= np.ones(len(data))\n",
    "    cens[flag == -1] = 0\n",
    "    \n",
    "    km = asurv.KaplanMeierDist(data=data, cens=cens)\n",
    "    mn, mn_err = km.km_mean()\n",
    "    med = km.km_percentile(0.5)\n",
    "    p16 = km.km_percentile(0.16)\n",
    "    p84 = km.km_percentile(0.84)\n",
    "    \n",
    "    avg_sfr.loc[i] = mn\n",
    "    avg_sfr_mn_err.loc[i] = mn_err\n",
    "    avg_sfr_err_up.loc[i] = p84-mn\n",
    "    avg_sfr_err_down.loc[i] = mn-p16\n",
    "    \n",
    "    avg_lx.loc[i] = bat_c12.loc[ind, 'lbat'].mean()\n",
    "    avg_lx_err_up.loc[i] = bat_c12.loc[ind, 'lbat'].max() - avg_lx.loc[i]\n",
    "    avg_lx_err_down.loc[i] = avg_lx.loc[i] - bat_c12.loc[ind, 'lbat'].min()"
   ]
  },
  {
   "cell_type": "code",
   "execution_count": 12,
   "metadata": {
    "collapsed": false
   },
   "outputs": [
    {
     "data": {
      "image/png": "[encoded data removed]",
      "text/plain": [
       "<matplotlib.figure.Figure at 0x117d69fd0>"
      ]
     },
     "metadata": {},
     "output_type": "display_data"
    }
   ],
   "source": [
    "fig = plt.figure(figsize=(textwidth, 3./4.*textwidth))\n",
    "#fig = plt.figure(figsize=(7, 6))\n",
    "\n",
    "ax = fig.add_subplot(111)\n",
    "ax.fill_between(xfit, 0.12*np.ones(len(xfit)), 0.80*np.ones(len(xfit)), color='g', alpha=0.2, label=r'Main Sequence, $z\\sim0$')\n",
    "#ax.plot(x[delta==1], y[delta==1],\n",
    "#            marker='o', color='grey', ls='None', ms=6, alpha=0.5, label='Individual Sources')\n",
    "#ax.quiver(x[delta==0], y[delta==0], np.zeros(sum(delta==0)), -np.ones(sum(delta==0)),\n",
    "#          scale_units='height', scale=15., units='width', width=0.004, color='gray',\n",
    "#          pivot='tail', label='_nolabel', alpha=0.5)\n",
    "ax.errorbar(avg_lx, avg_sfr,\n",
    "            xerr = np.vstack([avg_lx_err_down, avg_lx_err_up]),\n",
    "            yerr=np.vstack([avg_sfr_err_down.values, avg_sfr_err_up.values]),\n",
    "            fmt='o', color='b', ls='None', ms=6)\n",
    "ax.plot(xfit, yfit_median, 'b-', lw=1.5, label=r'This work')\n",
    "ax.fill_between(xfit, yfit_lower95, yfit_upper95, color='b', alpha=0.3)\n",
    "\n",
    "#hickox_model = np.loadtxt('../data/hickox14_lir_v_lagn.csv', delimiter=',')\n",
    "#hickox_sfr = hickox_model[:,1]-np.log10(2.57e43)\n",
    "#hickox_agn = (hickox_model[:,0] + 4.2280)/1.1157\n",
    "#ax.plot(hickox_agn, hickox_sfr, 'k--', lw=1.5, label='Hickox+14 Model')\n",
    "\n",
    "lbol = np.arange(41.5, 46.0, 0.01)\n",
    "lsf_rosario = np.log10(10**(43.57) + 10**(43.57)*(10**lbol/10**(44.27))**0.78)\n",
    "lsf_netzer = 41+0.8*(lbol-41)\n",
    "lbat_model = (lbol+4.2280)/1.1157\n",
    "#c = 0.140904716825\n",
    "c = 0.20\n",
    "ax.plot(lbat_model, lsf_rosario-np.log10(2.57e43)+c, 'r--', lw=2.0, label='Rosario+12')\n",
    "ax.plot(lbat_model, lsf_netzer-np.log10(2.57e43)+c, 'm-.', lw=2.0, label='Netzer+09')\n",
    "\n",
    "ax.set_xlim(41.0, 45.0)\n",
    "ax.set_ylim(-2, 2.0)\n",
    "ax.set_xlabel(r'$\\log\\,L_{\\mathdefault{14-195\\,keV}}$ [ergs s$^{-1}$]')\n",
    "ax.set_ylabel(r'$\\log$ SFR [M$_{\\odot}$ yr$^{-1}$]')\n",
    "ax.legend(loc='upper left', fontsize=10)\n",
    "ax.tick_params(axis='both', which='major', labelsize=10)\n",
    "sn.despine()\n",
    "#fig.savefig('../figures/lbat_sfr_correlation_compare_lit_with_MS.pdf', bbox_inches='tight')"
   ]
  },
  {
   "cell_type": "code",
   "execution_count": 18,
   "metadata": {
    "collapsed": false
   },
   "outputs": [
    {
     "data": {
      "text/html": [
       "<div>\n",
       "<table border=\"1\" class=\"dataframe\">\n",
       "  <thead>\n",
       "    <tr style=\"text-align: right;\">\n",
       "      <th></th>\n",
       "      <th>mdust</th>\n",
       "      <th>mdust_err_high</th>\n",
       "      <th>mdust_err_low</th>\n",
       "      <th>mdust_flag</th>\n",
       "      <th>tdust</th>\n",
       "      <th>tdust_err_high</th>\n",
       "      <th>tdust_err_low</th>\n",
       "      <th>tdust_flag</th>\n",
       "      <th>alpha</th>\n",
       "      <th>alpha_err_high</th>\n",
       "      <th>...</th>\n",
       "      <th>Redshift</th>\n",
       "      <th>Mstar</th>\n",
       "      <th>sfr</th>\n",
       "      <th>sfr_68_up</th>\n",
       "      <th>sfr_68_down</th>\n",
       "      <th>sfr_err</th>\n",
       "      <th>lbat</th>\n",
       "      <th>lbat_err</th>\n",
       "      <th>lbat_flag</th>\n",
       "      <th>Sy_Type</th>\n",
       "    </tr>\n",
       "    <tr>\n",
       "      <th>Name</th>\n",
       "      <th></th>\n",
       "      <th></th>\n",
       "      <th></th>\n",
       "      <th></th>\n",
       "      <th></th>\n",
       "      <th></th>\n",
       "      <th></th>\n",
       "      <th></th>\n",
       "      <th></th>\n",
       "      <th></th>\n",
       "      <th></th>\n",
       "      <th></th>\n",
       "      <th></th>\n",
       "      <th></th>\n",
       "      <th></th>\n",
       "      <th></th>\n",
       "      <th></th>\n",
       "      <th></th>\n",
       "      <th></th>\n",
       "      <th></th>\n",
       "      <th></th>\n",
       "    </tr>\n",
       "  </thead>\n",
       "  <tbody>\n",
       "    <tr>\n",
       "      <th>2MASXJ13512953-1813468</th>\n",
       "      <td>5.496721</td>\n",
       "      <td>NaN</td>\n",
       "      <td>NaN</td>\n",
       "      <td>-1</td>\n",
       "      <td>NaN</td>\n",
       "      <td>NaN</td>\n",
       "      <td>NaN</td>\n",
       "      <td>NaN</td>\n",
       "      <td>0.837321</td>\n",
       "      <td>0.562498</td>\n",
       "      <td>...</td>\n",
       "      <td>0.012218</td>\n",
       "      <td>NaN</td>\n",
       "      <td>-1.668007</td>\n",
       "      <td>NaN</td>\n",
       "      <td>NaN</td>\n",
       "      <td>0.229706</td>\n",
       "      <td>42.777090</td>\n",
       "      <td>0.125006</td>\n",
       "      <td>1</td>\n",
       "      <td>Sy 1</td>\n",
       "    </tr>\n",
       "    <tr>\n",
       "      <th>UGC06728</th>\n",
       "      <td>5.095617</td>\n",
       "      <td>NaN</td>\n",
       "      <td>NaN</td>\n",
       "      <td>-1</td>\n",
       "      <td>NaN</td>\n",
       "      <td>NaN</td>\n",
       "      <td>NaN</td>\n",
       "      <td>NaN</td>\n",
       "      <td>1.239156</td>\n",
       "      <td>0.396037</td>\n",
       "      <td>...</td>\n",
       "      <td>0.006500</td>\n",
       "      <td>NaN</td>\n",
       "      <td>-2.026042</td>\n",
       "      <td>NaN</td>\n",
       "      <td>NaN</td>\n",
       "      <td>0.229706</td>\n",
       "      <td>42.407322</td>\n",
       "      <td>0.052974</td>\n",
       "      <td>1</td>\n",
       "      <td>Sy 1</td>\n",
       "    </tr>\n",
       "    <tr>\n",
       "      <th>WKK6092</th>\n",
       "      <td>5.586555</td>\n",
       "      <td>NaN</td>\n",
       "      <td>NaN</td>\n",
       "      <td>-1</td>\n",
       "      <td>NaN</td>\n",
       "      <td>NaN</td>\n",
       "      <td>NaN</td>\n",
       "      <td>NaN</td>\n",
       "      <td>1.611523</td>\n",
       "      <td>0.362227</td>\n",
       "      <td>...</td>\n",
       "      <td>0.015637</td>\n",
       "      <td>NaN</td>\n",
       "      <td>-1.574491</td>\n",
       "      <td>NaN</td>\n",
       "      <td>NaN</td>\n",
       "      <td>0.229706</td>\n",
       "      <td>43.248465</td>\n",
       "      <td>0.065201</td>\n",
       "      <td>1</td>\n",
       "      <td>Sy 1</td>\n",
       "    </tr>\n",
       "  </tbody>\n",
       "</table>\n",
       "<p>3 rows × 42 columns</p>\n",
       "</div>"
      ],
      "text/plain": [
       "                           mdust  mdust_err_high  mdust_err_low  mdust_flag  \\\n",
       "Name                                                                          \n",
       "2MASXJ13512953-1813468  5.496721             NaN            NaN          -1   \n",
       "UGC06728                5.095617             NaN            NaN          -1   \n",
       "WKK6092                 5.586555             NaN            NaN          -1   \n",
       "\n",
       "                        tdust  tdust_err_high  tdust_err_low  tdust_flag  \\\n",
       "Name                                                                       \n",
       "2MASXJ13512953-1813468    NaN             NaN            NaN         NaN   \n",
       "UGC06728                  NaN             NaN            NaN         NaN   \n",
       "WKK6092                   NaN             NaN            NaN         NaN   \n",
       "\n",
       "                           alpha  alpha_err_high   ...     Redshift  Mstar  \\\n",
       "Name                                               ...                       \n",
       "2MASXJ13512953-1813468  0.837321        0.562498   ...     0.012218    NaN   \n",
       "UGC06728                1.239156        0.396037   ...     0.006500    NaN   \n",
       "WKK6092                 1.611523        0.362227   ...     0.015637    NaN   \n",
       "\n",
       "                             sfr  sfr_68_up  sfr_68_down   sfr_err       lbat  \\\n",
       "Name                                                                            \n",
       "2MASXJ13512953-1813468 -1.668007        NaN          NaN  0.229706  42.777090   \n",
       "UGC06728               -2.026042        NaN          NaN  0.229706  42.407322   \n",
       "WKK6092                -1.574491        NaN          NaN  0.229706  43.248465   \n",
       "\n",
       "                        lbat_err  lbat_flag  Sy_Type  \n",
       "Name                                                  \n",
       "2MASXJ13512953-1813468  0.125006          1     Sy 1  \n",
       "UGC06728                0.052974          1     Sy 1  \n",
       "WKK6092                 0.065201          1     Sy 1  \n",
       "\n",
       "[3 rows x 42 columns]"
      ]
     },
     "execution_count": 18,
     "metadata": {},
     "output_type": "execute_result"
    }
   ],
   "source": [
    "bat_c12[bat_c12['sfr'] < -1.5]"
   ]
  },
  {
   "cell_type": "code",
   "execution_count": 8,
   "metadata": {
    "collapsed": false
   },
   "outputs": [],
   "source": [
    "bat_c12['dlogMS'] = bat_c12['sfr'] - (1.01*bat_c12['Mstar'] - 9.87)\n",
    "bat_c12['sSFR'] = bat_c12['sfr'] - bat_c12['Mstar']"
   ]
  },
  {
   "cell_type": "code",
   "execution_count": 10,
   "metadata": {
    "collapsed": false,
    "scrolled": true
   },
   "outputs": [],
   "source": [
    "sfr_ms = bat_c12['sfr'][(bat_c12['dlogMS'] < 0.64) & (bat_c12['dlogMS'] > -0.64)].values\n",
    "sfr_err_ms = bat_c12['sfr_err'][(bat_c12['dlogMS'] < 0.64) & (bat_c12['dlogMS'] > -0.64)].values\n",
    "lx_ms = bat_c12['lbat'][(bat_c12['dlogMS'] < 0.64) & (bat_c12['dlogMS'] > -0.64)].values\n",
    "lx_err_ms = bat_c12['lbat_err'][(bat_c12['dlogMS'] < 0.64) & (bat_c12['dlogMS'] > -0.64)].values\n",
    "delta_ms = bat_c12['lir_sf_flag'][(bat_c12['dlogMS'] < 0.64) & (bat_c12['dlogMS'] > -0.64)].values + 1\n",
    "\n",
    "#sfr_ms = sfr_ms[lx_ms < 44.5]\n",
    "#sfr_err_ms = sfr_err_ms[lx_ms < 44.5]\n",
    "#lx_err_ms = lx_err_ms[lx_ms < 44.5]\n",
    "#delta_ms = delta_ms[lx_ms < 44.5]\n",
    "#lx_ms = lx_ms[lx_ms < 44.5]\n",
    "lm_ms = linmix.LinMix(x=lx_ms, y=sfr_ms, xsig=lx_err_ms, ysig=sfr_err_ms, delta=delta_ms)\n",
    "lm_ms.run_mcmc(silent=True)"
   ]
  },
  {
   "cell_type": "code",
   "execution_count": 11,
   "metadata": {
    "collapsed": true
   },
   "outputs": [],
   "source": [
    "sfr_below2 = bat_c12['sfr'][(bat_c12['dlogMS'] < -0.64)].values\n",
    "sfr_err_below2 = bat_c12['sfr_err'][(bat_c12['dlogMS'] < -0.64)].values\n",
    "lx_below2 = bat_c12['lbat'][(bat_c12['dlogMS'] < -0.64)].values\n",
    "lx_err_below2 = bat_c12['lbat_err'][(bat_c12['dlogMS'] < -0.64)].values\n",
    "delta_below2 = bat_c12['lir_sf_flag'][(bat_c12['dlogMS'] < -0.64)].values + 1\n",
    "\n",
    "lm_below2 = linmix.LinMix(x=lx_below2, y=sfr_below2, xsig=lx_err_below2, ysig=sfr_err_below2, delta=delta_below2)\n",
    "lm_below2.run_mcmc(silent=True)"
   ]
  },
  {
   "cell_type": "code",
   "execution_count": 63,
   "metadata": {
    "collapsed": false
   },
   "outputs": [
    {
     "ename": "NameError",
     "evalue": "name 'lm_ms' is not defined",
     "output_type": "error",
     "traceback": [
      "\u001b[0;31m---------------------------------------------------------------------------\u001b[0m",
      "\u001b[0;31mNameError\u001b[0m                                 Traceback (most recent call last)",
      "\u001b[0;32m<ipython-input-63-c256893f40fb>\u001b[0m in \u001b[0;36m<module>\u001b[0;34m()\u001b[0m\n\u001b[1;32m      1\u001b[0m \u001b[0mxfit\u001b[0m \u001b[0;34m=\u001b[0m \u001b[0mnp\u001b[0m\u001b[0;34m.\u001b[0m\u001b[0marange\u001b[0m\u001b[0;34m(\u001b[0m\u001b[0;36m41.0\u001b[0m\u001b[0;34m,\u001b[0m \u001b[0;36m49.0\u001b[0m\u001b[0;34m,\u001b[0m \u001b[0;36m0.001\u001b[0m\u001b[0;34m)\u001b[0m\u001b[0;34m\u001b[0m\u001b[0m\n\u001b[0;32m----> 2\u001b[0;31m \u001b[0myfit_ms\u001b[0m \u001b[0;34m=\u001b[0m \u001b[0mnp\u001b[0m\u001b[0;34m.\u001b[0m\u001b[0mzeros\u001b[0m\u001b[0;34m(\u001b[0m\u001b[0;34m(\u001b[0m\u001b[0mlen\u001b[0m\u001b[0;34m(\u001b[0m\u001b[0mlm_ms\u001b[0m\u001b[0;34m.\u001b[0m\u001b[0mchain\u001b[0m\u001b[0;34m[\u001b[0m\u001b[0;34m'beta'\u001b[0m\u001b[0;34m]\u001b[0m\u001b[0;34m)\u001b[0m\u001b[0;34m,\u001b[0m \u001b[0mlen\u001b[0m\u001b[0;34m(\u001b[0m\u001b[0mxfit\u001b[0m\u001b[0;34m)\u001b[0m\u001b[0;34m)\u001b[0m\u001b[0;34m)\u001b[0m\u001b[0;34m\u001b[0m\u001b[0m\n\u001b[0m\u001b[1;32m      3\u001b[0m \u001b[0myfit_below2\u001b[0m \u001b[0;34m=\u001b[0m \u001b[0mnp\u001b[0m\u001b[0;34m.\u001b[0m\u001b[0mzeros\u001b[0m\u001b[0;34m(\u001b[0m\u001b[0;34m(\u001b[0m\u001b[0mlen\u001b[0m\u001b[0;34m(\u001b[0m\u001b[0mlm_below2\u001b[0m\u001b[0;34m.\u001b[0m\u001b[0mchain\u001b[0m\u001b[0;34m[\u001b[0m\u001b[0;34m'beta'\u001b[0m\u001b[0;34m]\u001b[0m\u001b[0;34m)\u001b[0m\u001b[0;34m,\u001b[0m \u001b[0mlen\u001b[0m\u001b[0;34m(\u001b[0m\u001b[0mxfit\u001b[0m\u001b[0;34m)\u001b[0m\u001b[0;34m)\u001b[0m\u001b[0;34m)\u001b[0m\u001b[0;34m\u001b[0m\u001b[0m\n\u001b[1;32m      4\u001b[0m \u001b[0;34m\u001b[0m\u001b[0m\n\u001b[1;32m      5\u001b[0m \u001b[0;32mfor\u001b[0m \u001b[0mi\u001b[0m \u001b[0;32min\u001b[0m \u001b[0mrange\u001b[0m\u001b[0;34m(\u001b[0m\u001b[0mlen\u001b[0m\u001b[0;34m(\u001b[0m\u001b[0mlm_ms\u001b[0m\u001b[0;34m.\u001b[0m\u001b[0mchain\u001b[0m\u001b[0;34m[\u001b[0m\u001b[0;34m'beta'\u001b[0m\u001b[0;34m]\u001b[0m\u001b[0;34m)\u001b[0m\u001b[0;34m)\u001b[0m\u001b[0;34m:\u001b[0m\u001b[0;34m\u001b[0m\u001b[0m\n",
      "\u001b[0;31mNameError\u001b[0m: name 'lm_ms' is not defined"
     ]
    }
   ],
   "source": [
    "xfit = np.arange(41.0, 49.0, 0.001)\n",
    "yfit_ms = np.zeros((len(lm_ms.chain['beta']), len(xfit)))\n",
    "yfit_below2 = np.zeros((len(lm_below2.chain['beta']), len(xfit)))\n",
    "\n",
    "for i in range(len(lm_ms.chain['beta'])):\n",
    "    beta_ms_i = lm_ms.chain['beta'][i]\n",
    "    alpha_ms_i = lm_ms.chain['alpha'][i]\n",
    "    yfit_ms[i, :] = alpha_ms_i + beta_ms_i*xfit\n",
    "\n",
    "    beta_below2_i = lm_below2.chain['beta'][i]\n",
    "    alpha_below2_i = lm_below2.chain['alpha'][i]\n",
    "    yfit_below2[i, :] = alpha_below2_i + beta_below2_i*xfit\n",
    "\n",
    "\n",
    "yfit_ms_median = np.median(yfit_ms, axis=0)\n",
    "yfit_ms_upper95 = np.percentile(yfit_ms, axis=0, q=97.5)\n",
    "yfit_ms_lower95 = np.percentile(yfit_ms, axis=0, q=2.5)\n",
    "\n",
    "yfit_below2_median = np.median(yfit_below2, axis=0)\n",
    "yfit_below2_upper95 = np.percentile(yfit_below2, axis=0, q=97.5)\n",
    "yfit_below2_lower95 = np.percentile(yfit_below2, axis=0, q=2.5)"
   ]
  },
  {
   "cell_type": "code",
   "execution_count": 16,
   "metadata": {
    "collapsed": false
   },
   "outputs": [
    {
     "data": {
      "image/png": "[encoded data removed]",
      "text/plain": [
       "<matplotlib.figure.Figure at 0x11426a410>"
      ]
     },
     "metadata": {},
     "output_type": "display_data"
    }
   ],
   "source": [
    "fig = plt.figure(figsize=(textwidth, 3./4.*textwidth))\n",
    "plt.errorbar(lx_ms, sfr_ms, xerr=lx_err_ms, yerr=bat_c12.loc[(bat_c12['dlogMS'] < 0.64) & (bat_c12['dlogMS'] > -0.64), ['sfr_68_up', 'sfr_68_down']].values.transpose(),\n",
    "             fmt='o', color='b', ls='None', alpha=0.6, label='Near Main Sequence')\n",
    "plt.errorbar(lx_below2[delta_below2==1], sfr_below2[delta_below2==1], xerr=lx_err_below2[delta_below2==1], yerr=bat_c12.loc[(bat_c12['dlogMS'] < -0.64), ['sfr_68_up', 'sfr_68_down']][delta_below2==1].values.transpose(),\n",
    "             fmt='o', color='r', ls='None', alpha=0.6, label='Below Main Sequence')\n",
    "plt.plot(lx_below2[delta_below2==0], sfr_below2[delta_below2==0], marker='v', markeredgecolor='r', markerfacecolor='None',\n",
    "         markeredgewidth=1.5, ls='None', alpha=0.6, ms=8)\n",
    "plt.plot(xfit, yfit_ms_median, 'b-', lw=1.5)\n",
    "plt.fill_between(xfit, yfit_ms_lower95, yfit_ms_upper95, color='b', alpha=0.3)\n",
    "plt.plot(xfit, yfit_below2_median, 'r-', lw=1.5)\n",
    "plt.fill_between(xfit, yfit_below2_lower95, yfit_below2_upper95, color='r', alpha=0.3)\n",
    "plt.plot(xfit, yfit_median, 'k-', lw=1.5, label='All')\n",
    "plt.fill_between(xfit, yfit_lower95, yfit_upper95, color='grey', alpha=0.3)\n",
    "\n",
    "hickox_model = np.loadtxt('../data/hickox14_lir_v_lagn.csv', delimiter=',')\n",
    "hickox_sfr = hickox_model[:,1]-np.log10(2.57e43)\n",
    "hickox_agn = (hickox_model[:,0] + 4.2280)/1.1157\n",
    "\n",
    "lbol = np.arange(41.5, 46.0, 0.01)\n",
    "lsf_rosario = np.log10(10**(43.57) + 10**(43.57)*(10**lbol/10**(44.27))**0.78)\n",
    "lsf_netzer = 41+0.8*(lbol-41)\n",
    "lbat_model = (lbol+4.2280)/1.1157\n",
    "c = 0.140904716825\n",
    "plt.plot(hickox_agn, hickox_sfr, 'k--', lw=1.5, label='Hickox+14 Model')\n",
    "plt.plot(lbat_model, lsf_rosario-np.log10(2.57e43)+c, 'g-', lw=1.5, label='Rosario+12')\n",
    "plt.plot(lbat_model, lsf_netzer-np.log10(2.57e43)+c, 'g--', lw=1.5, label='Netzer+09')\n",
    "\n",
    "plt.xlim(41.0, 45.0)\n",
    "plt.ylim(-2, 2)\n",
    "plt.xlabel(r'$\\log\\,L_{\\rm 14-195\\,keV}$ [ergs s$^{-1}$]')\n",
    "plt.ylabel(r'$\\log$ SFR [M$_{\\odot}$ yr$^{-1}$]')\n",
    "plt.legend(loc='upper left', fontsize=10)\n",
    "sn.despine()\n",
    "fig.savefig(figsave_dir+'sfr_lbat_correlation_split_main_seqeunce.pdf', bbox_inches='tight')"
   ]
  },
  {
   "cell_type": "code",
   "execution_count": 42,
   "metadata": {
    "collapsed": false
   },
   "outputs": [
    {
     "name": "stdout",
     "output_type": "stream",
     "text": [
      "Near MS Sample:\n",
      "Slope =  0.274938651065  +/-  0.0877017082635\n",
      "Intercept =  -11.3667132312  +/-  3.80093815878\n",
      "Sigsqr =  0.163943937827  +/-  0.0332050056688\n",
      "R^2 =  0.382399134901  +/-  0.117924515304\n"
     ]
    }
   ],
   "source": [
    "print 'Near MS Sample:'\n",
    "print 'Slope = ', np.median(lm_ms.chain['beta']), ' +/- ', np.std(lm_ms.chain['beta'])\n",
    "print 'Intercept = ', np.median(lm_ms.chain['alpha']), ' +/- ', np.std(lm_ms.chain['alpha'])\n",
    "print 'Sigsqr = ', np.median(lm_ms.chain['sigsqr']), ' +/- ', np.std(lm_ms.chain['sigsqr'])\n",
    "print 'R^2 = ', np.median(lm_ms.chain['corr']), ' +/- ', np.std(lm_ms.chain['corr'])"
   ]
  },
  {
   "cell_type": "code",
   "execution_count": 43,
   "metadata": {
    "collapsed": false
   },
   "outputs": [
    {
     "name": "stdout",
     "output_type": "stream",
     "text": [
      "Below MS Sample:\n",
      "Slope =  0.432210042076  +/-  0.110914190916\n",
      "Intercept =  -18.9311323297  +/-  4.81223633049\n",
      "Sigsqr =  0.190962233785  +/-  0.0528734223191\n",
      "R^2 =  0.520525551713  +/-  0.128469204649\n"
     ]
    }
   ],
   "source": [
    "print 'Below MS Sample:'\n",
    "print 'Slope = ', np.median(lm_below2.chain['beta']), ' +/- ', np.std(lm_below2.chain['beta'])\n",
    "print 'Intercept = ', np.median(lm_below2.chain['alpha']), ' +/- ', np.std(lm_below2.chain['alpha'])\n",
    "print 'Sigsqr = ', np.median(lm_below2.chain['sigsqr']), ' +/- ', np.std(lm_below2.chain['sigsqr'])\n",
    "print 'R^2 = ', np.median(lm_below2.chain['corr']), ' +/- ', np.std(lm_below2.chain['corr'])"
   ]
  },
  {
   "cell_type": "code",
   "execution_count": 93,
   "metadata": {
    "collapsed": false
   },
   "outputs": [
    {
     "data": {
      "text/html": [
       "<div>\n",
       "<table border=\"1\" class=\"dataframe\">\n",
       "  <thead>\n",
       "    <tr style=\"text-align: right;\">\n",
       "      <th></th>\n",
       "      <th>mdust</th>\n",
       "      <th>mdust_err_high</th>\n",
       "      <th>mdust_err_low</th>\n",
       "      <th>mdust_flag</th>\n",
       "      <th>tdust</th>\n",
       "      <th>tdust_err_high</th>\n",
       "      <th>tdust_err_low</th>\n",
       "      <th>tdust_flag</th>\n",
       "      <th>alpha</th>\n",
       "      <th>alpha_err_high</th>\n",
       "      <th>...</th>\n",
       "      <th>Redshift</th>\n",
       "      <th>Mstar</th>\n",
       "      <th>sfr</th>\n",
       "      <th>sfr_68_up</th>\n",
       "      <th>sfr_68_down</th>\n",
       "      <th>sfr_err</th>\n",
       "      <th>lbat</th>\n",
       "      <th>lbat_err</th>\n",
       "      <th>lbat_flag</th>\n",
       "      <th>Sy_Type</th>\n",
       "    </tr>\n",
       "    <tr>\n",
       "      <th>Name</th>\n",
       "      <th></th>\n",
       "      <th></th>\n",
       "      <th></th>\n",
       "      <th></th>\n",
       "      <th></th>\n",
       "      <th></th>\n",
       "      <th></th>\n",
       "      <th></th>\n",
       "      <th></th>\n",
       "      <th></th>\n",
       "      <th></th>\n",
       "      <th></th>\n",
       "      <th></th>\n",
       "      <th></th>\n",
       "      <th></th>\n",
       "      <th></th>\n",
       "      <th></th>\n",
       "      <th></th>\n",
       "      <th></th>\n",
       "      <th></th>\n",
       "      <th></th>\n",
       "    </tr>\n",
       "  </thead>\n",
       "  <tbody>\n",
       "    <tr>\n",
       "      <th>IC2461</th>\n",
       "      <td>7.093235</td>\n",
       "      <td>0.079094</td>\n",
       "      <td>0.103027</td>\n",
       "      <td>0</td>\n",
       "      <td>19.293414</td>\n",
       "      <td>1.377373</td>\n",
       "      <td>1.005453</td>\n",
       "      <td>0</td>\n",
       "      <td>2.305960</td>\n",
       "      <td>0.291956</td>\n",
       "      <td>...</td>\n",
       "      <td>0.007539</td>\n",
       "      <td>9.470644</td>\n",
       "      <td>-0.496972</td>\n",
       "      <td>0.216717</td>\n",
       "      <td>0.208566</td>\n",
       "      <td>0.083465</td>\n",
       "      <td>42.191278</td>\n",
       "      <td>0.088500</td>\n",
       "      <td>1</td>\n",
       "      <td>Sy 2</td>\n",
       "    </tr>\n",
       "    <tr>\n",
       "      <th>NGC1052</th>\n",
       "      <td>6.360464</td>\n",
       "      <td>0.137993</td>\n",
       "      <td>0.162568</td>\n",
       "      <td>0</td>\n",
       "      <td>18.160784</td>\n",
       "      <td>1.714244</td>\n",
       "      <td>1.340894</td>\n",
       "      <td>0</td>\n",
       "      <td>1.569378</td>\n",
       "      <td>0.348421</td>\n",
       "      <td>...</td>\n",
       "      <td>0.005037</td>\n",
       "      <td>10.555279</td>\n",
       "      <td>-1.381072</td>\n",
       "      <td>0.215888</td>\n",
       "      <td>0.215056</td>\n",
       "      <td>0.081288</td>\n",
       "      <td>42.123963</td>\n",
       "      <td>0.070124</td>\n",
       "      <td>1</td>\n",
       "      <td>Sy 2</td>\n",
       "    </tr>\n",
       "    <tr>\n",
       "      <th>NGC2655</th>\n",
       "      <td>7.045785</td>\n",
       "      <td>0.415053</td>\n",
       "      <td>0.154401</td>\n",
       "      <td>0</td>\n",
       "      <td>20.612969</td>\n",
       "      <td>1.750476</td>\n",
       "      <td>4.280217</td>\n",
       "      <td>0</td>\n",
       "      <td>1.441451</td>\n",
       "      <td>0.846766</td>\n",
       "      <td>...</td>\n",
       "      <td>0.004670</td>\n",
       "      <td>NaN</td>\n",
       "      <td>-0.374552</td>\n",
       "      <td>0.211705</td>\n",
       "      <td>0.272108</td>\n",
       "      <td>0.184507</td>\n",
       "      <td>41.960680</td>\n",
       "      <td>0.132396</td>\n",
       "      <td>1</td>\n",
       "      <td>Sy 2</td>\n",
       "    </tr>\n",
       "    <tr>\n",
       "      <th>NGC3718</th>\n",
       "      <td>7.028733</td>\n",
       "      <td>0.591845</td>\n",
       "      <td>0.084467</td>\n",
       "      <td>0</td>\n",
       "      <td>17.945148</td>\n",
       "      <td>0.543096</td>\n",
       "      <td>4.138958</td>\n",
       "      <td>0</td>\n",
       "      <td>0.328068</td>\n",
       "      <td>1.695533</td>\n",
       "      <td>...</td>\n",
       "      <td>0.003312</td>\n",
       "      <td>10.320196</td>\n",
       "      <td>-0.763807</td>\n",
       "      <td>0.201703</td>\n",
       "      <td>0.211985</td>\n",
       "      <td>0.070269</td>\n",
       "      <td>41.627545</td>\n",
       "      <td>0.127077</td>\n",
       "      <td>1</td>\n",
       "      <td>Sy 2</td>\n",
       "    </tr>\n",
       "    <tr>\n",
       "      <th>NGC4138</th>\n",
       "      <td>6.631499</td>\n",
       "      <td>0.032799</td>\n",
       "      <td>0.032718</td>\n",
       "      <td>0</td>\n",
       "      <td>21.526008</td>\n",
       "      <td>0.278430</td>\n",
       "      <td>0.307629</td>\n",
       "      <td>0</td>\n",
       "      <td>0.344721</td>\n",
       "      <td>0.490081</td>\n",
       "      <td>...</td>\n",
       "      <td>0.002962</td>\n",
       "      <td>9.877322</td>\n",
       "      <td>-0.673671</td>\n",
       "      <td>0.200633</td>\n",
       "      <td>0.200798</td>\n",
       "      <td>0.017879</td>\n",
       "      <td>41.836006</td>\n",
       "      <td>0.054829</td>\n",
       "      <td>1</td>\n",
       "      <td>Sy 2</td>\n",
       "    </tr>\n",
       "    <tr>\n",
       "      <th>NGC4941</th>\n",
       "      <td>7.382095</td>\n",
       "      <td>0.058916</td>\n",
       "      <td>0.063186</td>\n",
       "      <td>0</td>\n",
       "      <td>14.298952</td>\n",
       "      <td>0.398577</td>\n",
       "      <td>0.363011</td>\n",
       "      <td>0</td>\n",
       "      <td>1.502155</td>\n",
       "      <td>0.291247</td>\n",
       "      <td>...</td>\n",
       "      <td>0.003696</td>\n",
       "      <td>NaN</td>\n",
       "      <td>-0.988066</td>\n",
       "      <td>0.201034</td>\n",
       "      <td>0.201308</td>\n",
       "      <td>0.022910</td>\n",
       "      <td>41.682076</td>\n",
       "      <td>0.106112</td>\n",
       "      <td>1</td>\n",
       "      <td>Sy 2</td>\n",
       "    </tr>\n",
       "    <tr>\n",
       "      <th>NGC5273</th>\n",
       "      <td>5.464440</td>\n",
       "      <td>0.071563</td>\n",
       "      <td>0.062150</td>\n",
       "      <td>0</td>\n",
       "      <td>27.202459</td>\n",
       "      <td>0.795725</td>\n",
       "      <td>1.138763</td>\n",
       "      <td>0</td>\n",
       "      <td>1.320437</td>\n",
       "      <td>0.469419</td>\n",
       "      <td>...</td>\n",
       "      <td>0.003549</td>\n",
       "      <td>9.821571</td>\n",
       "      <td>-1.232178</td>\n",
       "      <td>0.202455</td>\n",
       "      <td>0.205964</td>\n",
       "      <td>0.049204</td>\n",
       "      <td>41.657422</td>\n",
       "      <td>0.136035</td>\n",
       "      <td>1</td>\n",
       "      <td>Sy 1</td>\n",
       "    </tr>\n",
       "    <tr>\n",
       "      <th>NGC7213</th>\n",
       "      <td>6.916172</td>\n",
       "      <td>0.065857</td>\n",
       "      <td>0.066908</td>\n",
       "      <td>0</td>\n",
       "      <td>20.257244</td>\n",
       "      <td>0.861989</td>\n",
       "      <td>0.820564</td>\n",
       "      <td>0</td>\n",
       "      <td>1.243422</td>\n",
       "      <td>0.337410</td>\n",
       "      <td>...</td>\n",
       "      <td>0.005839</td>\n",
       "      <td>NaN</td>\n",
       "      <td>-0.545396</td>\n",
       "      <td>0.205428</td>\n",
       "      <td>0.205256</td>\n",
       "      <td>0.046912</td>\n",
       "      <td>42.026145</td>\n",
       "      <td>0.048761</td>\n",
       "      <td>1</td>\n",
       "      <td>Sy 2</td>\n",
       "    </tr>\n",
       "    <tr>\n",
       "      <th>NGC7465</th>\n",
       "      <td>6.733795</td>\n",
       "      <td>0.042931</td>\n",
       "      <td>0.040659</td>\n",
       "      <td>0</td>\n",
       "      <td>26.533049</td>\n",
       "      <td>0.522478</td>\n",
       "      <td>0.562465</td>\n",
       "      <td>0</td>\n",
       "      <td>1.240628</td>\n",
       "      <td>0.472083</td>\n",
       "      <td>...</td>\n",
       "      <td>0.006565</td>\n",
       "      <td>NaN</td>\n",
       "      <td>-0.024991</td>\n",
       "      <td>0.200942</td>\n",
       "      <td>0.201502</td>\n",
       "      <td>0.024554</td>\n",
       "      <td>42.088780</td>\n",
       "      <td>0.141885</td>\n",
       "      <td>1</td>\n",
       "      <td>LINER</td>\n",
       "    </tr>\n",
       "  </tbody>\n",
       "</table>\n",
       "<p>9 rows × 44 columns</p>\n",
       "</div>"
      ],
      "text/plain": [
       "            mdust  mdust_err_high  mdust_err_low  mdust_flag      tdust  \\\n",
       "Name                                                                      \n",
       "IC2461   7.093235        0.079094       0.103027           0  19.293414   \n",
       "NGC1052  6.360464        0.137993       0.162568           0  18.160784   \n",
       "NGC2655  7.045785        0.415053       0.154401           0  20.612969   \n",
       "NGC3718  7.028733        0.591845       0.084467           0  17.945148   \n",
       "NGC4138  6.631499        0.032799       0.032718           0  21.526008   \n",
       "NGC4941  7.382095        0.058916       0.063186           0  14.298952   \n",
       "NGC5273  5.464440        0.071563       0.062150           0  27.202459   \n",
       "NGC7213  6.916172        0.065857       0.066908           0  20.257244   \n",
       "NGC7465  6.733795        0.042931       0.040659           0  26.533049   \n",
       "\n",
       "         tdust_err_high  tdust_err_low  tdust_flag     alpha  alpha_err_high  \\\n",
       "Name                                                                           \n",
       "IC2461         1.377373       1.005453           0  2.305960        0.291956   \n",
       "NGC1052        1.714244       1.340894           0  1.569378        0.348421   \n",
       "NGC2655        1.750476       4.280217           0  1.441451        0.846766   \n",
       "NGC3718        0.543096       4.138958           0  0.328068        1.695533   \n",
       "NGC4138        0.278430       0.307629           0  0.344721        0.490081   \n",
       "NGC4941        0.398577       0.363011           0  1.502155        0.291247   \n",
       "NGC5273        0.795725       1.138763           0  1.320437        0.469419   \n",
       "NGC7213        0.861989       0.820564           0  1.243422        0.337410   \n",
       "NGC7465        0.522478       0.562465           0  1.240628        0.472083   \n",
       "\n",
       "          ...     Redshift      Mstar       sfr  sfr_68_up  sfr_68_down  \\\n",
       "Name      ...                                                             \n",
       "IC2461    ...     0.007539   9.470644 -0.496972   0.216717     0.208566   \n",
       "NGC1052   ...     0.005037  10.555279 -1.381072   0.215888     0.215056   \n",
       "NGC2655   ...     0.004670        NaN -0.374552   0.211705     0.272108   \n",
       "NGC3718   ...     0.003312  10.320196 -0.763807   0.201703     0.211985   \n",
       "NGC4138   ...     0.002962   9.877322 -0.673671   0.200633     0.200798   \n",
       "NGC4941   ...     0.003696        NaN -0.988066   0.201034     0.201308   \n",
       "NGC5273   ...     0.003549   9.821571 -1.232178   0.202455     0.205964   \n",
       "NGC7213   ...     0.005839        NaN -0.545396   0.205428     0.205256   \n",
       "NGC7465   ...     0.006565        NaN -0.024991   0.200942     0.201502   \n",
       "\n",
       "          sfr_err       lbat  lbat_err  lbat_flag  Sy_Type  \n",
       "Name                                                        \n",
       "IC2461   0.083465  42.191278  0.088500          1     Sy 2  \n",
       "NGC1052  0.081288  42.123963  0.070124          1     Sy 2  \n",
       "NGC2655  0.184507  41.960680  0.132396          1     Sy 2  \n",
       "NGC3718  0.070269  41.627545  0.127077          1     Sy 2  \n",
       "NGC4138  0.017879  41.836006  0.054829          1     Sy 2  \n",
       "NGC4941  0.022910  41.682076  0.106112          1     Sy 2  \n",
       "NGC5273  0.049204  41.657422  0.136035          1     Sy 1  \n",
       "NGC7213  0.046912  42.026145  0.048761          1     Sy 2  \n",
       "NGC7465  0.024554  42.088780  0.141885          1    LINER  \n",
       "\n",
       "[9 rows x 44 columns]"
      ]
     },
     "execution_count": 93,
     "metadata": {},
     "output_type": "execute_result"
    }
   ],
   "source": [
    "bat_c12[((bat_c12['lbat']) < 42.25) & (bat_c12['sfr'] <0.0)]"
   ]
  },
  {
   "cell_type": "code",
   "execution_count": 26,
   "metadata": {
    "collapsed": false
   },
   "outputs": [
    {
     "data": {
      "text/plain": [
       "<matplotlib.lines.Line2D at 0x11409cf50>"
      ]
     },
     "execution_count": 26,
     "metadata": {},
     "output_type": "execute_result"
    },
    {
     "data": {
      "image/png": "[encoded data removed]",
      "text/plain": [
       "<matplotlib.figure.Figure at 0x1140a6050>"
      ]
     },
     "metadata": {},
     "output_type": "display_data"
    }
   ],
   "source": [
    "bat_lbol = x*1.1157-4.2280\n",
    "bat_lsf = y + np.log10(2.57e43)\n",
    "bat_accretion_rate = bat_lbol - np.log10(0.1) - np.log10(3e10**2) - np.log10(2e33)+np.log10(86400.*365.)\n",
    "sn.distplot(y-bat_accretion_rate)\n",
    "plt.axvline(np.log10(1/1.5e-3))"
   ]
  },
  {
   "cell_type": "code",
   "execution_count": 27,
   "metadata": {
    "collapsed": false
   },
   "outputs": [
    {
     "data": {
      "text/plain": [
       "0.017963080001216391"
      ]
     },
     "execution_count": 27,
     "metadata": {},
     "output_type": "execute_result"
    }
   ],
   "source": [
    "Slope =  0.241116993326  +/-  0.0543287505373\n",
    "Intercept =  -10.2069388483  +/-  2.35668018467\n",
    "Sigsqr =  0.213284447026  +/-  0.0242300402734\n",
    "R^2 =  0.283882502361  +/-  0.0644440519431"
   ]
  },
  {
   "cell_type": "code",
   "execution_count": null,
   "metadata": {
    "collapsed": true
   },
   "outputs": [],
   "source": [
    "Total Sample:\n",
    "Slope =  0.274503859201  +/-  0.0541225381377\n",
    "Intercept =  -11.6134977075  +/-  2.34787971077\n",
    "Sigsqr =  0.201745769233  +/-  0.0229881974809\n",
    "R^2 =  0.328849880074  +/-  0.0643015312713"
   ]
  },
  {
   "cell_type": "code",
   "execution_count": 11,
   "metadata": {
    "collapsed": false
   },
   "outputs": [
    {
     "data": {
      "text/plain": [
       "10.572292253126498"
      ]
     },
     "execution_count": 11,
     "metadata": {},
     "output_type": "execute_result"
    }
   ],
   "source": [
    "bat_c12['Mstar'].median()"
   ]
  },
  {
   "cell_type": "code",
   "execution_count": 68,
   "metadata": {
    "collapsed": false
   },
   "outputs": [
    {
     "data": {
      "image/png": "[encoded data removed]",
      "text/plain": [
       "<matplotlib.figure.Figure at 0x1309d0f10>"
      ]
     },
     "metadata": {},
     "output_type": "display_data"
    }
   ],
   "source": [
    "# Upload the Stanley+15 data\n",
    "stanley15 = pd.read_csv('../data/stanley15_lir_lagn.csv')\n",
    "\n",
    "# Break up into the redshift bins\n",
    "z1 = (stanley15['Redshift'] > 0.2) & (stanley15['Redshift'] < 0.5)\n",
    "z2 = (stanley15['Redshift'] > 0.5) & (stanley15['Redshift'] < 0.8)\n",
    "z3 = (stanley15['Redshift'] > 0.8) & (stanley15['Redshift'] < 1.5)\n",
    "z4 = (stanley15['Redshift'] > 1.5) & (stanley15['Redshift'] < 2.5)\n",
    "\n",
    "bat_avg_lbol = avg_lx*1.1157 - 4.2280\n",
    "bat_avg_sfr = avg_sfr\n",
    "\n",
    "\n",
    "fig = plt.figure(figsize=(columnwidth, 3./4.*columnwidth))\n",
    "\n",
    "ax = fig.add_subplot(111)\n",
    "\n",
    "ax.errorbar(bat_avg_lbol, bat_avg_sfr, xerr = np.vstack([avg_lx_err_down, avg_lx_err_up]),\n",
    "            yerr=avg_sfr_mn_err,\n",
    "            fmt='o', color='k', ls='None', ms=4, label=r'$z<0.05$')\n",
    "ax.errorbar(np.log10(stanley15['LAGN(x10^43)'][z1])+43, np.log10(stanley15['SFR'][z1]),\n",
    "            yerr=np.vstack([0.434*stanley15['SFR_err_low'][z1]/stanley15['SFR'][z1],\n",
    "                            0.434*stanley15['SFR_err_high'][z1]/stanley15['SFR'][z1]]),\n",
    "            fmt='d', color='b', ls='None', ms=5, label=r'$0.2 < z < 0.5$')\n",
    "\n",
    "ax.errorbar(np.log10(stanley15['LAGN(x10^43)'][z2])+43, np.log10(stanley15['SFR'][z2]),\n",
    "            yerr=np.vstack([0.434*stanley15['SFR_err_low'][z2]/stanley15['SFR'][z2],\n",
    "                            0.434*stanley15['SFR_err_high'][z2]/stanley15['SFR'][z2]]),\n",
    "            fmt='^', color='m', ls='None', ms=5, label=r'$0.5 < z < 0.8$')\n",
    "\n",
    "ax.errorbar(np.log10(stanley15['LAGN(x10^43)'][z3])+43, np.log10(stanley15['SFR'][z3]),\n",
    "            yerr=np.vstack([0.434*stanley15['SFR_err_low'][z3]/stanley15['SFR'][z3],\n",
    "                            0.434*stanley15['SFR_err_high'][z3]/stanley15['SFR'][z3]]),\n",
    "            fmt='s', color='g', ls='None', ms=4, label=r'$0.8 < z < 1.5$')\n",
    "\n",
    "ax.errorbar(np.log10(stanley15['LAGN(x10^43)'][z4])+43, np.log10(stanley15['SFR'][z4]),\n",
    "            yerr=np.vstack([0.434*stanley15['SFR_err_low'][z4]/stanley15['SFR'][z4],\n",
    "                            0.434*stanley15['SFR_err_high'][z4]/stanley15['SFR'][z4]]),\n",
    "            fmt='o', color='r', ls='None', ms=4, label=r'$1.5 < z < 2.5$')\n",
    "ax.plot(xfit*1.1157-4.2280, yfit_median, 'k-', lw=1.0, label=r'_nolabel')\n",
    "ax.plot(xfit*1.1157-4.2280, yfit_median+0.5, 'b--', lw=1.0, label=r'_nolabel')\n",
    "ax.plot(xfit*1.1157-4.2280, yfit_median+0.9, 'm--', lw=1.0, label=r'_nolabel')\n",
    "ax.plot(xfit*1.1157-4.2280, yfit_median+1.3, 'g--', lw=1.0, label=r'_nolabel')\n",
    "ax.plot(xfit*1.1157-4.2280, yfit_median+1.7, 'r--', lw=1.0, label=r'_nolabel')\n",
    "\n",
    "ax.set_xlim(41.5, 47.5)\n",
    "ax.set_ylim(-2, 3.0)\n",
    "ax.set_xlabel(r'$\\log L_{\\rm AGN}$ [ergs s$^{-1}$]')\n",
    "ax.set_ylabel(r'$\\log$ SFR [$M_{\\odot}$ yr$^{-1}$]')\n",
    "ax.legend(loc='lower right', fontsize=6)\n",
    "sn.despine()\n",
    "fig.savefig('../figures/lagn_sfr_relationship_with_stanley15.pdf', bbox_inches='tight')"
   ]
  }
 ],
 "metadata": {
  "kernelspec": {
   "display_name": "Python 2",
   "language": "python",
   "name": "python2"
  },
  "language_info": {
   "codemirror_mode": {
    "name": "ipython",
    "version": 2
   },
   "file_extension": ".py",
   "mimetype": "text/x-python",
   "name": "python",
   "nbconvert_exporter": "python",
   "pygments_lexer": "ipython2",
   "version": "2.7.11"
  }
 },
 "nbformat": 4,
 "nbformat_minor": 0
}
