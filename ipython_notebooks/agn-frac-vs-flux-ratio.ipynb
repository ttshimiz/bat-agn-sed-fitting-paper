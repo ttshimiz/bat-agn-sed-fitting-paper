{
 "cells": [
  {
   "cell_type": "code",
   "execution_count": 1,
   "metadata": {
    "collapsed": false
   },
   "outputs": [
    {
     "name": "stderr",
     "output_type": "stream",
     "text": [
      "/Users/ttshimiz/anaconda/lib/python2.7/site-packages/matplotlib/font_manager.py:273: UserWarning: Matplotlib is building the font cache using fc-list. This may take a moment.\n",
      "  warnings.warn('Matplotlib is building the font cache using fc-list. This may take a moment.')\n"
     ]
    }
   ],
   "source": [
    "# Standard module imports\n",
    "import numpy as np\n",
    "import scipy.stats as stats\n",
    "import pandas as pd\n",
    "import sys\n",
    "%matplotlib inline\n",
    "\n",
    "# Useful directories\n",
    "gh_dir = '/Users/ttshimiz/Github/'\n",
    "sed_fit_dir = gh_dir + 'bat-agn-sed-fitting/'\n",
    "casey_dir = sed_fit_dir + 'analysis/casey_bayes_results/'\n",
    "data_dir = gh_dir + 'bat-data/'"
   ]
  },
  {
   "cell_type": "code",
   "execution_count": 2,
   "metadata": {
    "collapsed": false
   },
   "outputs": [
    {
     "name": "stderr",
     "output_type": "stream",
     "text": [
      ":0: FutureWarning: IPython widgets are experimental and may change in the future.\n"
     ]
    }
   ],
   "source": [
    "# Setup the figures\n",
    "execfile('../code/figure-setup.py')"
   ]
  },
  {
   "cell_type": "code",
   "execution_count": 3,
   "metadata": {
    "collapsed": true
   },
   "outputs": [],
   "source": [
    "# Upload the fitting results for the C12 model\n",
    "bat_c12 = pd.read_csv('../data/bat-agn-c12-params.csv', index_col=0)\n",
    "\n",
    "# Remove 'bad' sources\n",
    "radio_loud_sources = np.array(['PICTORA', '3C111.0', '3C120',\n",
    "                              '2MASXJ23272195+1524375', 'PKS2331-240',\n",
    "                              'HB890241+622', 'Mrk3'])\n",
    "bat_c12 = bat_c12.drop(radio_loud_sources)\n",
    "bat_c12.loc['UGC06728', 'lir_sf'] += 2.0\n",
    "bat_c12.loc['UGC06728', 'mdust'] += 2.0"
   ]
  },
  {
   "cell_type": "code",
   "execution_count": 5,
   "metadata": {
    "collapsed": false
   },
   "outputs": [
    {
     "name": "stderr",
     "output_type": "stream",
     "text": [
      "/Users/ttshimiz/anaconda/lib/python2.7/site-packages/IPython/kernel/__main__.py:13: SettingWithCopyWarning: \n",
      "A value is trying to be set on a copy of a slice from a DataFrame\n",
      "\n",
      "See the caveats in the documentation: http://pandas.pydata.org/pandas-docs/stable/indexing.html#indexing-view-versus-copy\n",
      "/Users/ttshimiz/anaconda/lib/python2.7/site-packages/IPython/kernel/__main__.py:14: SettingWithCopyWarning: \n",
      "A value is trying to be set on a copy of a slice from a DataFrame\n",
      "\n",
      "See the caveats in the documentation: http://pandas.pydata.org/pandas-docs/stable/indexing.html#indexing-view-versus-copy\n",
      "/Users/ttshimiz/anaconda/lib/python2.7/site-packages/IPython/kernel/__main__.py:15: SettingWithCopyWarning: \n",
      "A value is trying to be set on a copy of a slice from a DataFrame\n",
      "\n",
      "See the caveats in the documentation: http://pandas.pydata.org/pandas-docs/stable/indexing.html#indexing-view-versus-copy\n",
      "/Users/ttshimiz/anaconda/lib/python2.7/site-packages/IPython/kernel/__main__.py:16: SettingWithCopyWarning: \n",
      "A value is trying to be set on a copy of a slice from a DataFrame\n",
      "\n",
      "See the caveats in the documentation: http://pandas.pydata.org/pandas-docs/stable/indexing.html#indexing-view-versus-copy\n",
      "/Users/ttshimiz/anaconda/lib/python2.7/site-packages/IPython/kernel/__main__.py:17: SettingWithCopyWarning: \n",
      "A value is trying to be set on a copy of a slice from a DataFrame\n",
      "\n",
      "See the caveats in the documentation: http://pandas.pydata.org/pandas-docs/stable/indexing.html#indexing-view-versus-copy\n",
      "/Users/ttshimiz/anaconda/lib/python2.7/site-packages/IPython/kernel/__main__.py:18: SettingWithCopyWarning: \n",
      "A value is trying to be set on a copy of a slice from a DataFrame\n",
      "\n",
      "See the caveats in the documentation: http://pandas.pydata.org/pandas-docs/stable/indexing.html#indexing-view-versus-copy\n"
     ]
    }
   ],
   "source": [
    "# Upload the WISE and Herschel data\n",
    "# Upload the BAT fluxes for Herschel and WISE\n",
    "herschel_data = pd.read_csv(data_dir+'bat_herschel.csv', index_col=0,\n",
    "                            na_values=0)\n",
    "wise_data = pd.read_csv(data_dir+'bat_wise.csv', index_col=0,\n",
    "                        usecols=[0, 1, 2, 4, 5, 7, 8, 10, 11], na_values=0)\n",
    "\n",
    "# SPIRE fluxes that are seriously contaminated by a companion should be upper limits\n",
    "psw_flag = herschel_data['PSW_flag']\n",
    "pmw_flag = herschel_data['PMW_flag']\n",
    "plw_flag = herschel_data['PLW_flag']\n",
    "\n",
    "herschel_data['PSW_err'][psw_flag == 'AD'] = herschel_data['PSW'][psw_flag == 'AD']\n",
    "herschel_data['PSW'][psw_flag == 'AD'] = np.nan\n",
    "herschel_data['PMW_err'][pmw_flag == 'AD'] = herschel_data['PMW'][pmw_flag == 'AD']\n",
    "herschel_data['PMW'][pmw_flag == 'AD'] = np.nan\n",
    "herschel_data['PLW_err'][plw_flag == 'AD'] = herschel_data['PLW'][plw_flag == 'AD']\n",
    "herschel_data['PLW'][plw_flag == 'AD'] = np.nan"
   ]
  },
  {
   "cell_type": "code",
   "execution_count": 46,
   "metadata": {
    "collapsed": false
   },
   "outputs": [],
   "source": [
    "use_sources = bat_c12[bat_c12['agn_frac_flag'] == 0].index\n",
    "flux_ratios = pd.DataFrame(index=use_sources)\n",
    "\n",
    "flux_ratios['agn_frac'] = bat_c12['agn_frac']\n",
    "flux_ratios['agn_frac_err_low'] = bat_c12['agn_frac_err_low']\n",
    "flux_ratios['agn_frac_err_high'] = bat_c12['agn_frac_err_high']\n",
    "\n",
    "flux_ratios['W1/W2'] = wise_data['W1']/wise_data['W2']\n",
    "flux_ratios['W2/W3'] = wise_data['W2']/wise_data['W3']\n",
    "flux_ratios['W3/W4'] = wise_data['W3']/wise_data['W4']\n",
    "flux_ratios['W3/H70'] = wise_data['W3']/herschel_data['PACS70']\n",
    "flux_ratios['W3/H160'] = wise_data['W3']/herschel_data['PACS160']\n",
    "flux_ratios['W3/H250'] = wise_data['W3']/herschel_data['PSW']\n",
    "flux_ratios['W4/H70'] = wise_data['W4']/herschel_data['PACS70']\n",
    "flux_ratios['W4/H160'] = wise_data['W4']/herschel_data['PACS160']\n",
    "flux_ratios['W4/H250'] = wise_data['W4']/herschel_data['PSW']\n",
    "flux_ratios['H70/H160'] = herschel_data['PACS70']/herschel_data['PACS160']\n",
    "flux_ratios['H70/H250'] = herschel_data['PACS70']/herschel_data['PSW']\n",
    "flux_ratios['H160/H250'] = herschel_data['PACS160']/herschel_data['PSW']"
   ]
  },
  {
   "cell_type": "code",
   "execution_count": 42,
   "metadata": {
    "collapsed": true
   },
   "outputs": [],
   "source": [
    "hrs_data = pd.read_table('../../hrs-data/hrs_photometry.txt', index_col=0)\n",
    "hrs_sed = pd.DataFrame({'W3': hrs_data['S12'], 'W4': hrs_data['S22'],\n",
    "                        'PACS100': hrs_data['S100']*1000, 'PACS160': hrs_data['S160']*1000,\n",
    "                        'PSW': hrs_data['S250'], 'PMW': hrs_data['S350'],\n",
    "                        'PLW': hrs_data['S500']})\n",
    "hrs_err = pd.DataFrame({'W3_err': hrs_data['err12'], 'W4_err': hrs_data['err22'],\n",
    "                        'PACS100_err': hrs_data['err100']*1000, 'PACS160_err': hrs_data['err160']*1000,\n",
    "                        'PSW_err': hrs_data['err_tot250'], 'PMW_err': hrs_data['err_tot350'],\n",
    "                        'PLW_err': hrs_data['err_tot500']})\n",
    "hrs_flag = hrs_data[['Flag12', 'Flag22', 'Flag100', 'Flag160', 'Flag250', 'Flag350', 'Flag500']]\n",
    "\n",
    "hrs_err.loc[hrs_flag['Flag12'] == 0, 'W3_err'] = 5./3.*hrs_err.loc[hrs_flag['Flag12'] == 0, 'W3_err']\n",
    "hrs_err.loc[hrs_flag['Flag22'] == 0, 'W4_err'] = 5./3.*hrs_err.loc[hrs_flag['Flag22'] == 0, 'W4_err']\n",
    "hrs_err.loc[hrs_flag['Flag100'] == 0, 'PACS100_err'] = 5./3.*hrs_sed.loc[hrs_flag['Flag100'] == 0, 'PACS100']\n",
    "hrs_err.loc[hrs_flag['Flag160'] == 0, 'PACS160_err'] = 5./3.*hrs_sed.loc[hrs_flag['Flag160'] == 0, 'PACS160']\n",
    "hrs_err.loc[hrs_flag['Flag250'] == 0, 'PSW_err'] = 5./3.*hrs_sed.loc[hrs_flag['Flag250'] == 0, 'PSW']\n",
    "hrs_err.loc[hrs_flag['Flag350'] == 0, 'PMW_err'] = 5./3.*hrs_sed.loc[hrs_flag['Flag350'] == 0, 'PMW']\n",
    "hrs_err.loc[hrs_flag['Flag500'] == 0, 'PLW_err'] = 5./3.*hrs_sed.loc[hrs_flag['Flag500'] == 0, 'PLW']\n",
    "\n",
    "hrs_sed.loc[hrs_flag['Flag12'] == 0, 'W3'] = np.nan\n",
    "hrs_sed.loc[hrs_flag['Flag22'] == 0, 'W4'] = np.nan\n",
    "hrs_sed.loc[hrs_flag['Flag100'] == 0, 'PACS100'] = np.nan\n",
    "hrs_sed.loc[hrs_flag['Flag160'] == 0, 'PACS160'] = np.nan\n",
    "hrs_sed.loc[hrs_flag['Flag250'] == 0, 'PSW'] = np.nan\n",
    "hrs_sed.loc[hrs_flag['Flag350'] == 0, 'PMW'] = np.nan\n",
    "hrs_sed.loc[hrs_flag['Flag500'] == 0, 'PLW'] = np.nan"
   ]
  },
  {
   "cell_type": "code",
   "execution_count": 45,
   "metadata": {
    "collapsed": false
   },
   "outputs": [],
   "source": [
    "flux_ratios_hrs = pd.DataFrame(index=hrs_sed.index)\n",
    "flux_ratios_hrs['W3/H160'] = hrs_sed['W3']/hrs_sed['PACS160']\n",
    "flux_ratios_hrs['W3/H250'] = hrs_sed['W3']/hrs_sed['PSW']\n",
    "flux_ratios_hrs['W4/H160'] = hrs_sed['W4']/hrs_sed['PACS160']\n",
    "flux_ratios_hrs['W4/H250'] = hrs_sed['W4']/hrs_sed['PSW']\n",
    "flux_ratios_hrs['agn_frac'] = np.zeros(len(flux_ratios_hrs))"
   ]
  },
  {
   "cell_type": "code",
   "execution_count": 65,
   "metadata": {
    "collapsed": true
   },
   "outputs": [],
   "source": [
    "kf_dir = '/Users/ttshimiz/Dropbox/Research/Thesis/Other_surveys/KINGFISH/'\n",
    "kf_data = pd.read_table(kf_dir+'kingfish_data.txt', delimiter='\\t', index_col=0, na_values=0)\n",
    "\n",
    "flux_ratios_kf = pd.DataFrame(index=kf_data.index)\n",
    "flux_ratios_kf['W3/H70'] = kf_data['IRAC4']/kf_data['PACS70']\n",
    "flux_ratios_kf['W3/H160'] = kf_data['IRAC4']/kf_data['PACS160']\n",
    "flux_ratios_kf['W3/H250'] = kf_data['IRAC4']/kf_data['PSW']\n",
    "flux_ratios_kf['W4/H160'] = kf_data['MIPS24']/kf_data['PACS70']\n",
    "flux_ratios_kf['W4/H160'] = kf_data['MIPS24']/kf_data['PACS160']\n",
    "flux_ratios_kf['W4/H250'] = kf_data['MIPS24']/kf_data['PSW']\n",
    "flux_ratios_kf['agn_frac'] = np.zeros(len(flux_ratios_kf))"
   ]
  },
  {
   "cell_type": "code",
   "execution_count": 81,
   "metadata": {
    "collapsed": false,
    "scrolled": true
   },
   "outputs": [
    {
     "data": {
      "image/png": "[encoded data removed]",
      "text/plain": [
       "<matplotlib.figure.Figure at 0x11dd16810>"
      ]
     },
     "metadata": {},
     "output_type": "display_data"
    }
   ],
   "source": [
    "fig = plt.figure(figsize=(textwidth, 2./3.*textwidth))\n",
    "mark_size = 20\n",
    "\n",
    "ax1 = fig.add_subplot(231)\n",
    "ax1.scatter(np.log10(flux_ratios['W3/H70']), flux_ratios['agn_frac'], c='b', s=mark_size)\n",
    "ax1.text(0.75, 0.1, '12/70', ha='left', va='top', transform=ax1.transAxes)\n",
    "ax1.locator_params(axis='x', nbins=5)\n",
    "ax1.set_ylabel(r'$f_{AGN}$ (8-1000 $\\mu$m)')\n",
    "ax12 = ax1.twinx()\n",
    "sn.kdeplot(np.log10(flux_ratios_kf['W3/H160']), ax=ax12, color='r', legend=False)\n",
    "ax12_ylim = ax12.get_ylim()\n",
    "ax12.set_ylim((0, ax12_ylim[1]*3))\n",
    "ax12.yaxis.set_ticklabels([])\n",
    "ax12.yaxis.set_ticks([])\n",
    "ax12.set_xlim(-2, 1)\n",
    "ax1.set_ylim(0, 1)\n",
    "\n",
    "ax2 = fig.add_subplot(232)\n",
    "ax2.scatter(np.log10(flux_ratios['W3/H160']), flux_ratios['agn_frac'], c='b', s=mark_size)\n",
    "ax2.yaxis.set_ticklabels([])\n",
    "ax2.text(0.75, 0.1, '12/160', ha='left', va='top', transform=ax2.transAxes)\n",
    "ax2.locator_params(axis='x', nbins=5)\n",
    "ax22 = ax2.twinx()\n",
    "sn.kdeplot(np.log10(flux_ratios_hrs['W3/H160']), ax=ax22, color='r', legend=False)\n",
    "ax22_ylim = ax22.get_ylim()\n",
    "ax22.set_ylim((ax22_ylim[0], ax22_ylim[1]*3))\n",
    "ax22.yaxis.set_ticklabels([])\n",
    "ax22.yaxis.set_ticks([])\n",
    "ax22.set_xlim(-2, 1)\n",
    "ax2.set_ylim(0, 1)\n",
    "\n",
    "ax3 = fig.add_subplot(233)\n",
    "plt.scatter(np.log10(flux_ratios['W3/H250']), flux_ratios['agn_frac'], c='b', s=mark_size)\n",
    "ax3.yaxis.set_ticklabels([])\n",
    "ax3.text(0.75, 0.1, '12/250', ha='left', va='top', transform=ax3.transAxes)\n",
    "ax3.locator_params(axis='x', nbins=5)\n",
    "ax32 = ax3.twinx()\n",
    "sn.kdeplot(np.log10(flux_ratios_hrs['W3/H250']), ax=ax32, color='r', legend=False)\n",
    "ax32_ylim = ax32.get_ylim()\n",
    "ax32.set_ylim((ax32_ylim[0], ax32_ylim[1]*3))\n",
    "ax32.yaxis.set_ticklabels([])\n",
    "ax32.yaxis.set_ticks([])\n",
    "ax32.set_xlim(-2, 1)\n",
    "\n",
    "ax4 = fig.add_subplot(234)\n",
    "plt.scatter(np.log10(flux_ratios['W4/H70']), flux_ratios['agn_frac'], c='b', s=mark_size)\n",
    "ax4.set_ylabel(r'$f_{AGN}$ (8-1000 $\\mu$m)')\n",
    "ax4.text(0.75, 0.1, '22/70', ha='left', va='top', transform=ax4.transAxes)\n",
    "ax4.locator_params(axis='x', nbins=5)\n",
    "ax42 = ax4.twinx()\n",
    "sn.kdeplot(np.log10(flux_ratios_kf['W4/H160']), ax=ax42, color='r', legend=False)\n",
    "ax42_ylim = ax42.get_ylim()\n",
    "ax42.set_ylim((ax42_ylim[0], ax42_ylim[1]*3))\n",
    "ax42.yaxis.set_ticklabels([])\n",
    "ax42.yaxis.set_ticks([])\n",
    "ax42.set_xlim(-2, 1)\n",
    "ax4.set_ylim(0, 1)\n",
    "\n",
    "ax5 = fig.add_subplot(235)\n",
    "plt.scatter(np.log10(flux_ratios['W4/H160']), flux_ratios['agn_frac'], c='b', s=mark_size)\n",
    "ax5.yaxis.set_ticklabels([])\n",
    "ax5.text(0.75, 0.1, '22/160', ha='left', va='top', transform=ax5.transAxes)\n",
    "ax5.locator_params(axis='x', nbins=5)\n",
    "ax52 = ax5.twinx()\n",
    "sn.kdeplot(np.log10(flux_ratios_hrs['W4/H160']), ax=ax52, color='r', legend=False)\n",
    "ax52_ylim = ax52.get_ylim()\n",
    "ax52.set_ylim((ax52_ylim[0], ax52_ylim[1]*3))\n",
    "ax52.yaxis.set_ticklabels([])\n",
    "ax52.yaxis.set_ticks([])\n",
    "ax52.set_xlim(-2, 1)\n",
    "ax5.set_ylim(0, 1)\n",
    "\n",
    "ax6 = fig.add_subplot(236)\n",
    "plt.scatter(np.log10(flux_ratios['W4/H250']), flux_ratios['agn_frac'], c='b', s=mark_size)\n",
    "ax6.yaxis.set_ticklabels([])\n",
    "ax6.text(0.75, 0.1, '22/250', ha='left', va='top', transform=ax6.transAxes)\n",
    "ax6.locator_params(axis='x', nbins=5)\n",
    "ax62 = ax6.twinx()\n",
    "sn.kdeplot(np.log10(flux_ratios_hrs['W4/H250']), ax=ax62, color='r', legend=False)\n",
    "ax62_ylim = ax62.get_ylim()\n",
    "ax62.set_ylim((ax62_ylim[0], ax62_ylim[1]*3))\n",
    "ax62.yaxis.set_ticklabels([])\n",
    "ax62.yaxis.set_ticks([])\n",
    "ax62.set_xlim(-2, 1)\n",
    "\n",
    "fig.subplots_adjust(hspace=0.3, wspace=0.3)\n",
    "sn.despine()\n",
    "\n",
    "fig.savefig(figsave_dir+'agnfrac_vs_flux_ratio.pdf', bbox_inches='tight')"
   ]
  },
  {
   "cell_type": "code",
   "execution_count": 83,
   "metadata": {
    "collapsed": false
   },
   "outputs": [
    {
     "data": {
      "text/plain": [
       "-1.7024546980102426"
      ]
     },
     "execution_count": 83,
     "metadata": {},
     "output_type": "execute_result"
    }
   ],
   "source": [
    "np.log10(flux_ratios['W3/H70']).min()"
   ]
  }
 ],
 "metadata": {
  "kernelspec": {
   "display_name": "Python 2",
   "language": "python",
   "name": "python2"
  },
  "language_info": {
   "codemirror_mode": {
    "name": "ipython",
    "version": 2
   },
   "file_extension": ".py",
   "mimetype": "text/x-python",
   "name": "python",
   "nbconvert_exporter": "python",
   "pygments_lexer": "ipython2",
   "version": "2.7.11"
  }
 },
 "nbformat": 4,
 "nbformat_minor": 0
}
