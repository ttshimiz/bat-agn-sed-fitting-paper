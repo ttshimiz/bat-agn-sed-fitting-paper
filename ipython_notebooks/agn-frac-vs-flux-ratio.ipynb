{
 "cells": [
  {
   "cell_type": "code",
   "execution_count": 2,
   "metadata": {
    "collapsed": false
   },
   "outputs": [
    {
     "name": "stderr",
     "output_type": "stream",
     "text": [
      "/Users/ttshimiz/anaconda/lib/python2.7/site-packages/matplotlib/font_manager.py:273: UserWarning: Matplotlib is building the font cache using fc-list. This may take a moment.\n",
      "  warnings.warn('Matplotlib is building the font cache using fc-list. This may take a moment.')\n"
     ]
    }
   ],
   "source": [
    "# Standard module imports\n",
    "import numpy as np\n",
    "import scipy.stats as stats\n",
    "import pandas as pd\n",
    "import sys\n",
    "import linmix\n",
    "%matplotlib inline\n",
    "\n",
    "# Useful directories\n",
    "gh_dir = '/Users/ttshimiz/Github/'\n",
    "sed_fit_dir = gh_dir + 'bat-agn-sed-fitting/'\n",
    "casey_dir = sed_fit_dir + 'analysis/casey_bayes_results/'\n",
    "data_dir = gh_dir + 'bat-data/'\n",
    "\n",
    "sys.path.append(sed_fit_dir)\n",
    "import models as bat_mod\n",
    "from fitting import Filters \n",
    "import pickle\n",
    "import os"
   ]
  },
  {
   "cell_type": "code",
   "execution_count": 3,
   "metadata": {
    "collapsed": false
   },
   "outputs": [
    {
     "name": "stderr",
     "output_type": "stream",
     "text": [
      ":0: FutureWarning: IPython widgets are experimental and may change in the future.\n"
     ]
    }
   ],
   "source": [
    "# Setup the figures\n",
    "execfile('../code/figure-setup.py')"
   ]
  },
  {
   "cell_type": "code",
   "execution_count": 4,
   "metadata": {
    "collapsed": true
   },
   "outputs": [],
   "source": [
    "# Upload the fitting results for the C12 model\n",
    "bat_c12 = pd.read_csv('../data/bat-agn-c12-params.csv', index_col=0)\n",
    "\n",
    "# Remove 'bad' sources\n",
    "radio_loud_sources = np.array(['PICTORA', '3C111.0', '3C120',\n",
    "                              '2MASXJ23272195+1524375', 'PKS2331-240',\n",
    "                              'HB890241+622', 'Mrk3'])\n",
    "bat_c12 = bat_c12.drop(radio_loud_sources)\n",
    "#bat_c12.loc['UGC06728', 'lir_sf'] += 2.0\n",
    "#bat_c12.loc['UGC06728', 'mdust'] += 2.0"
   ]
  },
  {
   "cell_type": "code",
   "execution_count": 7,
   "metadata": {
    "collapsed": false
   },
   "outputs": [
    {
     "name": "stderr",
     "output_type": "stream",
     "text": [
      "/Users/ttshimiz/anaconda/lib/python2.7/site-packages/IPython/kernel/__main__.py:13: SettingWithCopyWarning: \n",
      "A value is trying to be set on a copy of a slice from a DataFrame\n",
      "\n",
      "See the caveats in the documentation: http://pandas.pydata.org/pandas-docs/stable/indexing.html#indexing-view-versus-copy\n",
      "/Users/ttshimiz/anaconda/lib/python2.7/site-packages/IPython/kernel/__main__.py:14: SettingWithCopyWarning: \n",
      "A value is trying to be set on a copy of a slice from a DataFrame\n",
      "\n",
      "See the caveats in the documentation: http://pandas.pydata.org/pandas-docs/stable/indexing.html#indexing-view-versus-copy\n",
      "/Users/ttshimiz/anaconda/lib/python2.7/site-packages/IPython/kernel/__main__.py:15: SettingWithCopyWarning: \n",
      "A value is trying to be set on a copy of a slice from a DataFrame\n",
      "\n",
      "See the caveats in the documentation: http://pandas.pydata.org/pandas-docs/stable/indexing.html#indexing-view-versus-copy\n",
      "/Users/ttshimiz/anaconda/lib/python2.7/site-packages/IPython/kernel/__main__.py:16: SettingWithCopyWarning: \n",
      "A value is trying to be set on a copy of a slice from a DataFrame\n",
      "\n",
      "See the caveats in the documentation: http://pandas.pydata.org/pandas-docs/stable/indexing.html#indexing-view-versus-copy\n",
      "/Users/ttshimiz/anaconda/lib/python2.7/site-packages/IPython/kernel/__main__.py:17: SettingWithCopyWarning: \n",
      "A value is trying to be set on a copy of a slice from a DataFrame\n",
      "\n",
      "See the caveats in the documentation: http://pandas.pydata.org/pandas-docs/stable/indexing.html#indexing-view-versus-copy\n",
      "/Users/ttshimiz/anaconda/lib/python2.7/site-packages/IPython/kernel/__main__.py:18: SettingWithCopyWarning: \n",
      "A value is trying to be set on a copy of a slice from a DataFrame\n",
      "\n",
      "See the caveats in the documentation: http://pandas.pydata.org/pandas-docs/stable/indexing.html#indexing-view-versus-copy\n"
     ]
    }
   ],
   "source": [
    "# Upload the WISE and Herschel data\n",
    "# Upload the BAT fluxes for Herschel and WISE\n",
    "herschel_data = pd.read_csv(data_dir+'bat_herschel.csv', index_col=0,\n",
    "                            na_values=0)\n",
    "wise_data = pd.read_csv(data_dir+'bat_wise.csv', index_col=0,\n",
    "                        usecols=[0, 1, 2, 4, 5, 7, 8, 10, 11], na_values=0)\n",
    "\n",
    "# SPIRE fluxes that are seriously contaminated by a companion should be upper limits\n",
    "psw_flag = herschel_data['PSW_flag']\n",
    "pmw_flag = herschel_data['PMW_flag']\n",
    "plw_flag = herschel_data['PLW_flag']\n",
    "\n",
    "herschel_data['PSW_err'][psw_flag == 'AD'] = herschel_data['PSW'][psw_flag == 'AD']\n",
    "herschel_data['PSW'][psw_flag == 'AD'] = np.nan\n",
    "herschel_data['PMW_err'][pmw_flag == 'AD'] = herschel_data['PMW'][pmw_flag == 'AD']\n",
    "herschel_data['PMW'][pmw_flag == 'AD'] = np.nan\n",
    "herschel_data['PLW_err'][plw_flag == 'AD'] = herschel_data['PLW'][plw_flag == 'AD']\n",
    "herschel_data['PLW'][plw_flag == 'AD'] = np.nan"
   ]
  },
  {
   "cell_type": "code",
   "execution_count": 8,
   "metadata": {
    "collapsed": false
   },
   "outputs": [
    {
     "name": "stdout",
     "output_type": "stream",
     "text": [
      "Correlation Coefficients:\n",
      "W3 vs. H70:  0.693239556792\n",
      "W3 vs. H160:  0.665995370015\n",
      "W3 vs. H250:  0.698873301807\n",
      "W4 vs. H70:  0.639830196891\n",
      "W4 vs. H160:  0.581619200204\n",
      "W4 vs. H250:  0.60241877469\n"
     ]
    }
   ],
   "source": [
    "ind_w3_h70 = (herschel_data['PACS70'] > 0) & (wise_data['W3'] > 0)\n",
    "rho_w3_h70 = stats.pearsonr(wise_data.loc[ind_w3_h70, 'W3'], herschel_data.loc[ind_w3_h70, 'PACS70'])\n",
    "\n",
    "ind_w3_h160 = (herschel_data['PACS160'] > 0) & (wise_data['W3'] > 0)\n",
    "rho_w3_h160 = stats.pearsonr(wise_data.loc[ind_w3_h160, 'W3'], herschel_data.loc[ind_w3_h160, 'PACS160'])\n",
    "\n",
    "ind_w3_h250 = (herschel_data['PSW'] > 0) & (wise_data['W3'] > 0)\n",
    "rho_w3_h250 = stats.pearsonr(wise_data.loc[ind_w3_h250, 'W3'], herschel_data.loc[ind_w3_h250, 'PSW'])\n",
    "\n",
    "ind_w4_h70 = (herschel_data['PACS70'] > 0) & (wise_data['W4'] > 0)\n",
    "rho_w4_h70 = stats.pearsonr(wise_data.loc[ind_w4_h70, 'W4'], herschel_data.loc[ind_w4_h70, 'PACS70'])\n",
    "\n",
    "ind_w4_h160 = (herschel_data['PACS160'] > 0) & (wise_data['W4'] > 0)\n",
    "rho_w4_h160 = stats.pearsonr(wise_data.loc[ind_w4_h160, 'W4'], herschel_data.loc[ind_w4_h160, 'PACS160'])\n",
    "\n",
    "ind_w4_h250 = (herschel_data['PSW'] > 0) & (wise_data['W4'] > 0)\n",
    "rho_w4_h250 = stats.pearsonr(wise_data.loc[ind_w4_h250, 'W4'], herschel_data.loc[ind_w4_h250, 'PSW'])\n",
    "\n",
    "print 'Correlation Coefficients:'\n",
    "print 'W3 vs. H70: ', rho_w3_h70[0]\n",
    "print 'W3 vs. H160: ', rho_w3_h160[0]\n",
    "print 'W3 vs. H250: ', rho_w3_h250[0]\n",
    "print 'W4 vs. H70: ', rho_w4_h70[0]\n",
    "print 'W4 vs. H160: ', rho_w4_h160[0]\n",
    "print 'W4 vs. H250: ', rho_w4_h250[0]"
   ]
  },
  {
   "cell_type": "code",
   "execution_count": 9,
   "metadata": {
    "collapsed": false
   },
   "outputs": [],
   "source": [
    "use_sources = bat_c12[bat_c12['agn_frac_flag'] <= 0].index\n",
    "flux_ratios = pd.DataFrame(index=use_sources)\n",
    "\n",
    "flux_ratios['agn_frac'] = bat_c12['agn_frac']\n",
    "flux_ratios['agn_frac_err_low'] = bat_c12['agn_frac_err_low']\n",
    "flux_ratios['agn_frac_err_high'] = bat_c12['agn_frac_err_high']\n",
    "flux_ratios['agn_frac_flag'] = bat_c12['agn_frac_flag']\n",
    "\n",
    "flux_ratios['W1/W2'] = wise_data['W1']/wise_data['W2']\n",
    "flux_ratios['W2/W3'] = wise_data['W2']/wise_data['W3']\n",
    "flux_ratios['W3/W4'] = wise_data['W3']/wise_data['W4']\n",
    "flux_ratios['W3/H70'] = wise_data['W3']/herschel_data['PACS70']\n",
    "flux_ratios['W3/H70_err'] = flux_ratios['W3/H70']*np.sqrt((wise_data['W3_err']/wise_data['W3'])**2 +\n",
    "                            (herschel_data['PACS70_err']/herschel_data['PACS70'])**2 -\n",
    "                            (2*0.69*wise_data['W3_err']*herschel_data['PACS70_err']/wise_data['W3']/herschel_data['PACS70']))\n",
    "flux_ratios['W3/H160'] = wise_data['W3']/herschel_data['PACS160']\n",
    "flux_ratios['W3/H160_err'] = flux_ratios['W3/H160']*np.sqrt((wise_data['W3_err']/wise_data['W3'])**2 +\n",
    "                            (herschel_data['PACS160_err']/herschel_data['PACS160'])**2 -\n",
    "                            (2*0.67*wise_data['W3_err']*herschel_data['PACS160_err']/wise_data['W3']/herschel_data['PACS160']))\n",
    "flux_ratios['W3/H250'] = wise_data['W3']/herschel_data['PSW']\n",
    "flux_ratios['W3/H250_err'] = flux_ratios['W3/H250']*np.sqrt((wise_data['W3_err']/wise_data['W3'])**2 +\n",
    "                            (herschel_data['PSW_err']/herschel_data['PSW'])**2 -\n",
    "                            (2*0.70*wise_data['W3_err']*herschel_data['PSW_err']/wise_data['W3']/herschel_data['PSW']))\n",
    "flux_ratios['W4/H70'] = wise_data['W4']/herschel_data['PACS70']\n",
    "flux_ratios['W4/H70_err'] = flux_ratios['W4/H70']*np.sqrt((wise_data['W4_err']/wise_data['W4'])**2 +\n",
    "                            (herschel_data['PACS70_err']/herschel_data['PACS70'])**2 -\n",
    "                            (2*0.64*wise_data['W4_err']*herschel_data['PACS70_err']/wise_data['W4']/herschel_data['PACS70']))\n",
    "flux_ratios['W4/H160'] = wise_data['W4']/herschel_data['PACS160']\n",
    "flux_ratios['W4/H160_err'] = flux_ratios['W4/H160']*np.sqrt((wise_data['W4_err']/wise_data['W4'])**2 +\n",
    "                            (herschel_data['PACS160_err']/herschel_data['PACS160'])**2 -\n",
    "                            (2*0.64*wise_data['W4_err']*herschel_data['PACS160_err']/wise_data['W4']/herschel_data['PACS160']))\n",
    "flux_ratios['W4/H250'] = wise_data['W4']/herschel_data['PSW']\n",
    "flux_ratios['W4/H250_err'] = flux_ratios['W4/H250']*np.sqrt((wise_data['W4_err']/wise_data['W4'])**2 +\n",
    "                            (herschel_data['PSW_err']/herschel_data['PSW'])**2 -\n",
    "                            (2*0.64*wise_data['W4_err']*herschel_data['PSW_err']/wise_data['W4']/herschel_data['PSW']))\n",
    "flux_ratios['H70/H160'] = herschel_data['PACS70']/herschel_data['PACS160']\n",
    "flux_ratios['H70/H250'] = herschel_data['PACS70']/herschel_data['PSW']\n",
    "flux_ratios['H160/H250'] = herschel_data['PACS160']/herschel_data['PSW']"
   ]
  },
  {
   "cell_type": "code",
   "execution_count": 10,
   "metadata": {
    "collapsed": false
   },
   "outputs": [],
   "source": [
    "hrs_casey = pd.read_csv(casey_dir+'hrs_beta_fixed_2_wturn_gaussianPrior/final_fit_results_beta_fixed_2_wturn_gaussianPrior_hrs.csv',\n",
    "                        index_col=0)\n",
    "hrs_casey['agn_frac'] = (10**hrs_casey['lir_powlaw'] - 1./3.*10**hrs_casey['lir_bb'])/10**(hrs_casey['lir_total'])\n",
    "hrs_data = pd.read_table('../../hrs-data/hrs_photometry.txt', index_col=0)\n",
    "hrs_sed = pd.DataFrame({'W3': hrs_data['S12'], 'W4': hrs_data['S22'],\n",
    "                        'PACS100': hrs_data['S100']*1000, 'PACS160': hrs_data['S160']*1000,\n",
    "                        'PSW': hrs_data['S250'], 'PMW': hrs_data['S350'],\n",
    "                        'PLW': hrs_data['S500']})\n",
    "hrs_err = pd.DataFrame({'W3_err': hrs_data['err12'], 'W4_err': hrs_data['err22'],\n",
    "                        'PACS100_err': hrs_data['err100']*1000, 'PACS160_err': hrs_data['err160']*1000,\n",
    "                        'PSW_err': hrs_data['err_tot250'], 'PMW_err': hrs_data['err_tot350'],\n",
    "                        'PLW_err': hrs_data['err_tot500']})\n",
    "hrs_flag = hrs_data[['Flag12', 'Flag22', 'Flag100', 'Flag160', 'Flag250', 'Flag350', 'Flag500']]\n",
    "\n",
    "hrs_err.loc[hrs_flag['Flag12'] == 0, 'W3_err'] = 5./3.*hrs_err.loc[hrs_flag['Flag12'] == 0, 'W3_err']\n",
    "hrs_err.loc[hrs_flag['Flag22'] == 0, 'W4_err'] = 5./3.*hrs_err.loc[hrs_flag['Flag22'] == 0, 'W4_err']\n",
    "hrs_err.loc[hrs_flag['Flag100'] == 0, 'PACS100_err'] = 5./3.*hrs_sed.loc[hrs_flag['Flag100'] == 0, 'PACS100']\n",
    "hrs_err.loc[hrs_flag['Flag160'] == 0, 'PACS160_err'] = 5./3.*hrs_sed.loc[hrs_flag['Flag160'] == 0, 'PACS160']\n",
    "hrs_err.loc[hrs_flag['Flag250'] == 0, 'PSW_err'] = 5./3.*hrs_sed.loc[hrs_flag['Flag250'] == 0, 'PSW']\n",
    "hrs_err.loc[hrs_flag['Flag350'] == 0, 'PMW_err'] = 5./3.*hrs_sed.loc[hrs_flag['Flag350'] == 0, 'PMW']\n",
    "hrs_err.loc[hrs_flag['Flag500'] == 0, 'PLW_err'] = 5./3.*hrs_sed.loc[hrs_flag['Flag500'] == 0, 'PLW']\n",
    "\n",
    "hrs_sed.loc[hrs_flag['Flag12'] == 0, 'W3'] = np.nan\n",
    "hrs_sed.loc[hrs_flag['Flag22'] == 0, 'W4'] = np.nan\n",
    "hrs_sed.loc[hrs_flag['Flag100'] == 0, 'PACS100'] = np.nan\n",
    "hrs_sed.loc[hrs_flag['Flag160'] == 0, 'PACS160'] = np.nan\n",
    "hrs_sed.loc[hrs_flag['Flag250'] == 0, 'PSW'] = np.nan\n",
    "hrs_sed.loc[hrs_flag['Flag350'] == 0, 'PMW'] = np.nan\n",
    "hrs_sed.loc[hrs_flag['Flag500'] == 0, 'PLW'] = np.nan"
   ]
  },
  {
   "cell_type": "code",
   "execution_count": 11,
   "metadata": {
    "collapsed": false
   },
   "outputs": [],
   "source": [
    "flux_ratios_hrs = pd.DataFrame(index=hrs_sed.index)\n",
    "filters = Filters()\n",
    "pacs70_waves = filters.get_waves('PACS70')\n",
    "# Estimate the 70 micron flux for HRS based on best fit models\n",
    "for n in flux_ratios_hrs.index:\n",
    "    f = casey_dir+'hrs_beta_fixed_2_wturn_gaussianPrior/pickles/HRS'+str(n)+'_casey_bayes_beta_fixed_2_wturn_gaussianPrior.pickle'\n",
    "    if os.path.exists(f):\n",
    "        file_result = open(f, 'rb')\n",
    "        fit_result = pickle.load(file_result)\n",
    "        file_result.close()\n",
    "        mod = fit_result['best_fit_model']\n",
    "        sed = mod(pacs70_waves)\n",
    "        hrs_sed.loc[n, 'PACS70'] = filters.calc_mono_flux('PACS70', pacs70_waves, sed)\n",
    "\n",
    "flux_ratios_hrs['W3/H70'] = hrs_sed['W3']/(hrs_sed['PACS70']*1000)\n",
    "flux_ratios_hrs['W3/H160'] = hrs_sed['W3']/hrs_sed['PACS160']\n",
    "flux_ratios_hrs['W3/H250'] = hrs_sed['W3']/hrs_sed['PSW']\n",
    "flux_ratios_hrs['W4/H70'] = hrs_sed['W4']/(hrs_sed['PACS70']*1000)\n",
    "flux_ratios_hrs['W4/H160'] = hrs_sed['W4']/hrs_sed['PACS160']\n",
    "flux_ratios_hrs['W4/H250'] = hrs_sed['W4']/hrs_sed['PSW']\n",
    "flux_ratios_hrs['agn_frac'] = hrs_casey['agn_frac']\n",
    "\n",
    "flux_ratios_hrs = flux_ratios_hrs.drop([4, 144, 288, 296])\n",
    "hrs_data = hrs_data.drop([4, 144, 296])"
   ]
  },
  {
   "cell_type": "code",
   "execution_count": 17,
   "metadata": {
    "collapsed": true
   },
   "outputs": [],
   "source": [
    "kf_casey = pd.read_csv(casey_dir+'kingfish_beta_fixed_2_wturn_gaussianPrior/final_fit_results_kingfish_casey.csv',\n",
    "                       index_col=0)\n",
    "kf_casey['agn_frac'] = (10**kf_casey['lir_powlaw'] - 1./3.*10**kf_casey['lir_bb'])/10**(kf_casey['lir_total'])\n",
    "kf_dir = '/Users/ttshimiz/Dropbox/Research/Thesis/Other_surveys/KINGFISH/'\n",
    "kf_data = pd.read_table(kf_dir+'kingfish_data.txt', delimiter='\\t', index_col=0, na_values=0)\n",
    "\n",
    "flux_ratios_kf = pd.DataFrame(index=kf_data.index)\n",
    "flux_ratios_kf['W3/H70'] = kf_data['IRAC4']/kf_data['PACS70']\n",
    "flux_ratios_kf['W3/H160'] = kf_data['IRAC4']/kf_data['PACS160']\n",
    "flux_ratios_kf['W3/H250'] = kf_data['IRAC4']/kf_data['PSW']\n",
    "flux_ratios_kf['W4/H70'] = kf_data['MIPS24']/kf_data['PACS70']\n",
    "flux_ratios_kf['W4/H160'] = kf_data['MIPS24']/kf_data['PACS160']\n",
    "flux_ratios_kf['W4/H250'] = kf_data['MIPS24']/kf_data['PSW']\n",
    "flux_ratios_kf['agn_frac'] = kf_casey['agn_frac']"
   ]
  },
  {
   "cell_type": "code",
   "execution_count": 14,
   "metadata": {
    "collapsed": false,
    "scrolled": false
   },
   "outputs": [
    {
     "data": {
      "image/png": "[encoded data removed]",
      "text/plain": [
       "<matplotlib.figure.Figure at 0x1146eb890>"
      ]
     },
     "metadata": {},
     "output_type": "display_data"
    }
   ],
   "source": [
    "fig = plt.figure(figsize=(1.1*textwidth, 1.1*2./3.*textwidth))\n",
    "mark_size = 6\n",
    "\n",
    "ax1 = fig.add_subplot(231)\n",
    "ax1.scatter(np.log10(flux_ratios['W3/H70'][flux_ratios['agn_frac_flag']==0]), flux_ratios['agn_frac'][flux_ratios['agn_frac_flag']==0],\n",
    "            c='b', s=mark_size)\n",
    "#ax1.scatter(np.log10(flux_ratios['W3/H70'][flux_ratios['agn_frac_flag']==-1]), flux_ratios['agn_frac'][flux_ratios['agn_frac_flag']==-1],\n",
    "#            marker='v', s=mark_size, edgecolors='b', facecolors='None', lw=1.2)\n",
    "#ax1.scatter(np.log10(flux_ratios_kf['W3/H70']), flux_ratios_kf['agn_frac'], c='r', s=mark_size)\n",
    "#ax1.axhline(0.0, color='k', ls='dashed')\n",
    "w3_h70_25, w3_h70_50, w3_h70_75 = np.percentile(np.log10(flux_ratios['W3/H70'][ind_w3_h70]), q=[25, 50, 75])\n",
    "ax1.axvline(w3_h70_25, color='b', ls='dashed')\n",
    "ax1.axvline(w3_h70_50, color='b')\n",
    "ax1.axvline(w3_h70_75, color='b', ls='dashed')\n",
    "ax1.text(0.75, 0.1, '12/70', ha='left', va='top', transform=ax1.transAxes)\n",
    "ax1.locator_params(axis='x', nbins=5)\n",
    "ax1.set_ylabel(r'$f_{AGN}$ (8-1000 $\\mu$m)')\n",
    "ax1.set_ylim(0, 1.0)\n",
    "ax1.set_xlim(-2, 1.5)\n",
    "#ax12 = ax1.twinx()\n",
    "#sn.kdeplot(np.log10(flux_ratios_kf['W3/H160']), ax=ax12, color='r', legend=False)\n",
    "#ax12_ylim = ax12.get_ylim()\n",
    "#ax12.set_ylim((0, ax12_ylim[1]*3))\n",
    "#ax12.yaxis.set_ticklabels([])\n",
    "#ax12.yaxis.set_ticks([])\n",
    "#ax12.set_xlim(-2, 1)\n",
    "#ax1.set_ylim(0, 1)\n",
    "\n",
    "ax2 = fig.add_subplot(232)\n",
    "ax2.scatter(np.log10(flux_ratios['W3/H160'][flux_ratios['agn_frac_flag']==0]), flux_ratios['agn_frac'][flux_ratios['agn_frac_flag']==0], c='b', s=mark_size)\n",
    "#ax2.scatter(np.log10(flux_ratios_hrs['W3/H160']), flux_ratios_hrs['agn_frac'], c='r', s=mark_size)\n",
    "#ax2.scatter(np.log10(flux_ratios_kf['W3/H160']), flux_ratios_kf['agn_frac'], c='r', s=mark_size)\n",
    "ax2.yaxis.set_ticklabels([])\n",
    "w3_h160_25, w3_h160_50, w3_h160_75 = np.percentile(np.log10(flux_ratios['W3/H160'][ind_w3_h160]), q=[25, 50, 75])\n",
    "ax2.axvline(w3_h160_25, color='b', ls='dashed')\n",
    "ax2.axvline(w3_h160_50, color='b')\n",
    "ax2.axvline(w3_h160_75, color='b', ls='dashed')\n",
    "ax2.text(0.75, 0.1, '12/160', ha='left', va='top', transform=ax2.transAxes)\n",
    "ax2.locator_params(axis='x', nbins=5)\n",
    "#ax2.axhline(0.0, color='k', ls='dashed')\n",
    "ax2.set_ylim(0, 1.0)\n",
    "ax2.set_xlim(-2, 1.5)\n",
    "#ax22 = ax2.twinx()\n",
    "#sn.kdeplot(np.log10(flux_ratios_hrs['W3/H160']), ax=ax22, color='r', legend=False)\n",
    "#ax22_ylim = ax22.get_ylim()\n",
    "#ax22.set_ylim((ax22_ylim[0], ax22_ylim[1]*3))\n",
    "#ax22.yaxis.set_ticklabels([])\n",
    "#ax22.yaxis.set_ticks([])\n",
    "#ax22.set_xlim(-2, 1)\n",
    "#ax2.set_ylim(0, 1)\n",
    "\n",
    "ax3 = fig.add_subplot(233)\n",
    "ax3.scatter(np.log10(flux_ratios['W3/H250'][flux_ratios['agn_frac_flag']==0]), flux_ratios['agn_frac'][flux_ratios['agn_frac_flag']==0], c='b', s=mark_size)\n",
    "#ax3.scatter(np.log10(flux_ratios_hrs['W3/H250']), flux_ratios_hrs['agn_frac'], c='r', s=mark_size)\n",
    "#ax3.scatter(np.log10(flux_ratios_kf['W3/H250']), flux_ratios_kf['agn_frac'], c='r', s=mark_size)\n",
    "ax3.yaxis.set_ticklabels([])\n",
    "w3_h250_25, w3_h250_50, w3_h250_75 = np.percentile(np.log10(flux_ratios['W3/H250'][ind_w3_h250]), q=[25, 50, 75])\n",
    "ax3.axvline(w3_h250_25, color='b', ls='dashed')\n",
    "ax3.axvline(w3_h250_50, color='b')\n",
    "ax3.axvline(w3_h250_75, color='b', ls='dashed')\n",
    "ax3.text(0.75, 0.1, '12/250', ha='left', va='top', transform=ax3.transAxes)\n",
    "ax3.locator_params(axis='x', nbins=5)\n",
    "#ax3.axhline(0.0, color='k', ls='dashed')\n",
    "ax3.set_ylim(0.0, 1.0)\n",
    "ax3.set_xlim(-2, 1.5)\n",
    "#ax32 = ax3.twinx()\n",
    "#sn.kdeplot(np.log10(flux_ratios_hrs['W3/H250']), ax=ax32, color='r', legend=False)\n",
    "#ax32_ylim = ax32.get_ylim()\n",
    "#ax32.set_ylim((ax32_ylim[0], ax32_ylim[1]*3))\n",
    "#ax32.yaxis.set_ticklabels([])\n",
    "#ax32.yaxis.set_ticks([])\n",
    "#ax32.set_xlim(-2, 1)\n",
    "\n",
    "ax4 = fig.add_subplot(234)\n",
    "ax4.scatter(np.log10(flux_ratios['W4/H70'][flux_ratios['agn_frac_flag']==0]), flux_ratios['agn_frac'][flux_ratios['agn_frac_flag']==0], c='b', s=mark_size)\n",
    "#ax4.scatter(np.log10(flux_ratios_kf['W4/H70']), flux_ratios_kf['agn_frac'], c='r', s=mark_size)\n",
    "ax4.set_ylabel(r'$f_{AGN}$ (8-1000 $\\mu$m)')\n",
    "w4_h70_25, w4_h70_50, w4_h70_75 = np.percentile(np.log10(flux_ratios['W4/H70'][ind_w4_h70]), q=[25, 50, 75])\n",
    "ax4.axvline(w4_h70_25, color='b', ls='dashed')\n",
    "ax4.axvline(w4_h70_50, color='b')\n",
    "ax4.axvline(w4_h70_75, color='b', ls='dashed')\n",
    "ax4.text(0.75, 0.1, '22/70', ha='left', va='top', transform=ax4.transAxes)\n",
    "ax4.locator_params(axis='x', nbins=5)\n",
    "#ax4.axhline(0.0, color='k', ls='dashed')\n",
    "ax4.set_ylim(0, 1.0)\n",
    "ax4.set_xlim(-2, 1.5)\n",
    "#ax42 = ax4.twinx()\n",
    "#sn.kdeplot(np.log10(flux_ratios_kf['W4/H160']), ax=ax42, color='r', legend=False)\n",
    "#ax42_ylim = ax42.get_ylim()\n",
    "#ax42.set_ylim((ax42_ylim[0], ax42_ylim[1]*3))\n",
    "#ax42.yaxis.set_ticklabels([])\n",
    "#ax42.yaxis.set_ticks([])\n",
    "#ax42.set_xlim(-2, 1)\n",
    "#ax4.set_ylim(0, 1)\n",
    "\n",
    "ax5 = fig.add_subplot(235)\n",
    "ax5.scatter(np.log10(flux_ratios['W4/H160'][flux_ratios['agn_frac_flag']==0]), flux_ratios['agn_frac'][flux_ratios['agn_frac_flag']==0], c='b', s=mark_size)\n",
    "#ax5.scatter(np.log10(flux_ratios_hrs['W4/H160']), flux_ratios_hrs['agn_frac'], c='r', s=mark_size)\n",
    "#ax5.scatter(np.log10(flux_ratios_kf['W4/H160']), flux_ratios_kf['agn_frac'], c='r', s=mark_size)\n",
    "ax5.yaxis.set_ticklabels([])\n",
    "w4_h160_25, w4_h160_50, w4_h160_75 = np.percentile(np.log10(flux_ratios['W4/H160'][ind_w4_h160]), q=[25, 50, 75])\n",
    "ax5.axvline(w4_h160_25, color='b', ls='dashed')\n",
    "ax5.axvline(w4_h160_50, color='b')\n",
    "ax5.axvline(w4_h160_75, color='b', ls='dashed')\n",
    "ax5.text(0.75, 0.1, '22/160', ha='left', va='top', transform=ax5.transAxes)\n",
    "ax5.locator_params(axis='x', nbins=5)\n",
    "#ax5.axhline(0.0, color='k', ls='dashed')\n",
    "ax5.set_ylim(0, 1.0)\n",
    "ax5.set_xlim(-2, 1.5)\n",
    "#ax52 = ax5.twinx()\n",
    "#sn.kdeplot(np.log10(flux_ratios_hrs['W4/H160']), ax=ax52, color='r', legend=False)\n",
    "#ax52_ylim = ax52.get_ylim()\n",
    "#ax52.set_ylim((ax52_ylim[0], ax52_ylim[1]*3))\n",
    "#ax52.yaxis.set_ticklabels([])\n",
    "#ax52.yaxis.set_ticks([])\n",
    "#ax52.set_xlim(-2, 1)\n",
    "#ax5.set_ylim(0, 1)\n",
    "\n",
    "ax6 = fig.add_subplot(236)\n",
    "ax6.scatter(np.log10(flux_ratios['W4/H250'][flux_ratios['agn_frac_flag']==0]), flux_ratios['agn_frac'][flux_ratios['agn_frac_flag']==0], c='b', s=mark_size)\n",
    "#ax6.scatter(np.log10(flux_ratios_hrs['W4/H250']), flux_ratios_hrs['agn_frac'], c='r', s=mark_size)\n",
    "#ax6.scatter(np.log10(flux_ratios_kf['W4/H250']), flux_ratios_kf['agn_frac'], c='r', s=mark_size)\n",
    "ax6.yaxis.set_ticklabels([])\n",
    "w4_h250_25, w4_h250_50, w4_h250_75 = np.percentile(np.log10(flux_ratios['W4/H250'][ind_w4_h250]), q=[25, 50, 75])\n",
    "ax6.axvline(w4_h250_25, color='b', ls='dashed')\n",
    "ax6.axvline(w4_h250_50, color='b')\n",
    "ax6.axvline(w4_h250_75, color='b', ls='dashed')\n",
    "ax6.text(0.75, 0.1, '22/250', ha='left', va='top', transform=ax6.transAxes)\n",
    "ax6.locator_params(axis='x', nbins=5)\n",
    "#ax6.axhline(0.0, color='k', ls='dashed')\n",
    "ax6.set_ylim(0, 1.0)\n",
    "ax6.set_xlim(-2, 1.5)\n",
    "#ax62 = ax6.twinx()\n",
    "#sn.kdeplot(np.log10(flux_ratios_hrs['W4/H250']), ax=ax62, color='r', legend=False)\n",
    "#ax62_ylim = ax62.get_ylim()\n",
    "#ax62.set_ylim((ax62_ylim[0], ax62_ylim[1]*3))\n",
    "#ax62.yaxis.set_ticklabels([])\n",
    "#ax62.yaxis.set_ticks([])\n",
    "#ax62.set_xlim(-2, 1)\n",
    "\n",
    "fig.subplots_adjust(hspace=0.3, wspace=0.3)\n",
    "sn.despine()\n",
    "\n",
    "#fig.savefig(figsave_dir+'agnfrac_vs_flux_ratio.pdf', bbox_inches='tight')"
   ]
  },
  {
   "cell_type": "code",
   "execution_count": 153,
   "metadata": {
    "collapsed": false
   },
   "outputs": [],
   "source": [
    "def run_linmix(flux_ratio, flux_ratio_err, agn_frac, agn_frac_err, flag):\n",
    "   \n",
    "    x = np.log10(flux_ratio)\n",
    "    y = agn_frac\n",
    "    x_err = 0.434*flux_ratio_err/flux_ratio\n",
    "    y_err = agn_frac_err\n",
    "    delta = flag + 1\n",
    "    \n",
    "    lm = linmix.LinMix(x=x, y=y, xsig=x_err, ysig=y_err, delta=delta)\n",
    "    lm.run_mcmc(silent=True)\n",
    "                   \n",
    "    beta = np.median(lm.chain['beta'])\n",
    "    beta_err = np.std(lm.chain['beta'])\n",
    "    alpha = np.median(lm.chain['alpha'])\n",
    "    alpha_err = np.std(lm.chain['alpha'])\n",
    "    sigsqr = np.median(lm.chain['sigsqr'])\n",
    "    sigsqr_err = np.std(lm.chain['sigsqr'])\n",
    "    corr = np.median(lm.chain['corr'])\n",
    "    corr_err = np.std(lm.chain['corr'])\n",
    "    \n",
    "    return beta, beta_err, alpha, alpha_err, sigsqr, sigsqr_err, corr, corr_err"
   ]
  },
  {
   "cell_type": "code",
   "execution_count": 160,
   "metadata": {
    "collapsed": false
   },
   "outputs": [
    {
     "name": "stdout",
     "output_type": "stream",
     "text": [
      "beta =  0.513107006848 +/- 0.0326336109643\n",
      "alpha =  0.960632101592 +/- 0.027487646513\n",
      "sigsqr =  0.016621273642 +/- 0.00229673800357\n",
      "corr =  0.817335604799 +/- 0.0297685070153\n"
     ]
    }
   ],
   "source": [
    "agn_frac = flux_ratios['agn_frac'][ind_w3_h70]\n",
    "agn_frac_err = np.max(np.vstack([flux_ratios['agn_frac_err_high'][ind_w3_h70], flux_ratios['agn_frac_err_low'][ind_w3_h70]]), axis=0)\n",
    "agn_frac_err[np.isnan(agn_frac_err)] = 0.\n",
    "fr = flux_ratios['W3/H70'][ind_w3_h70]\n",
    "fr_err = flux_ratios['W3/H70_err'][ind_w3_h70]\n",
    "flag = flux_ratios['agn_frac_flag'][ind_w3_h70]\n",
    "\n",
    "lm_params = run_linmix(fr, fr_err, agn_frac, agn_frac_err, flag)\n",
    "print 'beta = ', lm_params[0], '+/-', lm_params[1]\n",
    "print 'alpha = ', lm_params[2], '+/-', lm_params[3]\n",
    "print 'sigsqr = ', lm_params[4], '+/-', lm_params[5]\n",
    "print 'corr = ', lm_params[6], '+/-', lm_params[7]"
   ]
  },
  {
   "cell_type": "code",
   "execution_count": 162,
   "metadata": {
    "collapsed": false
   },
   "outputs": [
    {
     "name": "stdout",
     "output_type": "stream",
     "text": [
      "beta =  0.457156753607 +/- 0.0233645950646\n",
      "alpha =  0.971049921551 +/- 0.0245910835012\n",
      "sigsqr =  0.00386365281521 +/- 0.00157772014724\n",
      "corr =  0.948170561752 +/- 0.0210364918935\n"
     ]
    }
   ],
   "source": [
    "agn_frac = flux_ratios['agn_frac'][ind_w3_h160]\n",
    "agn_frac_err = np.max(np.vstack([flux_ratios['agn_frac_err_high'][ind_w3_h160], flux_ratios['agn_frac_err_low'][ind_w3_h160]]), axis=0)\n",
    "agn_frac_err[np.isnan(agn_frac_err)] = 0.\n",
    "fr = flux_ratios['W3/H160'][ind_w3_h160]\n",
    "fr_err = flux_ratios['W3/H160_err'][ind_w3_h160]\n",
    "flag = flux_ratios['agn_frac_flag'][ind_w3_h160]\n",
    "\n",
    "lm_params = run_linmix(fr, fr_err, agn_frac, agn_frac_err, flag)\n",
    "\n",
    "print 'beta = ', lm_params[0], '+/-', lm_params[1]\n",
    "print 'alpha = ', lm_params[2], '+/-', lm_params[3]\n",
    "print 'sigsqr = ', lm_params[4], '+/-', lm_params[5]\n",
    "print 'corr = ', lm_params[6], '+/-', lm_params[7]"
   ]
  },
  {
   "cell_type": "code",
   "execution_count": 163,
   "metadata": {
    "collapsed": false
   },
   "outputs": [
    {
     "name": "stdout",
     "output_type": "stream",
     "text": [
      "beta =  0.331085494101 +/- 0.0272138433163\n",
      "alpha =  0.767020683986 +/- 0.0225698161996\n",
      "sigsqr =  0.0168454357397 +/- 0.00288327593718\n",
      "corr =  0.75412574398 +/- 0.0422923211095\n"
     ]
    }
   ],
   "source": [
    "agn_frac = flux_ratios['agn_frac'][ind_w3_h250]\n",
    "agn_frac_err = np.max(np.vstack([flux_ratios['agn_frac_err_high'][ind_w3_h250], flux_ratios['agn_frac_err_low'][ind_w3_h250]]), axis=0)\n",
    "agn_frac_err[np.isnan(agn_frac_err)] = 0.\n",
    "fr = flux_ratios['W3/H250'][ind_w3_h250]\n",
    "fr_err = flux_ratios['W3/H250_err'][ind_w3_h250]\n",
    "flag = flux_ratios['agn_frac_flag'][ind_w3_h250]\n",
    "\n",
    "lm_params = run_linmix(fr, fr_err, agn_frac, agn_frac_err, flag)\n",
    "\n",
    "print 'beta = ', lm_params[0], '+/-', lm_params[1]\n",
    "print 'alpha = ', lm_params[2], '+/-', lm_params[3]\n",
    "print 'sigsqr = ', lm_params[4], '+/-', lm_params[5]\n",
    "print 'corr = ', lm_params[6], '+/-', lm_params[7]"
   ]
  },
  {
   "cell_type": "code",
   "execution_count": 164,
   "metadata": {
    "collapsed": false
   },
   "outputs": [
    {
     "name": "stdout",
     "output_type": "stream",
     "text": [
      "beta =  0.635606579576 +/- 0.0322594691228\n",
      "alpha =  0.821880722448 +/- 0.0159662904543\n",
      "sigsqr =  0.010572605084 +/- 0.00165067457401\n",
      "corr =  0.89003927228 +/- 0.0199572824263\n"
     ]
    }
   ],
   "source": [
    "agn_frac = flux_ratios['agn_frac'][ind_w4_h70]\n",
    "agn_frac_err = np.max(np.vstack([flux_ratios['agn_frac_err_high'][ind_w4_h70], flux_ratios['agn_frac_err_low'][ind_w4_h70]]), axis=0)\n",
    "agn_frac_err[np.isnan(agn_frac_err)] = 0.\n",
    "fr = flux_ratios['W4/H70'][ind_w4_h70]\n",
    "fr_err = flux_ratios['W4/H70_err'][ind_w4_h70]\n",
    "flag = flux_ratios['agn_frac_flag'][ind_w4_h70]\n",
    "\n",
    "lm_params = run_linmix(fr, fr_err, agn_frac, agn_frac_err, flag)\n",
    "\n",
    "print 'beta = ', lm_params[0], '+/-', lm_params[1]\n",
    "print 'alpha = ', lm_params[2], '+/-', lm_params[3]\n",
    "print 'sigsqr = ', lm_params[4], '+/-', lm_params[5]\n",
    "print 'corr = ', lm_params[6], '+/-', lm_params[7]"
   ]
  },
  {
   "cell_type": "code",
   "execution_count": 165,
   "metadata": {
    "collapsed": false
   },
   "outputs": [
    {
     "name": "stdout",
     "output_type": "stream",
     "text": [
      "beta =  0.457531527962 +/- 0.0211978020853\n",
      "alpha =  0.803723618156 +/- 0.0156607746673\n",
      "sigsqr =  0.00220423243742 +/- 0.00130188636746\n",
      "corr =  0.969980497138 +/- 0.0174479280543\n"
     ]
    }
   ],
   "source": [
    "agn_frac = flux_ratios['agn_frac'][ind_w4_h160]\n",
    "agn_frac_err = np.max(np.vstack([flux_ratios['agn_frac_err_high'][ind_w4_h160], flux_ratios['agn_frac_err_low'][ind_w4_h160]]), axis=0)\n",
    "agn_frac_err[np.isnan(agn_frac_err)] = 0.\n",
    "fr = flux_ratios['W4/H160'][ind_w4_h160]\n",
    "fr_err = flux_ratios['W4/H160_err'][ind_w4_h160]\n",
    "flag = flux_ratios['agn_frac_flag'][ind_w4_h160]\n",
    "\n",
    "lm_params = run_linmix(fr, fr_err, agn_frac, agn_frac_err, flag)\n",
    "\n",
    "print 'beta = ', lm_params[0], '+/-', lm_params[1]\n",
    "print 'alpha = ', lm_params[2], '+/-', lm_params[3]\n",
    "print 'sigsqr = ', lm_params[4], '+/-', lm_params[5]\n",
    "print 'corr = ', lm_params[6], '+/-', lm_params[7]"
   ]
  },
  {
   "cell_type": "code",
   "execution_count": 166,
   "metadata": {
    "collapsed": false
   },
   "outputs": [
    {
     "name": "stdout",
     "output_type": "stream",
     "text": [
      "beta =  0.316061254999 +/- 0.0266704949347\n",
      "alpha =  0.641916406205 +/- 0.0151518382652\n",
      "sigsqr =  0.017140976087 +/- 0.00297894050949\n",
      "corr =  0.748505200792 +/- 0.0450325470558\n"
     ]
    }
   ],
   "source": [
    "agn_frac = flux_ratios['agn_frac'][ind_w4_h250]\n",
    "agn_frac_err = np.max(np.vstack([flux_ratios['agn_frac_err_high'][ind_w4_h250], flux_ratios['agn_frac_err_low'][ind_w4_h250]]), axis=0)\n",
    "agn_frac_err[np.isnan(agn_frac_err)] = 0.\n",
    "fr = flux_ratios['W4/H250'][ind_w4_h250]\n",
    "fr_err = flux_ratios['W4/H250_err'][ind_w4_h250]\n",
    "flag = flux_ratios['agn_frac_flag'][ind_w4_h250]\n",
    "\n",
    "lm_params = run_linmix(fr, fr_err, agn_frac, agn_frac_err, flag)\n",
    "\n",
    "print 'beta = ', lm_params[0], '+/-', lm_params[1]\n",
    "print 'alpha = ', lm_params[2], '+/-', lm_params[3]\n",
    "print 'sigsqr = ', lm_params[4], '+/-', lm_params[5]\n",
    "print 'corr = ', lm_params[6], '+/-', lm_params[7]"
   ]
  },
  {
   "cell_type": "code",
   "execution_count": 16,
   "metadata": {
    "collapsed": false
   },
   "outputs": [
    {
     "name": "stdout",
     "output_type": "stream",
     "text": [
      "W3/H70: -1.22887343548 ( 0.899641577061 ) -0.965800293499 ( 0.487455197133 ) -0.66009061994 ( 0.21146953405 )\n",
      "W3/H160: -1.51025822877 ( 0.307407407407 ) -1.20548362497 ( 0.0518518518519 ) -0.848156858331 ( 0.0222222222222 )\n",
      "W3/H250: -1.22427330247 ( 0.281481481481 ) -0.914334991973 ( 0.0518518518519 ) -0.566602331674 ( 0.0148148148148 )\n",
      "W4/H70: -0.891821140998 ( 0.324626865672 ) -0.59883911859 ( 0.160447761194 ) -0.324190466392 ( 0.119402985075 )\n",
      "W4/H160: -1.14004627507 ( 0.0562248995984 ) -0.834090676891 ( 0.0120481927711 ) -0.44708370196 ( 0.0 )\n",
      "W4/H250: -0.874863270182 ( 0.0682730923695 ) -0.505801412987 ( 0.0200803212851 ) -0.182873402997 ( 0.0 )\n"
     ]
    }
   ],
   "source": [
    "fr_array = flux_ratios_hrs['W3/H70'].values\n",
    "fr_array = fr_array[np.isfinite(fr_array)]\n",
    "n_total = np.float(len(fr_array))\n",
    "n_choose_25 = sum(np.log10(fr_array) > w3_h70_25)\n",
    "n_choose_50 = sum(np.log10(fr_array) > w3_h70_50)\n",
    "n_choose_75 = sum(np.log10(fr_array) > w3_h70_75)\n",
    "print 'W3/H70:', w3_h70_25, '(', n_choose_25/n_total, ')', w3_h70_50, '(', n_choose_50/n_total ,')', w3_h70_75, '(',  n_choose_75/n_total, ')'\n",
    "\n",
    "fr_array = flux_ratios_hrs['W3/H160'].values\n",
    "fr_array = fr_array[np.isfinite(fr_array)]\n",
    "n_total = np.float(len(fr_array))\n",
    "n_choose_25 = sum(np.log10(fr_array) > w3_h160_25)\n",
    "n_choose_50 = sum(np.log10(fr_array) > w3_h160_50)\n",
    "n_choose_75 = sum(np.log10(fr_array) > w3_h160_75)\n",
    "print 'W3/H160:', w3_h160_25, '(', n_choose_25/n_total, ')', w3_h160_50, '(', n_choose_50/n_total ,')', w3_h160_75, '(',  n_choose_75/n_total, ')'\n",
    "\n",
    "fr_array = flux_ratios_hrs['W3/H250'].values\n",
    "fr_array = fr_array[np.isfinite(fr_array)]\n",
    "n_total = np.float(len(fr_array))\n",
    "n_choose_25 = sum(np.log10(fr_array) > w3_h250_25)\n",
    "n_choose_50 = sum(np.log10(fr_array) > w3_h250_50)\n",
    "n_choose_75 = sum(np.log10(fr_array) > w3_h250_75)\n",
    "print 'W3/H250:', w3_h250_25, '(', n_choose_25/n_total, ')', w3_h250_50, '(', n_choose_50/n_total ,')', w3_h250_75, '(',  n_choose_75/n_total, ')'\n",
    "\n",
    "fr_array = flux_ratios_hrs['W4/H70'].values\n",
    "fr_array = fr_array[np.isfinite(fr_array)]\n",
    "n_total = np.float(len(fr_array))\n",
    "n_choose_25 = sum(np.log10(fr_array) > w4_h70_25)\n",
    "n_choose_50 = sum(np.log10(fr_array) > w4_h70_50)\n",
    "n_choose_75 = sum(np.log10(fr_array) > w4_h70_75)\n",
    "print 'W4/H70:', w4_h70_25, '(', n_choose_25/n_total, ')', w4_h70_50, '(', n_choose_50/n_total ,')', w4_h70_75, '(',  n_choose_75/n_total, ')'\n",
    "\n",
    "fr_array = flux_ratios_hrs['W4/H160'].values\n",
    "fr_array = fr_array[np.isfinite(fr_array)]\n",
    "n_total = np.float(len(fr_array))\n",
    "n_choose_25 = sum(np.log10(fr_array) > w4_h160_25)\n",
    "n_choose_50 = sum(np.log10(fr_array) > w4_h160_50)\n",
    "n_choose_75 = sum(np.log10(fr_array) > w4_h160_75)\n",
    "print 'W4/H160:', w4_h160_25, '(', n_choose_25/n_total, ')', w4_h160_50, '(', n_choose_50/n_total ,')', w4_h160_75, '(',  n_choose_75/n_total, ')'\n",
    "\n",
    "fr_array = flux_ratios_hrs['W4/H250'].values\n",
    "fr_array = fr_array[np.isfinite(fr_array)]\n",
    "n_total = np.float(len(fr_array))\n",
    "n_choose_25 = sum(np.log10(fr_array) > w4_h250_25)\n",
    "n_choose_50 = sum(np.log10(fr_array) > w4_h250_50)\n",
    "n_choose_75 = sum(np.log10(fr_array) > w4_h250_75)\n",
    "print 'W4/H250:', w4_h250_25, '(', n_choose_25/n_total, ')', w4_h250_50, '(', n_choose_50/n_total ,')', w4_h250_75, '(',  n_choose_75/n_total, ')'\n"
   ]
  },
  {
   "cell_type": "code",
   "execution_count": 24,
   "metadata": {
    "collapsed": false
   },
   "outputs": [
    {
     "data": {
      "text/plain": [
       "<matplotlib.axes._subplots.AxesSubplot at 0x115aec610>"
      ]
     },
     "execution_count": 24,
     "metadata": {},
     "output_type": "execute_result"
    },
    {
     "data": {
      "image/png": "[encoded data removed]",
      "text/plain": [
       "<matplotlib.figure.Figure at 0x116381810>"
      ]
     },
     "metadata": {},
     "output_type": "display_data"
    }
   ],
   "source": [
    "sn.kdeplot(np.log10(flux_ratios['W3/H70']))\n",
    "sn.kdeplot(np.log10(flux_ratios_kf['W3/H70']))\n",
    "sn.kdeplot(np.log10(flux_ratios_hrs['W3/H70']))"
   ]
  }
 ],
 "metadata": {
  "kernelspec": {
   "display_name": "Python 2",
   "language": "python",
   "name": "python2"
  },
  "language_info": {
   "codemirror_mode": {
    "name": "ipython",
    "version": 2
   },
   "file_extension": ".py",
   "mimetype": "text/x-python",
   "name": "python",
   "nbconvert_exporter": "python",
   "pygments_lexer": "ipython2",
   "version": "2.7.11"
  }
 },
 "nbformat": 4,
 "nbformat_minor": 0
}
