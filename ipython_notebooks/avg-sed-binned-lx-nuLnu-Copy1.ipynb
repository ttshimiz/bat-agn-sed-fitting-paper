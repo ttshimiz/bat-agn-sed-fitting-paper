{
 "cells": [
  {
   "cell_type": "markdown",
   "metadata": {},
   "source": [
    "#Average IR SED for HRS"
   ]
  },
  {
   "cell_type": "code",
   "execution_count": 1,
   "metadata": {
    "collapsed": true
   },
   "outputs": [],
   "source": [
    "# Standard module imports\n",
    "import numpy as np\n",
    "import scipy.stats as stats\n",
    "import pandas as pd\n",
    "import sys\n",
    "%matplotlib inline\n",
    "\n",
    "# Useful directories\n",
    "gh_dir = '/Users/ttshimiz/Github/'\n",
    "sed_fit_dir = gh_dir + 'bat-agn-sed-fitting/'\n",
    "casey_dir = sed_fit_dir + 'analysis/casey_bayes_results/'\n",
    "data_dir = gh_dir + 'bat-data/'"
   ]
  },
  {
   "cell_type": "code",
   "execution_count": 2,
   "metadata": {
    "collapsed": false
   },
   "outputs": [
    {
     "name": "stderr",
     "output_type": "stream",
     "text": [
      ":0: FutureWarning: IPython widgets are experimental and may change in the future.\n"
     ]
    }
   ],
   "source": [
    "# Setup the figures\n",
    "execfile('../code/figure-setup.py')"
   ]
  },
  {
   "cell_type": "code",
   "execution_count": 3,
   "metadata": {
    "collapsed": false
   },
   "outputs": [],
   "source": [
    "# Upload the HRS fits\n",
    "hrs_casey = pd.read_csv(casey_dir+'hrs_beta_fixed_2_wturn_gaussianPrior/final_fit_results_beta_fixed_2_wturn_gaussianPrior_hrs.csv', index_col=0)\n",
    "hrs_casey_undetected = pd.read_csv(casey_dir+'hrs_beta_fixed_2_wturn_gaussianPrior/final_fit_results_beta_fixed_2_wturn_gaussianPrior_undetected_hrs.csv', index_col=0)\n",
    "hrs_casey = pd.concat([hrs_casey, hrs_casey_undetected])\n",
    "hrs_data = pd.read_table('../../hrs-data/hrs_photometry.txt', index_col=0)\n",
    "# Upload the HRS info\n",
    "hrs_info = pd.read_table(gh_dir+'hrs-data/hrs_photometry.txt', delimiter='\\t', index_col=0, na_values=-99.99)\n",
    "\n",
    "# HRS gas-rich galaxies\n",
    "hrs_gas_rich = np.array([np.loadtxt(gh_dir+'hrs-data/hrs_gas_rich_numbers.txt')], dtype = int)[0]\n",
    "\n",
    "hrs_casey['Mstar'] = hrs_info['logMstart']\n",
    "hrs_low_mass = hrs_casey['Mstar'] <= 9.47"
   ]
  },
  {
   "cell_type": "code",
   "execution_count": 4,
   "metadata": {
    "collapsed": false
   },
   "outputs": [],
   "source": [
    "# Setup the SEDs\n",
    "hrs_sed = pd.DataFrame({'W3': hrs_data['S12'], 'W4': hrs_data['S22'],\n",
    "                        'PACS100': hrs_data['S100']*1000, 'PACS160': hrs_data['S160']*1000,\n",
    "                        'PSW': hrs_data['S250'], 'PMW': hrs_data['S350'],\n",
    "                        'PLW': hrs_data['S500']})\n",
    "\n",
    "hrs_err = pd.DataFrame({'W3_err': hrs_data['err12'], 'W4_err': hrs_data['err22'],\n",
    "                        'PACS100_err': hrs_data['err100']*1000, 'PACS160_err': hrs_data['err160']*1000,\n",
    "                        'PSW_err': hrs_data['err_tot250'], 'PMW_err': hrs_data['err_tot350'],\n",
    "                        'PLW_err': hrs_data['err_tot500']})\n",
    "hrs_flag = hrs_data[['Flag12', 'Flag22', 'Flag100', 'Flag160', 'Flag250', 'Flag350', 'Flag500']]\n",
    "\n",
    "hrs_err.loc[hrs_flag['Flag12'] == 0, 'W3_err'] = 5./3.*hrs_err.loc[hrs_flag['Flag12'] == 0, 'W3_err']\n",
    "hrs_err.loc[hrs_flag['Flag22'] == 0, 'W4_err'] = 5./3.*hrs_err.loc[hrs_flag['Flag22'] == 0, 'W4_err']\n",
    "hrs_err.loc[hrs_flag['Flag100'] == 0, 'PACS100_err'] = 5./3.*hrs_sed.loc[hrs_flag['Flag100'] == 0, 'PACS100']\n",
    "hrs_err.loc[hrs_flag['Flag160'] == 0, 'PACS160_err'] = 5./3.*hrs_sed.loc[hrs_flag['Flag160'] == 0, 'PACS160']\n",
    "hrs_err.loc[hrs_flag['Flag250'] == 0, 'PSW_err'] = 5./3.*hrs_sed.loc[hrs_flag['Flag250'] == 0, 'PSW']\n",
    "hrs_err.loc[hrs_flag['Flag350'] == 0, 'PMW_err'] = 5./3.*hrs_sed.loc[hrs_flag['Flag350'] == 0, 'PMW']\n",
    "hrs_err.loc[hrs_flag['Flag500'] == 0, 'PLW_err'] = 5./3.*hrs_sed.loc[hrs_flag['Flag500'] == 0, 'PLW']\n",
    "\n",
    "hrs_sed.loc[hrs_flag['Flag12'] == 0, 'W3'] = 0\n",
    "hrs_sed.loc[hrs_flag['Flag22'] == 0, 'W4'] = 0\n",
    "hrs_sed.loc[hrs_flag['Flag100'] == 0, 'PACS100'] = 0\n",
    "hrs_sed.loc[hrs_flag['Flag160'] == 0, 'PACS160'] = 0\n",
    "hrs_sed.loc[hrs_flag['Flag250'] == 0, 'PSW'] = 0\n",
    "hrs_sed.loc[hrs_flag['Flag350'] == 0, 'PMW'] = 0\n",
    "hrs_sed.loc[hrs_flag['Flag500'] == 0, 'PLW'] = 0"
   ]
  },
  {
   "cell_type": "code",
   "execution_count": 5,
   "metadata": {
    "collapsed": false
   },
   "outputs": [],
   "source": [
    "# Import the ASURV package\n",
    "sys.path.append(gh_dir+'asurv/')\n",
    "import asurv"
   ]
  },
  {
   "cell_type": "code",
   "execution_count": 6,
   "metadata": {
    "collapsed": false
   },
   "outputs": [
    {
     "name": "stdout",
     "output_type": "stream",
     "text": [
      "# in Bin 1:  24\n",
      "# in Bin 2:  65\n",
      "# in Bin 3:  92\n",
      "# in Bin 4:  61\n",
      "# in Bin 5:  30\n"
     ]
    }
   ],
   "source": [
    "# Define the Lx bins and count the number of sources in each\n",
    "bin_1 = hrs_casey['lir_total'] <= 8.5\n",
    "bin_2 = (hrs_casey['lir_total'] > 8.5) & (hrs_casey['lir_total'] <= 9.0)\n",
    "bin_3 = (hrs_casey['lir_total'] > 9.0) & (hrs_casey['lir_total'] <= 9.5)\n",
    "bin_4 = (hrs_casey['lir_total'] > 9.5) & (hrs_casey['lir_total'] <= 10.0)\n",
    "bin_5 = (hrs_casey['lir_total'] > 10.0)\n",
    "\n",
    "print '# in Bin 1: ', sum(bin_1)\n",
    "print '# in Bin 2: ', sum(bin_2)\n",
    "print '# in Bin 3: ', sum(bin_3)\n",
    "print '# in Bin 4: ', sum(bin_4)\n",
    "print '# in Bin 5: ', sum(bin_5)"
   ]
  },
  {
   "cell_type": "code",
   "execution_count": 7,
   "metadata": {
    "collapsed": false
   },
   "outputs": [
    {
     "name": "stdout",
     "output_type": "stream",
     "text": [
      "Warning: Minimum data point has been changed to uncensored. Mean will be biased.\n",
      "Warning: Minimum data point has been changed to uncensored. Mean will be biased.\n",
      "Warning: Minimum data point has been changed to uncensored. Mean will be biased.\n",
      "Warning: Minimum data point has been changed to uncensored. Mean will be biased.\n",
      "Warning: Minimum data point has been changed to uncensored. Mean will be biased.\n"
     ]
    }
   ],
   "source": [
    "bin_edges = np.array([8.5, 9.0, 9.5, 10.0])\n",
    "n_bins = len(bin_edges) + 1\n",
    "wavebands = ['LW3', 'LW4', 'LPACS100', 'LPACS160', 'LPSW', 'LPMW', 'LPLW']\n",
    "sed = hrs_sed.join(hrs_err).loc[hrs_casey.index]\n",
    "sed['Dist'] = hrs_info['Dist_Mpc']\n",
    "#sed['LW1'] = 4*np.pi*(sed['Dist']*3.086e24)**2*sed['W1']*10**(-23)*10**(-30)\n",
    "#sed['LW2'] = 4*np.pi*(sed['Dist']*3.086e24)**2*sed['W2']*10**(-23)*10**(-30)\n",
    "sed['LW3'] = 4*np.pi*(sed['Dist']*3.086e24)**2*sed['W3']*10**(-23)*10**(-30)/1000.\n",
    "sed['LW4'] = 4*np.pi*(sed['Dist']*3.086e24)**2*sed['W4']*10**(-23)*10**(-30)/1000.\n",
    "sed['LPACS100'] = 4*np.pi*(sed['Dist']*3.086e24)**2*sed['PACS100']*10**(-23)*10**(-30)/1000.\n",
    "sed['LPACS160'] = 4*np.pi*(sed['Dist']*3.086e24)**2*sed['PACS160']*10**(-23)*10**(-30)/1000.\n",
    "sed['LPSW'] = 4*np.pi*(sed['Dist']*3.086e24)**2*sed['PSW']*10**(-23)*10**(-30)/1000.\n",
    "sed['LPMW'] = 4*np.pi*(sed['Dist']*3.086e24)**2*sed['PMW']*10**(-23)*10**(-30)/1000.\n",
    "sed['LPLW'] = 4*np.pi*(sed['Dist']*3.086e24)**2*sed['PLW']*10**(-23)*10**(-30)/1000.\n",
    "\n",
    "#sed['LW1_err'] = 4*np.pi*(sed['Dist']*3.086e24)**2*sed['W1_err']*10**(-23)*10**(-30)\n",
    "#sed['LW2_err'] = 4*np.pi*(sed['Dist']*3.086e24)**2*sed['W2_err']*10**(-23)*10**(-30)\n",
    "sed['LW3_err'] = 4*np.pi*(sed['Dist']*3.086e24)**2*sed['W3_err']*10**(-23)*10**(-30)/1000.\n",
    "sed['LW4_err'] = 4*np.pi*(sed['Dist']*3.086e24)**2*sed['W4_err']*10**(-23)*10**(-30)/1000.\n",
    "sed['LPACS100_err'] = 4*np.pi*(sed['Dist']*3.086e24)**2*sed['PACS100_err']*10**(-23)*10**(-30)/1000.\n",
    "sed['LPACS160_err'] = 4*np.pi*(sed['Dist']*3.086e24)**2*sed['PACS160_err']*10**(-23)*10**(-30)/1000.\n",
    "sed['LPSW_err'] = 4*np.pi*(sed['Dist']*3.086e24)**2*sed['PSW_err']*10**(-23)*10**(-30)/1000.\n",
    "sed['LPMW_err'] = 4*np.pi*(sed['Dist']*3.086e24)**2*sed['PMW_err']*10**(-23)*10**(-30)/1000.\n",
    "sed['LPLW_err'] = 4*np.pi*(sed['Dist']*3.086e24)**2*sed['PLW_err']*10**(-23)*10**(-30)/1000.\n",
    "\n",
    "binned_seds = pd.DataFrame(index=np.arange(n_bins),\n",
    "                           columns=wavebands)\n",
    "binned_seds_err_up = pd.DataFrame(index=np.arange(n_bins),\n",
    "                                  columns=wavebands)\n",
    "binned_seds_err_down = pd.DataFrame(index=np.arange(n_bins),\n",
    "                                    columns=wavebands)\n",
    "\n",
    "for i in range(n_bins):\n",
    "    \n",
    "    if i == 0:\n",
    "        ind = hrs_casey['lir_total'] <= bin_edges[i]\n",
    "    elif i == (n_bins - 1):\n",
    "        ind = hrs_casey['lir_total'] > bin_edges[-1]\n",
    "    else:\n",
    "        ind = (hrs_casey['lir_total'] > bin_edges[i-1]) & (hrs_casey['lir_total'] <= bin_edges[i])\n",
    "    \n",
    "    for w in wavebands:\n",
    "        \n",
    "        f = sed.loc[ind, w].values\n",
    "        ferr = sed.loc[ind, w+'_err'].values\n",
    "        ul = f == 0\n",
    "        f[ul] = ferr[ul]\n",
    "        data = f\n",
    "        cens= np.ones(len(data))\n",
    "        cens[ul] = 0\n",
    "        \n",
    "        km = asurv.KaplanMeierDist(data=data, cens=cens)\n",
    "        med = km.km_percentile(0.5)\n",
    "        p16 = km.km_percentile(0.16)\n",
    "        p84 = km.km_percentile(0.84)\n",
    "        \n",
    "        binned_seds.loc[i, w] = med\n",
    "        binned_seds_err_down.loc[i, w] = med-p16\n",
    "        binned_seds_err_up.loc[i, w] = p84-med"
   ]
  },
  {
   "cell_type": "code",
   "execution_count": 8,
   "metadata": {
    "collapsed": false
   },
   "outputs": [
    {
     "data": {
      "image/png": "[encoded data removed]",
      "text/plain": [
       "<matplotlib.figure.Figure at 0x1108f1710>"
      ]
     },
     "metadata": {},
     "output_type": "display_data"
    }
   ],
   "source": [
    "ll = np.array([12., 22., 100., 160., 250, 350., 500.])\n",
    "\n",
    "fig = plt.figure(figsize=(0.8*textwidth, 1.2*3./4*0.8*textwidth))\n",
    "ax1 = fig.add_subplot(111)\n",
    "ax1.errorbar(ll, binned_seds.loc[0], yerr=np.vstack([binned_seds_err_down.loc[0], binned_seds_err_up.loc[0]]),\n",
    "             fmt='o', color='k', ls='-', label=r'$\\log\\,L_{\\rm IR} < 8.5$')\n",
    "ax1.errorbar(ll, binned_seds.loc[1], yerr=np.vstack([binned_seds_err_down.loc[1], binned_seds_err_up.loc[1]]),\n",
    "             fmt='o', color='b', ls='-', label=r'$\\log\\,L_{\\rm IR} = 8.5-9.0$')\n",
    "ax1.errorbar(ll, binned_seds.loc[2], yerr=np.vstack([binned_seds_err_down.loc[2], binned_seds_err_up.loc[2]]),\n",
    "             fmt='o', color='r', ls='-', label=r'$\\log\\,L_{\\rm IR} = 9.0-9.5$')\n",
    "ax1.errorbar(ll, binned_seds.loc[3], yerr=np.vstack([binned_seds_err_down.loc[3], binned_seds_err_up.loc[3]]),\n",
    "             fmt='o', color='g', ls='-', label=r'$\\log\\,L_{\\rm IR} = 9.5-10.0$')\n",
    "ax1.errorbar(ll, binned_seds.loc[4], yerr=np.vstack([binned_seds_err_down.loc[4], binned_seds_err_up.loc[4]]),\n",
    "             fmt='o', color='m', ls='-', label=r'$\\log\\,L_{\\rm IR} > 10.0$')\n",
    "ax1.set_yscale('log')\n",
    "ax1.set_xscale('log')\n",
    "ax1.legend(loc='upper left', fontsize=10)\n",
    "ax1.set_ylabel(r'$L_{\\nu}/10^{30}$ [ergs s$^{-1}$ Hz$^{-1}$]', fontsize=14)\n",
    "ax1.set_xlabel('$\\lambda$ [$\\mu$m]', fontsize=14)\n",
    "ax1.tick_params(axis='both', which='major', labelsize=12)\n",
    "sn.despine()\n",
    "#fig.savefig(figsave_dir+'avg_sed_binned_lir_lnu_hrs.pdf', bbox_inches='tight')"
   ]
  },
  {
   "cell_type": "code",
   "execution_count": 21,
   "metadata": {
    "collapsed": false
   },
   "outputs": [
    {
     "name": "stdout",
     "output_type": "stream",
     "text": [
      "Warning: Minimum data point has been changed to uncensored. Mean will be biased.\n"
     ]
    }
   ],
   "source": [
    "# Construct the average of the whole HRS sample\n",
    "hrs_whole_avg = pd.Series(index=wavebands)\n",
    "hrs_whole_avg_err_up = pd.Series(index=wavebands)\n",
    "hrs_whole_avg_err_dwn = pd.Series(index=wavebands)\n",
    "\n",
    "for w in wavebands:\n",
    "        \n",
    "    f = sed[w].values\n",
    "    ferr = sed[w+'_err'].values\n",
    "    ul = f == 0\n",
    "    f[ul] = ferr[ul]\n",
    "    data = f\n",
    "    cens= np.ones(len(data))\n",
    "    cens[ul] = 0\n",
    "        \n",
    "    km = asurv.KaplanMeierDist(data=data, cens=cens)\n",
    "    med = km.km_percentile(0.5)\n",
    "    p16 = km.km_percentile(0.16)\n",
    "    p84 = km.km_percentile(0.84)\n",
    "        \n",
    "    hrs_whole_avg[w] = med\n",
    "    hrs_whole_avg_err_dwn[w] = med-p16\n",
    "    hrs_whole_avg_err_up[w] = p84-med"
   ]
  },
  {
   "cell_type": "code",
   "execution_count": 23,
   "metadata": {
    "collapsed": false
   },
   "outputs": [
    {
     "data": {
      "image/png": "[encoded data removed]",
      "text/plain": [
       "<matplotlib.figure.Figure at 0x110988410>"
      ]
     },
     "metadata": {},
     "output_type": "display_data"
    }
   ],
   "source": [
    "ll = np.array([12., 22., 100., 160., 250, 350., 500.])\n",
    "\n",
    "fig = plt.figure(figsize=(0.8*textwidth, 1.2*3./4*0.8*textwidth))\n",
    "ax1 = fig.add_subplot(111)\n",
    "ax1.errorbar(ll, hrs_whole_avg, yerr=np.vstack([hrs_whole_avg_err_dwn,hrs_whole_avg_err_up]),\n",
    "             fmt='o', color='k', ls='-')\n",
    "ax1.set_yscale('log')\n",
    "ax1.set_xscale('log')\n",
    "ax1.set_ylabel(r'$L_{\\nu}/10^{30}$ [ergs s$^{-1}$ Hz$^{-1}$]', fontsize=14)\n",
    "ax1.set_xlabel('$\\lambda$ [$\\mu$m]', fontsize=14)\n",
    "ax1.tick_params(axis='both', which='major', labelsize=12)\n",
    "sn.despine()"
   ]
  },
  {
   "cell_type": "code",
   "execution_count": 24,
   "metadata": {
    "collapsed": false
   },
   "outputs": [
    {
     "data": {
      "text/plain": [
       "LW3         0.054622\n",
       "LW4         0.046096\n",
       "LPACS100    1.547204\n",
       "LPACS160    2.061236\n",
       "LPSW        1.107824\n",
       "LPMW        0.510250\n",
       "LPLW        0.198203\n",
       "dtype: float64"
      ]
     },
     "execution_count": 24,
     "metadata": {},
     "output_type": "execute_result"
    }
   ],
   "source": [
    "hrs_whole_avg"
   ]
  },
  {
   "cell_type": "code",
   "execution_count": 25,
   "metadata": {
    "collapsed": false
   },
   "outputs": [
    {
     "data": {
      "text/plain": [
       "LW3         0.036230\n",
       "LW4         0.031955\n",
       "LPACS100    1.124512\n",
       "LPACS160    1.560763\n",
       "LPSW        0.846345\n",
       "LPMW        0.376472\n",
       "LPLW        0.141818\n",
       "dtype: float64"
      ]
     },
     "execution_count": 25,
     "metadata": {},
     "output_type": "execute_result"
    }
   ],
   "source": [
    "hrs_whole_avg_err_dwn"
   ]
  },
  {
   "cell_type": "code",
   "execution_count": 26,
   "metadata": {
    "collapsed": false
   },
   "outputs": [
    {
     "data": {
      "text/plain": [
       "LW3         0.154479\n",
       "LW4         0.173004\n",
       "LPACS100    4.451381\n",
       "LPACS160    5.219838\n",
       "LPSW        2.941576\n",
       "LPMW        1.208210\n",
       "LPLW        0.412873\n",
       "dtype: float64"
      ]
     },
     "execution_count": 26,
     "metadata": {},
     "output_type": "execute_result"
    }
   ],
   "source": [
    "hrs_whole_avg_err_up"
   ]
  },
  {
   "cell_type": "code",
   "execution_count": 43,
   "metadata": {
    "collapsed": false
   },
   "outputs": [
    {
     "data": {
      "text/html": [
       "<div>\n",
       "<table border=\"1\" class=\"dataframe\">\n",
       "  <thead>\n",
       "    <tr style=\"text-align: right;\">\n",
       "      <th></th>\n",
       "      <th>LW3</th>\n",
       "      <th>LW4</th>\n",
       "      <th>LPACS100</th>\n",
       "      <th>LPACS160</th>\n",
       "      <th>LPSW</th>\n",
       "      <th>LPMW</th>\n",
       "      <th>LPLW</th>\n",
       "    </tr>\n",
       "  </thead>\n",
       "  <tbody>\n",
       "    <tr>\n",
       "      <th>0</th>\n",
       "      <td>0.00451288</td>\n",
       "      <td>0.00291451</td>\n",
       "      <td>0.0684792</td>\n",
       "      <td>0.127947</td>\n",
       "      <td>0.0883733</td>\n",
       "      <td>0.0383158</td>\n",
       "      <td>0.0106523</td>\n",
       "    </tr>\n",
       "    <tr>\n",
       "      <th>1</th>\n",
       "      <td>0.00596903</td>\n",
       "      <td>0.00697563</td>\n",
       "      <td>0.252957</td>\n",
       "      <td>0.337974</td>\n",
       "      <td>0.241558</td>\n",
       "      <td>0.114199</td>\n",
       "      <td>0.0430417</td>\n",
       "    </tr>\n",
       "    <tr>\n",
       "      <th>2</th>\n",
       "      <td>0.0155666</td>\n",
       "      <td>0.0153769</td>\n",
       "      <td>0.479842</td>\n",
       "      <td>0.66479</td>\n",
       "      <td>0.460759</td>\n",
       "      <td>0.21432</td>\n",
       "      <td>0.0716941</td>\n",
       "    </tr>\n",
       "    <tr>\n",
       "      <th>3</th>\n",
       "      <td>0.0295391</td>\n",
       "      <td>0.0664208</td>\n",
       "      <td>1.46497</td>\n",
       "      <td>1.31777</td>\n",
       "      <td>0.810833</td>\n",
       "      <td>0.384628</td>\n",
       "      <td>0.14743</td>\n",
       "    </tr>\n",
       "    <tr>\n",
       "      <th>4</th>\n",
       "      <td>0.11461</td>\n",
       "      <td>0.256237</td>\n",
       "      <td>3.1342</td>\n",
       "      <td>6.2019</td>\n",
       "      <td>4.38488</td>\n",
       "      <td>1.94283</td>\n",
       "      <td>0.678348</td>\n",
       "    </tr>\n",
       "  </tbody>\n",
       "</table>\n",
       "</div>"
      ],
      "text/plain": [
       "          LW3         LW4   LPACS100  LPACS160       LPSW       LPMW  \\\n",
       "0  0.00451288  0.00291451  0.0684792  0.127947  0.0883733  0.0383158   \n",
       "1  0.00596903  0.00697563   0.252957  0.337974   0.241558   0.114199   \n",
       "2   0.0155666   0.0153769   0.479842   0.66479   0.460759    0.21432   \n",
       "3   0.0295391   0.0664208    1.46497   1.31777   0.810833   0.384628   \n",
       "4     0.11461    0.256237     3.1342    6.2019    4.38488    1.94283   \n",
       "\n",
       "        LPLW  \n",
       "0  0.0106523  \n",
       "1  0.0430417  \n",
       "2  0.0716941  \n",
       "3    0.14743  \n",
       "4   0.678348  "
      ]
     },
     "execution_count": 43,
     "metadata": {},
     "output_type": "execute_result"
    }
   ],
   "source": [
    "binned_seds_err_down"
   ]
  },
  {
   "cell_type": "code",
   "execution_count": 44,
   "metadata": {
    "collapsed": false
   },
   "outputs": [
    {
     "data": {
      "text/html": [
       "<div>\n",
       "<table border=\"1\" class=\"dataframe\">\n",
       "  <thead>\n",
       "    <tr style=\"text-align: right;\">\n",
       "      <th></th>\n",
       "      <th>LW3</th>\n",
       "      <th>LW4</th>\n",
       "      <th>LPACS100</th>\n",
       "      <th>LPACS160</th>\n",
       "      <th>LPSW</th>\n",
       "      <th>LPMW</th>\n",
       "      <th>LPLW</th>\n",
       "    </tr>\n",
       "  </thead>\n",
       "  <tbody>\n",
       "    <tr>\n",
       "      <th>0</th>\n",
       "      <td>0.0121228</td>\n",
       "      <td>0.00422784</td>\n",
       "      <td>0.110154</td>\n",
       "      <td>0.124901</td>\n",
       "      <td>0.0844412</td>\n",
       "      <td>0.0629377</td>\n",
       "      <td>0.025639</td>\n",
       "    </tr>\n",
       "    <tr>\n",
       "      <th>1</th>\n",
       "      <td>0.0111636</td>\n",
       "      <td>0.00838117</td>\n",
       "      <td>0.223388</td>\n",
       "      <td>0.35131</td>\n",
       "      <td>0.264492</td>\n",
       "      <td>0.157036</td>\n",
       "      <td>0.0690271</td>\n",
       "    </tr>\n",
       "    <tr>\n",
       "      <th>2</th>\n",
       "      <td>0.0276157</td>\n",
       "      <td>0.0356219</td>\n",
       "      <td>0.769544</td>\n",
       "      <td>0.815578</td>\n",
       "      <td>0.4005</td>\n",
       "      <td>0.236641</td>\n",
       "      <td>0.125089</td>\n",
       "    </tr>\n",
       "    <tr>\n",
       "      <th>3</th>\n",
       "      <td>0.0936224</td>\n",
       "      <td>0.0878445</td>\n",
       "      <td>1.79192</td>\n",
       "      <td>3.05906</td>\n",
       "      <td>1.36517</td>\n",
       "      <td>0.656215</td>\n",
       "      <td>0.276949</td>\n",
       "    </tr>\n",
       "    <tr>\n",
       "      <th>4</th>\n",
       "      <td>0.559676</td>\n",
       "      <td>0.605656</td>\n",
       "      <td>14.9459</td>\n",
       "      <td>19.2267</td>\n",
       "      <td>9.68702</td>\n",
       "      <td>3.97947</td>\n",
       "      <td>1.45456</td>\n",
       "    </tr>\n",
       "  </tbody>\n",
       "</table>\n",
       "</div>"
      ],
      "text/plain": [
       "         LW3         LW4  LPACS100  LPACS160       LPSW       LPMW       LPLW\n",
       "0  0.0121228  0.00422784  0.110154  0.124901  0.0844412  0.0629377   0.025639\n",
       "1  0.0111636  0.00838117  0.223388   0.35131   0.264492   0.157036  0.0690271\n",
       "2  0.0276157   0.0356219  0.769544  0.815578     0.4005   0.236641   0.125089\n",
       "3  0.0936224   0.0878445   1.79192   3.05906    1.36517   0.656215   0.276949\n",
       "4   0.559676    0.605656   14.9459   19.2267    9.68702    3.97947    1.45456"
      ]
     },
     "execution_count": 44,
     "metadata": {},
     "output_type": "execute_result"
    }
   ],
   "source": [
    "binned_seds_err_up"
   ]
  }
 ],
 "metadata": {
  "kernelspec": {
   "display_name": "Python 2",
   "language": "python",
   "name": "python2"
  },
  "language_info": {
   "codemirror_mode": {
    "name": "ipython",
    "version": 2
   },
   "file_extension": ".py",
   "mimetype": "text/x-python",
   "name": "python",
   "nbconvert_exporter": "python",
   "pygments_lexer": "ipython2",
   "version": "2.7.11"
  }
 },
 "nbformat": 4,
 "nbformat_minor": 0
}
