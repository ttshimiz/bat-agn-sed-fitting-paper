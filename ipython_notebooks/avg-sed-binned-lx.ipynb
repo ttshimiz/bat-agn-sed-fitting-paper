{
 "cells": [
  {
   "cell_type": "markdown",
   "metadata": {},
   "source": [
    "#Average IR SED binned by $L_{14-195\\,keV}$"
   ]
  },
  {
   "cell_type": "code",
   "execution_count": 4,
   "metadata": {
    "collapsed": true
   },
   "outputs": [],
   "source": [
    "# Standard module imports\n",
    "import numpy as np\n",
    "import scipy.stats as stats\n",
    "import pandas as pd\n",
    "import sys\n",
    "%matplotlib inline\n",
    "\n",
    "# Useful directories\n",
    "gh_dir = '/Users/ttshimiz/Github/'\n",
    "sed_fit_dir = gh_dir + 'bat-agn-sed-fitting/'\n",
    "casey_dir = sed_fit_dir + 'analysis/casey_bayes_results/'\n",
    "data_dir = gh_dir + 'bat-data/'"
   ]
  },
  {
   "cell_type": "code",
   "execution_count": 5,
   "metadata": {
    "collapsed": true
   },
   "outputs": [],
   "source": [
    "# Setup the figures\n",
    "execfile('../code/figure-setup.py')"
   ]
  },
  {
   "cell_type": "code",
   "execution_count": 19,
   "metadata": {
    "collapsed": false
   },
   "outputs": [],
   "source": [
    "# Upload the info for the BAT AGN (i.e. AGN type, luminosity distance, redshift, etc)\n",
    "bat_info = pd.read_csv(data_dir+'bat_info.csv', index_col=0)\n",
    "bat_info.loc['UGC06728', 'Dist_[Mpc]'] = 292.0\n",
    "\n",
    "bat_flux = pd.read_csv(data_dir+'bat_bat_flux.csv', index_col=0)\n",
    "bat_flux['bat_flux_err_low'] = bat_flux['BAT_flux'] - bat_flux['BAT_flux_90_low']\n",
    "bat_flux['bat_flux_err_high'] = bat_flux['BAT_flux_90_high'] - bat_flux['BAT_flux']\n",
    "bat_flux['lbat'] = np.log10(4*np.pi*(bat_info['Dist_[Mpc]']*10**6*3.09e18)**2*bat_flux['BAT_flux']*10**(-12))\n",
    "\n",
    "# Upload the IR photometry\n",
    "bat_herschel = pd.read_csv(data_dir+'bat_herschel.csv', index_col=0)\n",
    "bat_wise = pd.read_csv(data_dir+'bat_wise.csv', index_col=0)\n"
   ]
  },
  {
   "cell_type": "code",
   "execution_count": 20,
   "metadata": {
    "collapsed": false
   },
   "outputs": [],
   "source": [
    "# Remove the radio loud sources and Mrk 3\n",
    "# Remove 'bad' sources\n",
    "radio_loud_sources = np.array(['PICTORA', '3C111.0', '3C120',\n",
    "                              '2MASXJ23272195+1524375', 'PKS2331-240',\n",
    "                              'HB890241+622', 'Mrk3'])\n",
    "\n",
    "bat_flux = bat_flux.drop(radio_loud_sources)\n",
    "bat_herschel = bat_herschel.drop(radio_loud_sources)\n",
    "bat_wise = bat_wise.drop(radio_loud_sources)"
   ]
  },
  {
   "cell_type": "code",
   "execution_count": 10,
   "metadata": {
    "collapsed": false
   },
   "outputs": [],
   "source": [
    "# Import the ASURV package\n",
    "sys.path.append(gh_dir+'asurv/')\n",
    "import asurv"
   ]
  },
  {
   "cell_type": "code",
   "execution_count": 180,
   "metadata": {
    "collapsed": false
   },
   "outputs": [
    {
     "name": "stdout",
     "output_type": "stream",
     "text": [
      "# in Bin 1:  23\n",
      "# in Bin 2:  39\n",
      "# in Bin 3:  94\n",
      "# in Bin 4:  116\n",
      "# in Bin 5:  34\n"
     ]
    }
   ],
   "source": [
    "# Define the Lx bins and count the number of sources in each\n",
    "bin_1 = bat_flux['lbat'] <= 42.5\n",
    "bin_2 = (bat_flux['lbat'] > 42.5) & (bat_flux['lbat'] <= 43.0)\n",
    "bin_3 = (bat_flux['lbat'] > 43.0) & (bat_flux['lbat'] <= 43.5)\n",
    "bin_4 = (bat_flux['lbat'] > 43.5) & (bat_flux['lbat'] <= 44.0)\n",
    "bin_5 = (bat_flux['lbat'] > 44.0)\n",
    "\n",
    "print '# in Bin 1: ', sum(bin_1)\n",
    "print '# in Bin 2: ', sum(bin_2)\n",
    "print '# in Bin 3: ', sum(bin_3)\n",
    "print '# in Bin 4: ', sum(bin_4)\n",
    "print '# in Bin 5: ', sum(bin_5)"
   ]
  },
  {
   "cell_type": "code",
   "execution_count": 194,
   "metadata": {
    "collapsed": false
   },
   "outputs": [
    {
     "name": "stdout",
     "output_type": "stream",
     "text": [
      "Warning: Minimum data point has been changed to uncensored. Mean will be biased.\n",
      "Warning: Minimum data point has been changed to uncensored. Mean will be biased.\n",
      "Warning: Minimum data point has been changed to uncensored. Mean will be biased.\n",
      "Warning: Minimum data point has been changed to uncensored. Mean will be biased.\n"
     ]
    }
   ],
   "source": [
    "bin_edges = np.array([42.5, 43.0, 43.5, 44.0])\n",
    "n_bins = len(bin_edges) + 1\n",
    "wavebands = ['W1', 'W2', 'W3', 'W4', 'PACS70', 'PACS160', 'PSW', 'PMW', 'PLW']\n",
    "sed = bat_herschel.join(bat_wise)\n",
    "norm_band = 'W3'\n",
    "binned_seds = pd.DataFrame(index=np.arange(n_bins),\n",
    "                           columns=wavebands)\n",
    "binned_seds_err_up = pd.DataFrame(index=np.arange(n_bins),\n",
    "                                  columns=wavebands)\n",
    "binned_seds_err_down = pd.DataFrame(index=np.arange(n_bins),\n",
    "                                    columns=wavebands)\n",
    "\n",
    "for i in range(n_bins):\n",
    "    \n",
    "    if i == 0:\n",
    "        ind = bat_flux['lbat'] <= bin_edges[i]\n",
    "    elif i == (n_bins - 1):\n",
    "        ind = bat_flux['lbat'] > bin_edges[-1]\n",
    "    else:\n",
    "        ind = (bat_flux['lbat'] > bin_edges[i-1]) & (bat_flux['lbat'] <= bin_edges[i])\n",
    "    \n",
    "    norm_f = sed.loc[ind, norm_band].values\n",
    "    for w in wavebands:\n",
    "        \n",
    "        f = sed.loc[ind, w].values\n",
    "        ferr = sed.loc[ind, w+'_err'].values\n",
    "        ul = f == 0\n",
    "        f[ul] = ferr[ul]\n",
    "        data = f/norm_f\n",
    "        cens= np.ones(len(data))\n",
    "        cens[ul] = 0\n",
    "        \n",
    "        km = asurv.KaplanMeierDist(data=data, cens=cens)\n",
    "        med = km.km_percentile(0.5)\n",
    "        p16 = km.km_percentile(0.16)\n",
    "        p84 = km.km_percentile(0.84)\n",
    "        \n",
    "        binned_seds.loc[i, w] = med\n",
    "        binned_seds_err_down.loc[i, w] = med-p16\n",
    "        binned_seds_err_up.loc[i, w] = p84-med\n",
    "\n",
    "binned_seds[norm_band] = 1\n",
    "binned_seds_err_up[norm_band] = 0\n",
    "binned_seds_err_down[norm_band] = 0"
   ]
  },
  {
   "cell_type": "code",
   "execution_count": 199,
   "metadata": {
    "collapsed": false
   },
   "outputs": [
    {
     "data": {
      "image/png": "[encoded data removed]",
      "text/plain": [
       "<matplotlib.figure.Figure at 0x117f6efd0>"
      ]
     },
     "metadata": {},
     "output_type": "display_data"
    }
   ],
   "source": [
    "ll = np.array([3.4, 4.6, 12., 22., 70., 160., 250, 350., 500.])\n",
    "\n",
    "fig = plt.figure(figsize=(1.2*textwidth, 1.2*3./8*textwidth))\n",
    "ax1 = fig.add_subplot(121)\n",
    "ax1.errorbar(ll, binned_seds.loc[0], yerr=np.vstack([binned_seds_err_down.loc[0], binned_seds_err_up.loc[0]]),\n",
    "             fmt='o', color='k', ls='-', label=r'$\\log\\,L_{\\rm X} < 42.5$')\n",
    "ax1.errorbar(ll, binned_seds.loc[1], yerr=np.vstack([binned_seds_err_down.loc[1], binned_seds_err_up.loc[1]]),\n",
    "             fmt='o', color='b', ls='-', label=r'$\\log\\,L_{\\rm X} = 42.5-43.0$')\n",
    "ax1.errorbar(ll, binned_seds.loc[2], yerr=np.vstack([binned_seds_err_down.loc[2], binned_seds_err_up.loc[2]]),\n",
    "             fmt='o', color='r', ls='-', label=r'$\\log\\,L_{\\rm X} = 43.0-43.5$')\n",
    "ax1.errorbar(ll, binned_seds.loc[3], yerr=np.vstack([binned_seds_err_down.loc[3], binned_seds_err_up.loc[3]]),\n",
    "             fmt='o', color='g', ls='-', label=r'$\\log\\,L_{\\rm X} = 43.5-44.0$')\n",
    "ax1.errorbar(ll, binned_seds.loc[4], yerr=np.vstack([binned_seds_err_down.loc[4], binned_seds_err_up.loc[4]]),\n",
    "             fmt='o', color='m', ls='-', label=r'$\\log\\,L_{\\rm X} > 44.0$')\n",
    "ax1.set_yscale('log')\n",
    "ax1.set_xscale('log')\n",
    "ax1.legend(loc='upper left', fontsize=6)\n",
    "ax1.set_ylabel('Normalized Flux')\n",
    "ax1.set_xlabel('$\\lambda$ [$\\mu$m]')\n",
    "\n",
    "ax2 = fig.add_subplot(122)\n",
    "ax2.errorbar(ll, binned_seds2.loc[0], yerr=np.vstack([binned_seds2_err_down.loc[0], binned_seds2_err_up.loc[0]]),\n",
    "             fmt='o', color='k', ls='-', label=r'$\\log\\,L_{\\rm X} < 42.5$')\n",
    "ax2.errorbar(ll, binned_seds2.loc[1], yerr=np.vstack([binned_seds2_err_down.loc[1], binned_seds2_err_up.loc[1]]),\n",
    "             fmt='o', color='b', ls='-', label=r'$\\log\\,L_{\\rm X} = 42.5-43.0$')\n",
    "ax2.errorbar(ll, binned_seds2.loc[2], yerr=np.vstack([binned_seds2_err_down.loc[2], binned_seds2_err_up.loc[2]]),\n",
    "             fmt='o', color='r', ls='-', label=r'$\\log\\,L_{\\rm X} = 43.0-43.5$')\n",
    "ax2.errorbar(ll, binned_seds2.loc[3], yerr=np.vstack([binned_seds2_err_down.loc[3], binned_seds2_err_up.loc[3]]),\n",
    "             fmt='o', color='g', ls='-', label=r'$\\log\\,L_{\\rm X} = 43.5-44.0$')\n",
    "ax2.errorbar(ll, binned_seds2.loc[4], yerr=np.vstack([binned_seds2_err_down.loc[4], binned_seds2_err_up.loc[4]]),\n",
    "             fmt='o', color='m', ls='-', label=r'$\\log\\,L_{\\rm X} > 44.0$')\n",
    "ax2.set_yscale('log')\n",
    "ax2.set_xscale('log')\n",
    "ax2.set_xlabel('$\\lambda$ [$\\mu$m]')\n",
    "sn.despine()\n",
    "\n",
    "fig.savefig(figsave_dir+'avg_sed_binned_lx.pdf', bbox_inches='tight')"
   ]
  },
  {
   "cell_type": "code",
   "execution_count": 192,
   "metadata": {
    "collapsed": false
   },
   "outputs": [
    {
     "data": {
      "text/html": [
       "<div>\n",
       "<table border=\"1\" class=\"dataframe\">\n",
       "  <thead>\n",
       "    <tr style=\"text-align: right;\">\n",
       "      <th></th>\n",
       "      <th>W1</th>\n",
       "      <th>W2</th>\n",
       "      <th>W3</th>\n",
       "      <th>W4</th>\n",
       "      <th>PACS70</th>\n",
       "      <th>PACS160</th>\n",
       "      <th>PSW</th>\n",
       "      <th>PMW</th>\n",
       "      <th>PLW</th>\n",
       "    </tr>\n",
       "  </thead>\n",
       "  <tbody>\n",
       "    <tr>\n",
       "      <th>0</th>\n",
       "      <td>NaN</td>\n",
       "      <td>NaN</td>\n",
       "      <td>NaN</td>\n",
       "      <td>NaN</td>\n",
       "      <td>NaN</td>\n",
       "      <td>NaN</td>\n",
       "      <td>NaN</td>\n",
       "      <td>NaN</td>\n",
       "      <td>NaN</td>\n",
       "    </tr>\n",
       "    <tr>\n",
       "      <th>1</th>\n",
       "      <td>NaN</td>\n",
       "      <td>NaN</td>\n",
       "      <td>NaN</td>\n",
       "      <td>NaN</td>\n",
       "      <td>NaN</td>\n",
       "      <td>NaN</td>\n",
       "      <td>NaN</td>\n",
       "      <td>NaN</td>\n",
       "      <td>NaN</td>\n",
       "    </tr>\n",
       "    <tr>\n",
       "      <th>2</th>\n",
       "      <td>NaN</td>\n",
       "      <td>NaN</td>\n",
       "      <td>NaN</td>\n",
       "      <td>NaN</td>\n",
       "      <td>NaN</td>\n",
       "      <td>NaN</td>\n",
       "      <td>NaN</td>\n",
       "      <td>NaN</td>\n",
       "      <td>NaN</td>\n",
       "    </tr>\n",
       "    <tr>\n",
       "      <th>3</th>\n",
       "      <td>NaN</td>\n",
       "      <td>NaN</td>\n",
       "      <td>NaN</td>\n",
       "      <td>NaN</td>\n",
       "      <td>NaN</td>\n",
       "      <td>NaN</td>\n",
       "      <td>NaN</td>\n",
       "      <td>NaN</td>\n",
       "      <td>NaN</td>\n",
       "    </tr>\n",
       "    <tr>\n",
       "      <th>4</th>\n",
       "      <td>NaN</td>\n",
       "      <td>NaN</td>\n",
       "      <td>NaN</td>\n",
       "      <td>NaN</td>\n",
       "      <td>NaN</td>\n",
       "      <td>NaN</td>\n",
       "      <td>NaN</td>\n",
       "      <td>NaN</td>\n",
       "      <td>NaN</td>\n",
       "    </tr>\n",
       "  </tbody>\n",
       "</table>\n",
       "</div>"
      ],
      "text/plain": [
       "    W1   W2   W3   W4 PACS70 PACS160  PSW  PMW  PLW\n",
       "0  NaN  NaN  NaN  NaN    NaN     NaN  NaN  NaN  NaN\n",
       "1  NaN  NaN  NaN  NaN    NaN     NaN  NaN  NaN  NaN\n",
       "2  NaN  NaN  NaN  NaN    NaN     NaN  NaN  NaN  NaN\n",
       "3  NaN  NaN  NaN  NaN    NaN     NaN  NaN  NaN  NaN\n",
       "4  NaN  NaN  NaN  NaN    NaN     NaN  NaN  NaN  NaN"
      ]
     },
     "execution_count": 192,
     "metadata": {},
     "output_type": "execute_result"
    }
   ],
   "source": [
    "binned_seds2"
   ]
  },
  {
   "cell_type": "code",
   "execution_count": 149,
   "metadata": {
    "collapsed": false
   },
   "outputs": [
    {
     "data": {
      "text/plain": [
       "<module 'asurv' from '/Users/ttshimiz/Github/asurv/asurv.py'>"
      ]
     },
     "execution_count": 149,
     "metadata": {},
     "output_type": "execute_result"
    }
   ],
   "source": []
  },
  {
   "cell_type": "code",
   "execution_count": 156,
   "metadata": {
    "collapsed": false
   },
   "outputs": [
    {
     "data": {
      "text/plain": [
       "(1.0657236084239301, 0.15534224123102661)"
      ]
     },
     "execution_count": 156,
     "metadata": {},
     "output_type": "execute_result"
    }
   ],
   "source": []
  },
  {
   "cell_type": "code",
   "execution_count": 122,
   "metadata": {
    "collapsed": false
   },
   "outputs": [
    {
     "data": {
      "text/plain": [
       "22.0"
      ]
     },
     "execution_count": 122,
     "metadata": {},
     "output_type": "execute_result"
    }
   ],
   "source": [
    "km.ndetect"
   ]
  }
 ],
 "metadata": {
  "kernelspec": {
   "display_name": "Python 2",
   "language": "python",
   "name": "python2"
  },
  "language_info": {
   "codemirror_mode": {
    "name": "ipython",
    "version": 2
   },
   "file_extension": ".py",
   "mimetype": "text/x-python",
   "name": "python",
   "nbconvert_exporter": "python",
   "pygments_lexer": "ipython2",
   "version": "2.7.11"
  }
 },
 "nbformat": 4,
 "nbformat_minor": 0
}
