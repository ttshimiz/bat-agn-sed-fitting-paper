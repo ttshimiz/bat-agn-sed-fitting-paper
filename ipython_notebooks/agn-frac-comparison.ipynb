{
 "cells": [
  {
   "cell_type": "code",
   "execution_count": 1,
   "metadata": {
    "collapsed": false
   },
   "outputs": [
    {
     "name": "stderr",
     "output_type": "stream",
     "text": [
      "/Users/ttshimiz/anaconda/lib/python2.7/site-packages/matplotlib/font_manager.py:273: UserWarning: Matplotlib is building the font cache using fc-list. This may take a moment.\n",
      "  warnings.warn('Matplotlib is building the font cache using fc-list. This may take a moment.')\n"
     ]
    }
   ],
   "source": [
    "# Standard module imports\n",
    "import numpy as np\n",
    "import scipy.stats as stats\n",
    "import pandas as pd\n",
    "\n",
    "%matplotlib inline\n",
    "\n",
    "# Useful directories\n",
    "gh_dir = '/Users/ttshimiz/Github/'\n",
    "sed_fit_dir = gh_dir + 'bat-agn-sed-fitting/'\n",
    "casey_dir = sed_fit_dir + 'analysis/casey_bayes_results/'\n",
    "data_dir = gh_dir + 'bat-data/'"
   ]
  },
  {
   "cell_type": "code",
   "execution_count": 2,
   "metadata": {
    "collapsed": false
   },
   "outputs": [
    {
     "name": "stderr",
     "output_type": "stream",
     "text": [
      ":0: FutureWarning: IPython widgets are experimental and may change in the future.\n"
     ]
    }
   ],
   "source": [
    "# Setup the figures\n",
    "execfile('../code/figure-setup.py')"
   ]
  },
  {
   "cell_type": "code",
   "execution_count": 15,
   "metadata": {
    "collapsed": true
   },
   "outputs": [],
   "source": [
    "# Upload the fitting results for each model\n",
    "bat_casey = pd.read_csv('/Users/ttshimiz/Github/bat-agn-sed-fitting/'+\n",
    "                        'analysis/casey_bayes_results/beta_fixed_2_wturn_gaussianPrior/'+\n",
    "                        'final_fit_results_beta_fixed_2_wturn_gaussianPrior_v3.csv', index_col=0)\n",
    "bat_casey_undetected = pd.read_csv(casey_dir+'beta_fixed_2_wturn_gaussianPrior/final_fit_results_beta_fixed_2_wturn_gaussianPrior_undetected.csv', index_col=0)\n",
    "\n",
    "bat_decompir = pd.read_csv('/Users/ttshimiz/Github/bat-agn-sed-fitting/analysis/decompir_results/sb+arp220/final_fit_results_decompir_sb_and_arp220_mle.csv', index_col=0)\n",
    "bat_decompir_uncertain = pd.read_csv('/Users/ttshimiz/Github/bat-agn-sed-fitting/analysis/decompir_results/sb+arp220/final_fit_results_decompir_sb_and_arp220_uncertainties.csv', index_col=0)\n",
    "bat_decompir = bat_decompir.join(bat_decompir_uncertain)\n",
    "bat_decompir_undetected = pd.read_csv(sed_fit_dir+'analysis/decompir_results/sb+arp220/final_fit_results_decompir_sb_and_arp220_undetected.csv', index_col=0)\n",
    "\n",
    "bat_dale14 = pd.read_csv('/Users/ttshimiz/Github/bat-agn-sed-fitting/analysis/dale14_results/final_fit_results_dale14.csv', index_col=0)\n",
    "bat_dale14_undetected = pd.read_csv(sed_fit_dir+'analysis/dale14_results/final_fit_results_dale14_undetected.csv', index_col=0)\n",
    "\n",
    "# Remove 'bad' sources\n",
    "bad_sources = np.array(['PICTORA', '3C111.0', '3C120',\n",
    "                        '2MASXJ23272195+1524375', 'PKS2331-240',\n",
    "                        'HB890241+622', 'Mrk3'])\n",
    "bat_casey = bat_casey.drop(bad_sources)\n",
    "bat_decompir = bat_decompir.drop(bad_sources)\n",
    "bat_dale14 = bat_dale14.drop(bad_sources)\n",
    "\n",
    "# Upload the info for the BAT AGN (i.e. AGN type, luminosity distance, redshift, etc)\n",
    "bat_info = pd.read_csv(data_dir+'bat_info.csv', index_col=0)"
   ]
  },
  {
   "cell_type": "code",
   "execution_count": 64,
   "metadata": {
    "collapsed": true
   },
   "outputs": [],
   "source": [
    "# Use only sources with secure AGN fractions\n",
    "# That means excluding the \"undetected\" sources with less than 4 SED points as well as the ones with negative AGN fractions\n",
    "\n",
    "bat_agn_frac = pd.DataFrame(index = bat_info.index)\n",
    "bat_agn_frac['agnfracc12'] = bat_casey['agn_frac'][bat_casey['agn_frac_16'] > 0]\n",
    "bat_agn_frac['agnfracdecompir'] = bat_decompir['agn_frac']\n",
    "bat_agn_frac['agnfracd14'] = bat_dale14['agn_frac']\n",
    "\n",
    "bat_agn_frac = bat_agn_frac.dropna()"
   ]
  },
  {
   "cell_type": "code",
   "execution_count": null,
   "metadata": {
    "collapsed": false
   },
   "outputs": [],
   "source": [
    "# Plot the correlation between each LIR using seaborn's pairplot method\n",
    "g = sn.pairplot(bat_agn_frac, diag_kind=\"kde\", size=textwidth/3., aspect=1.)\n",
    "for i, j in zip(*np.triu_indices_from(g.axes, 1)):\n",
    "    g.axes[i, j].set_visible(False)\n",
    "\n",
    "for i,ax in enumerate(g.axes[-1,:]):\n",
    "    if i == 0:\n",
    "        ax.xaxis.set_label_text(r'$f_{\\rm AGN,\\,C12}$')\n",
    "    elif i == 1:\n",
    "        ax.xaxis.set_label_text(r'$f_{\\rm AGN,\\,DecompIR}$')\n",
    "    elif i == 2:\n",
    "        ax.xaxis.set_label_text(r'$f_{\\rm AGN,\\,D14}$')\n",
    "\n",
    "for i,ax in enumerate(g.axes[:,0]):\n",
    "    if i == 0:\n",
    "        ax.yaxis.set_label_text(r'$f_{\\rm AGN,\\,C12}$')\n",
    "        #ax.yaxis.set_ticklabels([])\n",
    "    elif i == 1:\n",
    "        ax.yaxis.set_label_text(r'$f_{\\rm AGN,\\,DecompIR}$')\n",
    "    elif i == 2:\n",
    "        ax.yaxis.set_label_text(r'$f_{\\rm AGN,\\,D14}$')\n",
    "        \n",
    "for i, j in zip(*np.tril_indices_from(g.axes, 1)):\n",
    "    g.axes[i,j].set_xlim(-0.05, 1.0)\n",
    "    g.axes[i,j].xaxis.set_ticks([0.0, 0.2, 0.4, 0.6, 0.8, 1.0])\n",
    "    g.axes[i,j].set_ylim(-0.05, 1.0)\n",
    "    if i != j:\n",
    "        g.axes[i,j].plot(np.arange(-0.05, 1.01, 0.001), np.arange(-0.05, 1.01, 0.001), 'k--')\n",
    "#g.fig.savefig(figsave_dir+'agn_frac-comparison.pdf', bbox_inches='tight')"
   ]
  },
  {
   "cell_type": "code",
   "execution_count": 42,
   "metadata": {
    "collapsed": false
   },
   "outputs": [
    {
     "data": {
      "text/plain": [
       "count    224.000000\n",
       "mean       0.500729\n",
       "std        0.236382\n",
       "min        0.064492\n",
       "25%        0.320592\n",
       "50%        0.519681\n",
       "75%        0.689845\n",
       "max        0.932310\n",
       "Name: agnfracc12, dtype: float64"
      ]
     },
     "execution_count": 42,
     "metadata": {},
     "output_type": "execute_result"
    }
   ],
   "source": [
    "bat_agn_frac['agnfracc12'].describe()"
   ]
  },
  {
   "cell_type": "code",
   "execution_count": 44,
   "metadata": {
    "collapsed": false
   },
   "outputs": [
    {
     "data": {
      "text/plain": [
       "count    2.240000e+02\n",
       "mean     4.641716e-01\n",
       "std      2.614445e-01\n",
       "min      1.638254e-12\n",
       "25%      2.291034e-01\n",
       "50%      4.594101e-01\n",
       "75%      6.892905e-01\n",
       "max      9.551734e-01\n",
       "Name: agnfracdecompir, dtype: float64"
      ]
     },
     "execution_count": 44,
     "metadata": {},
     "output_type": "execute_result"
    }
   ],
   "source": [
    "bat_agn_frac['agnfracdecompir'].describe()"
   ]
  },
  {
   "cell_type": "code",
   "execution_count": 46,
   "metadata": {
    "collapsed": false
   },
   "outputs": [
    {
     "data": {
      "text/plain": [
       "count    224.000000\n",
       "mean       0.394150\n",
       "std        0.238296\n",
       "min        0.000000\n",
       "25%        0.191550\n",
       "50%        0.372700\n",
       "75%        0.589800\n",
       "max        0.858800\n",
       "Name: agnfracd14, dtype: float64"
      ]
     },
     "execution_count": 46,
     "metadata": {},
     "output_type": "execute_result"
    }
   ],
   "source": [
    "bat_agn_frac['agnfracd14'].describe()"
   ]
  },
  {
   "cell_type": "code",
   "execution_count": 48,
   "metadata": {
    "collapsed": false
   },
   "outputs": [
    {
     "data": {
      "text/plain": [
       "count    224.000000\n",
       "mean       0.036558\n",
       "std        0.154694\n",
       "min       -0.279452\n",
       "25%       -0.071324\n",
       "50%        0.011085\n",
       "75%        0.123549\n",
       "max        0.760834\n",
       "dtype: float64"
      ]
     },
     "execution_count": 48,
     "metadata": {},
     "output_type": "execute_result"
    }
   ],
   "source": [
    "(bat_agn_frac['agnfracc12'] - bat_agn_frac['agnfracdecompir']).describe()"
   ]
  },
  {
   "cell_type": "code",
   "execution_count": 50,
   "metadata": {
    "collapsed": false
   },
   "outputs": [
    {
     "data": {
      "text/plain": [
       "count    224.000000\n",
       "mean       0.106579\n",
       "std        0.136578\n",
       "min       -0.126963\n",
       "25%        0.003467\n",
       "50%        0.094310\n",
       "75%        0.185357\n",
       "max        0.631071\n",
       "dtype: float64"
      ]
     },
     "execution_count": 50,
     "metadata": {},
     "output_type": "execute_result"
    }
   ],
   "source": [
    "(bat_agn_frac['agnfracc12'] - bat_agn_frac['agnfracd14']).describe()"
   ]
  },
  {
   "cell_type": "code",
   "execution_count": 52,
   "metadata": {
    "collapsed": false
   },
   "outputs": [
    {
     "data": {
      "text/plain": [
       "count    224.000000\n",
       "mean       0.070022\n",
       "std        0.100118\n",
       "min       -0.365105\n",
       "25%        0.007175\n",
       "50%        0.068052\n",
       "75%        0.132050\n",
       "max        0.327466\n",
       "dtype: float64"
      ]
     },
     "execution_count": 52,
     "metadata": {},
     "output_type": "execute_result"
    }
   ],
   "source": [
    "(bat_agn_frac['agnfracdecompir'] - bat_agn_frac['agnfracd14']).describe()"
   ]
  },
  {
   "cell_type": "code",
   "execution_count": 54,
   "metadata": {
    "collapsed": false
   },
   "outputs": [
    {
     "data": {
      "text/plain": [
       "(0.81147311744058859, 1.0616356004018503e-53)"
      ]
     },
     "execution_count": 54,
     "metadata": {},
     "output_type": "execute_result"
    }
   ],
   "source": [
    "stats.pearsonr(bat_agn_frac['agnfracc12'], bat_agn_frac['agnfracdecompir'])"
   ]
  },
  {
   "cell_type": "code",
   "execution_count": 56,
   "metadata": {
    "collapsed": false
   },
   "outputs": [
    {
     "data": {
      "text/plain": [
       "(0.83445512970658464, 2.2644521522029707e-59)"
      ]
     },
     "execution_count": 56,
     "metadata": {},
     "output_type": "execute_result"
    }
   ],
   "source": [
    "stats.pearsonr(bat_agn_frac['agnfracc12'], bat_agn_frac['agnfracd14'])"
   ]
  },
  {
   "cell_type": "code",
   "execution_count": 57,
   "metadata": {
    "collapsed": false
   },
   "outputs": [
    {
     "data": {
      "text/plain": [
       "(0.92385529858779614, 1.4705527273459555e-94)"
      ]
     },
     "execution_count": 57,
     "metadata": {},
     "output_type": "execute_result"
    }
   ],
   "source": [
    "stats.pearsonr(bat_agn_frac['agnfracdecompir'], bat_agn_frac['agnfracd14'])"
   ]
  }
 ],
 "metadata": {
  "kernelspec": {
   "display_name": "Python 2",
   "language": "python",
   "name": "python2"
  },
  "language_info": {
   "codemirror_mode": {
    "name": "ipython",
    "version": 2
   },
   "file_extension": ".py",
   "mimetype": "text/x-python",
   "name": "python",
   "nbconvert_exporter": "python",
   "pygments_lexer": "ipython2",
   "version": "2.7.11"
  }
 },
 "nbformat": 4,
 "nbformat_minor": 0
}
