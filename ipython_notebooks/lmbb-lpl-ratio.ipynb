{
 "cells": [
  {
   "cell_type": "code",
   "execution_count": 1,
   "metadata": {
    "collapsed": false
   },
   "outputs": [
    {
     "name": "stderr",
     "output_type": "stream",
     "text": [
      "/Users/ttshimiz/anaconda/lib/python2.7/site-packages/matplotlib/font_manager.py:273: UserWarning: Matplotlib is building the font cache using fc-list. This may take a moment.\n",
      "  warnings.warn('Matplotlib is building the font cache using fc-list. This may take a moment.')\n"
     ]
    }
   ],
   "source": [
    "# Standard module imports\n",
    "import numpy as np\n",
    "import scipy.stats as stats\n",
    "import pandas as pd\n",
    "\n",
    "%matplotlib inline\n",
    "\n",
    "# Useful directories\n",
    "gh_dir = '/Users/ttshimiz/Github/'\n",
    "sed_fit_dir = gh_dir + 'bat-agn-sed-fitting/'\n",
    "casey_dir = sed_fit_dir + 'analysis/casey_bayes_results/'\n",
    "data_dir = gh_dir + 'bat-data/'"
   ]
  },
  {
   "cell_type": "code",
   "execution_count": 2,
   "metadata": {
    "collapsed": false
   },
   "outputs": [
    {
     "name": "stderr",
     "output_type": "stream",
     "text": [
      ":0: FutureWarning: IPython widgets are experimental and may change in the future.\n"
     ]
    }
   ],
   "source": [
    "# Setup the figures\n",
    "execfile('../code/figure-setup.py')"
   ]
  },
  {
   "cell_type": "code",
   "execution_count": 3,
   "metadata": {
    "collapsed": true
   },
   "outputs": [],
   "source": [
    "# Upload the fits for the BAT AGN\n",
    "bat_casey = pd.read_csv(casey_dir+'beta_fixed_2_wturn_gaussianPrior/final_fit_results_beta_fixed_2_wturn_gaussianPrior.csv', index_col=0)\n",
    "bat_casey_undetected = pd.read_csv(casey_dir+'beta_fixed_2_wturn_gaussianPrior/final_fit_results_beta_fixed_2_wturn_gaussianPrior_undetected.csv', index_col=0)\n",
    "\n",
    "# Get rid of the galaxies that are radio-loud and/or have bad fits\n",
    "bad_sources = np.array(['PICTORA', '3C111.0', '3C120',\n",
    "                        '2MASXJ23272195+1524375', 'PKS2331-240',\n",
    "                        'HB890241+622', 'Mrk3'])\n",
    "bat_casey = bat_casey.drop(bad_sources)\n",
    "\n",
    "# Upload the info for the BAT AGN (i.e. AGN type, luminosity distance, redshift, etc)\n",
    "bat_info = pd.read_csv(data_dir+'bat_info.csv', index_col=0)\n",
    "\n",
    "# Upload the 14-195 keV flux and calculate the luminosity\n",
    "bat_flux = pd.read_csv(data_dir+'bat_bat_flux.csv', index_col=0)\n",
    "bat_flux['LBAT'] = 4*np.pi*(bat_info['Dist_[Mpc]']*10**6*3.09e18)**2*bat_flux['BAT_flux']*10**(-12)"
   ]
  },
  {
   "cell_type": "code",
   "execution_count": 4,
   "metadata": {
    "collapsed": true
   },
   "outputs": [],
   "source": [
    "# Upload the HRS fits\n",
    "hrs_casey = pd.read_csv(casey_dir+'hrs_beta_fixed_2_wturn_gaussianPrior/final_fit_results_beta_fixed_2_wturn_gaussianPrior_hrs.csv', index_col=0)\n",
    "\n",
    "# Upload the HRS info\n",
    "hrs_info = pd.read_table(gh_dir+'hrs-data/hrs_photometry.txt', delimiter='\\t', index_col=0, na_values=-99.99)"
   ]
  },
  {
   "cell_type": "code",
   "execution_count": 5,
   "metadata": {
    "collapsed": true
   },
   "outputs": [],
   "source": [
    "# Upload the KINGFISH fits\n",
    "kf_casey = pd.read_csv(casey_dir+'kingfish_beta_fixed_2_wturn_gaussianPrior/final_fit_results_kingfish_casey.csv', index_col=0)\n",
    "\n",
    "# Upload teh KINGFISH info\n",
    "kf_info = pd.read_table('/Users/ttshimiz/Dropbox/Research/Thesis/Other_surveys/KINGFISH/kingfish_data.txt', index_col=0, delimiter='\\t')\n",
    "\n",
    "# Identify the dwarf galaxies as any galaxy with stellar mass < 10^8 Msun\n",
    "kf_dwarfs = kf_info['Mstar'] < 8.5\n",
    "kf_agn = (kf_info['Nuc. Type'] == 'AGN') | (kf_info['Nuc. Type'] == 'SF/AGN')\n",
    "kf_casey['Mstar'] = kf_info['Mstar']"
   ]
  },
  {
   "cell_type": "code",
   "execution_count": 11,
   "metadata": {
    "collapsed": false
   },
   "outputs": [
    {
     "data": {
      "image/png": "[encoded data removed]",
      "text/plain": [
       "<matplotlib.figure.Figure at 0x114589910>"
      ]
     },
     "metadata": {},
     "output_type": "display_data"
    }
   ],
   "source": [
    "fig = plt.figure(figsize=(columnwidth, 3./4.*columnwidth))\n",
    "sn.distplot((bat_casey['lir_bb'] - bat_casey['lir_powlaw']).dropna(), label='BAT AGN')\n",
    "sn.distplot((hrs_casey['lir_bb'] - hrs_casey['lir_powlaw']).dropna(), label='HRS')\n",
    "sn.distplot((kf_casey.loc[~kf_dwarfs, 'lir_bb'] - kf_casey.loc[~kf_dwarfs, 'lir_powlaw']).dropna(), label='KINGFISH')\n",
    "plt.xlabel(r'$\\log\\,L_{\\rm MBB}/L_{\\rm PL}$')\n",
    "plt.legend(loc='best')\n",
    "plt.xlim(-1.5, 1.5)\n",
    "sn.despine()\n",
    "plt.savefig(figsave_dir+'lmbb-lpl-ratio.pdf', bbox_inches='tight')"
   ]
  },
  {
   "cell_type": "code",
   "execution_count": 13,
   "metadata": {
    "collapsed": false
   },
   "outputs": [
    {
     "name": "stdout",
     "output_type": "stream",
     "text": [
      "HRS:  0.479600799159 0.4816471105 0.110875078766\n",
      "KINGFISH:  0.472729641502 0.49615579598 0.132727536211\n",
      "All:  0.477133833279 0.483367297 0.112181743172\n"
     ]
    }
   ],
   "source": [
    "from astropy.stats import sigma_clipped_stats\n",
    "mean_hrs_ratio, median_hrs_ratio, std_hrs_ratio = sigma_clipped_stats((hrs_casey['lir_bb'] - hrs_casey['lir_powlaw']).dropna())\n",
    "mean_kf_ratio, median_kf_ratio, std_kf_ratio = sigma_clipped_stats((kf_casey.loc[~kf_dwarfs, 'lir_bb'] - kf_casey.loc[~kf_dwarfs, 'lir_powlaw']).dropna())\n",
    "mean_ratio, median_ratio, std_ratio = sigma_clipped_stats(np.hstack([(hrs_casey['lir_bb'] - hrs_casey['lir_powlaw']).dropna().values, (kf_casey.loc[~kf_dwarfs, 'lir_bb'] - kf_casey.loc[~kf_dwarfs, 'lir_powlaw']).dropna().values]))\n",
    "print 'HRS: ',mean_hrs_ratio, median_hrs_ratio, std_hrs_ratio\n",
    "print 'KINGFISH: ', mean_kf_ratio, median_kf_ratio, std_kf_ratio\n",
    "print 'All: ', mean_ratio, median_ratio, std_ratio"
   ]
  }
 ],
 "metadata": {
  "kernelspec": {
   "display_name": "Python 2",
   "language": "python",
   "name": "python2"
  },
  "language_info": {
   "codemirror_mode": {
    "name": "ipython",
    "version": 2
   },
   "file_extension": ".py",
   "mimetype": "text/x-python",
   "name": "python",
   "nbconvert_exporter": "python",
   "pygments_lexer": "ipython2",
   "version": "2.7.11"
  }
 },
 "nbformat": 4,
 "nbformat_minor": 0
}
