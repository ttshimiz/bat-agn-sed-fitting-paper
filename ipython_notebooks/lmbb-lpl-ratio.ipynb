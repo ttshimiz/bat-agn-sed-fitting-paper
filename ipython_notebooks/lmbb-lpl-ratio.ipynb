{
 "cells": [
  {
   "cell_type": "code",
   "execution_count": 1,
   "metadata": {
    "collapsed": false
   },
   "outputs": [],
   "source": [
    "# Standard module imports\n",
    "import numpy as np\n",
    "import scipy.stats as stats\n",
    "import pandas as pd\n",
    "\n",
    "%matplotlib inline\n",
    "\n",
    "# Useful directories\n",
    "gh_dir = '/Users/ttshimiz/Github/'\n",
    "sed_fit_dir = gh_dir + 'bat-agn-sed-fitting/'\n",
    "casey_dir = sed_fit_dir + 'analysis/casey_bayes_results/'\n",
    "data_dir = gh_dir + 'bat-data/'"
   ]
  },
  {
   "cell_type": "code",
   "execution_count": 26,
   "metadata": {
    "collapsed": false
   },
   "outputs": [],
   "source": [
    "# Setup the figures\n",
    "style='talk'\n",
    "execfile('/Users/ttshimiz/Dropbox/Research/figure_setup.py')"
   ]
  },
  {
   "cell_type": "code",
   "execution_count": 3,
   "metadata": {
    "collapsed": true
   },
   "outputs": [],
   "source": [
    "# Upload the fits for the BAT AGN\n",
    "bat_casey = pd.read_csv(casey_dir+'beta_fixed_2_wturn_gaussianPrior/final_fit_results_beta_fixed_2_wturn_gaussianPrior_v5.csv', index_col=0)\n",
    "bat_casey_undetected = pd.read_csv(casey_dir+'beta_fixed_2_wturn_gaussianPrior/final_fit_results_beta_fixed_2_wturn_gaussianPrior_undetected_v2.csv', index_col=0)\n",
    "\n",
    "# Get rid of the galaxies that are radio-loud and/or have bad fits\n",
    "bad_sources = np.array(['PICTORA', '3C111.0', '3C120',\n",
    "                        '2MASXJ23272195+1524375', 'PKS2331-240',\n",
    "                        'HB890241+622', 'Mrk3'])\n",
    "bat_casey = bat_casey.drop(bad_sources)\n",
    "\n",
    "# Upload the info for the BAT AGN (i.e. AGN type, luminosity distance, redshift, etc)\n",
    "bat_info = pd.read_csv(data_dir+'bat_info.csv', index_col=0)\n",
    "\n",
    "# Upload the 14-195 keV flux and calculate the luminosity\n",
    "bat_flux = pd.read_csv(data_dir+'bat_bat_flux.csv', index_col=0)\n",
    "bat_flux['LBAT'] = 4*np.pi*(bat_info['Dist_[Mpc]']*10**6*3.09e18)**2*bat_flux['BAT_flux']*10**(-12)"
   ]
  },
  {
   "cell_type": "code",
   "execution_count": 4,
   "metadata": {
    "collapsed": true
   },
   "outputs": [],
   "source": [
    "# Upload the HRS fits\n",
    "hrs_casey = pd.read_csv(casey_dir+'hrs_beta_fixed_2_wturn_gaussianPrior/final_fit_results_beta_fixed_2_wturn_gaussianPrior_hrs.csv', index_col=0)\n",
    "hrs_casey_undetected = pd.read_csv(casey_dir+'hrs_beta_fixed_2_wturn_gaussianPrior/final_fit_results_beta_fixed_2_wturn_gaussianPrior_undetected_hrs.csv', index_col=0)\n",
    "hrs_all = pd.concat([hrs_casey, hrs_casey_undetected])\n",
    "hrs_all.loc[hrs_casey_undetected.index, 'Flag'] = -1\n",
    "hrs_all.loc[hrs_casey.index, 'Flag'] = 0\n",
    "# Remove the BAT AGN in the HRS\n",
    "hrs_all = hrs_all.drop([4,144,288,296])\n",
    "\n",
    "# Upload the HRS info\n",
    "hrs_info = pd.read_table(gh_dir+'hrs-data/hrs_photometry.txt', delimiter='\\t', index_col=0, na_values=-99.99)\n",
    "hrs_info = hrs_info.drop([4,144,288,296])\n",
    "\n",
    "# HRS gas-rich galaxies\n",
    "hrs_gas_rich = np.array([np.loadtxt(gh_dir+'hrs-data/hrs_gas_rich_numbers.txt')], dtype = int)[0]\n",
    "\n",
    "hrs_all['Mstar'] = hrs_info['logMstart']\n",
    "\n",
    "# Upload the IDs for our mass selected HRS sample\n",
    "mass_select = pd.read_csv('mass_selected_hrs_ids.csv', index_col=0)\n",
    "hrs_mass_select = pd.DataFrame(index=mass_select.index, columns=hrs_all.columns)\n",
    "\n",
    "for n in mass_select.index:\n",
    "    \n",
    "    hrs_mass_select.loc[n] = hrs_all.loc[np.int(mass_select.loc[n, 'HRS ID'])]\n",
    "    hrs_mass_select.loc[n, 'HRS ID'] = np.int(mass_select.loc[n, 'HRS ID'])"
   ]
  },
  {
   "cell_type": "code",
   "execution_count": 5,
   "metadata": {
    "collapsed": true
   },
   "outputs": [],
   "source": [
    "# Upload the KINGFISH fits\n",
    "kf_casey = pd.read_csv(casey_dir+'kingfish_beta_fixed_2_wturn_gaussianPrior/final_fit_results_kingfish_casey.csv', index_col=0)\n",
    "\n",
    "# Upload teh KINGFISH info\n",
    "kf_info = pd.read_table('/Users/ttshimiz/Dropbox/Research/Thesis/Other_surveys/KINGFISH/kingfish_data.txt', index_col=0, delimiter='\\t')\n",
    "\n",
    "# Identify the dwarf galaxies as any galaxy with stellar mass < 10^8 Msun\n",
    "kf_dwarfs = kf_info['Mstar'] < 8.5\n",
    "kf_agn = (kf_info['Nuc. Type'] == 'AGN') | (kf_info['Nuc. Type'] == 'SF/AGN')\n",
    "kf_casey['Mstar'] = kf_info['Mstar']"
   ]
  },
  {
   "cell_type": "code",
   "execution_count": 28,
   "metadata": {
    "collapsed": false,
    "scrolled": false
   },
   "outputs": [
    {
     "data": {
      "image/png": "[encoded data removed]",
      "text/plain": [
       "<matplotlib.figure.Figure at 0x114c9ed50>"
      ]
     },
     "metadata": {},
     "output_type": "display_data"
    }
   ],
   "source": [
    "#fig = plt.figure(figsize=(columnwidth, 3./4.*columnwidth))\n",
    "fig = plt.figure(figsize=(6, 4.5))\n",
    "sn.kdeplot((bat_casey['lir_bb'] - bat_casey['lir_powlaw']).dropna(), label='BAT AGN')\n",
    "sn.kdeplot((hrs_mass_select['lir_bb'] - hrs_mass_select['lir_powlaw'])[hrs_mass_select['Flag']==0].dropna(), label='HRS', color='r')\n",
    "#sn.distplot((kf_casey.loc[~kf_dwarfs, 'lir_bb'] - kf_casey.loc[~kf_dwarfs, 'lir_powlaw']).dropna(), label='KINGFISH')\n",
    "plt.xlabel('$\\log\\,L_{\\mathdefault{MBB}}/L_{\\mathdefault{PL}}$')\n",
    "plt.legend(loc='upper left')\n",
    "plt.xlim(-1.5, 1.5)\n",
    "sn.despine()\n",
    "plt.savefig('/Users/ttshimiz/Dropbox/Research/Thesis/Dissertation/presentation/lmbb-lpl-ratio-hrs-mass-select.pdf', bbox_inches='tight')"
   ]
  },
  {
   "cell_type": "code",
   "execution_count": 14,
   "metadata": {
    "collapsed": false
   },
   "outputs": [
    {
     "name": "stdout",
     "output_type": "stream",
     "text": [
      " HRS:  0.480406472079 0.480739352 0.12935475994\n"
     ]
    }
   ],
   "source": [
    "from astropy.stats import sigma_clipped_stats\n",
    "mean_hrs_ratio, median_hrs_ratio, std_hrs_ratio = sigma_clipped_stats(np.array([(hrs_mass_select['lir_bb'] - hrs_mass_select['lir_powlaw'])[hrs_mass_select['Flag'] == 0].dropna()], dtype=np.float))\n",
    "#mean_kf_ratio, median_kf_ratio, std_kf_ratio = sigma_clipped_stats((kf_casey.loc[~kf_dwarfs, 'lir_bb'] - kf_casey.loc[~kf_dwarfs, 'lir_powlaw']).dropna())\n",
    "#mean_ratio, median_ratio, std_ratio = sigma_clipped_stats(np.hstack([(hrs_casey['lir_bb'] - hrs_casey['lir_powlaw']).dropna().values, (kf_casey.loc[~kf_dwarfs, 'lir_bb'] - kf_casey.loc[~kf_dwarfs, 'lir_powlaw']).dropna().values]))\n",
    "print 'HRS: ',mean_hrs_ratio, median_hrs_ratio, std_hrs_ratio\n",
    "#print 'KINGFISH: ', mean_kf_ratio, median_kf_ratio, std_kf_ratio\n",
    "#print 'All: ', mean_ratio, median_ratio, std_ratio"
   ]
  },
  {
   "cell_type": "markdown",
   "metadata": {},
   "source": [
    "We can calculate an AGN fraction for the HRS and KINGFISH galaxies assuming they have an AGN. This will give us a constraint on how well we can measure the AGN fraction."
   ]
  },
  {
   "cell_type": "code",
   "execution_count": 18,
   "metadata": {
    "collapsed": true
   },
   "outputs": [],
   "source": [
    "hrs_mass_select['agnfrac'] = (10**hrs_mass_select['lir_powlaw'] - 1./3.*10**hrs_mass_select['lir_bb'])/10**(hrs_mass_select['lir_total'])\n",
    "#kf_casey['agn_frac'] = (10**kf_casey['lir_powlaw'] - 1./3.*10**kf_casey['lir_bb'])/10**(kf_casey['lir_total'])"
   ]
  },
  {
   "cell_type": "code",
   "execution_count": 23,
   "metadata": {
    "collapsed": false
   },
   "outputs": [
    {
     "data": {
      "image/png": "[encoded data removed]",
      "text/plain": [
       "<matplotlib.figure.Figure at 0x114102390>"
      ]
     },
     "metadata": {},
     "output_type": "display_data"
    }
   ],
   "source": [
    "fig = plt.figure(figsize=(columnwidth, 3./4.*columnwidth))\n",
    "#sn.distplot(np.hstack([hrs_casey['agn_frac'].dropna(), kf_casey[~kf_dwarfs]['agn_frac'].dropna()]))\n",
    "sn.kdeplot(hrs_mass_select['agnfrac'][hrs_mass_select['Flag'] == 0].dropna())\n",
    "plt.legend([])\n",
    "plt.xlabel(r'$f_{\\rm AGN}$')\n",
    "sn.despine()\n",
    "plt.savefig(figsave_dir+'fagn_nonAGN_hrs_mass_select.pdf', bbox_inches='tight')"
   ]
  },
  {
   "cell_type": "code",
   "execution_count": 22,
   "metadata": {
    "collapsed": false
   },
   "outputs": [
    {
     "name": "stdout",
     "output_type": "stream",
     "text": [
      "AGN fraction of Non-AGN galaxies:  -0.00117738801981 +/- 0.106636495051\n"
     ]
    }
   ],
   "source": [
    "#nonAGN_fagn = np.hstack([hrs_casey['agn_frac'].dropna(), kf_casey[~kf_dwarfs]['agn_frac'].dropna()])\n",
    "nonAGN_fagn = hrs_mass_select['agn_frac'][hrs_mass_select['Flag']==0].dropna()\n",
    "clipped = stats.sigmaclip(nonAGN_fagn, low=3, high=3)\n",
    "mean_fagn = np.median(nonAGN_fagn)\n",
    "std_fagn = np.std(nonAGN_fagn)\n",
    "\n",
    "print 'AGN fraction of Non-AGN galaxies: ', mean_fagn, '+/-', std_fagn"
   ]
  }
 ],
 "metadata": {
  "kernelspec": {
   "display_name": "Python 2",
   "language": "python",
   "name": "python2"
  },
  "language_info": {
   "codemirror_mode": {
    "name": "ipython",
    "version": 2
   },
   "file_extension": ".py",
   "mimetype": "text/x-python",
   "name": "python",
   "nbconvert_exporter": "python",
   "pygments_lexer": "ipython2",
   "version": "2.7.11"
  }
 },
 "nbformat": 4,
 "nbformat_minor": 0
}
